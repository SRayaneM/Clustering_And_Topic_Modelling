{
  "cells": [
    {
      "cell_type": "markdown",
      "metadata": {
        "id": "aLjSifPyrA-U"
      },
      "source": [
        "# LDA introduction.\n",
        "\n",
        "Natural language processing (NLP) employs the probabilistic topic modeling method known as Latent Dirichlet Allocation (LDA).\n",
        "\n",
        "By identifying the topics that most accurately represent each theme, LDA aims to reveal the hidden thematic structure of a group of documents.\n",
        "\n",
        "LDA can be used to find the topics that are most pertinent to computer science, mathematics, and physics in the case of abstracts for STEM subjects.\n",
        "\n",
        "We begin by preprocessing the text data for this purpose in order to get rid of stop words, punctuation, and other extraneous details.\n",
        "\n",
        "In order to represent the frequency of each term in each document, we tokenize the text to separate it into individual words or phrases.\n",
        "\n",
        "The topics that best explain the variation in the data can be found using LDA once we have the document-term matrix.\n",
        "\n",
        "Until the model converges on a stable solution, this entails repeatedly assigning each word in each document to a topic and adjusting the topic probabilities.\n",
        "\n",
        "The LDA model produces a list of topics, each of which is represented by a distribution over the vocabulary words.\n",
        "\n",
        "The topics can then be understood by looking at the most frequently occurring words in each topic and using domain knowledge to assign them to pertinent STEM subject areas.\n",
        "\n",
        "We previously conduct a similar procedure using TF-IDF, and this model will work in tandom with the website that we have created for the users to input their abstracts."
      ]
    },
    {
      "cell_type": "markdown",
      "metadata": {
        "id": "sxOdNoOsrA-V"
      },
      "source": [
        "We first begin by importing the libraries that will be using."
      ]
    },
    {
      "cell_type": "code",
      "execution_count": null,
      "metadata": {
        "id": "nOpKdqP1rQ9E"
      },
      "outputs": [],
      "source": [
        "pip install pyLDAvis\n"
      ]
    },
    {
      "cell_type": "code",
      "execution_count": 13,
      "metadata": {
        "colab": {
          "base_uri": "https://localhost:8080/"
        },
        "id": "44X2uTSWr8PP",
        "outputId": "023aab51-0ac1-475d-fa56-85362f2c0a6d"
      },
      "outputs": [
        {
          "name": "stderr",
          "output_type": "stream",
          "text": [
            "[nltk_data] Downloading package punkt to\n",
            "[nltk_data]     C:\\Users\\Rayni\\AppData\\Roaming\\nltk_data...\n",
            "[nltk_data]   Package punkt is already up-to-date!\n",
            "[nltk_data] Downloading package stopwords to\n",
            "[nltk_data]     C:\\Users\\Rayni\\AppData\\Roaming\\nltk_data...\n",
            "[nltk_data]   Package stopwords is already up-to-date!\n",
            "[nltk_data] Downloading package wordnet to\n",
            "[nltk_data]     C:\\Users\\Rayni\\AppData\\Roaming\\nltk_data...\n",
            "[nltk_data]   Package wordnet is already up-to-date!\n",
            "[nltk_data] Downloading package wordnet to\n",
            "[nltk_data]     C:\\Users\\Rayni\\AppData\\Roaming\\nltk_data...\n",
            "[nltk_data]   Package wordnet is already up-to-date!\n"
          ]
        },
        {
          "data": {
            "text/plain": [
              "True"
            ]
          },
          "execution_count": 13,
          "metadata": {},
          "output_type": "execute_result"
        }
      ],
      "source": [
        "import nltk\n",
        "nltk.download('punkt')\n",
        "nltk.download('stopwords')\n",
        "nltk.download('wordnet')\n",
        "nltk.download('wordnet')"
      ]
    },
    {
      "cell_type": "markdown",
      "metadata": {
        "id": "QuCNrDsurdcv"
      },
      "source": [
        "You can use the following command line to import the dataset file in case youre using Google Colab."
      ]
    },
    {
      "cell_type": "code",
      "execution_count": 14,
      "metadata": {
        "colab": {
          "base_uri": "https://localhost:8080/",
          "height": 79
        },
        "id": "rk2lLxmJrdcv",
        "outputId": "3d47093e-a651-4c59-df0c-8135125b0cd3"
      },
      "outputs": [
        {
          "ename": "ModuleNotFoundError",
          "evalue": "No module named 'google.colab'",
          "output_type": "error",
          "traceback": [
            "\u001b[1;31m---------------------------------------------------------------------------\u001b[0m",
            "\u001b[1;31mModuleNotFoundError\u001b[0m                       Traceback (most recent call last)",
            "\u001b[1;32mc:\\Users\\Rayni\\Desktop\\Coding\\FYP\\Main\\LDA .ipynb Cell 6\u001b[0m in \u001b[0;36m1\n\u001b[1;32m----> <a href='vscode-notebook-cell:/c%3A/Users/Rayni/Desktop/Coding/FYP/Main/LDA%20.ipynb#W5sZmlsZQ%3D%3D?line=0'>1</a>\u001b[0m \u001b[39mfrom\u001b[39;00m \u001b[39mgoogle\u001b[39;00m\u001b[39m.\u001b[39;00m\u001b[39mcolab\u001b[39;00m \u001b[39mimport\u001b[39;00m files\n\u001b[0;32m      <a href='vscode-notebook-cell:/c%3A/Users/Rayni/Desktop/Coding/FYP/Main/LDA%20.ipynb#W5sZmlsZQ%3D%3D?line=2'>3</a>\u001b[0m uploaded \u001b[39m=\u001b[39m files\u001b[39m.\u001b[39mupload()\n",
            "\u001b[1;31mModuleNotFoundError\u001b[0m: No module named 'google.colab'"
          ]
        }
      ],
      "source": [
        "from google.colab import files\n",
        "\n",
        "uploaded = files.upload()"
      ]
    },
    {
      "cell_type": "code",
      "execution_count": 1,
      "metadata": {
        "colab": {
          "base_uri": "https://localhost:8080/"
        },
        "id": "Zycx5gHQrA-V",
        "outputId": "78b957d6-1390-49d1-e117-e89a844e9d30"
      },
      "outputs": [
        {
          "name": "stderr",
          "output_type": "stream",
          "text": [
            "C:\\Users\\Rayni\\AppData\\Local\\Packages\\PythonSoftwareFoundation.Python.3.9_qbz5n2kfra8p0\\LocalCache\\local-packages\\Python39\\site-packages\\seaborn\\rcmod.py:82: DeprecationWarning: distutils Version classes are deprecated. Use packaging.version instead.\n",
            "  if LooseVersion(mpl.__version__) >= \"3.0\":\n",
            "C:\\Users\\Rayni\\AppData\\Local\\Packages\\PythonSoftwareFoundation.Python.3.9_qbz5n2kfra8p0\\LocalCache\\local-packages\\Python39\\site-packages\\setuptools\\_distutils\\version.py:345: DeprecationWarning: distutils Version classes are deprecated. Use packaging.version instead.\n",
            "  other = LooseVersion(other)\n",
            "C:\\Users\\Rayni\\AppData\\Local\\Packages\\PythonSoftwareFoundation.Python.3.9_qbz5n2kfra8p0\\LocalCache\\local-packages\\Python39\\site-packages\\scipy\\sparse\\sparsetools.py:21: DeprecationWarning: `scipy.sparse.sparsetools` is deprecated!\n",
            "scipy.sparse.sparsetools is a private module for scipy.sparse, and should not be used.\n",
            "  _deprecated()\n"
          ]
        }
      ],
      "source": [
        "import pandas as pd\n",
        "import numpy as np\n",
        "import re\n",
        "import string\n",
        "import spacy\n",
        "import pickle\n",
        "\n",
        "# libraries for visualization\n",
        "import pyLDAvis\n",
        "import pyLDAvis.lda_model\n",
        "import matplotlib.pyplot as plt\n",
        "import seaborn as sns\n",
        "import gensim\n",
        "from gensim import corpora\n",
        "from sklearn.decomposition import LatentDirichletAllocation\n",
        "import pyLDAvis.gensim_models as gensimvis\n",
        "import nltk\n",
        "from sklearn.feature_extraction.text import TfidfVectorizer, CountVectorizer"
      ]
    },
    {
      "cell_type": "markdown",
      "metadata": {
        "id": "pHXdBwZcrA-W"
      },
      "source": [
        "We will then import our data set as we did before."
      ]
    },
    {
      "cell_type": "code",
      "execution_count": 2,
      "metadata": {
        "colab": {
          "base_uri": "https://localhost:8080/",
          "height": 261
        },
        "id": "AaKP2sZXrA-W",
        "outputId": "22f2d7b0-92d5-49c2-d670-33133446b56e"
      },
      "outputs": [
        {
          "data": {
            "text/html": [
              "<div>\n",
              "<style scoped>\n",
              "    .dataframe tbody tr th:only-of-type {\n",
              "        vertical-align: middle;\n",
              "    }\n",
              "\n",
              "    .dataframe tbody tr th {\n",
              "        vertical-align: top;\n",
              "    }\n",
              "\n",
              "    .dataframe thead th {\n",
              "        text-align: right;\n",
              "    }\n",
              "</style>\n",
              "<table border=\"1\" class=\"dataframe\">\n",
              "  <thead>\n",
              "    <tr style=\"text-align: right;\">\n",
              "      <th></th>\n",
              "      <th>ID</th>\n",
              "      <th>TITLE</th>\n",
              "      <th>ABSTRACT</th>\n",
              "    </tr>\n",
              "  </thead>\n",
              "  <tbody>\n",
              "    <tr>\n",
              "      <th>0</th>\n",
              "      <td>1</td>\n",
              "      <td>Reconstructing Subject-Specific Effect Maps</td>\n",
              "      <td>Predictive models allow subject-specific inf...</td>\n",
              "    </tr>\n",
              "    <tr>\n",
              "      <th>1</th>\n",
              "      <td>2</td>\n",
              "      <td>Rotation Invariance Neural Network</td>\n",
              "      <td>Rotation invariance and translation invarian...</td>\n",
              "    </tr>\n",
              "    <tr>\n",
              "      <th>2</th>\n",
              "      <td>3</td>\n",
              "      <td>Spherical polyharmonics and Poisson kernels fo...</td>\n",
              "      <td>We introduce and develop the notion of spher...</td>\n",
              "    </tr>\n",
              "    <tr>\n",
              "      <th>3</th>\n",
              "      <td>4</td>\n",
              "      <td>A finite element approximation for the stochas...</td>\n",
              "      <td>The stochastic Landau--Lifshitz--Gilbert (LL...</td>\n",
              "    </tr>\n",
              "    <tr>\n",
              "      <th>4</th>\n",
              "      <td>5</td>\n",
              "      <td>Comparative study of Discrete Wavelet Transfor...</td>\n",
              "      <td>Fourier-transform infra-red (FTIR) spectra o...</td>\n",
              "    </tr>\n",
              "  </tbody>\n",
              "</table>\n",
              "</div>"
            ],
            "text/plain": [
              "   ID                                              TITLE  \\\n",
              "0   1        Reconstructing Subject-Specific Effect Maps   \n",
              "1   2                 Rotation Invariance Neural Network   \n",
              "2   3  Spherical polyharmonics and Poisson kernels fo...   \n",
              "3   4  A finite element approximation for the stochas...   \n",
              "4   5  Comparative study of Discrete Wavelet Transfor...   \n",
              "\n",
              "                                            ABSTRACT  \n",
              "0    Predictive models allow subject-specific inf...  \n",
              "1    Rotation invariance and translation invarian...  \n",
              "2    We introduce and develop the notion of spher...  \n",
              "3    The stochastic Landau--Lifshitz--Gilbert (LL...  \n",
              "4    Fourier-transform infra-red (FTIR) spectra o...  "
            ]
          },
          "execution_count": 2,
          "metadata": {},
          "output_type": "execute_result"
        }
      ],
      "source": [
        "train_df = pd.read_csv('abstracts.csv')\n",
        "train_df.head()"
      ]
    },
    {
      "cell_type": "code",
      "execution_count": 9,
      "metadata": {
        "colab": {
          "base_uri": "https://localhost:8080/"
        },
        "id": "4B9vK3zgrdcx",
        "outputId": "2a2b00c7-b86e-4b67-cd8b-72c5c0de1a17"
      },
      "outputs": [
        {
          "name": "stdout",
          "output_type": "stream",
          "text": [
            "<class 'pandas.core.frame.DataFrame'>\n",
            "RangeIndex: 20972 entries, 0 to 20971\n",
            "Data columns (total 3 columns):\n",
            " #   Column    Non-Null Count  Dtype \n",
            "---  ------    --------------  ----- \n",
            " 0   ID        20972 non-null  int64 \n",
            " 1   TITLE     20972 non-null  object\n",
            " 2   ABSTRACT  20972 non-null  object\n",
            "dtypes: int64(1), object(2)\n",
            "memory usage: 491.7+ KB\n"
          ]
        }
      ],
      "source": [
        "train_df.info()"
      ]
    },
    {
      "cell_type": "markdown",
      "metadata": {
        "id": "Gbf4wHp7rA-X"
      },
      "source": [
        "## Data cleaning and preprocessing.\n",
        "And afterwords, we will have our cleaning function. this function performs a series of common text preprocessing steps to remove noise and irrelevant information from the input text, which can improve the accuracy of natural language processing tasks. These steps include removing punctuation, removing words that are entirely composed of digits, and removing short words.\n",
        "\n"
      ]
    },
    {
      "cell_type": "code",
      "execution_count": 3,
      "metadata": {
        "colab": {
          "base_uri": "https://localhost:8080/"
        },
        "id": "bDdSHy2orA-X",
        "outputId": "a3df7c57-1f04-42ad-b416-40266c48fab6"
      },
      "outputs": [],
      "source": [
        "def clean_text(text):\n",
        "    #The first line of the function creates a dictionary called clean_dict that maps each punctuation character in the string.punctuation string to an empty string.\n",
        "    #This will be used to remove all punctuation characters from the text.\n",
        "    clean_dict = {special_char: '' for special_char in string.punctuation}\n",
        "    clean_dict[' '] = ' '\n",
        "    #A translation table is created using the str.maketrans() method, which takes the clean_dict dictionary as input\n",
        "    #and returns a translation table that can be used with the translate() method to remove punctuation from the text.\n",
        "    table = str.maketrans(clean_dict)\n",
        "    text_1 = text.translate(\n",
        "        table\n",
        "    )  #he translate() method is called on the input text using the translation table to remove all punctuation characters.\n",
        "    text_Array = text_1.split()\n",
        "\n",
        "    \"\"\"\n",
        "    A list comprehension is used to remove any words that are entirely composed of digits (isdigit()) or that have a length less than or equal to 3 characters.\n",
        "    The remaining words are joined back together into a string with spaces between them using the join() method.\n",
        "    The resulting cleaned text is converted to lowercase using the lower() method.\n",
        "    \"\"\"\n",
        "    text_2 = ' '.join([\n",
        "        word for word in text_Array\n",
        "        if (not word.isdigit() and (not word.isdigit() and len(word) > 3))\n",
        "    ])\n",
        "\n",
        "    return text_2.lower()"
      ]
    },
    {
      "cell_type": "markdown",
      "metadata": {
        "id": "gB66_J-ZrA-X"
      },
      "source": [
        "We will then be using a Natural Language Toolkit (NLTK) library to remove stopwords from text data.\n",
        "\n",
        "Stopwords are words that occur frequently in a language but do not carry much meaning, such as \"a\", \"an\", \"the\", \"in\", \"of\", etc.\n",
        "\n",
        "The first two lines of the code import the stopwords module from NLTK and create a variable stop_words that contains a list of English stopwords.\n",
        "\n",
        "Next, a function remove_stopwords is defined that takes a single argument text, which is a string containing text data.\n",
        "\n",
        "The function splits the input text into an array of words using the split() method and then uses a list comprehension to remove any words that appear in the stop_words list.\n",
        "\n",
        "The filtered words are then joined back together into a string using the join() method and returned.\n",
        "\n",
        "Finally, the apply() method is used to apply the remove_stopwords function to every row in the 'ABSTRACT' column of the train_df DataFrame.\n",
        "\n",
        "This removes the stopwords from the text data in each row and updates the 'ABSTRACT' column in-place with the cleaned text."
      ]
    },
    {
      "cell_type": "code",
      "execution_count": 4,
      "metadata": {
        "colab": {
          "base_uri": "https://localhost:8080/"
        },
        "id": "F3KsKu5UrA-Y",
        "outputId": "b559ad98-995a-42ae-e47d-bc504769cdb3"
      },
      "outputs": [],
      "source": [
        "from nltk.corpus import stopwords\n",
        "\n",
        "stop_words = stopwords.words('english')\n",
        "\n",
        "\n",
        "#We then create a function to remove the stopwords in our text.\n",
        "def remove_stopwords(text):\n",
        "    text_Array = text.split(' ')\n",
        "    remove_words = \" \".join([i for i in text_Array if i not in stop_words])\n",
        "    return remove_words\n",
        "\n",
        "\n",
        "#And here we will apply the remove_stopwords function. This will remove the stopwords from our dataset's text\n",
        "train_df['ABSTRACT'] = train_df['ABSTRACT'].apply(remove_stopwords)\n"
      ]
    },
    {
      "cell_type": "markdown",
      "metadata": {
        "id": "WOpDJIT2rA-Y"
      },
      "source": [
        "We will use the SpaCy library to perform lemmatization on a list of input texts. Lemmatization is the process of reducing words to their base or dictionary form, which can be useful for standardizing text data and reducing noise in natural language processing tasks. However before beginning to use the Spacy library, you must first install the required tools to begin using the Spacy library. Run the following commands in the terminal to install the required tools.\n",
        "````\n",
        "pip install -U pip setuptools wheel\n",
        "pip install -U spacy\n",
        "python -m spacy download en_core_web_sm\n",
        "````\n",
        "\n"
      ]
    },
    {
      "cell_type": "code",
      "execution_count": 5,
      "metadata": {
        "colab": {
          "base_uri": "https://localhost:8080/"
        },
        "id": "16snqFMy4K6x",
        "outputId": "d42ef44c-e2a0-446d-dfdb-0f52f4223366"
      },
      "outputs": [],
      "source": [
        "'''\n",
        "The first line of the code loads the 'en_core_web_md' SpaCy model, \n",
        "which is a medium-sized English language model that includes word vectors and supports part-of-speech tagging, \n",
        "named entity recognition, and dependency parsing. The 'parser' and 'ner' components are disabled using the disable parameter, \n",
        "which speeds up the processing time since these components are not needed for lemmatization.\n",
        "'''\n",
        "import gensim\n",
        "from gensim.utils import simple_preprocess\n",
        "from gensim.parsing.preprocessing import STOPWORDS\n",
        "from nltk.stem import WordNetLemmatizer, SnowballStemmer\n",
        "from nltk.stem.porter import *    \n",
        "\n",
        " \n",
        "def lemmatization(texts,allowed_postags=['VERB', 'ADV','ADJ']): \n",
        "      nlp = spacy.load('en_core_web_sm', disable=['parser', 'ner'])\n",
        "      output = []\n",
        "      for sent in texts:\n",
        "            doc = nlp(sent) \n",
        "            output.append([token.lemma_ for token in doc if token.pos_ in allowed_postags ])\n",
        "      return output\n",
        "\n",
        "\n",
        "\n"
      ]
    },
    {
      "cell_type": "code",
      "execution_count": 7,
      "metadata": {
        "colab": {
          "base_uri": "https://localhost:8080/"
        },
        "id": "VyAvPK8Trdc0",
        "outputId": "7c4fbdb4-4580-4181-8a12-031404060073"
      },
      "outputs": [
        {
          "data": {
            "text/plain": [
              "dtype('O')"
            ]
          },
          "execution_count": 7,
          "metadata": {},
          "output_type": "execute_result"
        }
      ],
      "source": [
        "train_df['ABSTRACT'].dtypes"
      ]
    },
    {
      "cell_type": "code",
      "execution_count": 8,
      "metadata": {
        "colab": {
          "base_uri": "https://localhost:8080/"
        },
        "id": "-RtTNfMIrdc0",
        "outputId": "2dba3c0d-5639-42c9-c77e-2a2009617367"
      },
      "outputs": [
        {
          "data": {
            "text/plain": [
              "0        False\n",
              "1        False\n",
              "2        False\n",
              "3        False\n",
              "4        False\n",
              "         ...  \n",
              "20967    False\n",
              "20968    False\n",
              "20969    False\n",
              "20970    False\n",
              "20971    False\n",
              "Name: ABSTRACT, Length: 20972, dtype: bool"
            ]
          },
          "execution_count": 8,
          "metadata": {},
          "output_type": "execute_result"
        }
      ],
      "source": [
        "train_df['ABSTRACT'].isnull()"
      ]
    },
    {
      "cell_type": "code",
      "execution_count": 6,
      "metadata": {
        "colab": {
          "base_uri": "https://localhost:8080/"
        },
        "id": "P-uyIu1ZrA-Z",
        "outputId": "96b56485-a867-4a2c-a60a-3e4f3eec115a"
      },
      "outputs": [
        {
          "name": "stdout",
          "output_type": "stream",
          "text": [
            "  Rotation invariance translation invariance great values image\n",
            "recognition tasks. In paper, bring new architecture convolutional\n",
            "neural network (CNN) named cyclic convolutional layer achieve rotation\n",
            "invariance 2-D symbol recognition. We also get position and\n",
            "orientation 2-D symbol network achieve detection purpose for\n",
            "multiple non-overlap target. Last least, architecture achieve\n",
            "one-shot learning cases using invariance.\n",
            "\n",
            "['great', 'bring', 'new', 'convolutional', 'neural', 'name', 'cyclic', 'convolutional', 'achieve', 'd', 'also', 'get', 'd', 'achieve', 'multiple', 'non', '-', 'overlap', 'last', 'least', 'achieve', 'use']\n"
          ]
        }
      ],
      "source": [
        "\n",
        "text_list=train_df['ABSTRACT'].tolist()\n",
        "print(text_list[1])\n",
        "tokenized_reviews = lemmatization(text_list)\n",
        "print(tokenized_reviews[1])"
      ]
    },
    {
      "cell_type": "code",
      "execution_count": 7,
      "metadata": {
        "colab": {
          "base_uri": "https://localhost:8080/"
        },
        "id": "ydDDSn1sugpj",
        "outputId": "6ee31a2c-4112-41fd-da70-5270ce417386"
      },
      "outputs": [
        {
          "data": {
            "text/plain": [
              "[(11, 3),\n",
              " (45, 1),\n",
              " (125, 1),\n",
              " (126, 1),\n",
              " (170, 1),\n",
              " (234, 1),\n",
              " (248, 1),\n",
              " (335, 1),\n",
              " (416, 1),\n",
              " (467, 1),\n",
              " (554, 2),\n",
              " (683, 1),\n",
              " (758, 1),\n",
              " (806, 1),\n",
              " (817, 3),\n",
              " (866, 1),\n",
              " (1083, 1),\n",
              " (1232, 1),\n",
              " (1346, 3),\n",
              " (1572, 3),\n",
              " (1667, 1),\n",
              " (1879, 6)]"
            ]
          },
          "execution_count": 7,
          "metadata": {},
          "output_type": "execute_result"
        }
      ],
      "source": [
        "dictionary = corpora.Dictionary(tokenized_reviews)\n",
        "bow_corpus = [dictionary.doc2bow(doc) for doc in tokenized_reviews]\n",
        "bow_corpus[4310]"
      ]
    },
    {
      "cell_type": "code",
      "execution_count": 8,
      "metadata": {},
      "outputs": [],
      "source": [
        "# Build LDA model\n",
        "lda_model = gensim.models.ldamodel.LdaModel(corpus=bow_corpus,\n",
        "                                            num_topics=5,\n",
        "                                            id2word=dictionary,\n",
        "                                            random_state=100,\n",
        "                                            chunksize=1000,\n",
        "                                            passes=50,\n",
        "                                            iterations=100,\n",
        "                                            update_every=1,\n",
        "                                            alpha='auto')\n"
      ]
    },
    {
      "cell_type": "code",
      "execution_count": 10,
      "metadata": {},
      "outputs": [],
      "source": [
        "lda_model_multi = gensim.models.LdaMulticore(corpus=bow_corpus,\n",
        "                                             num_topics=5,\n",
        "                                             id2word=dictionary,\n",
        "                                             workers=2,\n",
        "                                             random_state=100,\n",
        "                                             chunksize=1000,\n",
        "                                             passes=50,\n",
        "                                             iterations=100)\n"
      ]
    },
    {
      "cell_type": "code",
      "execution_count": 9,
      "metadata": {
        "colab": {
          "base_uri": "https://localhost:8080/"
        },
        "id": "qiLrh5Vyrdc0",
        "outputId": "c63891f2-9f87-411e-ac79-fc4349216c94"
      },
      "outputs": [
        {
          "name": "stdout",
          "output_type": "stream",
          "text": [
            "0 -\n",
            "1 aim\n",
            "2 allow\n",
            "3 also\n",
            "4 analyse\n",
            "5 analyze\n",
            "6 associate\n",
            "7 binary\n",
            "8 compare\n",
            "9 compose\n",
            "10 cortical\n"
          ]
        }
      ],
      "source": [
        "count = 0\n",
        "for k, v in dictionary.iteritems():\n",
        "    print(k, v)\n",
        "    count += 1\n",
        "    if count > 10:\n",
        "        break"
      ]
    },
    {
      "cell_type": "code",
      "execution_count": 11,
      "metadata": {
        "colab": {
          "base_uri": "https://localhost:8080/"
        },
        "id": "u-z-j-Xurdc1",
        "outputId": "34f0f188-2d45-47cd-84e8-bb2ee826c1ec"
      },
      "outputs": [],
      "source": [
        "dictionary.filter_extremes(no_below=15, no_above=0.5, keep_n=100000)"
      ]
    },
    {
      "cell_type": "code",
      "execution_count": 12,
      "metadata": {
        "colab": {
          "base_uri": "https://localhost:8080/"
        },
        "id": "fOJ0WxKlrdc1",
        "outputId": "51dcc00c-4f13-4564-b46c-e3270671743c"
      },
      "outputs": [
        {
          "name": "stdout",
          "output_type": "stream",
          "text": [
            "Word 11 (\"detect\") appears 3 time.\n",
            "Word 45 (\"reduce\") appears 1 time.\n",
            "Word 125 (\"finally\") appears 1 time.\n",
            "Word 126 (\"interest\") appears 1 time.\n",
            "Word 170 (\"metallic\") appears 1 time.\n",
            "Word 234 (\"main\") appears 1 time.\n",
            "Word 248 (\"utilize\") appears 1 time.\n",
            "Word 335 (\"giant\") appears 1 time.\n",
            "Word 416 (\"adequate\") appears 1 time.\n",
            "Word 467 (\"check\") appears 1 time.\n",
            "Word 554 (\"geometric\") appears 2 time.\n",
            "Word 683 (\"create\") appears 1 time.\n",
            "Word 758 (\"odd\") appears 1 time.\n",
            "Word 806 (\"possible\") appears 1 time.\n",
            "Word 817 (\"internal\") appears 3 time.\n",
            "Word 866 (\"begin\") appears 1 time.\n",
            "Word 1083 (\"logarithmic\") appears 1 time.\n",
            "Word 1232 (\"fine\") appears 1 time.\n",
            "Word 1346 (\"employ\") appears 3 time.\n",
            "Word 1572 (\"categorical\") appears 3 time.\n",
            "Word 1667 (\"stimulate\") appears 1 time.\n",
            "Word 1879 (\"probe\") appears 6 time.\n"
          ]
        }
      ],
      "source": [
        "bow_doc_4310 = bow_corpus[4310]\n",
        "\n",
        "for i in range(len(bow_doc_4310)):\n",
        "    print(\"Word {} (\\\"{}\\\") appears {} time.\".format(\n",
        "        bow_doc_4310[i][0], dictionary[bow_doc_4310[i][0]],\n",
        "        bow_doc_4310[i][1]))\n"
      ]
    },
    {
      "cell_type": "code",
      "execution_count": 22,
      "metadata": {
        "colab": {
          "base_uri": "https://localhost:8080/"
        },
        "id": "ciHC9snprdc1",
        "outputId": "87cbfb8c-edfd-4752-fe63-b5cc460a99c5"
      },
      "outputs": [
        {
          "data": {
            "text/plain": [
              "(20972,)"
            ]
          },
          "execution_count": 22,
          "metadata": {},
          "output_type": "execute_result"
        }
      ],
      "source": [
        "train_df['ABSTRACT'].shape"
      ]
    },
    {
      "cell_type": "code",
      "execution_count": 23,
      "metadata": {
        "id": "P-_RJVgzNXtZ"
      },
      "outputs": [
        {
          "data": {
            "text/plain": [
              "20972"
            ]
          },
          "execution_count": 23,
          "metadata": {},
          "output_type": "execute_result"
        }
      ],
      "source": [
        "train_df['ABSTRACT'].size"
      ]
    },
    {
      "cell_type": "code",
      "execution_count": 13,
      "metadata": {
        "colab": {
          "base_uri": "https://localhost:8080/"
        },
        "id": "9aeSILVA2CLk",
        "outputId": "124b5ff7-9685-4966-fd7e-704f97b0aba2"
      },
      "outputs": [
        {
          "data": {
            "text/plain": [
              "[(0,\n",
              "  '0.023*\"give\" + 0.022*\"good\" + 0.020*\"couple\" + 0.014*\"also\" + 0.010*\"reasonable\" + 0.009*\"derive\" + 0.008*\"decrease\" + 0.008*\"induce\" + 0.008*\"finite\" + 0.007*\"atomic\"'),\n",
              " (1,\n",
              "  '0.027*\"yield\" + 0.018*\"reduce\" + 0.018*\"main\" + 0.014*\"significantly\" + 0.010*\"different\" + 0.009*\"couple\" + 0.008*\"easy\" + 0.008*\"classical\" + 0.008*\"overlap\" + 0.008*\"rely\"'),\n",
              " (2,\n",
              "  '0.019*\"yield\" + 0.018*\"-\" + 0.018*\"couple\" + 0.013*\"reduce\" + 0.012*\"potential\" + 0.010*\"diagonal\" + 0.010*\"main\" + 0.010*\"particular\" + 0.009*\"convex\" + 0.009*\"also\"'),\n",
              " (3,\n",
              "  '0.036*\"-\" + 0.022*\"particular\" + 0.018*\"biological\" + 0.017*\"equip\" + 0.013*\"pay\" + 0.012*\"fundamental\" + 0.010*\"algebraic\" + 0.009*\"verify\" + 0.009*\"fast\" + 0.009*\"severely\"'),\n",
              " (4,\n",
              "  '0.015*\"kernel\" + 0.014*\"high\" + 0.012*\"reformulate\" + 0.011*\"yield\" + 0.011*\"giant\" + 0.010*\"couple\" + 0.009*\"short\" + 0.009*\"attract\" + 0.007*\"also\" + 0.007*\"consider\"')]"
            ]
          },
          "execution_count": 13,
          "metadata": {},
          "output_type": "execute_result"
        }
      ],
      "source": [
        "lda_model.print_topics()"
      ]
    },
    {
      "cell_type": "code",
      "execution_count": 14,
      "metadata": {
        "colab": {
          "base_uri": "https://localhost:8080/"
        },
        "id": "pSd-La3_RLPQ",
        "outputId": "b2b29d1c-717c-412b-d7dc-4751b79e6649"
      },
      "outputs": [
        {
          "data": {
            "text/plain": [
              "[(0,\n",
              "  '0.024*\"give\" + 0.020*\"couple\" + 0.020*\"good\" + 0.014*\"also\" + 0.011*\"derive\" + 0.010*\"reasonable\" + 0.008*\"yield\" + 0.007*\"induce\" + 0.007*\"eigenvalue\" + 0.007*\"classical\"'),\n",
              " (1,\n",
              "  '0.025*\"yield\" + 0.017*\"reduce\" + 0.016*\"main\" + 0.014*\"significantly\" + 0.010*\"couple\" + 0.009*\"overlap\" + 0.009*\"different\" + 0.009*\"rely\" + 0.008*\"easy\" + 0.007*\"classical\"'),\n",
              " (2,\n",
              "  '0.019*\"reduce\" + 0.019*\"yield\" + 0.014*\"couple\" + 0.014*\"-\" + 0.013*\"main\" + 0.011*\"separate\" + 0.009*\"diagonal\" + 0.009*\"tractable\" + 0.008*\"convex\" + 0.007*\"also\"'),\n",
              " (3,\n",
              "  '0.026*\"-\" + 0.018*\"particular\" + 0.013*\"biological\" + 0.012*\"couple\" + 0.010*\"yield\" + 0.010*\"fast\" + 0.009*\"potential\" + 0.009*\"decrease\" + 0.009*\"verify\" + 0.009*\"induce\"'),\n",
              " (4,\n",
              "  '0.014*\"yield\" + 0.012*\"high\" + 0.012*\"kernel\" + 0.010*\"couple\" + 0.009*\"giant\" + 0.009*\"reformulate\" + 0.009*\"-\" + 0.008*\"short\" + 0.007*\"attract\" + 0.007*\"easy\"')]"
            ]
          },
          "execution_count": 14,
          "metadata": {},
          "output_type": "execute_result"
        }
      ],
      "source": [
        "lda_model_multi.print_topics()"
      ]
    },
    {
      "cell_type": "code",
      "execution_count": 15,
      "metadata": {
        "colab": {
          "base_uri": "https://localhost:8080/"
        },
        "id": "56rHE_aMrdc1",
        "outputId": "afd42f4d-c4ae-4642-8a8e-6c5d27dcce51"
      },
      "outputs": [
        {
          "name": "stdout",
          "output_type": "stream",
          "text": [
            "\n",
            "Score: 0.3617786169052124\t \n",
            "Topic: 0.023*\"give\" + 0.022*\"good\" + 0.020*\"couple\" + 0.014*\"also\" + 0.010*\"reasonable\" + 0.009*\"derive\" + 0.008*\"decrease\" + 0.008*\"induce\" + 0.008*\"finite\" + 0.007*\"atomic\"\n",
            "\n",
            "Score: 0.2938082814216614\t \n",
            "Topic: 0.027*\"yield\" + 0.018*\"reduce\" + 0.018*\"main\" + 0.014*\"significantly\" + 0.010*\"different\" + 0.009*\"couple\" + 0.008*\"easy\" + 0.008*\"classical\" + 0.008*\"overlap\" + 0.008*\"rely\"\n",
            "\n",
            "Score: 0.20413623750209808\t \n",
            "Topic: 0.015*\"kernel\" + 0.014*\"high\" + 0.012*\"reformulate\" + 0.011*\"yield\" + 0.011*\"giant\" + 0.010*\"couple\" + 0.009*\"short\" + 0.009*\"attract\" + 0.007*\"also\" + 0.007*\"consider\"\n",
            "\n",
            "Score: 0.11722999066114426\t \n",
            "Topic: 0.036*\"-\" + 0.022*\"particular\" + 0.018*\"biological\" + 0.017*\"equip\" + 0.013*\"pay\" + 0.012*\"fundamental\" + 0.010*\"algebraic\" + 0.009*\"verify\" + 0.009*\"fast\" + 0.009*\"severely\"\n",
            "\n",
            "Score: 0.023046845570206642\t \n",
            "Topic: 0.019*\"yield\" + 0.018*\"-\" + 0.018*\"couple\" + 0.013*\"reduce\" + 0.012*\"potential\" + 0.010*\"diagonal\" + 0.010*\"main\" + 0.010*\"particular\" + 0.009*\"convex\" + 0.009*\"also\"\n"
          ]
        }
      ],
      "source": [
        "for index, score in sorted(lda_model[bow_corpus[4310]],\n",
        "                           key=lambda tup: -1 * tup[1]):\n",
        "    print(\"\\nScore: {}\\t \\nTopic: {}\".format(score,\n",
        "                                             lda_model.print_topic(index, 10)))\n"
      ]
    },
    {
      "cell_type": "code",
      "execution_count": 16,
      "metadata": {
        "colab": {
          "base_uri": "https://localhost:8080/"
        },
        "id": "Id7zwRiKZWLh",
        "outputId": "f244a779-5759-41fe-9276-7feb3e7e0f9f"
      },
      "outputs": [
        {
          "name": "stdout",
          "output_type": "stream",
          "text": [
            "\n",
            "Score: 0.6844799518585205\t \n",
            "Topic: 0.014*\"yield\" + 0.012*\"high\" + 0.012*\"kernel\" + 0.010*\"couple\" + 0.009*\"giant\" + 0.009*\"reformulate\" + 0.009*\"-\" + 0.008*\"short\" + 0.007*\"attract\" + 0.007*\"easy\"\n",
            "\n",
            "Score: 0.24206721782684326\t \n",
            "Topic: 0.025*\"yield\" + 0.017*\"reduce\" + 0.016*\"main\" + 0.014*\"significantly\" + 0.010*\"couple\" + 0.009*\"overlap\" + 0.009*\"different\" + 0.009*\"rely\" + 0.008*\"easy\" + 0.007*\"classical\"\n",
            "\n",
            "Score: 0.06248728558421135\t \n",
            "Topic: 0.024*\"give\" + 0.020*\"couple\" + 0.020*\"good\" + 0.014*\"also\" + 0.011*\"derive\" + 0.010*\"reasonable\" + 0.008*\"yield\" + 0.007*\"induce\" + 0.007*\"eigenvalue\" + 0.007*\"classical\"\n"
          ]
        }
      ],
      "source": [
        "for index, score in sorted(lda_model_multi[bow_corpus[4310]],\n",
        "                           key=lambda tup: -1 * tup[1]):\n",
        "    print(\"\\nScore: {}\\t \\nTopic: {}\".format(score,\n",
        "                                             lda_model_multi.print_topic(index, 10)))"
      ]
    },
    {
      "cell_type": "code",
      "execution_count": 28,
      "metadata": {},
      "outputs": [
        {
          "name": "stdout",
          "output_type": "stream",
          "text": [
            "Requirement already satisfied: pyldavis in c:\\users\\rayni\\appdata\\local\\packages\\pythonsoftwarefoundation.python.3.9_qbz5n2kfra8p0\\localcache\\local-packages\\python39\\site-packages (3.4.0)\n",
            "Requirement already satisfied: numpy>=1.22.0 in c:\\users\\rayni\\appdata\\local\\packages\\pythonsoftwarefoundation.python.3.9_qbz5n2kfra8p0\\localcache\\local-packages\\python39\\site-packages (from pyldavis) (1.22.4)\n",
            "Requirement already satisfied: scipy in c:\\users\\rayni\\appdata\\local\\packages\\pythonsoftwarefoundation.python.3.9_qbz5n2kfra8p0\\localcache\\local-packages\\python39\\site-packages (from pyldavis) (1.7.2)\n",
            "Requirement already satisfied: pandas>=1.3.4 in c:\\users\\rayni\\appdata\\local\\packages\\pythonsoftwarefoundation.python.3.9_qbz5n2kfra8p0\\localcache\\local-packages\\python39\\site-packages (from pyldavis) (1.3.4)\n",
            "Requirement already satisfied: joblib>=1.2.0 in c:\\users\\rayni\\appdata\\local\\packages\\pythonsoftwarefoundation.python.3.9_qbz5n2kfra8p0\\localcache\\local-packages\\python39\\site-packages (from pyldavis) (1.2.0)\n",
            "Requirement already satisfied: jinja2 in c:\\users\\rayni\\appdata\\local\\packages\\pythonsoftwarefoundation.python.3.9_qbz5n2kfra8p0\\localcache\\local-packages\\python39\\site-packages (from pyldavis) (3.1.2)\n",
            "Requirement already satisfied: numexpr in c:\\users\\rayni\\appdata\\local\\packages\\pythonsoftwarefoundation.python.3.9_qbz5n2kfra8p0\\localcache\\local-packages\\python39\\site-packages (from pyldavis) (2.8.4)\n",
            "Requirement already satisfied: funcy in c:\\users\\rayni\\appdata\\local\\packages\\pythonsoftwarefoundation.python.3.9_qbz5n2kfra8p0\\localcache\\local-packages\\python39\\site-packages (from pyldavis) (2.0)\n",
            "Requirement already satisfied: scikit-learn>=1.0.0 in c:\\users\\rayni\\appdata\\local\\packages\\pythonsoftwarefoundation.python.3.9_qbz5n2kfra8p0\\localcache\\local-packages\\python39\\site-packages (from pyldavis) (1.2.1)\n",
            "Requirement already satisfied: gensim in c:\\users\\rayni\\appdata\\local\\packages\\pythonsoftwarefoundation.python.3.9_qbz5n2kfra8p0\\localcache\\local-packages\\python39\\site-packages (from pyldavis) (4.3.1)\n",
            "Requirement already satisfied: setuptools in c:\\users\\rayni\\appdata\\local\\packages\\pythonsoftwarefoundation.python.3.9_qbz5n2kfra8p0\\localcache\\local-packages\\python39\\site-packages (from pyldavis) (67.6.1)\n",
            "Requirement already satisfied: python-dateutil>=2.7.3 in c:\\users\\rayni\\appdata\\local\\packages\\pythonsoftwarefoundation.python.3.9_qbz5n2kfra8p0\\localcache\\local-packages\\python39\\site-packages (from pandas>=1.3.4->pyldavis) (2.8.2)\n",
            "Requirement already satisfied: pytz>=2017.3 in c:\\users\\rayni\\appdata\\local\\packages\\pythonsoftwarefoundation.python.3.9_qbz5n2kfra8p0\\localcache\\local-packages\\python39\\site-packages (from pandas>=1.3.4->pyldavis) (2021.3)\n",
            "Requirement already satisfied: threadpoolctl>=2.0.0 in c:\\users\\rayni\\appdata\\local\\packages\\pythonsoftwarefoundation.python.3.9_qbz5n2kfra8p0\\localcache\\local-packages\\python39\\site-packages (from scikit-learn>=1.0.0->pyldavis) (3.1.0)\n",
            "Requirement already satisfied: smart-open>=1.8.1 in c:\\users\\rayni\\appdata\\local\\packages\\pythonsoftwarefoundation.python.3.9_qbz5n2kfra8p0\\localcache\\local-packages\\python39\\site-packages (from gensim->pyldavis) (6.3.0)\n",
            "Requirement already satisfied: MarkupSafe>=2.0 in c:\\users\\rayni\\appdata\\local\\packages\\pythonsoftwarefoundation.python.3.9_qbz5n2kfra8p0\\localcache\\local-packages\\python39\\site-packages (from jinja2->pyldavis) (2.0.1)\n",
            "Requirement already satisfied: six>=1.5 in c:\\users\\rayni\\appdata\\local\\packages\\pythonsoftwarefoundation.python.3.9_qbz5n2kfra8p0\\localcache\\local-packages\\python39\\site-packages (from python-dateutil>=2.7.3->pandas>=1.3.4->pyldavis) (1.16.0)\n",
            "Note: you may need to restart the kernel to use updated packages.\n"
          ]
        }
      ],
      "source": [
        "pip install pyldavis"
      ]
    },
    {
      "attachments": {},
      "cell_type": "markdown",
      "metadata": {},
      "source": [
        "In the case of the pyLDAvis library not working correctly, please continue running the rest of the script as planned. The results of running the pyLDAvis script will be available to the user under the \"Model\" folder. "
      ]
    },
    {
      "cell_type": "code",
      "execution_count": 29,
      "metadata": {},
      "outputs": [],
      "source": [
        "import pyLDAvis.gensim_models as gensimvis"
      ]
    },
    {
      "cell_type": "code",
      "execution_count": 30,
      "metadata": {
        "colab": {
          "base_uri": "https://localhost:8080/",
          "height": 951
        },
        "id": "dNc9fPUd2GLD",
        "outputId": "9d0e0e42-defa-4e3c-b024-d6823f7c880e"
      },
      "outputs": [
        {
          "ename": "",
          "evalue": "",
          "output_type": "error",
          "traceback": [
            "\u001b[1;31mCanceled future for execute_request message before replies were done"
          ]
        },
        {
          "ename": "",
          "evalue": "",
          "output_type": "error",
          "traceback": [
            "\u001b[1;31mThe Kernel crashed while executing code in the the current cell or a previous cell. Please review the code in the cell(s) to identify a possible cause of the failure. Click <a href='https://aka.ms/vscodeJupyterKernelCrash'>here</a> for more info. View Jupyter <a href='command:jupyter.viewOutput'>log</a> for further details."
          ]
        }
      ],
      "source": [
        "pyLDAvis.enable_notebook()\n",
        "vis = gensimvis.prepare(lda_model, bow_corpus, dictionary)\n",
        "vis"
      ]
    },
    {
      "cell_type": "code",
      "execution_count": null,
      "metadata": {
        "colab": {
          "base_uri": "https://localhost:8080/"
        },
        "id": "CzgjIM3l4IXX",
        "outputId": "59d014e5-e1de-4554-d9c4-1f95dff41c69"
      },
      "outputs": [
        {
          "ename": "NameError",
          "evalue": "name 'pyLDAvis' is not defined",
          "output_type": "error",
          "traceback": [
            "\u001b[1;31m---------------------------------------------------------------------------\u001b[0m",
            "\u001b[1;31mNameError\u001b[0m                                 Traceback (most recent call last)",
            "\u001b[1;32mc:\\Users\\Rayni\\Desktop\\Coding\\FYP\\Main\\LDA .ipynb Cell 33\u001b[0m in \u001b[0;36m1\n\u001b[1;32m----> <a href='vscode-notebook-cell:/c%3A/Users/Rayni/Desktop/Coding/FYP/Main/LDA%20.ipynb#X44sZmlsZQ%3D%3D?line=0'>1</a>\u001b[0m pyLDAvis\u001b[39m.\u001b[39msave_html(vis, \u001b[39m'\u001b[39m\u001b[39mlda_model.html\u001b[39m\u001b[39m'\u001b[39m)\n",
            "\u001b[1;31mNameError\u001b[0m: name 'pyLDAvis' is not defined"
          ]
        }
      ],
      "source": [
        "pyLDAvis.save_html(vis, 'lda_model.html')"
      ]
    },
    {
      "cell_type": "code",
      "execution_count": null,
      "metadata": {
        "colab": {
          "base_uri": "https://localhost:8080/",
          "height": 951
        },
        "id": "QN-wFshXZnot",
        "outputId": "4233914e-8420-4da1-eb55-a0b548e686d3"
      },
      "outputs": [
        {
          "name": "stderr",
          "output_type": "stream",
          "text": [
            "C:\\Users\\Rayni\\AppData\\Local\\Packages\\PythonSoftwareFoundation.Python.3.9_qbz5n2kfra8p0\\LocalCache\\local-packages\\Python39\\site-packages\\pyLDAvis\\_prepare.py:243: FutureWarning: In a future version of pandas all arguments of DataFrame.drop except for the argument 'labels' will be keyword-only\n",
            "  default_term_info = default_term_info.sort_values(\n"
          ]
        },
        {
          "data": {
            "text/html": [
              "\n",
              "<link rel=\"stylesheet\" type=\"text/css\" href=\"https://cdn.jsdelivr.net/gh/bmabey/pyLDAvis@3.4.0/pyLDAvis/js/ldavis.v1.0.0.css\">\n",
              "\n",
              "\n",
              "<div id=\"ldavis_el2020822238111632964439137242\" style=\"background-color:white;\"></div>\n",
              "<script type=\"text/javascript\">\n",
              "\n",
              "var ldavis_el2020822238111632964439137242_data = {\"mdsDat\": {\"x\": [0.15630906089788404, 0.05302390459365061, 0.10619839773516118, -0.17195879801231742, -0.14357256521437836], \"y\": [-0.0687419369458304, -0.07163979577630344, 0.12934088726789292, -0.0843006127722559, 0.09534145822649678], \"topics\": [1, 2, 3, 4, 5], \"cluster\": [1, 1, 1, 1, 1], \"Freq\": [33.03429906625457, 23.293106910833767, 21.544763775009887, 11.689579450541444, 10.438250797360329]}, \"tinfo\": {\"Term\": [\"give\", \"prove\", \"propose\", \"-\", \"learn\", \"non\", \"optimal\", \"neural\", \"magnetic\", \"deep\", \"dimensional\", \"show\", \"set\", \"nonlinear\", \"random\", \"finite\", \"boundary\", \"define\", \"consider\", \"differential\", \"study\", \"also\", \"train\", \"obtain\", \"optical\", \"bound\", \"bind\", \"numerical\", \"linear\", \"topological\", \"neural\", \"train\", \"human\", \"social\", \"visual\", \"convolutional\", \"semantic\", \"generative\", \"automatic\", \"automate\", \"supervised\", \"mobile\", \"public\", \"recurrent\", \"supervise\", \"clinical\", \"digital\", \"unsupervised\", \"smart\", \"meta\", \"robotic\", \"interpretable\", \"unsupervise\", \"cognitive\", \"urban\", \"raw\", \"architecture\", \"historical\", \"indoor\", \"manually\", \"deep\", \"adversarial\", \"learn\", \"dataset\", \"collect\", \"temporal\", \"label\", \"evaluate\", \"automatically\", \"extract\", \"base\", \"propose\", \"use\", \"challenge\", \"different\", \"make\", \"enable\", \"improve\", \"real\", \"generate\", \"predict\", \"however\", \"embed\", \"achieve\", \"novel\", \"present\", \"new\", \"perform\", \"demonstrate\", \"well\", \"provide\", \"show\", \"exist\", \"develop\", \"large\", \"also\", \"-\", \"high\", \"many\", \"compare\", \"optimal\", \"bayesian\", \"posterior\", \"conditional\", \"causal\", \"marginal\", \"nonparametric\", \"greedy\", \"corrupt\", \"penalize\", \"provably\", \"proximal\", \"decentralize\", \"agent\", \"cache\", \"minimax\", \"armed\", \"primal\", \"quantile\", \"submodular\", \"packet\", \"validation\", \"rewrite\", \"decentralized\", \"plant\", \"gps\", \"inferential\", \"monotone\", \"censor\", \"suboptimal\", \"sample\", \"randomize\", \"random\", \"unknown\", \"surrogate\", \"sparse\", \"gaussian\", \"minimize\", \"parametric\", \"approximate\", \"regularize\", \"convex\", \"guarantee\", \"distribute\", \"statistical\", \"stochastic\", \"empirical\", \"estimate\", \"adaptive\", \"solve\", \"theoretical\", \"efficient\", \"computational\", \"propose\", \"computationally\", \"linear\", \"gradient\", \"prior\", \"fast\", \"-\", \"base\", \"use\", \"consider\", \"show\", \"provide\", \"low\", \"well\", \"non\", \"large\", \"high\", \"new\", \"derive\", \"also\", \"achieve\", \"demonstrate\", \"present\", \"first\", \"require\", \"allow\", \"give\", \"develop\", \"set\", \"magnetic\", \"optical\", \"thermal\", \"electronic\", \"molecular\", \"stellar\", \"dark\", \"solar\", \"atomic\", \"superconducte\", \"orbital\", \"electric\", \"mass\", \"cosmic\", \"dope\", \"cool\", \"atmospheric\", \"turbulent\", \"electrical\", \"planetary\", \"polarize\", \"graphene\", \"liquid\", \"metallic\", \"young\", \"dielectric\", \"probe\", \"bright\", \"infrare\", \"lense\", \"gravitational\", \"cosmological\", \"thin\", \"hot\", \"light\", \"scatter\", \"observe\", \"find\", \"report\", \"high\", \"measure\", \"induce\", \"low\", \"suggest\", \"here\", \"indicate\", \"large\", \"strong\", \"use\", \"due\", \"long\", \"show\", \"investigate\", \"-\", \"present\", \"increase\", \"small\", \"single\", \"different\", \"also\", \"well\", \"base\", \"study\", \"demonstrate\", \"provide\", \"first\", \"compare\", \"let\", \"algebra\", \"rational\", \"prime\", \"conjecture\", \"finitely\", \"irreducible\", \"f$\", \"projective\", \"boolean\", \"grade\", \"simplicial\", \"question\", \"isomorphic\", \"x$\", \"equivariant\", \"countable\", \"k$\", \"color\", \"nilpotent\", \"infect\", \"invertible\", \"phylogenetic\", \"definable\", \"reductive\", \"intersect\", \"r$\", \"decidable\", \"transitive\", \"isometric\", \"proof\", \"cyclic\", \"algebraic\", \"empty\", \"vertice\", \"denote\", \"theorem\", \"polynomial\", \"prove\", \"metric\", \"say\", \"regular\", \"maximal\", \"positive\", \"arithmetic\", \"give\", \"bound\", \"define\", \"admit\", \"compact\", \"bind\", \"complete\", \"set\", \"certain\", \"upper\", \"finite\", \"show\", \"generalize\", \"also\", \"minimal\", \"hold\", \"know\", \"study\", \"free\", \"obtain\", \"general\", \"call\", \"introduce\", \"new\", \"particular\", \"use\", \"consider\", \"first\", \"provide\", \"well\", \"boundary\", \"harmonic\", \"fractional\", \"integrable\", \"elliptic\", \"riemannian\", \"hamiltonian\", \"\\\\mathcal\", \"lagrangian\", \"derivative\", \"ergodic\", \"conformal\", \"brownian\", \"nonlocal\", \"incompressible\", \"deform\", \"hermitian\", \"bosonic\", \"injective\", \"linearize\", \"perturbative\", \"planck\", \"repulsive\", \"supercritical\", \"hypergeometric\", \"fracture\", \"commute\", \"curvature\", \"semiclassical\", \"quartic\", \"differential\", \"scalar\", \"chaotic\", \"nonlinear\", \"manifold\", \"topological\", \"integral\", \"parabolic\", \"periodic\", \"eigenvalue\", \"dynamical\", \"fluid\", \"stationary\", \"non\", \"dimensional\", \"initial\", \"-\", \"finite\", \"numerical\", \"discrete\", \"couple\", \"local\", \"consider\", \"obtain\", \"study\", \"describe\", \"continuous\", \"derive\", \"show\", \"linear\", \"also\", \"classical\", \"general\", \"use\", \"construct\", \"prove\", \"present\", \"give\", \"introduce\", \"provide\", \"apply\", \"first\"], \"Freq\": [4659.0, 2934.0, 8690.0, 9038.0, 4359.0, 3757.0, 2091.0, 2595.0, 1636.0, 2432.0, 2473.0, 10366.0, 3056.0, 1041.0, 1915.0, 1440.0, 776.0, 1871.0, 3572.0, 806.0, 3143.0, 6521.0, 1387.0, 3300.0, 958.0, 1189.0, 1353.0, 1321.0, 1855.0, 808.0, 2594.5537732596968, 1386.7096754365762, 1160.8310906270165, 1156.7216965481568, 669.4678106796202, 587.174159778421, 500.6623336718065, 488.34917806300984, 377.29061061910784, 349.2885869011355, 337.3549831837444, 334.00064476598715, 312.88434653458006, 259.0870921669037, 238.21638538331862, 236.17922480713077, 229.9031464498923, 209.33157966809165, 199.6149055157274, 197.35124443369563, 185.29899836526667, 184.83777157026682, 171.33356139985634, 171.08429425752283, 163.18033662133058, 136.6021668481947, 134.11118753973386, 134.9264144819141, 125.874409529141, 123.36777208591099, 2383.7120498844265, 694.2956212033846, 3958.347452708109, 381.4398706005546, 440.50251687470745, 745.8028855054359, 409.5786560623329, 1121.9446391836211, 358.56597507816093, 537.5964893625146, 4420.1421506062225, 4592.475290410872, 6925.925602080572, 613.1962633611662, 2397.3585596291405, 1543.7708388980966, 865.5167257821739, 1393.5572838091325, 1633.2707293702672, 1286.2976033165478, 989.0071073783973, 1572.4701434841452, 640.0782527647817, 1316.648412019842, 894.830697168468, 2213.8588218234863, 2085.8206831448138, 1174.9541776442495, 1581.4090439163776, 2013.7527172196278, 1983.5134423656511, 2706.0513514066615, 1240.071291900821, 1269.0485891008477, 1637.2078353892057, 1839.3794536136995, 2053.1187253531198, 1582.814292693841, 1220.7246381706057, 1167.0835927234236, 2090.683263640091, 770.8322682040299, 436.5288798346865, 437.2391932871329, 227.4417235191283, 174.59546221296566, 152.96008536966923, 140.5014783349128, 110.63989485690088, 109.32461840249555, 106.11569414656336, 103.53633788021345, 93.00200072438794, 92.22548786672579, 90.98463150945679, 85.28665871321026, 80.84241564942776, 79.02447813696368, 78.46307338455597, 71.4116264605427, 61.62856349642048, 60.976582703727026, 53.113268237979405, 50.857978497714264, 50.535025190327076, 48.90650041205186, 48.46001979093071, 49.89217849976757, 43.39839420069401, 43.489772329323394, 837.4394197390687, 170.4559099611163, 1660.826936755274, 531.4610190986264, 106.47574903505588, 442.76852201391756, 316.2045988607792, 379.2121834268723, 354.75101224165206, 782.6771891692895, 195.9775960745984, 713.4813417484687, 384.88621916671406, 761.1492978728543, 950.0178679271125, 366.65210793503536, 635.7554303678191, 1133.1331410702617, 458.37084723299745, 1139.929643786089, 915.8154051685914, 1050.9542635582918, 871.0598575096149, 3817.6560797726393, 344.8251432994794, 1036.4698610993855, 296.29177666841315, 518.6265095081751, 699.1501181823489, 2716.0154046987777, 2527.3368239689057, 3769.3184112797926, 1412.6052450576933, 2832.4121816018755, 1744.9258938768207, 1298.1187742748893, 1541.265558826849, 1267.9853713349987, 1362.7232739170604, 1400.178116422416, 1344.2533886740491, 877.4521762060148, 1449.8130101003255, 923.2580542693739, 994.7087461429808, 1123.590379206842, 1003.0120103468238, 889.5909412369234, 901.9393339118061, 954.944163231014, 907.2045044048771, 901.7305283370241, 1635.610462726681, 957.8401480406702, 622.2603017034309, 611.8843472556088, 573.7497534567148, 562.0701937429629, 524.2455758170888, 416.7394123547104, 405.3465528658408, 400.95172186594453, 369.7711398130849, 357.08709436963306, 325.8672689826176, 261.5562307527878, 205.92783300812854, 203.97730412440617, 196.68630239104345, 195.0797968801575, 190.66105659378957, 180.185494199854, 173.75743395300225, 168.09213697204737, 168.17212325108295, 161.35490346073226, 160.91359548234055, 157.24952901247138, 156.74073855150277, 155.39919947064095, 152.07558687765967, 149.92718330285072, 396.1592616901508, 248.66800591682554, 320.77919540270926, 254.47496330799737, 485.1225062170687, 430.726851851314, 1300.057736110139, 2187.738575310427, 610.3635730113205, 2259.8954501201965, 656.7756800658678, 634.9212404689674, 1652.8741503507952, 731.548974284618, 806.2469922692825, 493.81708022419724, 1505.697538252884, 729.1806031621418, 2471.5568440791353, 718.3373615642317, 686.6463204694572, 1781.4758658986539, 779.5906724066888, 1569.1456877993974, 1245.1907393089587, 696.8156665778216, 844.7021648226528, 761.050752692676, 1017.4116982594334, 1121.2132318379242, 1026.9633314772052, 869.1618717938549, 738.4280899795671, 708.4757947159958, 734.8337554083606, 683.7968911237662, 642.1701897382268, 599.1157795223569, 356.4825146132384, 265.70758819512315, 232.57687088919934, 185.41635765556396, 178.10022145030885, 165.60547825588935, 144.13578019717698, 137.4717070636744, 133.66341806867305, 87.61093074508345, 86.55184967474689, 88.2033684361272, 85.95481087081546, 76.83631618217753, 74.32896177417007, 69.09914090332447, 66.67057267490046, 63.15531669881384, 61.77086303155753, 59.71045832289902, 56.37107028935458, 55.64501696764127, 53.74556526149179, 52.60079920719224, 52.16098896818955, 51.216603385614576, 49.33284015653415, 48.98223306253183, 48.7559133155364, 164.32183078917208, 98.3418146808926, 342.2942868407644, 72.45534047511602, 159.2876288398522, 178.16391506283608, 354.20031678172046, 609.8647126556706, 2006.0148099657206, 554.2369255092663, 130.1774247121597, 367.70819867644747, 253.56638007563447, 640.2054251206654, 140.68119817422559, 2320.7216719577814, 713.4222755632592, 987.5425316863201, 222.44676738461385, 437.45841137813767, 680.1313501423425, 479.5081138463782, 1137.6474966429776, 552.1287792407321, 392.55402491295797, 616.6318209223565, 2010.4766174280828, 503.16381610876505, 1363.4421093993951, 307.61580787454375, 302.4628593953557, 657.8102112733477, 730.444628437229, 465.3653815114237, 659.7838652359048, 525.350233475624, 473.24065320585066, 571.9182631789839, 708.3319205550363, 506.7078763121074, 807.7989279382679, 564.075124786019, 561.9621653981504, 518.863844664222, 448.72395265336, 775.2696720656332, 252.23823037826756, 233.7840861736505, 229.93606091975764, 228.46628428224594, 213.04391382927457, 207.99000248948283, 170.7145001650701, 166.89002121795795, 142.75543539151693, 129.3549466998035, 118.81497100776613, 117.16911383971299, 115.26252814038394, 85.20559078673165, 72.51660783620173, 64.42514105709326, 61.332823314109845, 61.856408856370685, 59.136841122424386, 58.73546920114664, 59.703768856067114, 51.21761747053584, 47.34040236871079, 45.272221057244536, 39.31569105778312, 38.61057075572657, 37.00125590036963, 36.56235673287651, 36.17935318216435, 746.0618548528112, 237.59283688368225, 184.0007877339357, 866.6503815780943, 375.73188631251145, 636.0343123236161, 332.5973649653055, 118.03399291685018, 316.442347237118, 206.45397692102878, 466.88255628719315, 142.48277509418003, 255.98189872796667, 1623.2562337216239, 1129.731865307704, 478.3386480655164, 2290.5316753646803, 594.6246167882819, 523.2483419561722, 382.988651354203, 352.8168784270204, 627.5516657664517, 831.9563260507427, 795.5612877774902, 766.4772498462064, 587.6167610756361, 401.13934393723144, 552.1458923191068, 1035.700625505319, 510.39866902068906, 747.9108488030911, 410.06835724875253, 476.34524495344175, 889.0943814633669, 397.20272071545185, 479.78273968346286, 523.2285716542599, 478.5485079783625, 438.8083591809195, 458.13454561554056, 426.1653534387189, 413.4509208293608], \"Total\": [4659.0, 2934.0, 8690.0, 9038.0, 4359.0, 3757.0, 2091.0, 2595.0, 1636.0, 2432.0, 2473.0, 10366.0, 3056.0, 1041.0, 1915.0, 1440.0, 776.0, 1871.0, 3572.0, 806.0, 3143.0, 6521.0, 1387.0, 3300.0, 958.0, 1189.0, 1353.0, 1321.0, 1855.0, 808.0, 2595.344256798617, 1387.4990036632896, 1161.6198458269491, 1157.5136016596296, 670.2592551765995, 587.96224502184, 501.4510989171762, 489.1418228359792, 378.08473971331006, 350.0811857217864, 338.1456317465317, 334.7962044407303, 313.6751537286665, 259.8850710766837, 239.00711896705926, 236.97178120369418, 230.69955419191476, 210.1223978700503, 200.40763208375498, 198.1489304064275, 186.0898643726636, 185.63336157924206, 172.12285842730483, 171.87724434057748, 163.97142631454918, 137.39501660696223, 134.90115936125852, 135.72542156489826, 126.66487322701461, 124.15813572864337, 2432.7305678938087, 709.2600170428635, 4359.272879767383, 400.91275678731404, 468.6523405916464, 842.5317893295883, 450.2600060787788, 1421.0595976664308, 397.3899273204762, 643.2205968792388, 8222.918052938341, 8690.64541164654, 14863.694166841135, 783.956519332955, 4345.773097785637, 2538.1573573897, 1222.6469136821179, 2299.2432224682207, 2862.885830632354, 2163.8780092870365, 1514.7357652636822, 2929.004555572689, 839.6832424676436, 2370.30240485563, 1370.617602953433, 5553.022562637671, 5088.3905543316805, 2131.8792448672066, 3392.626769676686, 5344.994336203984, 5440.271481930595, 10366.116641840592, 2634.4397368744208, 2797.531723756387, 4957.248815666968, 6521.758653754436, 9038.853230883706, 5429.8698978398415, 2713.6098864936735, 2672.302776542452, 2091.4764416828093, 771.6216814959266, 437.31506705751036, 438.03140457554326, 228.23396181564607, 175.38718612233703, 153.74805188003742, 141.28990592784265, 111.42892576226546, 110.11389456836771, 106.90295379184401, 104.32353614362326, 93.79319958720154, 93.014041203655, 91.774390253641, 86.07370091621914, 81.63353573131369, 79.81105602134699, 79.24698883575307, 72.19917181145834, 62.419651726415275, 61.767363388456694, 53.924075450595005, 51.64517238363989, 51.327642688569625, 49.70133160005084, 49.24959731897136, 50.75861131456801, 44.18383665342803, 44.281537114008735, 910.161903278925, 179.2831616337234, 1915.9631307846857, 594.6146932343046, 111.54757811111213, 497.1611658364157, 352.6070889409029, 427.6907665823591, 401.8928392797514, 942.7930048739611, 214.36624820742122, 872.5164820052659, 455.4329319665406, 984.0464407935361, 1302.8243197453314, 449.11146460572024, 851.5399900027029, 1655.2513428678815, 585.1503955829669, 1701.233189880884, 1357.7780713898187, 1644.0276766520587, 1323.7787438139676, 8690.64541164654, 441.7261590294712, 1855.8513382579124, 371.5407220804065, 796.565374717226, 1262.808270419492, 9038.853230883706, 8222.918052938341, 14863.694166841135, 3572.340029532432, 10366.116641840592, 5440.271481930595, 3715.127708221111, 5344.994336203984, 3757.90375475807, 4957.248815666968, 5429.8698978398415, 5088.3905543316805, 2061.787271831998, 6521.758653754436, 2370.30240485563, 3392.626769676686, 5553.022562637671, 3683.4333605928405, 2285.5929079604684, 2641.203041988258, 4659.855026448115, 2797.531723756387, 3056.168842769511, 1636.3976049077162, 958.6298299219407, 623.0472330558491, 612.6779870975638, 574.5413920871771, 562.8540459609528, 525.0323411503258, 417.52614978230383, 406.13883627193576, 401.7382319892587, 370.56033588018283, 357.8794438486479, 326.65878324558184, 262.34278733574394, 206.71181293214644, 204.76155100676343, 197.4761913903586, 195.87092028114503, 191.45390372848865, 180.97046234837498, 174.5486646017682, 168.8777469806323, 168.96145193347172, 162.1421282399517, 161.70314844960944, 158.0359186028881, 157.53204671326708, 156.18605406521823, 152.86190965183928, 150.71206619663505, 405.81013871904406, 256.0790716996243, 341.1729594325164, 270.19211418210824, 571.0242249552078, 523.1716665153772, 1992.795977972169, 4188.890795450643, 890.2664515033241, 5429.8698978398415, 1033.415402375906, 993.2587874366345, 3715.127708221111, 1258.0707452564325, 1534.4948818311843, 796.0701010943225, 4957.248815666968, 1561.345689584118, 14863.694166841135, 1629.7428942007, 1496.9359114401104, 10366.116641840592, 1943.4546201639773, 9038.853230883706, 5553.022562637671, 1563.606016300524, 2555.946132570052, 1993.7480251000525, 4345.773097785637, 6521.758653754436, 5344.994336203984, 8222.918052938341, 3143.1548020471273, 3392.626769676686, 5440.271481930595, 3683.4333605928405, 2672.302776542452, 599.9047480310282, 357.2716818656618, 266.5029762921814, 233.36850810195799, 186.20897961126298, 178.887255590606, 166.39411502308525, 144.92700575607614, 138.26074544286254, 134.45601230736682, 88.40068363857195, 87.34098537201027, 89.01003591133441, 86.74224692160213, 77.63313052314622, 75.11771314179312, 69.88566368720242, 67.46261454140672, 63.949819625421355, 62.55848657638903, 60.516361744635894, 57.16758069654625, 56.438031891180685, 54.53157266621072, 53.38741010770767, 52.95611076600458, 52.008085649555454, 50.119048044846565, 49.77327416170023, 49.54743185047668, 171.84238853835595, 101.76220635149015, 374.5072736492857, 74.94901712063782, 174.85470038592015, 197.74337714078717, 417.8646603259317, 761.7335683978529, 2934.2344917331848, 735.1267011069646, 146.60175505057362, 486.9922128966063, 318.56497036951794, 942.319767906857, 162.59079938368592, 4659.855026448115, 1189.0706373262042, 1871.0795162625343, 293.56204193432325, 714.3854693237723, 1353.60040199861, 850.4056478477862, 3056.168842769511, 1130.3352462757334, 701.4018121448022, 1440.5001841182334, 10366.116641840592, 1178.1125662834156, 6521.758653754436, 525.469739288456, 515.1583293386628, 2222.649287430918, 3143.1548020471273, 1317.2236265182846, 3300.531616972994, 2053.9763849412166, 1654.004376189449, 2804.749005640658, 5088.3905543316805, 2020.110537687493, 14863.694166841135, 3572.340029532432, 3683.4333605928405, 5440.271481930595, 5344.994336203984, 776.0628088846559, 253.03330638405873, 234.5781745657485, 230.72521822081055, 229.2574723493192, 213.83604131230456, 208.78155020939937, 171.51209329504275, 167.68389772257186, 143.55113310045047, 130.14881594871292, 119.60710187456311, 117.9605753397011, 116.05365699606894, 85.99460596104208, 73.3120353612754, 65.22095458685263, 62.12551234675094, 62.67706111387766, 59.93184114743031, 59.527012691897426, 60.51412075365487, 52.01245689284134, 48.13441392813935, 46.062017172960125, 40.108554601369576, 39.41154316400863, 37.798286215772, 37.35303815978365, 36.97368052699754, 806.0577476647403, 257.37888124759934, 201.73354904103735, 1041.1116535424517, 449.6916670507959, 808.1041471971566, 424.9569310917333, 132.86149834965275, 406.8904731756415, 254.95258120080356, 707.53512118297, 175.07360426361728, 369.3346012119799, 3757.90375475807, 2473.566858534102, 935.1664007008958, 9038.853230883706, 1440.5001841182334, 1321.738346162537, 814.2411358710353, 748.7433611000364, 1994.63931067861, 3572.340029532432, 3300.531616972994, 3143.1548020471273, 1959.8081283968008, 1043.0847173649745, 2061.787271831998, 10366.116641840592, 1855.8513382579124, 6521.758653754436, 1212.4826252472144, 2053.9763849412166, 14863.694166841135, 1360.9487580581476, 2934.2344917331848, 5553.022562637671, 4659.855026448115, 2804.749005640658, 5440.271481930595, 2842.381899743714, 3683.4333605928405], \"Category\": [\"Default\", \"Default\", \"Default\", \"Default\", \"Default\", \"Default\", \"Default\", \"Default\", \"Default\", \"Default\", \"Default\", \"Default\", \"Default\", \"Default\", \"Default\", \"Default\", \"Default\", \"Default\", \"Default\", \"Default\", \"Default\", \"Default\", \"Default\", \"Default\", \"Default\", \"Default\", \"Default\", \"Default\", \"Default\", \"Default\", \"Topic1\", \"Topic1\", \"Topic1\", \"Topic1\", \"Topic1\", \"Topic1\", \"Topic1\", \"Topic1\", \"Topic1\", \"Topic1\", \"Topic1\", \"Topic1\", \"Topic1\", \"Topic1\", \"Topic1\", \"Topic1\", \"Topic1\", \"Topic1\", \"Topic1\", \"Topic1\", \"Topic1\", \"Topic1\", \"Topic1\", \"Topic1\", \"Topic1\", \"Topic1\", \"Topic1\", \"Topic1\", \"Topic1\", \"Topic1\", \"Topic1\", \"Topic1\", \"Topic1\", \"Topic1\", \"Topic1\", \"Topic1\", \"Topic1\", \"Topic1\", \"Topic1\", \"Topic1\", \"Topic1\", \"Topic1\", \"Topic1\", \"Topic1\", \"Topic1\", \"Topic1\", \"Topic1\", \"Topic1\", \"Topic1\", \"Topic1\", \"Topic1\", \"Topic1\", \"Topic1\", \"Topic1\", \"Topic1\", \"Topic1\", \"Topic1\", \"Topic1\", \"Topic1\", \"Topic1\", \"Topic1\", \"Topic1\", \"Topic1\", \"Topic1\", \"Topic1\", \"Topic1\", \"Topic1\", \"Topic1\", \"Topic1\", \"Topic1\", \"Topic2\", \"Topic2\", \"Topic2\", \"Topic2\", \"Topic2\", \"Topic2\", \"Topic2\", \"Topic2\", \"Topic2\", \"Topic2\", \"Topic2\", \"Topic2\", \"Topic2\", \"Topic2\", \"Topic2\", \"Topic2\", \"Topic2\", \"Topic2\", \"Topic2\", \"Topic2\", \"Topic2\", \"Topic2\", \"Topic2\", \"Topic2\", \"Topic2\", \"Topic2\", \"Topic2\", \"Topic2\", \"Topic2\", \"Topic2\", \"Topic2\", \"Topic2\", \"Topic2\", \"Topic2\", \"Topic2\", \"Topic2\", \"Topic2\", \"Topic2\", \"Topic2\", \"Topic2\", \"Topic2\", \"Topic2\", \"Topic2\", \"Topic2\", \"Topic2\", \"Topic2\", \"Topic2\", \"Topic2\", \"Topic2\", \"Topic2\", \"Topic2\", \"Topic2\", \"Topic2\", \"Topic2\", \"Topic2\", \"Topic2\", \"Topic2\", \"Topic2\", \"Topic2\", \"Topic2\", \"Topic2\", \"Topic2\", \"Topic2\", \"Topic2\", \"Topic2\", \"Topic2\", \"Topic2\", \"Topic2\", \"Topic2\", \"Topic2\", \"Topic2\", \"Topic2\", \"Topic2\", \"Topic2\", \"Topic2\", \"Topic2\", \"Topic2\", \"Topic2\", \"Topic2\", \"Topic2\", \"Topic2\", \"Topic2\", \"Topic3\", \"Topic3\", \"Topic3\", \"Topic3\", \"Topic3\", \"Topic3\", \"Topic3\", \"Topic3\", \"Topic3\", \"Topic3\", \"Topic3\", \"Topic3\", \"Topic3\", \"Topic3\", \"Topic3\", \"Topic3\", \"Topic3\", \"Topic3\", \"Topic3\", \"Topic3\", \"Topic3\", \"Topic3\", \"Topic3\", \"Topic3\", \"Topic3\", \"Topic3\", \"Topic3\", \"Topic3\", \"Topic3\", \"Topic3\", \"Topic3\", \"Topic3\", \"Topic3\", \"Topic3\", \"Topic3\", \"Topic3\", \"Topic3\", \"Topic3\", \"Topic3\", \"Topic3\", \"Topic3\", \"Topic3\", \"Topic3\", \"Topic3\", \"Topic3\", \"Topic3\", \"Topic3\", \"Topic3\", \"Topic3\", \"Topic3\", \"Topic3\", \"Topic3\", \"Topic3\", \"Topic3\", \"Topic3\", \"Topic3\", \"Topic3\", \"Topic3\", \"Topic3\", \"Topic3\", \"Topic3\", \"Topic3\", \"Topic3\", \"Topic3\", \"Topic3\", \"Topic3\", \"Topic3\", \"Topic4\", \"Topic4\", \"Topic4\", \"Topic4\", \"Topic4\", \"Topic4\", \"Topic4\", \"Topic4\", \"Topic4\", \"Topic4\", \"Topic4\", \"Topic4\", \"Topic4\", \"Topic4\", \"Topic4\", \"Topic4\", \"Topic4\", \"Topic4\", \"Topic4\", \"Topic4\", \"Topic4\", \"Topic4\", \"Topic4\", \"Topic4\", \"Topic4\", \"Topic4\", \"Topic4\", \"Topic4\", \"Topic4\", \"Topic4\", \"Topic4\", \"Topic4\", \"Topic4\", \"Topic4\", \"Topic4\", \"Topic4\", \"Topic4\", \"Topic4\", \"Topic4\", \"Topic4\", \"Topic4\", \"Topic4\", \"Topic4\", \"Topic4\", \"Topic4\", \"Topic4\", \"Topic4\", \"Topic4\", \"Topic4\", \"Topic4\", \"Topic4\", \"Topic4\", \"Topic4\", \"Topic4\", \"Topic4\", \"Topic4\", \"Topic4\", \"Topic4\", \"Topic4\", \"Topic4\", \"Topic4\", \"Topic4\", \"Topic4\", \"Topic4\", \"Topic4\", \"Topic4\", \"Topic4\", \"Topic4\", \"Topic4\", \"Topic4\", \"Topic4\", \"Topic4\", \"Topic4\", \"Topic4\", \"Topic4\", \"Topic5\", \"Topic5\", \"Topic5\", \"Topic5\", \"Topic5\", \"Topic5\", \"Topic5\", \"Topic5\", \"Topic5\", \"Topic5\", \"Topic5\", \"Topic5\", \"Topic5\", \"Topic5\", \"Topic5\", \"Topic5\", \"Topic5\", \"Topic5\", \"Topic5\", \"Topic5\", \"Topic5\", \"Topic5\", \"Topic5\", \"Topic5\", \"Topic5\", \"Topic5\", \"Topic5\", \"Topic5\", \"Topic5\", \"Topic5\", \"Topic5\", \"Topic5\", \"Topic5\", \"Topic5\", \"Topic5\", \"Topic5\", \"Topic5\", \"Topic5\", \"Topic5\", \"Topic5\", \"Topic5\", \"Topic5\", \"Topic5\", \"Topic5\", \"Topic5\", \"Topic5\", \"Topic5\", \"Topic5\", \"Topic5\", \"Topic5\", \"Topic5\", \"Topic5\", \"Topic5\", \"Topic5\", \"Topic5\", \"Topic5\", \"Topic5\", \"Topic5\", \"Topic5\", \"Topic5\", \"Topic5\", \"Topic5\", \"Topic5\", \"Topic5\", \"Topic5\", \"Topic5\", \"Topic5\", \"Topic5\", \"Topic5\", \"Topic5\", \"Topic5\", \"Topic5\"], \"logprob\": [30.0, 29.0, 28.0, 27.0, 26.0, 25.0, 24.0, 23.0, 22.0, 21.0, 20.0, 19.0, 18.0, 17.0, 16.0, 15.0, 14.0, 13.0, 12.0, 11.0, 10.0, 9.0, 8.0, 7.0, 6.0, 5.0, 4.0, 3.0, 2.0, 1.0, -4.6749, -5.3014, -5.4791, -5.4827, -6.0296, -6.1607, -6.3201, -6.345, -6.603, -6.6801, -6.7149, -6.7249, -6.7902, -6.9789, -7.0629, -7.0714, -7.0984, -7.1921, -7.2397, -7.2511, -7.3141, -7.3166, -7.3924, -7.3939, -7.4412, -7.619, -7.6374, -7.6313, -7.7008, -7.7209, -4.7596, -5.9931, -4.2525, -6.5921, -6.4481, -5.9216, -6.5209, -5.5132, -6.6539, -6.2489, -4.1421, -4.1039, -3.693, -6.1174, -4.7539, -5.1941, -5.7727, -5.2964, -5.1377, -5.3765, -5.6393, -5.1756, -6.0745, -5.3532, -5.7394, -4.8335, -4.8931, -5.4671, -5.17, -4.9283, -4.9434, -4.6328, -5.4131, -5.39, -5.1353, -5.0189, -4.9089, -5.1691, -5.4288, -5.4738, -4.5414, -5.5392, -6.1078, -6.1062, -6.7598, -7.0242, -7.1565, -7.2414, -7.4804, -7.4923, -7.5221, -7.5467, -7.654, -7.6624, -7.676, -7.7406, -7.7942, -7.8169, -7.824, -7.9182, -8.0655, -8.0762, -8.2142, -8.2576, -8.264, -8.2967, -8.3059, -8.2768, -8.4162, -8.4141, -5.4563, -7.0482, -4.7716, -5.911, -7.5187, -6.0936, -6.4303, -6.2486, -6.3152, -5.5239, -6.9087, -5.6165, -6.2337, -5.5518, -5.3302, -6.2822, -5.7318, -5.1539, -6.059, -5.1479, -5.3668, -5.2292, -5.4169, -3.9393, -6.3436, -5.2431, -6.4953, -5.9355, -5.6368, -4.2797, -4.3517, -3.952, -4.9335, -4.2378, -4.7222, -5.018, -4.8463, -5.0415, -4.9694, -4.9423, -4.9831, -5.4096, -4.9075, -5.3587, -5.2842, -5.1624, -5.2759, -5.3959, -5.3821, -5.325, -5.3763, -5.3823, -4.7089, -5.2439, -5.6753, -5.6921, -5.7564, -5.777, -5.8467, -6.0762, -6.1039, -6.1148, -6.1957, -6.2306, -6.3221, -6.542, -6.7811, -6.7906, -6.827, -6.8352, -6.8581, -6.9146, -6.951, -6.9841, -6.9836, -7.025, -7.0278, -7.0508, -7.054, -7.0626, -7.0842, -7.0985, -6.1268, -6.5925, -6.3379, -6.5694, -5.9242, -6.0432, -4.9385, -4.418, -5.6946, -4.3856, -5.6213, -5.6551, -4.6984, -5.5135, -5.4162, -5.9065, -4.7916, -5.5167, -4.296, -5.5317, -5.5768, -4.6234, -5.4499, -4.7503, -4.9816, -5.5621, -5.3696, -5.4739, -5.1836, -5.0865, -5.1743, -5.3411, -5.5041, -5.5455, -5.509, -5.581, -5.6438, -5.1017, -5.6209, -5.9148, -6.048, -6.2746, -6.3148, -6.3876, -6.5264, -6.5738, -6.6019, -7.0243, -7.0364, -7.0175, -7.0434, -7.1555, -7.1887, -7.2617, -7.2974, -7.3516, -7.3738, -7.4077, -7.4652, -7.4782, -7.5129, -7.5345, -7.5429, -7.5611, -7.5986, -7.6057, -7.6104, -6.3954, -6.9087, -5.6615, -7.2142, -6.4265, -6.3145, -5.6273, -5.084, -3.8933, -5.1796, -6.6283, -5.5899, -5.9616, -5.0354, -6.5507, -3.7476, -4.9271, -4.602, -6.0925, -5.4162, -4.9749, -5.3244, -4.4605, -5.1834, -5.5245, -5.0729, -3.8911, -5.2763, -4.2794, -5.7683, -5.7852, -5.0083, -4.9035, -5.3544, -5.0053, -5.2331, -5.3376, -5.1482, -4.9343, -5.2693, -4.8029, -5.162, -5.1658, -5.2456, -5.3908, -4.7308, -5.8536, -5.9296, -5.9462, -5.9526, -6.0225, -6.0465, -6.244, -6.2666, -6.4228, -6.5214, -6.6064, -6.6204, -6.6368, -6.9389, -7.1002, -7.2185, -7.2677, -7.2592, -7.3041, -7.3109, -7.2946, -7.4479, -7.5266, -7.5713, -7.7123, -7.7304, -7.773, -7.785, -7.7955, -4.7692, -5.9134, -6.169, -4.6193, -5.4551, -4.9287, -5.577, -6.613, -5.6268, -6.0539, -5.2379, -6.4248, -5.8389, -3.9918, -4.3542, -5.2137, -3.6474, -4.996, -5.1239, -5.436, -5.518, -4.9421, -4.6602, -4.7049, -4.7422, -5.0079, -5.3897, -5.0702, -4.4411, -5.1488, -4.7667, -5.3676, -5.2178, -4.5938, -5.3995, -5.2106, -5.124, -5.2132, -5.2999, -5.2568, -5.3291, -5.3594], \"loglift\": [30.0, 29.0, 28.0, 27.0, 26.0, 25.0, 24.0, 23.0, 22.0, 21.0, 20.0, 19.0, 18.0, 17.0, 16.0, 15.0, 14.0, 13.0, 12.0, 11.0, 10.0, 9.0, 8.0, 7.0, 6.0, 5.0, 4.0, 3.0, 2.0, 1.0, 1.1073, 1.1071, 1.1069, 1.1069, 1.1064, 1.1063, 1.106, 1.106, 1.1055, 1.1054, 1.1053, 1.1052, 1.1051, 1.1045, 1.1043, 1.1043, 1.1042, 1.1039, 1.1037, 1.1036, 1.1034, 1.1033, 1.103, 1.103, 1.1028, 1.1018, 1.1018, 1.1017, 1.1014, 1.1012, 1.0873, 1.0863, 1.0111, 1.0578, 1.0457, 0.9857, 1.0129, 0.8713, 1.0048, 0.9282, 0.4869, 0.4698, 0.344, 0.862, 0.5128, 0.6104, 0.7622, 0.6069, 0.5464, 0.5875, 0.6813, 0.4856, 0.8362, 0.5197, 0.6812, 0.188, 0.2158, 0.5118, 0.3443, 0.1315, 0.0987, -0.2354, 0.3541, 0.3172, -0.0002, -0.1581, -0.3745, -0.1251, 0.3088, 0.2792, 1.4566, 1.456, 1.4552, 1.4552, 1.4535, 1.4525, 1.4519, 1.4514, 1.4499, 1.4498, 1.4496, 1.4494, 1.4485, 1.4485, 1.4484, 1.4478, 1.4473, 1.4471, 1.4471, 1.446, 1.4443, 1.4441, 1.4419, 1.4417, 1.4414, 1.4409, 1.4409, 1.4398, 1.4391, 1.439, 1.3737, 1.4065, 1.3141, 1.3447, 1.4105, 1.3411, 1.348, 1.3367, 1.3322, 1.2709, 1.3673, 1.2558, 1.2887, 1.2002, 1.1412, 1.2542, 1.1648, 1.078, 1.2128, 1.0566, 1.0632, 1.0096, 1.0385, 0.6344, 1.2094, 0.8745, 1.2307, 1.0279, 0.8658, 0.2546, 0.2773, 0.085, 0.5292, 0.1596, 0.3199, 0.4055, 0.2135, 0.3706, 0.1656, 0.1017, 0.1259, 0.6027, -0.0467, 0.5141, 0.2301, -0.1408, 0.1562, 0.5134, 0.3826, -0.1281, 0.3309, 0.2364, 1.5346, 1.5342, 1.5338, 1.5337, 1.5337, 1.5336, 1.5335, 1.5332, 1.5331, 1.5331, 1.5329, 1.5328, 1.5326, 1.532, 1.5312, 1.5312, 1.531, 1.531, 1.5309, 1.5307, 1.5305, 1.5304, 1.5304, 1.5302, 1.5301, 1.53, 1.53, 1.53, 1.5299, 1.5298, 1.511, 1.5057, 1.4734, 1.4751, 1.372, 1.3406, 1.1079, 0.8855, 1.1576, 0.6584, 1.0818, 1.0875, 0.7251, 0.9929, 0.8915, 1.0575, 0.3434, 0.7737, -0.259, 0.7158, 0.7557, -0.2261, 0.6216, -0.216, 0.04, 0.7268, 0.4278, 0.572, 0.0831, -0.2257, -0.1145, -0.7121, 0.0866, -0.0312, -0.4669, -0.1489, 0.1092, 2.1452, 2.1443, 2.1435, 2.1431, 2.1422, 2.1421, 2.1417, 2.141, 2.1407, 2.1406, 2.1375, 2.1374, 2.1374, 2.1374, 2.1362, 2.1359, 2.1352, 2.1347, 2.134, 2.1338, 2.1331, 2.1324, 2.1323, 2.132, 2.1316, 2.1313, 2.1311, 2.1307, 2.1305, 2.1304, 2.1017, 2.1123, 2.0565, 2.1126, 2.0532, 2.0422, 1.9812, 1.9241, 1.7662, 1.864, 2.0277, 1.8655, 1.9183, 1.7599, 2.0017, 1.4494, 1.6356, 1.5074, 1.8691, 1.656, 1.4582, 1.5735, 1.1583, 1.43, 1.5661, 1.298, 0.5063, 1.2957, 0.5813, 1.611, 1.614, 0.9289, 0.6871, 1.106, 0.5365, 0.783, 0.8951, 0.5564, 0.1747, 0.7635, -0.7659, 0.3007, 0.2663, -0.2035, -0.331, 2.2587, 2.2565, 2.2563, 2.2563, 2.2562, 2.256, 2.2559, 2.255, 2.2549, 2.2541, 2.2536, 2.253, 2.253, 2.2529, 2.2505, 2.2488, 2.2474, 2.2469, 2.2465, 2.2463, 2.2463, 2.2462, 2.2443, 2.2431, 2.2424, 2.2397, 2.2392, 2.2384, 2.2383, 2.238, 2.1823, 2.1797, 2.1677, 2.0763, 2.08, 2.0203, 2.0146, 2.1414, 2.0083, 2.0487, 1.844, 2.0537, 1.8931, 1.4203, 1.476, 1.5893, 0.8869, 1.3749, 1.333, 1.5054, 1.5072, 1.1033, 0.8025, 0.8369, 0.8485, 1.0552, 1.3041, 0.9422, -0.0438, 0.9688, 0.0941, 1.1756, 0.7983, -0.5568, 1.0282, 0.4488, -0.1024, -0.0163, 0.4047, -0.2147, 0.3621, 0.0726]}, \"token.table\": {\"Topic\": [1, 2, 3, 4, 5, 5, 1, 2, 3, 5, 1, 2, 3, 4, 5, 1, 2, 2, 4, 4, 5, 1, 2, 3, 4, 5, 1, 2, 3, 4, 5, 1, 2, 3, 4, 5, 2, 4, 5, 1, 1, 2, 4, 2, 3, 3, 1, 1, 1, 2, 5, 1, 2, 3, 4, 5, 2, 2, 3, 4, 4, 5, 2, 4, 5, 5, 3, 5, 2, 1, 2, 3, 4, 5, 2, 2, 1, 2, 3, 4, 5, 1, 2, 3, 3, 5, 1, 2, 3, 4, 5, 1, 1, 1, 3, 4, 5, 1, 3, 4, 5, 1, 2, 3, 1, 2, 3, 4, 5, 1, 2, 1, 2, 2, 5, 4, 1, 2, 3, 4, 5, 1, 2, 3, 4, 5, 1, 2, 3, 4, 5, 2, 4, 1, 3, 2, 3, 3, 5, 4, 3, 5, 5, 3, 4, 3, 1, 2, 2, 2, 4, 1, 3, 4, 1, 2, 3, 4, 5, 5, 1, 2, 3, 5, 2, 4, 5, 1, 2, 3, 4, 5, 1, 2, 3, 4, 5, 1, 2, 3, 4, 5, 3, 1, 2, 3, 4, 5, 2, 5, 1, 1, 2, 3, 4, 5, 1, 2, 4, 5, 1, 2, 3, 5, 3, 1, 2, 3, 4, 5, 3, 5, 1, 2, 3, 2, 5, 3, 3, 3, 5, 1, 3, 4, 5, 1, 2, 3, 4, 5, 1, 2, 3, 5, 4, 5, 1, 2, 3, 5, 1, 2, 3, 5, 1, 2, 3, 4, 5, 1, 3, 4, 1, 2, 3, 1, 2, 3, 4, 5, 2, 4, 5, 4, 1, 2, 3, 4, 5, 3, 5, 5, 5, 1, 2, 3, 4, 5, 2, 5, 1, 2, 3, 4, 5, 1, 2, 4, 5, 1, 2, 3, 4, 5, 1, 1, 2, 3, 4, 5, 2, 4, 1, 2, 5, 3, 3, 5, 2, 1, 2, 4, 5, 5, 1, 2, 3, 4, 5, 5, 1, 2, 3, 4, 5, 1, 1, 2, 3, 4, 5, 1, 3, 1, 2, 3, 4, 5, 1, 5, 1, 2, 3, 4, 5, 1, 2, 3, 1, 2, 3, 1, 1, 2, 3, 4, 5, 4, 2, 3, 1, 2, 3, 5, 5, 5, 4, 5, 1, 4, 1, 2, 3, 4, 5, 4, 1, 2, 3, 4, 5, 4, 4, 4, 4, 1, 2, 3, 4, 5, 1, 4, 5, 1, 2, 3, 4, 5, 1, 2, 3, 4, 1, 2, 3, 2, 3, 4, 5, 5, 3, 1, 2, 3, 4, 5, 1, 2, 3, 4, 5, 1, 2, 3, 4, 5, 3, 1, 2, 3, 4, 5, 4, 5, 1, 1, 2, 3, 4, 5, 2, 3, 2, 4, 5, 1, 2, 3, 4, 1, 3, 1, 4, 5, 1, 2, 4, 5, 2, 1, 2, 1, 3, 2, 1, 1, 2, 3, 4, 5, 4, 1, 2, 3, 4, 5, 2, 5, 5, 2, 1, 2, 3, 5, 2, 3, 5, 1, 2, 3, 1, 2, 3, 4, 5, 3, 2, 3, 2, 4, 5, 2, 5, 1, 2, 3, 4, 5, 2, 1, 2, 3, 5, 3, 4, 5, 5, 4, 5, 3, 2, 3, 2, 4, 1, 2, 3, 4, 5, 2, 1, 3, 1, 2, 3, 4, 5, 2, 4, 1, 2, 3, 3, 4, 1, 4, 1, 2, 3, 5, 2, 2, 4, 5, 1, 2, 3, 4, 5, 2, 1, 2, 5, 4, 4, 2, 4, 5, 2, 4, 4, 1, 1, 2, 4, 5, 1, 4, 1, 4, 5, 1, 2, 1, 2, 3, 5, 1, 2, 3, 4, 5, 2, 5, 1, 1, 2, 2, 4, 4, 5, 3, 5, 1, 5, 1, 2, 3, 4, 5, 1, 2, 3, 4, 5, 4, 1, 2, 3, 4, 5, 1, 2, 3, 4, 5, 1, 1, 3, 1, 2, 4, 5, 1, 2, 2, 5, 1, 2, 3, 5, 3, 2, 5, 1, 2, 3, 4, 5, 1, 2, 3, 4, 5, 2, 2, 1, 2, 3, 5, 3, 5, 1, 1, 1, 2, 1, 3, 5, 4, 5, 2, 3, 5, 3, 3, 5, 3, 4, 5, 1, 4, 3, 1, 2, 3, 1, 1, 2, 3, 4, 1, 1, 2, 3, 4, 5, 2, 2, 4, 1, 1, 2, 3, 4, 5, 4, 3], \"Freq\": [0.2271305825594519, 0.30048059533924565, 0.17358396689516806, 0.04535973640982722, 0.2534613563778394, 0.9970142438051769, 0.5556253064174804, 0.38940179029865934, 0.04767324193255527, 0.007172080644720704, 0.2016575582802782, 0.7827047601048087, 0.01367169886645954, 0.7562285591734187, 0.24185688153744472, 0.978484594258552, 0.01973888230492756, 0.9890979771383683, 0.9964405746936866, 0.9131998870608645, 0.08544560346768323, 0.32788088845607577, 0.3415110408630258, 0.15939706009238785, 0.06739353134547516, 0.10411921977531274, 0.28197915587405664, 0.22233266776366623, 0.17188615211246194, 0.20899270769784625, 0.11469298999118781, 0.3482994315750689, 0.3152285764558199, 0.12137707463979674, 0.06508625741554318, 0.1498743008595751, 0.8305110410791356, 0.037123737468416025, 0.13258477667291438, 0.9933198545844572, 0.07995532372851104, 0.04920327614062218, 0.8672077419784658, 0.9922392712059063, 0.9975886136601789, 0.9971959434306026, 0.9969116143172411, 0.9971309613973508, 0.9033948153156973, 0.08807470344303456, 0.010065680393489665, 0.5375220781168525, 0.3073118306337752, 0.10568024567501015, 0.015201416236336328, 0.034172783699284066, 0.9991943182639433, 0.32949162791432, 0.16770089582186243, 0.5023639169994116, 0.9966084647347389, 0.9818832504677154, 0.2909835539947657, 0.5996279595325663, 0.10932908098069231, 0.9986305117672327, 0.9924061461676792, 0.991856810320441, 0.9915620223517608, 0.3168069006003532, 0.2678348415380849, 0.04655368577524274, 0.28597264119077687, 0.0828292850806267, 0.9945934347113389, 0.9732065673084508, 0.12651113947933695, 0.19109374914361385, 0.020347945510662588, 0.4883506922559021, 0.17339988348216814, 0.7819311210289867, 0.16582552321985036, 0.05229881886164511, 0.08426957281429576, 0.9120941998723776, 0.056083277882959685, 0.24247770143514924, 0.05360901562341735, 0.3101075365293065, 0.3381491754707864, 0.9958991690961766, 0.9948960995741868, 0.9409960471834261, 0.05974578077355087, 0.9851474229171433, 0.9895578013198819, 0.06859042086393882, 0.18617399948783395, 0.6117145697457401, 0.13298142820559566, 0.43670201230338057, 0.3229424478301777, 0.2402422381309086, 0.15169231334066782, 0.06937865493875504, 0.12347048760286916, 0.5644365147559732, 0.09172093364784566, 0.3414467879260042, 0.6579649386804195, 0.2173292163880995, 0.7810268713947326, 0.997645363860286, 0.9949241987720778, 0.9935074043486685, 0.12932699468154188, 0.39553905516237814, 0.08453842509486072, 0.15787970779305113, 0.2329005618507421, 0.18443016205704627, 0.20133013706625766, 0.030126042407724686, 0.2924430458115713, 0.2917082642894317, 0.19269767513013064, 0.24542589469310172, 0.024926067429768144, 0.15243248928204364, 0.38443665535911636, 0.817176540162707, 0.18108540441193227, 0.9983634237912602, 0.9962807909833703, 0.9961506784766051, 0.9986933609297013, 0.9723559147077512, 0.027335306839173727, 0.987326961776216, 0.5275505874531897, 0.47145660093917974, 0.9788803595164348, 0.02948049288198309, 0.963029434144781, 0.9980337570290165, 0.9503314463054668, 0.04739185690237236, 0.991543101304865, 0.9875075955048169, 0.9776722007200688, 0.9799687772509891, 0.019730914978207833, 0.9902520202477106, 0.17957547879694455, 0.15980079809609055, 0.03901491057195521, 0.5280374197957775, 0.09406334603649477, 0.9957437362127824, 0.46601058923751515, 0.2932830716580187, 0.20868785400389672, 0.031833740441272386, 0.0960841282005242, 0.9001565694575424, 0.9961607192604686, 0.05238173766784231, 0.4253591105064602, 0.1687855991519363, 0.08536283175500227, 0.2677288814134162, 0.3434009637211476, 0.06072022984073784, 0.19032475403861523, 0.10562258468094733, 0.30002937097776344, 0.4536141589472486, 0.32421437522864816, 0.09687110880591361, 0.030026469150172486, 0.0950838189755462, 0.9934450433037875, 0.5515704446744762, 0.11275324067187875, 0.2340205015577565, 0.04441097030545428, 0.057297054953669, 0.07319574828345869, 0.9254920037196642, 0.996967682948651, 0.06589674317378182, 0.3011845010090028, 0.14553881927951812, 0.030724861847898268, 0.4568301827384874, 0.020878335975760096, 0.3905476964877476, 0.1179011913925276, 0.47037662815977155, 0.19612895489400337, 0.7733374853592568, 0.014226970821326668, 0.015243183022850002, 0.9965564961090052, 0.2957521715327955, 0.17855577161004874, 0.44056028871482816, 0.042951560181111376, 0.04172437274736534, 0.3392057762429231, 0.6600379062726879, 0.30656418207408703, 0.6392836415870347, 0.05413534167578124, 0.18827030412449386, 0.8079933885342861, 0.9975426254182405, 0.9976291748580256, 0.9988934038567705, 0.9945150213145368, 0.7621921787067959, 0.0643099650783859, 0.11432882680601938, 0.05835533868223906, 0.24191465159416192, 0.7468821282227524, 0.010569086720133288, 0.9606530247636058, 0.026684806243433494, 0.7082993383526879, 0.13658890243059918, 0.13658890243059918, 0.01881164524493282, 0.985120511593806, 0.991173058776304, 0.14740963724412187, 0.6844881926130741, 0.14015998295342735, 0.02779034144766232, 0.7895516851245884, 0.14918445387380813, 0.03025911092723467, 0.030962811181356405, 0.47068831472727996, 0.30253111841745334, 0.04593006942096845, 0.141965669119357, 0.03909749711041116, 0.8364160019288167, 0.16324104126863523, 0.993603636870575, 0.3048760520645838, 0.5535282088133612, 0.1409556812142751, 0.1998142326625049, 0.1542174364396394, 0.522333979767695, 0.06087530385775239, 0.06302384399390835, 0.15897255864647925, 0.4283234440387672, 0.41305097115569933, 0.9950401408547709, 0.27718704264427696, 0.27230029752420154, 0.18569631456286526, 0.1525750420823542, 0.11212365192173004, 0.182780266246281, 0.8110874314678719, 0.9975352584833657, 0.9723611430931065, 0.12298595070618501, 0.09717408450859062, 0.25811866197594385, 0.3530152288788644, 0.16853630281958687, 0.8961816421477611, 0.10209664277632721, 0.11733338404808255, 0.3617373624386943, 0.033106515001118726, 0.2556017702292255, 0.2317456050078311, 0.12392703734634229, 0.20711093912676382, 0.4269541081178779, 0.24106355209836444, 0.5943033731479699, 0.0646986564857821, 0.1437234440505588, 0.1529661092628134, 0.04436479301882201, 0.9976656609950891, 0.14807327611776355, 0.20494199810502056, 0.04635337339338685, 0.4980841650280133, 0.10279289747885324, 0.9858890782706892, 0.9954674147067668, 0.09420232539792911, 0.7966825233653434, 0.10765980045477613, 0.9948024710399945, 0.975825791957761, 0.02217785890813093, 0.9979481483412501, 0.07684995428167973, 0.8453494970984771, 0.07684995428167973, 0.9962566126718788, 0.9959163226421649, 0.20267255608495038, 0.06842642568784497, 0.525254277184791, 0.10622387987732125, 0.09710035645227526, 0.9812797191548811, 0.2915355302766578, 0.257833065311005, 0.41621623400205093, 0.009576656711551616, 0.02486247415498977, 0.9946552270272273, 0.12617480160603067, 0.1844093254241987, 0.03688186508483974, 0.586227539769558, 0.06405797619998481, 0.05551605399515868, 0.9400718476513537, 0.5367011113072978, 0.24308599952340715, 0.19562960354903414, 0.018436297716662903, 0.005804019651542025, 0.9994663952848465, 0.976943754569577, 0.6062864451998041, 0.3205402511565679, 0.02435583997933216, 0.04871167995866432, 0.9884340889765497, 0.39587977632917254, 0.15860772945013699, 0.4457644654304253, 0.2776137424282121, 0.1017498331976705, 0.6205483654277683, 0.9947509265191227, 0.05839364396632649, 0.06141400486113648, 0.6393097227347814, 0.17618771886391613, 0.06443436575594648, 0.9914674027031761, 0.974627258150393, 0.9943615145604134, 0.20103374101025903, 0.041703807975532456, 0.2459455342146786, 0.5111389798026799, 0.9891976250665692, 0.9968567882331939, 0.21649252728658386, 0.7836088215916568, 0.9965881047789371, 0.9819452230880528, 0.37828696894667313, 0.2442286274537899, 0.016757292686610404, 0.20393981737747127, 0.15652024445578652, 0.979576174427532, 0.18523715257607884, 0.15693703204362233, 0.4013471639148375, 0.0941622192261734, 0.16259705615011363, 0.9976314365262824, 0.988951357718626, 0.9914430747652527, 0.9931426532376272, 0.1318246660221723, 0.3693790129836296, 0.13317440662990784, 0.2960431066299979, 0.06973659806633688, 0.9105849830425872, 0.08883755932122801, 0.9959215062873638, 0.33022348905029725, 0.274950895281341, 0.3037975409344824, 0.047405326772644994, 0.043572555671877955, 0.9079495845213537, 0.09175842188189527, 0.9952753205857717, 0.9984918471907452, 0.1330941782828243, 0.015761152691387087, 0.8493510061469709, 0.5582343685849822, 0.06304384278421131, 0.10345656251768011, 0.2748064941875878, 0.9844516515830373, 0.9943096373612468, 0.14087760052437703, 0.3138412025916727, 0.1509044760065391, 0.08021500385729653, 0.3148438901398889, 0.34604019854241047, 0.076155564930183, 0.4589374833950502, 0.02672125085269579, 0.09218831544180048, 0.1402374402492524, 0.3493823367438188, 0.4449375983340004, 0.053026440938776814, 0.012381808544079866, 0.9997570242668874, 0.6083153180021453, 0.18280978468458253, 0.15247281610545999, 0.04333852654160361, 0.013395544567404754, 0.1623334505590341, 0.8361284576739291, 0.9906720915077643, 0.449954138978203, 0.2675402988519045, 0.11129086811745889, 0.12197773955920163, 0.04938071631701818, 0.9977923921872665, 0.9979832679255204, 0.09103323559511765, 0.7973255807296511, 0.10986769813203855, 0.183856365565265, 0.15869707343528136, 0.6357559588230479, 0.02225629688421629, 0.9942016825219753, 0.9929560056208127, 0.20404645862288473, 0.753611587180521, 0.04216960144872951, 0.1960150933514713, 0.13511720027140256, 0.5861422208956618, 0.08373460298509454, 0.9875257958611047, 0.11223062022957371, 0.8861542722293424, 0.9976218235745523, 0.9990576969829618, 0.9850545297650749, 0.9998673560173317, 0.40995280879613605, 0.26413066875455743, 0.11575369337532317, 0.13914026300463295, 0.07094581206874645, 0.9910725689358378, 0.05880938268314638, 0.3374221594671023, 0.09633030104660176, 0.07557404833490304, 0.4318897198857311, 0.167129048462721, 0.8327637069952822, 0.990920949642245, 0.9951345602699337, 0.6529903001912691, 0.26776250298345894, 0.06420463286796836, 0.01605115821699209, 0.5106910924993272, 0.09305926574432186, 0.3956910242624417, 0.13046995421205687, 0.21728265451469472, 0.6523497710602844, 0.14452217259396213, 0.24268817662004963, 0.17179050704565313, 0.19996778597906711, 0.24117326915051127, 0.9993429894394252, 0.9997721983985505, 0.9984878687060452, 0.99327692938348, 0.1053728896173975, 0.8881429267752076, 0.8833200428159159, 0.11694659721788182, 0.21632479601846571, 0.24652116342607763, 0.1089049316340102, 0.2509763651747417, 0.1777130475300439, 0.98988415973539, 0.551156920744444, 0.25986462475950806, 0.17261765687996203, 0.015948370472605188, 0.15237515765879484, 0.06881458732977831, 0.7766217712932123, 0.9911466632027184, 0.9922387107327686, 0.9915041192493271, 0.9946374544454287, 0.9936166425846283, 0.9968566668612449, 0.1982320410502545, 0.8008049340440744, 0.09444776925108203, 0.04775449007077181, 0.06685628609908054, 0.6791749698954213, 0.11142714349846755, 0.9992795421853853, 0.6529191577039424, 0.3465951039378865, 0.3987017835829494, 0.20241228760037722, 0.22420222247550678, 0.08049670156349521, 0.09418294165035346, 0.9898377986487229, 0.998420917608142, 0.3301675020626685, 0.6515472759335549, 0.018830846125247252, 0.9966226128310547, 0.9908813926988151, 0.04073500176260394, 0.9543628984381494, 0.5283842318369304, 0.4393229523417683, 0.02542964181967805, 0.006788908902085995, 0.9915535187773932, 0.15268036731971504, 0.6836536090253311, 0.16358610784255181, 0.3646876826992347, 0.32075605156762327, 0.1351035518064201, 0.09539965086739052, 0.08418697513923865, 0.9968987233793739, 0.9978476021430422, 0.9842645272196073, 0.9736655774291506, 0.9886525614668829, 0.980616751473065, 0.8669269117510288, 0.010438614229392278, 0.12265371719535928, 0.9482206719854207, 0.04462214926990215, 0.9981126803941207, 0.9971249568090796, 0.5704034658061453, 0.2748974449414797, 0.09396113429384757, 0.060428536181545096, 0.9965943750711924, 0.992743418215529, 0.059549206808686715, 0.7556589001929901, 0.18480788319937258, 0.08396844256276371, 0.9143230412389827, 0.28530784190630776, 0.028081480502589348, 0.6851881242631801, 0.9805343382465617, 0.4611494883139662, 0.3893956779880739, 0.11463108722794985, 0.020563591983639856, 0.014438266711917346, 0.9828633974180672, 0.9960902694084037, 0.9941433437208539, 0.07910680477903406, 0.9196166055562709, 0.10913921183604136, 0.886756096167836, 0.0738211305756743, 0.9247067935268676, 0.8238213718084291, 0.1758505016389222, 0.9991004129452498, 0.990548609238331, 0.28107085838280166, 0.29514076165458336, 0.03599277581153455, 0.3723616261229666, 0.015705938535942352, 0.26104278906893785, 0.27319777481272434, 0.1718097588070134, 0.1939009630556412, 0.09994099389335537, 0.9960959294132312, 0.32953010697880425, 0.22771182430498801, 0.3816931680530746, 0.011034493688787965, 0.050156789494490754, 0.1799724939967578, 0.29812834875115096, 0.3306016465810007, 0.1255895012455636, 0.06572908476403327, 0.9979659852296213, 0.9995562888773893, 0.9987398399295992, 0.16634991703860122, 0.6701021393074396, 0.06230774277770929, 0.10169093868437461, 0.10861668953799176, 0.8910591382468583, 0.30595562839005047, 0.6931384147597603, 0.16118827137111594, 0.7291850371550482, 0.07829144609454203, 0.03070252788021256, 0.998482651111631, 0.8171690747689846, 0.1825827360519257, 0.16075876192853658, 0.128735104173848, 0.46690493006335926, 0.16460160085909922, 0.07877819807653386, 0.08590095525175846, 0.20298077574304407, 0.23479594435480647, 0.23225073086586545, 0.24370419156609993, 0.9833907816201843, 0.9710593353905207, 0.2527679792245563, 0.15102489324737642, 0.5818432729319976, 0.015102489324737641, 0.9981624054409678, 0.976432372692167, 0.9957862386216284, 0.9966120167200905, 0.035859138026426846, 0.9502671577003114, 0.8854265316132467, 0.0356069650782807, 0.07833532317221754, 0.8471642462511243, 0.1507665184006238, 0.6746316053420898, 0.2887069752118987, 0.03682486928723198, 0.998319175496996, 0.9408717517763696, 0.058621292945568206, 0.09775967648972606, 0.11508417612081676, 0.787027268955263, 0.9996403574618994, 0.9844640688256098, 0.9955536009128106, 0.03868051069322799, 0.8930152686132201, 0.06558869204503877, 0.9934764130832799, 0.994658361595776, 0.26090608383290037, 0.17821453813722704, 0.5603065079034418, 0.9940756366131397, 0.4659676068585263, 0.2535708793314735, 0.1663112798374642, 0.054360644865967256, 0.059810164957728826, 0.9875765558644503, 0.0857855120102213, 0.9093264273083458, 0.9981212416436268, 0.37680114763794925, 0.28830713431483607, 0.19214239256413798, 0.08400383082891719, 0.058746554299064585, 0.9918445833772289, 0.9956516094067979], \"Term\": [\"-\", \"-\", \"-\", \"-\", \"-\", \"\\\\mathcal\", \"achieve\", \"achieve\", \"achieve\", \"achieve\", \"adaptive\", \"adaptive\", \"adaptive\", \"admit\", \"admit\", \"adversarial\", \"adversarial\", \"agent\", \"algebra\", \"algebraic\", \"algebraic\", \"allow\", \"allow\", \"allow\", \"allow\", \"allow\", \"also\", \"also\", \"also\", \"also\", \"also\", \"apply\", \"apply\", \"apply\", \"apply\", \"apply\", \"approximate\", \"approximate\", \"approximate\", \"architecture\", \"arithmetic\", \"arithmetic\", \"arithmetic\", \"armed\", \"atmospheric\", \"atomic\", \"automate\", \"automatic\", \"automatically\", \"automatically\", \"automatically\", \"base\", \"base\", \"base\", \"base\", \"base\", \"bayesian\", \"bind\", \"bind\", \"bind\", \"boolean\", \"bosonic\", \"bound\", \"bound\", \"bound\", \"boundary\", \"bright\", \"brownian\", \"cache\", \"call\", \"call\", \"call\", \"call\", \"call\", \"causal\", \"censor\", \"certain\", \"certain\", \"certain\", \"certain\", \"certain\", \"challenge\", \"challenge\", \"challenge\", \"chaotic\", \"chaotic\", \"classical\", \"classical\", \"classical\", \"classical\", \"classical\", \"clinical\", \"cognitive\", \"collect\", \"collect\", \"color\", \"commute\", \"compact\", \"compact\", \"compact\", \"compact\", \"compare\", \"compare\", \"compare\", \"complete\", \"complete\", \"complete\", \"complete\", \"complete\", \"computational\", \"computational\", \"computationally\", \"computationally\", \"conditional\", \"conformal\", \"conjecture\", \"consider\", \"consider\", \"consider\", \"consider\", \"consider\", \"construct\", \"construct\", \"construct\", \"construct\", \"construct\", \"continuous\", \"continuous\", \"continuous\", \"continuous\", \"continuous\", \"convex\", \"convex\", \"convolutional\", \"cool\", \"corrupt\", \"cosmic\", \"cosmological\", \"cosmological\", \"countable\", \"couple\", \"couple\", \"curvature\", \"cyclic\", \"cyclic\", \"dark\", \"dataset\", \"dataset\", \"decentralize\", \"decentralized\", \"decidable\", \"deep\", \"deep\", \"definable\", \"define\", \"define\", \"define\", \"define\", \"define\", \"deform\", \"demonstrate\", \"demonstrate\", \"demonstrate\", \"demonstrate\", \"denote\", \"denote\", \"derivative\", \"derive\", \"derive\", \"derive\", \"derive\", \"derive\", \"describe\", \"describe\", \"describe\", \"describe\", \"describe\", \"develop\", \"develop\", \"develop\", \"develop\", \"develop\", \"dielectric\", \"different\", \"different\", \"different\", \"different\", \"different\", \"differential\", \"differential\", \"digital\", \"dimensional\", \"dimensional\", \"dimensional\", \"dimensional\", \"dimensional\", \"discrete\", \"discrete\", \"discrete\", \"discrete\", \"distribute\", \"distribute\", \"distribute\", \"distribute\", \"dope\", \"due\", \"due\", \"due\", \"due\", \"due\", \"dynamical\", \"dynamical\", \"efficient\", \"efficient\", \"efficient\", \"eigenvalue\", \"eigenvalue\", \"electric\", \"electrical\", \"electronic\", \"elliptic\", \"embed\", \"embed\", \"embed\", \"embed\", \"empirical\", \"empirical\", \"empirical\", \"empty\", \"empty\", \"enable\", \"enable\", \"enable\", \"enable\", \"equivariant\", \"ergodic\", \"estimate\", \"estimate\", \"estimate\", \"estimate\", \"evaluate\", \"evaluate\", \"evaluate\", \"evaluate\", \"exist\", \"exist\", \"exist\", \"exist\", \"exist\", \"extract\", \"extract\", \"f$\", \"fast\", \"fast\", \"fast\", \"find\", \"find\", \"find\", \"find\", \"find\", \"finite\", \"finite\", \"finite\", \"finitely\", \"first\", \"first\", \"first\", \"first\", \"first\", \"fluid\", \"fluid\", \"fractional\", \"fracture\", \"free\", \"free\", \"free\", \"free\", \"free\", \"gaussian\", \"gaussian\", \"general\", \"general\", \"general\", \"general\", \"general\", \"generalize\", \"generalize\", \"generalize\", \"generalize\", \"generate\", \"generate\", \"generate\", \"generate\", \"generate\", \"generative\", \"give\", \"give\", \"give\", \"give\", \"give\", \"gps\", \"grade\", \"gradient\", \"gradient\", \"gradient\", \"graphene\", \"gravitational\", \"gravitational\", \"greedy\", \"guarantee\", \"guarantee\", \"guarantee\", \"hamiltonian\", \"harmonic\", \"here\", \"here\", \"here\", \"here\", \"here\", \"hermitian\", \"high\", \"high\", \"high\", \"high\", \"high\", \"historical\", \"hold\", \"hold\", \"hold\", \"hold\", \"hold\", \"hot\", \"hot\", \"however\", \"however\", \"however\", \"however\", \"however\", \"human\", \"hypergeometric\", \"improve\", \"improve\", \"improve\", \"improve\", \"incompressible\", \"increase\", \"increase\", \"increase\", \"indicate\", \"indicate\", \"indicate\", \"indoor\", \"induce\", \"induce\", \"induce\", \"induce\", \"induce\", \"infect\", \"inferential\", \"infrare\", \"initial\", \"initial\", \"initial\", \"initial\", \"injective\", \"integrable\", \"integral\", \"integral\", \"interpretable\", \"intersect\", \"introduce\", \"introduce\", \"introduce\", \"introduce\", \"introduce\", \"invertible\", \"investigate\", \"investigate\", \"investigate\", \"investigate\", \"investigate\", \"irreducible\", \"isometric\", \"isomorphic\", \"k$\", \"know\", \"know\", \"know\", \"know\", \"know\", \"label\", \"label\", \"lagrangian\", \"large\", \"large\", \"large\", \"large\", \"large\", \"learn\", \"learn\", \"lense\", \"let\", \"light\", \"light\", \"light\", \"linear\", \"linear\", \"linear\", \"linear\", \"linearize\", \"liquid\", \"local\", \"local\", \"local\", \"local\", \"local\", \"long\", \"long\", \"long\", \"long\", \"long\", \"low\", \"low\", \"low\", \"low\", \"low\", \"magnetic\", \"make\", \"make\", \"make\", \"make\", \"make\", \"manifold\", \"manifold\", \"manually\", \"many\", \"many\", \"many\", \"many\", \"many\", \"marginal\", \"mass\", \"maximal\", \"maximal\", \"maximal\", \"measure\", \"measure\", \"measure\", \"measure\", \"meta\", \"metallic\", \"metric\", \"metric\", \"metric\", \"minimal\", \"minimal\", \"minimal\", \"minimal\", \"minimax\", \"minimize\", \"minimize\", \"mobile\", \"molecular\", \"monotone\", \"neural\", \"new\", \"new\", \"new\", \"new\", \"new\", \"nilpotent\", \"non\", \"non\", \"non\", \"non\", \"non\", \"nonlinear\", \"nonlinear\", \"nonlocal\", \"nonparametric\", \"novel\", \"novel\", \"novel\", \"novel\", \"numerical\", \"numerical\", \"numerical\", \"observe\", \"observe\", \"observe\", \"obtain\", \"obtain\", \"obtain\", \"obtain\", \"obtain\", \"optical\", \"optimal\", \"orbital\", \"packet\", \"parabolic\", \"parabolic\", \"parametric\", \"parametric\", \"particular\", \"particular\", \"particular\", \"particular\", \"particular\", \"penalize\", \"perform\", \"perform\", \"perform\", \"perform\", \"periodic\", \"periodic\", \"periodic\", \"perturbative\", \"phylogenetic\", \"planck\", \"planetary\", \"plant\", \"polarize\", \"polynomial\", \"polynomial\", \"positive\", \"positive\", \"positive\", \"positive\", \"positive\", \"posterior\", \"predict\", \"predict\", \"present\", \"present\", \"present\", \"present\", \"present\", \"primal\", \"prime\", \"prior\", \"prior\", \"prior\", \"probe\", \"projective\", \"proof\", \"proof\", \"propose\", \"propose\", \"propose\", \"propose\", \"provably\", \"prove\", \"prove\", \"prove\", \"provide\", \"provide\", \"provide\", \"provide\", \"provide\", \"proximal\", \"public\", \"quantile\", \"quartic\", \"question\", \"r$\", \"random\", \"random\", \"random\", \"randomize\", \"randomize\", \"rational\", \"raw\", \"real\", \"real\", \"real\", \"real\", \"recurrent\", \"reductive\", \"regular\", \"regular\", \"regular\", \"regularize\", \"regularize\", \"report\", \"report\", \"report\", \"repulsive\", \"require\", \"require\", \"require\", \"require\", \"require\", \"rewrite\", \"riemannian\", \"robotic\", \"sample\", \"sample\", \"say\", \"say\", \"scalar\", \"scalar\", \"scatter\", \"scatter\", \"semantic\", \"semiclassical\", \"set\", \"set\", \"set\", \"set\", \"set\", \"show\", \"show\", \"show\", \"show\", \"show\", \"simplicial\", \"single\", \"single\", \"single\", \"single\", \"single\", \"small\", \"small\", \"small\", \"small\", \"small\", \"smart\", \"social\", \"solar\", \"solve\", \"solve\", \"solve\", \"solve\", \"sparse\", \"sparse\", \"stationary\", \"stationary\", \"statistical\", \"statistical\", \"statistical\", \"statistical\", \"stellar\", \"stochastic\", \"stochastic\", \"strong\", \"strong\", \"strong\", \"strong\", \"strong\", \"study\", \"study\", \"study\", \"study\", \"study\", \"submodular\", \"suboptimal\", \"suggest\", \"suggest\", \"suggest\", \"suggest\", \"superconducte\", \"supercritical\", \"supervise\", \"supervised\", \"surrogate\", \"surrogate\", \"temporal\", \"temporal\", \"temporal\", \"theorem\", \"theorem\", \"theoretical\", \"theoretical\", \"theoretical\", \"thermal\", \"thin\", \"thin\", \"topological\", \"topological\", \"topological\", \"train\", \"transitive\", \"turbulent\", \"unknown\", \"unknown\", \"unknown\", \"unsupervise\", \"unsupervised\", \"upper\", \"upper\", \"upper\", \"urban\", \"use\", \"use\", \"use\", \"use\", \"use\", \"validation\", \"vertice\", \"vertice\", \"visual\", \"well\", \"well\", \"well\", \"well\", \"well\", \"x$\", \"young\"]}, \"R\": 30, \"lambda.step\": 0.01, \"plot.opts\": {\"xlab\": \"PC1\", \"ylab\": \"PC2\"}, \"topic.order\": [2, 3, 5, 1, 4]};\n",
              "\n",
              "function LDAvis_load_lib(url, callback){\n",
              "  var s = document.createElement('script');\n",
              "  s.src = url;\n",
              "  s.async = true;\n",
              "  s.onreadystatechange = s.onload = callback;\n",
              "  s.onerror = function(){console.warn(\"failed to load library \" + url);};\n",
              "  document.getElementsByTagName(\"head\")[0].appendChild(s);\n",
              "}\n",
              "\n",
              "if(typeof(LDAvis) !== \"undefined\"){\n",
              "   // already loaded: just create the visualization\n",
              "   !function(LDAvis){\n",
              "       new LDAvis(\"#\" + \"ldavis_el2020822238111632964439137242\", ldavis_el2020822238111632964439137242_data);\n",
              "   }(LDAvis);\n",
              "}else if(typeof define === \"function\" && define.amd){\n",
              "   // require.js is available: use it to load d3/LDAvis\n",
              "   require.config({paths: {d3: \"https://d3js.org/d3.v5\"}});\n",
              "   require([\"d3\"], function(d3){\n",
              "      window.d3 = d3;\n",
              "      LDAvis_load_lib(\"https://cdn.jsdelivr.net/gh/bmabey/pyLDAvis@3.4.0/pyLDAvis/js/ldavis.v3.0.0.js\", function(){\n",
              "        new LDAvis(\"#\" + \"ldavis_el2020822238111632964439137242\", ldavis_el2020822238111632964439137242_data);\n",
              "      });\n",
              "    });\n",
              "}else{\n",
              "    // require.js not available: dynamically load d3 & LDAvis\n",
              "    LDAvis_load_lib(\"https://d3js.org/d3.v5.js\", function(){\n",
              "         LDAvis_load_lib(\"https://cdn.jsdelivr.net/gh/bmabey/pyLDAvis@3.4.0/pyLDAvis/js/ldavis.v3.0.0.js\", function(){\n",
              "                 new LDAvis(\"#\" + \"ldavis_el2020822238111632964439137242\", ldavis_el2020822238111632964439137242_data);\n",
              "            })\n",
              "         });\n",
              "}\n",
              "</script>"
            ],
            "text/plain": [
              "PreparedData(topic_coordinates=              x         y  topics  cluster       Freq\n",
              "topic                                                \n",
              "1      0.156309 -0.068742       1        1  33.034299\n",
              "2      0.053024 -0.071640       2        1  23.293107\n",
              "4      0.106198  0.129341       3        1  21.544764\n",
              "0     -0.171959 -0.084301       4        1  11.689579\n",
              "3     -0.143573  0.095341       5        1  10.438251, topic_info=          Term         Freq        Total Category  logprob  loglift\n",
              "24        give  4659.000000  4659.000000  Default  30.0000  30.0000\n",
              "99       prove  2934.000000  2934.000000  Default  29.0000  29.0000\n",
              "45     propose  8690.000000  8690.000000  Default  28.0000  28.0000\n",
              "0            -  9038.000000  9038.000000  Default  27.0000  27.0000\n",
              "106      learn  4359.000000  4359.000000  Default  26.0000  26.0000\n",
              "..         ...          ...          ...      ...      ...      ...\n",
              "24        give   478.548508  4659.855026   Topic5  -5.2132  -0.0163\n",
              "77   introduce   438.808359  2804.749006   Topic5  -5.2999   0.4047\n",
              "255    provide   458.134546  5440.271482   Topic5  -5.2568  -0.2147\n",
              "102      apply   426.165353  2842.381900   Topic5  -5.3291   0.3621\n",
              "91       first   413.450921  3683.433361   Topic5  -5.3594   0.0726\n",
              "\n",
              "[396 rows x 6 columns], token_table=      Topic      Freq   Term\n",
              "term                        \n",
              "0         1  0.227131      -\n",
              "0         2  0.300481      -\n",
              "0         3  0.173584      -\n",
              "0         4  0.045360      -\n",
              "0         5  0.253461      -\n",
              "...     ...       ...    ...\n",
              "119       3  0.192142   well\n",
              "119       4  0.084004   well\n",
              "119       5  0.058747   well\n",
              "532       4  0.991845     x$\n",
              "386       3  0.995652  young\n",
              "\n",
              "[708 rows x 3 columns], R=30, lambda_step=0.01, plot_opts={'xlab': 'PC1', 'ylab': 'PC2'}, topic_order=[2, 3, 5, 1, 4])"
            ]
          },
          "execution_count": 74,
          "metadata": {},
          "output_type": "execute_result"
        }
      ],
      "source": [
        "pyLDAvis.enable_notebook()\n",
        "vis2 = gensimvis.prepare(lda_model_multi, bow_corpus, dictionary)\n",
        "vis2"
      ]
    },
    {
      "cell_type": "code",
      "execution_count": null,
      "metadata": {
        "colab": {
          "base_uri": "https://localhost:8080/"
        },
        "id": "5ZlI1VB7Zr9S",
        "outputId": "c4d25fcc-3aa7-4664-a91d-b5ba1c39abb3"
      },
      "outputs": [],
      "source": [
        "pyLDAvis.save_html(vis2, 'lda_model_multi.html')"
      ]
    },
    {
      "cell_type": "code",
      "execution_count": 17,
      "metadata": {
        "colab": {
          "base_uri": "https://localhost:8080/"
        },
        "id": "JHmTNkdA4LAx",
        "outputId": "2602dd9d-0b2e-40c5-83aa-ce28dc8ba93c"
      },
      "outputs": [
        {
          "name": "stdout",
          "output_type": "stream",
          "text": [
            "\n",
            "Perplexity:  -7.19771849953567\n",
            "\n",
            "Coherence Score:  0.2569927390947465\n"
          ]
        }
      ],
      "source": [
        "print('\\nPerplexity: ', lda_model.log_perplexity(bow_corpus,total_docs=80000))\n",
        "from gensim.models.coherencemodel import CoherenceModel\n",
        "coherence_model_lda = CoherenceModel(model=lda_model, texts=tokenized_reviews, dictionary=dictionary , coherence='c_v')\n",
        "coherence_lda = coherence_model_lda.get_coherence()\n",
        "print('\\nCoherence Score: ', coherence_lda)"
      ]
    },
    {
      "cell_type": "code",
      "execution_count": 18,
      "metadata": {
        "colab": {
          "base_uri": "https://localhost:8080/"
        },
        "id": "bbx89MlcZ12G",
        "outputId": "e3d6b063-5947-45d9-b3a7-50e93ca95e43"
      },
      "outputs": [
        {
          "name": "stdout",
          "output_type": "stream",
          "text": [
            "\n",
            "Perplexity:  -7.154805687042887\n",
            "\n",
            "Coherence Score:  0.24640100287986266\n"
          ]
        }
      ],
      "source": [
        "print('\\nPerplexity: ', lda_model_multi.log_perplexity(bow_corpus,total_docs=80000))\n",
        "from gensim.models.coherencemodel import CoherenceModel\n",
        "coherence_model_lda_multi = CoherenceModel(model=lda_model_multi, texts=tokenized_reviews, dictionary=dictionary , coherence='c_v')\n",
        "coherence_lda_multi = coherence_model_lda_multi.get_coherence()\n",
        "print('\\nCoherence Score: ', coherence_lda_multi)"
      ]
    },
    {
      "cell_type": "code",
      "execution_count": 19,
      "metadata": {
        "colab": {
          "base_uri": "https://localhost:8080/"
        },
        "id": "DHdL3qf0rdc2",
        "outputId": "cfa90c3f-00a6-4c38-ee29-fb7dc6500a5b"
      },
      "outputs": [
        {
          "name": "stdout",
          "output_type": "stream",
          "text": [
            "Topic: 0 \n",
            "Words: 0.023*\"give\" + 0.022*\"good\" + 0.020*\"couple\" + 0.014*\"also\" + 0.010*\"reasonable\" + 0.009*\"derive\" + 0.008*\"decrease\" + 0.008*\"induce\" + 0.008*\"finite\" + 0.007*\"atomic\"\n",
            "Topic: 1 \n",
            "Words: 0.027*\"yield\" + 0.018*\"reduce\" + 0.018*\"main\" + 0.014*\"significantly\" + 0.010*\"different\" + 0.009*\"couple\" + 0.008*\"easy\" + 0.008*\"classical\" + 0.008*\"overlap\" + 0.008*\"rely\"\n",
            "Topic: 2 \n",
            "Words: 0.019*\"yield\" + 0.018*\"-\" + 0.018*\"couple\" + 0.013*\"reduce\" + 0.012*\"potential\" + 0.010*\"diagonal\" + 0.010*\"main\" + 0.010*\"particular\" + 0.009*\"convex\" + 0.009*\"also\"\n",
            "Topic: 3 \n",
            "Words: 0.036*\"-\" + 0.022*\"particular\" + 0.018*\"biological\" + 0.017*\"equip\" + 0.013*\"pay\" + 0.012*\"fundamental\" + 0.010*\"algebraic\" + 0.009*\"verify\" + 0.009*\"fast\" + 0.009*\"severely\"\n",
            "Topic: 4 \n",
            "Words: 0.015*\"kernel\" + 0.014*\"high\" + 0.012*\"reformulate\" + 0.011*\"yield\" + 0.011*\"giant\" + 0.010*\"couple\" + 0.009*\"short\" + 0.009*\"attract\" + 0.007*\"also\" + 0.007*\"consider\"\n"
          ]
        }
      ],
      "source": [
        "for idx, topic in lda_model.print_topics(-1):\n",
        "    print('Topic: {} \\nWords: {}'.format(idx, topic))"
      ]
    },
    {
      "cell_type": "code",
      "execution_count": 20,
      "metadata": {
        "colab": {
          "base_uri": "https://localhost:8080/"
        },
        "id": "NGO9YM9saQ3V",
        "outputId": "2e0ffb32-4dab-44c7-ee96-1e2edcbb81ba"
      },
      "outputs": [
        {
          "name": "stdout",
          "output_type": "stream",
          "text": [
            "Topic: 0 \n",
            "Words: 0.024*\"give\" + 0.020*\"couple\" + 0.020*\"good\" + 0.014*\"also\" + 0.011*\"derive\" + 0.010*\"reasonable\" + 0.008*\"yield\" + 0.007*\"induce\" + 0.007*\"eigenvalue\" + 0.007*\"classical\"\n",
            "Topic: 1 \n",
            "Words: 0.025*\"yield\" + 0.017*\"reduce\" + 0.016*\"main\" + 0.014*\"significantly\" + 0.010*\"couple\" + 0.009*\"overlap\" + 0.009*\"different\" + 0.009*\"rely\" + 0.008*\"easy\" + 0.007*\"classical\"\n",
            "Topic: 2 \n",
            "Words: 0.019*\"reduce\" + 0.019*\"yield\" + 0.014*\"couple\" + 0.014*\"-\" + 0.013*\"main\" + 0.011*\"separate\" + 0.009*\"diagonal\" + 0.009*\"tractable\" + 0.008*\"convex\" + 0.007*\"also\"\n",
            "Topic: 3 \n",
            "Words: 0.026*\"-\" + 0.018*\"particular\" + 0.013*\"biological\" + 0.012*\"couple\" + 0.010*\"yield\" + 0.010*\"fast\" + 0.009*\"potential\" + 0.009*\"decrease\" + 0.009*\"verify\" + 0.009*\"induce\"\n",
            "Topic: 4 \n",
            "Words: 0.014*\"yield\" + 0.012*\"high\" + 0.012*\"kernel\" + 0.010*\"couple\" + 0.009*\"giant\" + 0.009*\"reformulate\" + 0.009*\"-\" + 0.008*\"short\" + 0.007*\"attract\" + 0.007*\"easy\"\n"
          ]
        }
      ],
      "source": [
        "for idx, topic in lda_model_multi.print_topics(-1):\n",
        "    print('Topic: {} \\nWords: {}'.format(idx, topic))"
      ]
    },
    {
      "cell_type": "code",
      "execution_count": 24,
      "metadata": {
        "colab": {
          "base_uri": "https://localhost:8080/",
          "height": 522
        },
        "id": "u1cVoUnOan_q",
        "outputId": "d4188b52-c5bd-4690-eb14-86d3eeb89d8e"
      },
      "outputs": [],
      "source": [
        "\n",
        "lda_model.save('Model/lda_model.model')\n"
      ]
    },
    {
      "cell_type": "code",
      "execution_count": 25,
      "metadata": {},
      "outputs": [],
      "source": [
        "lda_model_multi.save('Model/lda_model_multi.model')"
      ]
    },
    {
      "cell_type": "code",
      "execution_count": 21,
      "metadata": {},
      "outputs": [
        {
          "data": {
            "image/png": "[encoded data removed]",
            "text/plain": [
              "<Figure size 1000x1000 with 4 Axes>"
            ]
          },
          "metadata": {},
          "output_type": "display_data"
        }
      ],
      "source": [
        "from matplotlib import pyplot as plt\n",
        "from wordcloud import WordCloud, STOPWORDS\n",
        "import matplotlib.colors as mcolors\n",
        "\n",
        "cols = [color for name, color in mcolors.TABLEAU_COLORS.items()\n",
        "        ]  # more colors: 'mcolors.XKCD_COLORS'\n",
        "\n",
        "cloud = WordCloud(stopwords=stop_words,\n",
        "                  background_color='white',\n",
        "                  width=2500,\n",
        "                  height=1800,\n",
        "                  max_words=10,\n",
        "                  colormap='tab10',\n",
        "                  color_func=lambda *args, **kwargs: cols[i],\n",
        "                  prefer_horizontal=1.0)\n",
        "\n",
        "topics = lda_model.show_topics(formatted=False)\n",
        "\n",
        "fig, axes = plt.subplots(2, 2, figsize=(10, 10), sharex=True, sharey=True)\n",
        "\n",
        "for i, ax in enumerate(axes.flatten()):\n",
        "    fig.add_subplot(ax)\n",
        "    topic_words = dict(topics[i][1])\n",
        "    cloud.generate_from_frequencies(topic_words, max_font_size=300)\n",
        "    plt.gca().imshow(cloud)\n",
        "    plt.gca().set_title('Topic ' + str(i), fontdict=dict(size=16))\n",
        "    plt.gca().axis('off')\n",
        "\n",
        "plt.subplots_adjust(wspace=0, hspace=0)\n",
        "plt.axis('off')\n",
        "plt.margins(x=0, y=0)\n",
        "plt.tight_layout()\n",
        "plt.show()"
      ]
    },
    {
      "cell_type": "code",
      "execution_count": 22,
      "metadata": {},
      "outputs": [],
      "source": [
        "# sklearn implements t-SNE.\n",
        "from sklearn.manifold import TSNE\n",
        "from sklearn.preprocessing import scale\n",
        "#from sklearn.manifold.t_sne import (_joint_probabilities,\n",
        "#_kl_divergence)\n",
        "RS = 20200807"
      ]
    },
    {
      "cell_type": "code",
      "execution_count": 23,
      "metadata": {},
      "outputs": [],
      "source": [
        "from sklearn.feature_extraction.text import TfidfVectorizer\n",
        "from sklearn.naive_bayes import MultinomialNB\n",
        "from sklearn.model_selection import train_test_split\n",
        "from sklearn.metrics import accuracy_score\n",
        "import pandas as pd\n",
        "import gensim"
      ]
    },
    {
      "cell_type": "code",
      "execution_count": 24,
      "metadata": {},
      "outputs": [
        {
          "data": {
            "text/html": [
              "<div>\n",
              "<style scoped>\n",
              "    .dataframe tbody tr th:only-of-type {\n",
              "        vertical-align: middle;\n",
              "    }\n",
              "\n",
              "    .dataframe tbody tr th {\n",
              "        vertical-align: top;\n",
              "    }\n",
              "\n",
              "    .dataframe thead th {\n",
              "        text-align: right;\n",
              "    }\n",
              "</style>\n",
              "<table border=\"1\" class=\"dataframe\">\n",
              "  <thead>\n",
              "    <tr style=\"text-align: right;\">\n",
              "      <th></th>\n",
              "      <th>index</th>\n",
              "      <th>ID</th>\n",
              "      <th>TITLE</th>\n",
              "      <th>ABSTRACT</th>\n",
              "      <th>ABSTRACT_Topic</th>\n",
              "      <th>Computer Science</th>\n",
              "      <th>Physics</th>\n",
              "      <th>Mathematics</th>\n",
              "      <th>Statistics</th>\n",
              "      <th>Quantitative Biology</th>\n",
              "      <th>Quantitative Finance</th>\n",
              "    </tr>\n",
              "  </thead>\n",
              "  <tbody>\n",
              "    <tr>\n",
              "      <th>0</th>\n",
              "      <td>0</td>\n",
              "      <td>1</td>\n",
              "      <td>Reconstructing Subject-Specific Effect Maps</td>\n",
              "      <td>Predictive models allow subject-specific inf...</td>\n",
              "      <td>Computer Science</td>\n",
              "      <td>0.053478</td>\n",
              "      <td>0.000718</td>\n",
              "      <td>0.008020</td>\n",
              "      <td>0.000000</td>\n",
              "      <td>0.000000</td>\n",
              "      <td>0.011849</td>\n",
              "    </tr>\n",
              "    <tr>\n",
              "      <th>1</th>\n",
              "      <td>1</td>\n",
              "      <td>2</td>\n",
              "      <td>Rotation Invariance Neural Network</td>\n",
              "      <td>Rotation invariance and translation invarian...</td>\n",
              "      <td>Statistics</td>\n",
              "      <td>0.014648</td>\n",
              "      <td>0.004958</td>\n",
              "      <td>0.000000</td>\n",
              "      <td>0.060959</td>\n",
              "      <td>0.000000</td>\n",
              "      <td>0.000000</td>\n",
              "    </tr>\n",
              "    <tr>\n",
              "      <th>2</th>\n",
              "      <td>2</td>\n",
              "      <td>3</td>\n",
              "      <td>Spherical polyharmonics and Poisson kernels fo...</td>\n",
              "      <td>We introduce and develop the notion of spher...</td>\n",
              "      <td>Physics</td>\n",
              "      <td>0.000000</td>\n",
              "      <td>0.033019</td>\n",
              "      <td>0.000000</td>\n",
              "      <td>0.001113</td>\n",
              "      <td>0.000000</td>\n",
              "      <td>0.006254</td>\n",
              "    </tr>\n",
              "    <tr>\n",
              "      <th>3</th>\n",
              "      <td>3</td>\n",
              "      <td>4</td>\n",
              "      <td>A finite element approximation for the stochas...</td>\n",
              "      <td>The stochastic Landau--Lifshitz--Gilbert (LL...</td>\n",
              "      <td>Physics</td>\n",
              "      <td>0.000000</td>\n",
              "      <td>0.048890</td>\n",
              "      <td>0.012750</td>\n",
              "      <td>0.000000</td>\n",
              "      <td>0.000000</td>\n",
              "      <td>0.027562</td>\n",
              "    </tr>\n",
              "    <tr>\n",
              "      <th>4</th>\n",
              "      <td>4</td>\n",
              "      <td>5</td>\n",
              "      <td>Comparative study of Discrete Wavelet Transfor...</td>\n",
              "      <td>Fourier-transform infra-red (FTIR) spectra o...</td>\n",
              "      <td>Computer Science</td>\n",
              "      <td>0.032414</td>\n",
              "      <td>0.000000</td>\n",
              "      <td>0.003643</td>\n",
              "      <td>0.000000</td>\n",
              "      <td>0.001994</td>\n",
              "      <td>0.011012</td>\n",
              "    </tr>\n",
              "    <tr>\n",
              "      <th>5</th>\n",
              "      <td>5</td>\n",
              "      <td>6</td>\n",
              "      <td>On maximizing the fundamental frequency of the...</td>\n",
              "      <td>Let $\\Omega \\subset \\mathbb{R}^n$ be a bound...</td>\n",
              "      <td>Physics</td>\n",
              "      <td>0.000487</td>\n",
              "      <td>0.032285</td>\n",
              "      <td>0.003016</td>\n",
              "      <td>0.000000</td>\n",
              "      <td>0.000838</td>\n",
              "      <td>0.004758</td>\n",
              "    </tr>\n",
              "    <tr>\n",
              "      <th>6</th>\n",
              "      <td>6</td>\n",
              "      <td>7</td>\n",
              "      <td>On the rotation period and shape of the hyperb...</td>\n",
              "      <td>We observed the newly discovered hyperbolic ...</td>\n",
              "      <td>Mathematics</td>\n",
              "      <td>0.006653</td>\n",
              "      <td>0.002847</td>\n",
              "      <td>0.018059</td>\n",
              "      <td>0.000000</td>\n",
              "      <td>0.000065</td>\n",
              "      <td>0.001631</td>\n",
              "    </tr>\n",
              "    <tr>\n",
              "      <th>7</th>\n",
              "      <td>7</td>\n",
              "      <td>8</td>\n",
              "      <td>Adverse effects of polymer coating on heat tra...</td>\n",
              "      <td>The ability of metallic nanoparticles to sup...</td>\n",
              "      <td>Mathematics</td>\n",
              "      <td>0.000772</td>\n",
              "      <td>0.000000</td>\n",
              "      <td>0.048623</td>\n",
              "      <td>0.002285</td>\n",
              "      <td>0.000000</td>\n",
              "      <td>0.000000</td>\n",
              "    </tr>\n",
              "    <tr>\n",
              "      <th>8</th>\n",
              "      <td>8</td>\n",
              "      <td>9</td>\n",
              "      <td>SPH calculations of Mars-scale collisions: the...</td>\n",
              "      <td>We model large-scale ($\\approx$2000km) impac...</td>\n",
              "      <td>Mathematics</td>\n",
              "      <td>0.000000</td>\n",
              "      <td>0.001569</td>\n",
              "      <td>0.073416</td>\n",
              "      <td>0.000000</td>\n",
              "      <td>0.000000</td>\n",
              "      <td>0.000000</td>\n",
              "    </tr>\n",
              "    <tr>\n",
              "      <th>9</th>\n",
              "      <td>9</td>\n",
              "      <td>10</td>\n",
              "      <td>$\\mathcal{R}_{0}$ fails to predict the outbrea...</td>\n",
              "      <td>Time varying susceptibility of host at indiv...</td>\n",
              "      <td>Mathematics</td>\n",
              "      <td>0.016325</td>\n",
              "      <td>0.006806</td>\n",
              "      <td>0.020978</td>\n",
              "      <td>0.001517</td>\n",
              "      <td>0.000689</td>\n",
              "      <td>0.000000</td>\n",
              "    </tr>\n",
              "  </tbody>\n",
              "</table>\n",
              "</div>"
            ],
            "text/plain": [
              "   index  ID                                              TITLE  \\\n",
              "0      0   1        Reconstructing Subject-Specific Effect Maps   \n",
              "1      1   2                 Rotation Invariance Neural Network   \n",
              "2      2   3  Spherical polyharmonics and Poisson kernels fo...   \n",
              "3      3   4  A finite element approximation for the stochas...   \n",
              "4      4   5  Comparative study of Discrete Wavelet Transfor...   \n",
              "5      5   6  On maximizing the fundamental frequency of the...   \n",
              "6      6   7  On the rotation period and shape of the hyperb...   \n",
              "7      7   8  Adverse effects of polymer coating on heat tra...   \n",
              "8      8   9  SPH calculations of Mars-scale collisions: the...   \n",
              "9      9  10  $\\mathcal{R}_{0}$ fails to predict the outbrea...   \n",
              "\n",
              "                                            ABSTRACT    ABSTRACT_Topic  \\\n",
              "0    Predictive models allow subject-specific inf...  Computer Science   \n",
              "1    Rotation invariance and translation invarian...        Statistics   \n",
              "2    We introduce and develop the notion of spher...           Physics   \n",
              "3    The stochastic Landau--Lifshitz--Gilbert (LL...           Physics   \n",
              "4    Fourier-transform infra-red (FTIR) spectra o...  Computer Science   \n",
              "5    Let $\\Omega \\subset \\mathbb{R}^n$ be a bound...           Physics   \n",
              "6    We observed the newly discovered hyperbolic ...       Mathematics   \n",
              "7    The ability of metallic nanoparticles to sup...       Mathematics   \n",
              "8    We model large-scale ($\\approx$2000km) impac...       Mathematics   \n",
              "9    Time varying susceptibility of host at indiv...       Mathematics   \n",
              "\n",
              "   Computer Science   Physics  Mathematics  Statistics  Quantitative Biology  \\\n",
              "0          0.053478  0.000718     0.008020    0.000000              0.000000   \n",
              "1          0.014648  0.004958     0.000000    0.060959              0.000000   \n",
              "2          0.000000  0.033019     0.000000    0.001113              0.000000   \n",
              "3          0.000000  0.048890     0.012750    0.000000              0.000000   \n",
              "4          0.032414  0.000000     0.003643    0.000000              0.001994   \n",
              "5          0.000487  0.032285     0.003016    0.000000              0.000838   \n",
              "6          0.006653  0.002847     0.018059    0.000000              0.000065   \n",
              "7          0.000772  0.000000     0.048623    0.002285              0.000000   \n",
              "8          0.000000  0.001569     0.073416    0.000000              0.000000   \n",
              "9          0.016325  0.006806     0.020978    0.001517              0.000689   \n",
              "\n",
              "   Quantitative Finance  \n",
              "0              0.011849  \n",
              "1              0.000000  \n",
              "2              0.006254  \n",
              "3              0.027562  \n",
              "4              0.011012  \n",
              "5              0.004758  \n",
              "6              0.001631  \n",
              "7              0.000000  \n",
              "8              0.000000  \n",
              "9              0.000000  "
            ]
          },
          "execution_count": 24,
          "metadata": {},
          "output_type": "execute_result"
        }
      ],
      "source": [
        "final_df = pd.read_csv('Abstract_With_topics.csv')\n",
        "final_df.head(10)"
      ]
    },
    {
      "cell_type": "code",
      "execution_count": 25,
      "metadata": {},
      "outputs": [],
      "source": [
        "# For preprocessing and modeling\n",
        "from sklearn.impute import SimpleImputer\n",
        "from sklearn.pipeline import Pipeline\n",
        "from sklearn.compose import ColumnTransformer\n",
        "from sklearn.preprocessing import OneHotEncoder\n",
        "from sklearn.preprocessing import RobustScaler\n",
        "from sklearn.model_selection import StratifiedKFold, cross_val_score\n",
        "from sklearn.model_selection import GridSearchCV\n",
        "from sklearn.model_selection import RandomizedSearchCV\n",
        "from sklearn.linear_model import LinearRegression\n",
        "from sklearn.model_selection import train_test_split\n",
        "from sklearn.metrics import accuracy_score\n",
        "from sklearn.linear_model import LogisticRegression\n",
        "from sklearn.tree import DecisionTreeClassifier\n",
        "from sklearn.ensemble import GradientBoostingClassifier, RandomForestClassifier, AdaBoostClassifier\n",
        "from sklearn.neighbors import KNeighborsClassifier\n",
        "from sklearn.naive_bayes import GaussianNB\n",
        "from sklearn.svm import SVC\n",
        "from sklearn.metrics import mean_squared_error\n"
      ]
    },
    {
      "cell_type": "code",
      "execution_count": 26,
      "metadata": {},
      "outputs": [
        {
          "name": "stdout",
          "output_type": "stream",
          "text": [
            "Accuracy score for multinomialNB model: 0.769249106078665\n"
          ]
        }
      ],
      "source": [
        "preprocessed_data = [\n",
        "    gensim.utils.simple_preprocess(doc) for doc in final_df['ABSTRACT']\n",
        "]\n",
        "\n",
        "# Generate labeled data\n",
        "lda_data = []\n",
        "for i, doc in enumerate(preprocessed_data):\n",
        "    topics = lda_model.get_document_topics(bow_corpus[i])\n",
        "    topic_probs = [0] * lda_model.num_topics\n",
        "    for topic in topics:\n",
        "        topic_probs[topic[0]] = topic[1]\n",
        "    topic_label = max(range(len(topic_probs)), key=topic_probs.__getitem__)\n",
        "    lda_data.append((final_df['ABSTRACT'][i], final_df['ABSTRACT_Topic'][i]))\n",
        "\n",
        "# Split data into training and test sets\n",
        "X_train, X_test, y_train, y_test = train_test_split([x[0] for x in lda_data],\n",
        "                                                    [x[1] for x in lda_data],\n",
        "                                                    test_size=0.2,\n",
        "                                                    random_state=42)\n",
        "\n",
        "# Convert text data to vectors using TF-IDF\n",
        "tfidf_vectorizer = TfidfVectorizer(max_df=0.8, min_df=5, stop_words='english')\n",
        "X_train_tfidf = tfidf_vectorizer.fit_transform(X_train)\n",
        "X_test_tfidf = tfidf_vectorizer.transform(X_test)\n",
        "\n",
        "# Train a Multinomial Naive Bayes classifier\n",
        "clf = MultinomialNB().fit(X_train_tfidf, y_train)\n",
        "\n",
        "# Make predictions on test data\n",
        "y_pred = clf.predict(X_test_tfidf)\n",
        "\n",
        "# Calculate accuracy score\n",
        "accuracy = accuracy_score(y_test, y_pred)\n",
        "print(f\"Accuracy score for multinomialNB model: {accuracy}\")\n"
      ]
    },
    {
      "cell_type": "code",
      "execution_count": 27,
      "metadata": {},
      "outputs": [
        {
          "name": "stdout",
          "output_type": "stream",
          "text": [
            "Accuracy score for Random Forest Classifier model: 0.6042908224076281\n"
          ]
        }
      ],
      "source": [
        "# Preprocess data\n",
        "preprocessed_data = [\n",
        "    gensim.utils.simple_preprocess(doc) for doc in final_df['ABSTRACT']\n",
        "]\n",
        "\n",
        "# Generate labeled data\n",
        "lda_data = []\n",
        "for i, doc in enumerate(preprocessed_data):\n",
        "    topics = lda_model.get_document_topics(bow_corpus[i])\n",
        "    topic_probs = [0] * lda_model.num_topics\n",
        "    for topic in topics:\n",
        "        topic_probs[topic[0]] = topic[1]\n",
        "    topic_label = max(range(len(topic_probs)), key=topic_probs.__getitem__)\n",
        "    lda_data.append((final_df['ABSTRACT'][i], final_df['ABSTRACT_Topic'][i]))\n",
        "\n",
        "# Split data into training and test sets\n",
        "X_train1, X_test1, y_train1, y_test1 = train_test_split([x[0] for x in lda_data],\n",
        "                                                    [x[1] for x in lda_data],\n",
        "                                                    test_size=0.2,\n",
        "                                                    random_state=42)\n",
        "\n",
        "# Convert text data to vectors using TF-IDF\n",
        "tfidf_vectorizer = TfidfVectorizer(max_df=0.8, min_df=5, stop_words='english')\n",
        "X_train_tfidf1 = tfidf_vectorizer.fit_transform(X_train1)\n",
        "X_test_tfidf1 = tfidf_vectorizer.transform(X_test1)\n",
        "\n",
        "# Train a Random Forest Classifier\n",
        "rfc = RandomForestClassifier(n_estimators=100,\n",
        "                             max_depth=5).fit(X_train_tfidf1, y_train1)\n",
        "\n",
        "# Make predictions on test data\n",
        "y_pred = rfc.predict(X_test_tfidf1)\n",
        "\n",
        "# Calculate accuracy score\n",
        "accuracy1 = accuracy_score(y_test1, y_pred)\n",
        "print(f\"Accuracy score for Random Forest Classifier model: {accuracy1}\")"
      ]
    },
    {
      "cell_type": "code",
      "execution_count": 28,
      "metadata": {},
      "outputs": [
        {
          "name": "stdout",
          "output_type": "stream",
          "text": [
            "Accuracy score for SVM model: 0.9053635280095351\n"
          ]
        }
      ],
      "source": [
        "# Import necessary libraries\n",
        "from sklearn.feature_extraction.text import TfidfVectorizer\n",
        "from sklearn.model_selection import train_test_split\n",
        "from sklearn.svm import SVC\n",
        "from sklearn.metrics import accuracy_score\n",
        "\n",
        "# Generate labeled data\n",
        "lda_data = []\n",
        "for i, doc in enumerate(preprocessed_data):\n",
        "    topics = lda_model.get_document_topics(bow_corpus[i])\n",
        "    topic_probs = [0] * lda_model.num_topics\n",
        "    for topic in topics:\n",
        "        topic_probs[topic[0]] = topic[1]\n",
        "    topic_label = max(range(len(topic_probs)), key=topic_probs.__getitem__)\n",
        "    lda_data.append((final_df['ABSTRACT'][i], final_df['ABSTRACT_Topic'][i]))\n",
        "\n",
        "# Split data into training and test sets\n",
        "X_train2, X_test2, y_train2, y_test2 = train_test_split([x[0] for x in lda_data],\n",
        "                                                    [x[1] for x in lda_data],\n",
        "                                                    test_size=0.2,\n",
        "                                                    random_state=42)\n",
        "\n",
        "# Convert text data to vectors using TF-IDF\n",
        "tfidf_vectorizer2 = TfidfVectorizer(max_df=0.8, min_df=5, stop_words='english')\n",
        "X_train_tfidf2 = tfidf_vectorizer.fit_transform(X_train2)\n",
        "X_test_tfidf2 = tfidf_vectorizer.transform(X_test2)\n",
        "\n",
        "# Train an SVM classifier\n",
        "svcm = SVC(kernel='rbf', C=1.0, random_state=42)\n",
        "svcm.fit(X_train_tfidf2, y_train2)\n",
        "\n",
        "# Make predictions on test data\n",
        "y_pred2 = svcm.predict(X_test_tfidf2)\n",
        "\n",
        "# Calculate accuracy score\n",
        "accuracy2 = accuracy_score(y_test2, y_pred2)\n",
        "print(f\"Accuracy score for SVM model: {accuracy2}\")"
      ]
    },
    {
      "cell_type": "code",
      "execution_count": null,
      "metadata": {},
      "outputs": [],
      "source": []
    },
    {
      "cell_type": "code",
      "execution_count": 31,
      "metadata": {},
      "outputs": [
        {
          "name": "stderr",
          "output_type": "stream",
          "text": [
            "C:\\Users\\Rayni\\AppData\\Local\\Packages\\PythonSoftwareFoundation.Python.3.9_qbz5n2kfra8p0\\LocalCache\\local-packages\\Python39\\site-packages\\sklearn\\metrics\\_classification.py:1344: UndefinedMetricWarning: Precision is ill-defined and being set to 0.0 in labels with no predicted samples. Use `zero_division` parameter to control this behavior.\n",
            "  _warn_prf(average, modifier, msg_start, len(result))\n",
            "C:\\Users\\Rayni\\AppData\\Local\\Packages\\PythonSoftwareFoundation.Python.3.9_qbz5n2kfra8p0\\LocalCache\\local-packages\\Python39\\site-packages\\sklearn\\metrics\\_classification.py:1344: UndefinedMetricWarning: Precision and F-score are ill-defined and being set to 0.0 in labels with no predicted samples. Use `zero_division` parameter to control this behavior.\n",
            "  _warn_prf(average, modifier, msg_start, len(result))\n",
            "C:\\Users\\Rayni\\AppData\\Local\\Packages\\PythonSoftwareFoundation.Python.3.9_qbz5n2kfra8p0\\LocalCache\\local-packages\\Python39\\site-packages\\sklearn\\metrics\\_classification.py:1344: UndefinedMetricWarning: Precision and F-score are ill-defined and being set to 0.0 in labels with no predicted samples. Use `zero_division` parameter to control this behavior.\n",
            "  _warn_prf(average, modifier, msg_start, len(result))\n",
            "C:\\Users\\Rayni\\AppData\\Local\\Packages\\PythonSoftwareFoundation.Python.3.9_qbz5n2kfra8p0\\LocalCache\\local-packages\\Python39\\site-packages\\sklearn\\metrics\\_classification.py:1344: UndefinedMetricWarning: Precision and F-score are ill-defined and being set to 0.0 in labels with no predicted samples. Use `zero_division` parameter to control this behavior.\n",
            "  _warn_prf(average, modifier, msg_start, len(result))\n"
          ]
        },
        {
          "name": "stdout",
          "output_type": "stream",
          "text": [
            "Accuracy: (MNB 0.769249106078665), (RFC 0.6042908224076281), (SVC 0.9053635280095351)\n",
            "Precision: (MNB 0.8267586510106694), (RFC 0.45980647916638073), (SVC 0.9228873176561305)\n",
            "Recall: (MNB 0.595773741544386), (RFC 0.4369084512877173), (SVC 0.8707228233239825)\n",
            "F1-score: (MNB 0.5833374614924293), (RFC 0.40535805825350213), (SVC 0.8920966249335924)\n",
            "\n",
            "\n",
            "                      precision    recall  f1-score   support\n",
            "\n",
            "    Computer Science       0.62      0.89      0.73       907\n",
            "         Mathematics       0.91      0.89      0.90      1093\n",
            "             Physics       0.86      0.86      0.86       922\n",
            "Quantitative Biology       1.00      0.02      0.05       161\n",
            "Quantitative Finance       0.72      0.78      0.75       768\n",
            "          Statistics       0.85      0.12      0.21       344\n",
            "\n",
            "            accuracy                           0.77      4195\n",
            "           macro avg       0.83      0.60      0.58      4195\n",
            "        weighted avg       0.80      0.77      0.74      4195\n",
            "\n",
            "                      precision    recall  f1-score   support\n",
            "\n",
            "    Computer Science       0.56      0.67      0.61       907\n",
            "         Mathematics       0.53      0.98      0.69      1093\n",
            "             Physics       0.75      0.72      0.73       922\n",
            "Quantitative Biology       0.00      0.00      0.00       161\n",
            "Quantitative Finance       0.92      0.26      0.40       768\n",
            "          Statistics       0.00      0.00      0.00       344\n",
            "\n",
            "            accuracy                           0.60      4195\n",
            "           macro avg       0.46      0.44      0.41      4195\n",
            "        weighted avg       0.59      0.60      0.55      4195\n",
            "\n",
            "                      precision    recall  f1-score   support\n",
            "\n",
            "    Computer Science       0.84      0.94      0.89       907\n",
            "         Mathematics       0.92      0.94      0.93      1093\n",
            "             Physics       0.93      0.91      0.92       922\n",
            "Quantitative Biology       1.00      0.73      0.84       161\n",
            "Quantitative Finance       0.92      0.88      0.90       768\n",
            "          Statistics       0.93      0.83      0.87       344\n",
            "\n",
            "            accuracy                           0.91      4195\n",
            "           macro avg       0.92      0.87      0.89      4195\n",
            "        weighted avg       0.91      0.91      0.91      4195\n",
            "\n"
          ]
        }
      ],
      "source": [
        "# Import necessary libraries\n",
        "from sklearn.metrics import accuracy_score, precision_score, recall_score, f1_score, classification_report\n",
        "\n",
        "# Make predictions on test data\n",
        "y_pred = clf.predict(X_test_tfidf)\n",
        "y_pred1 = rfc.predict(X_test_tfidf1)\n",
        "y_pred2 = svcm.predict(X_test_tfidf2)\n",
        "\n",
        "# Calculate evaluation metrics for multinomial\n",
        "accuracy = accuracy_score(y_test, y_pred)\n",
        "precision = precision_score(y_test, y_pred, average='macro')\n",
        "recall = recall_score(y_test, y_pred, average='macro')\n",
        "f1 = f1_score(y_test, y_pred, average='macro')\n",
        "\n",
        "# Calculate evaluation metrics for random forest\n",
        "accuracy1 = accuracy_score(y_test1, y_pred1)\n",
        "precision1 = precision_score(y_test1, y_pred1, average='macro')\n",
        "recall1 = recall_score(y_test1, y_pred1, average='macro')\n",
        "f2 = f1_score(y_test1, y_pred1, average='macro')\n",
        "\n",
        "# Calculate evaluation metrics for SVC\n",
        "accuracy2 = accuracy_score(y_test2, y_pred2)\n",
        "precision2 = precision_score(y_test2, y_pred2, average='macro')\n",
        "recall2 = recall_score(y_test2, y_pred2, average='macro')\n",
        "f3 = f1_score(y_test2, y_pred2, average='macro')\n",
        "\n",
        "# Print evaluation metrics\n",
        "print(f\"Accuracy: (MNB {accuracy}), (RFC {accuracy1}), (SVC {accuracy2})\")\n",
        "print(f\"Precision: (MNB {precision}), (RFC {precision1}), (SVC {precision2})\")\n",
        "print(f\"Recall: (MNB {recall}), (RFC {recall1}), (SVC {recall2})\")\n",
        "print(f\"F1-score: (MNB {f1}), (RFC {f2}), (SVC {f3})\")\n",
        "print('\\n')\n",
        "# Print classification report\n",
        "print(classification_report(y_test, y_pred))\n",
        "print(classification_report(y_test1, y_pred1))\n",
        "print(classification_report(y_test2, y_pred2))"
      ]
    },
    {
      "cell_type": "code",
      "execution_count": null,
      "metadata": {},
      "outputs": [],
      "source": [
        "# Create a WordCloud\n",
        "py_df = final_df[(final_df['ABSTRACT_Topic'] == 'Computer Science')]\n",
        "\n",
        "long_string = ','.join(list(py_df.ABSTRACT.values))\n",
        "\n",
        "wordcloud = WordCloud(stopwords=stopwords.words('english'),\n",
        "                      width=1920,\n",
        "                      height=1080,\n",
        "                      background_color=\"white\",\n",
        "                      max_words=100,\n",
        "                      contour_width=3,\n",
        "                      colormap='summer',\n",
        "                      random_state=720)\n",
        "\n",
        "wordcloud.generate(long_string)\n",
        "\n",
        "plt.figure(figsize=(25, 10))\n",
        "\n",
        "plt.imshow(wordcloud, interpolation='bilinear')\n",
        "\n",
        "plt.axis('off')\n",
        "\n",
        "plt.title(\"100 most common words in Computer Science\", pad=14, weight='bold')\n",
        "\n",
        "plt.imshow(wordcloud, interpolation='bilinear')\n",
        "\n",
        "plt.show()"
      ]
    }
  ],
  "metadata": {
    "colab": {
      "provenance": []
    },
    "kernelspec": {
      "display_name": "Python 3",
      "language": "python",
      "name": "python3"
    },
    "language_info": {
      "codemirror_mode": {
        "name": "ipython",
        "version": 3
      },
      "file_extension": ".py",
      "mimetype": "text/x-python",
      "name": "python",
      "nbconvert_exporter": "python",
      "pygments_lexer": "ipython3",
      "version": "3.9.13"
    },
    "orig_nbformat": 4
  },
  "nbformat": 4,
  "nbformat_minor": 0
}
