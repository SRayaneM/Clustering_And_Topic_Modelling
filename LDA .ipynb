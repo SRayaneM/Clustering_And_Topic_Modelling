{
  "cells": [
    {
      "cell_type": "markdown",
      "metadata": {
        "id": "aLjSifPyrA-U"
      },
      "source": [
        "# LDA introduction.\n",
        "\n",
        "Natural language processing (NLP) employs the probabilistic topic modeling method known as Latent Dirichlet Allocation (LDA).\n",
        "\n",
        "By identifying the topics that most accurately represent each theme, LDA aims to reveal the hidden thematic structure of a group of documents.\n",
        "\n",
        "LDA can be used to find the topics that are most pertinent to computer science, mathematics, and physics in the case of abstracts for STEM subjects.\n",
        "\n",
        "We begin by preprocessing the text data for this purpose in order to get rid of stop words, punctuation, and other extraneous details.\n",
        "\n",
        "In order to represent the frequency of each term in each document, we tokenize the text to separate it into individual words or phrases.\n",
        "\n",
        "The topics that best explain the variation in the data can be found using LDA once we have the document-term matrix.\n",
        "\n",
        "Until the model converges on a stable solution, this entails repeatedly assigning each word in each document to a topic and adjusting the topic probabilities.\n",
        "\n",
        "The LDA model produces a list of topics, each of which is represented by a distribution over the vocabulary words.\n",
        "\n",
        "The topics can then be understood by looking at the most frequently occurring words in each topic and using domain knowledge to assign them to pertinent STEM subject areas.\n",
        "\n",
        "We previously conduct a similar procedure using TF-IDF, and this model will work in tandom with the website that we have created for the users to input their abstracts."
      ]
    },
    {
      "cell_type": "markdown",
      "metadata": {
        "id": "sxOdNoOsrA-V"
      },
      "source": [
        "We first begin by importing the libraries that will be using."
      ]
    },
    {
      "cell_type": "code",
      "execution_count": null,
      "metadata": {
        "id": "nOpKdqP1rQ9E"
      },
      "outputs": [],
      "source": [
        "pip install pyLDAvis\n"
      ]
    },
    {
      "cell_type": "code",
      "execution_count": null,
      "metadata": {
        "colab": {
          "base_uri": "https://localhost:8080/"
        },
        "id": "44X2uTSWr8PP",
        "outputId": "023aab51-0ac1-475d-fa56-85362f2c0a6d"
      },
      "outputs": [],
      "source": [
        "import nltk\n",
        "nltk.download('punkt')\n",
        "nltk.download('stopwords')\n",
        "nltk.download('wordnet')\n",
        "nltk.download('wordnet')"
      ]
    },
    {
      "cell_type": "markdown",
      "metadata": {
        "id": "QuCNrDsurdcv"
      },
      "source": [
        "You can use the following command line to import the dataset file in case youre using Google Colab."
      ]
    },
    {
      "cell_type": "code",
      "execution_count": null,
      "metadata": {
        "colab": {
          "base_uri": "https://localhost:8080/",
          "height": 79
        },
        "id": "rk2lLxmJrdcv",
        "outputId": "3d47093e-a651-4c59-df0c-8135125b0cd3"
      },
      "outputs": [
        {
          "data": {
            "text/html": [
              "\n",
              "     <input type=\"file\" id=\"files-2b8af976-2999-4dbe-aaa8-f4907843493c\" name=\"files[]\" multiple disabled\n",
              "        style=\"border:none\" />\n",
              "     <output id=\"result-2b8af976-2999-4dbe-aaa8-f4907843493c\">\n",
              "      Upload widget is only available when the cell has been executed in the\n",
              "      current browser session. Please rerun this cell to enable.\n",
              "      </output>\n",
              "      <script>// Copyright 2017 Google LLC\n",
              "//\n",
              "// Licensed under the Apache License, Version 2.0 (the \"License\");\n",
              "// you may not use this file except in compliance with the License.\n",
              "// You may obtain a copy of the License at\n",
              "//\n",
              "//      http://www.apache.org/licenses/LICENSE-2.0\n",
              "//\n",
              "// Unless required by applicable law or agreed to in writing, software\n",
              "// distributed under the License is distributed on an \"AS IS\" BASIS,\n",
              "// WITHOUT WARRANTIES OR CONDITIONS OF ANY KIND, either express or implied.\n",
              "// See the License for the specific language governing permissions and\n",
              "// limitations under the License.\n",
              "\n",
              "/**\n",
              " * @fileoverview Helpers for google.colab Python module.\n",
              " */\n",
              "(function(scope) {\n",
              "function span(text, styleAttributes = {}) {\n",
              "  const element = document.createElement('span');\n",
              "  element.textContent = text;\n",
              "  for (const key of Object.keys(styleAttributes)) {\n",
              "    element.style[key] = styleAttributes[key];\n",
              "  }\n",
              "  return element;\n",
              "}\n",
              "\n",
              "// Max number of bytes which will be uploaded at a time.\n",
              "const MAX_PAYLOAD_SIZE = 100 * 1024;\n",
              "\n",
              "function _uploadFiles(inputId, outputId) {\n",
              "  const steps = uploadFilesStep(inputId, outputId);\n",
              "  const outputElement = document.getElementById(outputId);\n",
              "  // Cache steps on the outputElement to make it available for the next call\n",
              "  // to uploadFilesContinue from Python.\n",
              "  outputElement.steps = steps;\n",
              "\n",
              "  return _uploadFilesContinue(outputId);\n",
              "}\n",
              "\n",
              "// This is roughly an async generator (not supported in the browser yet),\n",
              "// where there are multiple asynchronous steps and the Python side is going\n",
              "// to poll for completion of each step.\n",
              "// This uses a Promise to block the python side on completion of each step,\n",
              "// then passes the result of the previous step as the input to the next step.\n",
              "function _uploadFilesContinue(outputId) {\n",
              "  const outputElement = document.getElementById(outputId);\n",
              "  const steps = outputElement.steps;\n",
              "\n",
              "  const next = steps.next(outputElement.lastPromiseValue);\n",
              "  return Promise.resolve(next.value.promise).then((value) => {\n",
              "    // Cache the last promise value to make it available to the next\n",
              "    // step of the generator.\n",
              "    outputElement.lastPromiseValue = value;\n",
              "    return next.value.response;\n",
              "  });\n",
              "}\n",
              "\n",
              "/**\n",
              " * Generator function which is called between each async step of the upload\n",
              " * process.\n",
              " * @param {string} inputId Element ID of the input file picker element.\n",
              " * @param {string} outputId Element ID of the output display.\n",
              " * @return {!Iterable<!Object>} Iterable of next steps.\n",
              " */\n",
              "function* uploadFilesStep(inputId, outputId) {\n",
              "  const inputElement = document.getElementById(inputId);\n",
              "  inputElement.disabled = false;\n",
              "\n",
              "  const outputElement = document.getElementById(outputId);\n",
              "  outputElement.innerHTML = '';\n",
              "\n",
              "  const pickedPromise = new Promise((resolve) => {\n",
              "    inputElement.addEventListener('change', (e) => {\n",
              "      resolve(e.target.files);\n",
              "    });\n",
              "  });\n",
              "\n",
              "  const cancel = document.createElement('button');\n",
              "  inputElement.parentElement.appendChild(cancel);\n",
              "  cancel.textContent = 'Cancel upload';\n",
              "  const cancelPromise = new Promise((resolve) => {\n",
              "    cancel.onclick = () => {\n",
              "      resolve(null);\n",
              "    };\n",
              "  });\n",
              "\n",
              "  // Wait for the user to pick the files.\n",
              "  const files = yield {\n",
              "    promise: Promise.race([pickedPromise, cancelPromise]),\n",
              "    response: {\n",
              "      action: 'starting',\n",
              "    }\n",
              "  };\n",
              "\n",
              "  cancel.remove();\n",
              "\n",
              "  // Disable the input element since further picks are not allowed.\n",
              "  inputElement.disabled = true;\n",
              "\n",
              "  if (!files) {\n",
              "    return {\n",
              "      response: {\n",
              "        action: 'complete',\n",
              "      }\n",
              "    };\n",
              "  }\n",
              "\n",
              "  for (const file of files) {\n",
              "    const li = document.createElement('li');\n",
              "    li.append(span(file.name, {fontWeight: 'bold'}));\n",
              "    li.append(span(\n",
              "        `(${file.type || 'n/a'}) - ${file.size} bytes, ` +\n",
              "        `last modified: ${\n",
              "            file.lastModifiedDate ? file.lastModifiedDate.toLocaleDateString() :\n",
              "                                    'n/a'} - `));\n",
              "    const percent = span('0% done');\n",
              "    li.appendChild(percent);\n",
              "\n",
              "    outputElement.appendChild(li);\n",
              "\n",
              "    const fileDataPromise = new Promise((resolve) => {\n",
              "      const reader = new FileReader();\n",
              "      reader.onload = (e) => {\n",
              "        resolve(e.target.result);\n",
              "      };\n",
              "      reader.readAsArrayBuffer(file);\n",
              "    });\n",
              "    // Wait for the data to be ready.\n",
              "    let fileData = yield {\n",
              "      promise: fileDataPromise,\n",
              "      response: {\n",
              "        action: 'continue',\n",
              "      }\n",
              "    };\n",
              "\n",
              "    // Use a chunked sending to avoid message size limits. See b/62115660.\n",
              "    let position = 0;\n",
              "    do {\n",
              "      const length = Math.min(fileData.byteLength - position, MAX_PAYLOAD_SIZE);\n",
              "      const chunk = new Uint8Array(fileData, position, length);\n",
              "      position += length;\n",
              "\n",
              "      const base64 = btoa(String.fromCharCode.apply(null, chunk));\n",
              "      yield {\n",
              "        response: {\n",
              "          action: 'append',\n",
              "          file: file.name,\n",
              "          data: base64,\n",
              "        },\n",
              "      };\n",
              "\n",
              "      let percentDone = fileData.byteLength === 0 ?\n",
              "          100 :\n",
              "          Math.round((position / fileData.byteLength) * 100);\n",
              "      percent.textContent = `${percentDone}% done`;\n",
              "\n",
              "    } while (position < fileData.byteLength);\n",
              "  }\n",
              "\n",
              "  // All done.\n",
              "  yield {\n",
              "    response: {\n",
              "      action: 'complete',\n",
              "    }\n",
              "  };\n",
              "}\n",
              "\n",
              "scope.google = scope.google || {};\n",
              "scope.google.colab = scope.google.colab || {};\n",
              "scope.google.colab._files = {\n",
              "  _uploadFiles,\n",
              "  _uploadFilesContinue,\n",
              "};\n",
              "})(self);\n",
              "</script> "
            ],
            "text/plain": [
              "<IPython.core.display.HTML object>"
            ]
          },
          "metadata": {},
          "output_type": "display_data"
        },
        {
          "name": "stdout",
          "output_type": "stream",
          "text": [
            "Saving abstracts.csv to abstracts.csv\n"
          ]
        }
      ],
      "source": [
        "from google.colab import files\n",
        "\n",
        "uploaded = files.upload()"
      ]
    },
    {
      "cell_type": "code",
      "execution_count": 4,
      "metadata": {
        "colab": {
          "base_uri": "https://localhost:8080/"
        },
        "id": "Zycx5gHQrA-V",
        "outputId": "78b957d6-1390-49d1-e117-e89a844e9d30"
      },
      "outputs": [
        {
          "name": "stderr",
          "output_type": "stream",
          "text": [
            "C:\\Users\\Rayni\\AppData\\Local\\Packages\\PythonSoftwareFoundation.Python.3.9_qbz5n2kfra8p0\\LocalCache\\local-packages\\Python39\\site-packages\\seaborn\\rcmod.py:82: DeprecationWarning: distutils Version classes are deprecated. Use packaging.version instead.\n",
            "  if LooseVersion(mpl.__version__) >= \"3.0\":\n",
            "C:\\Users\\Rayni\\AppData\\Local\\Packages\\PythonSoftwareFoundation.Python.3.9_qbz5n2kfra8p0\\LocalCache\\local-packages\\Python39\\site-packages\\setuptools\\_distutils\\version.py:345: DeprecationWarning: distutils Version classes are deprecated. Use packaging.version instead.\n",
            "  other = LooseVersion(other)\n",
            "C:\\Users\\Rayni\\AppData\\Local\\Packages\\PythonSoftwareFoundation.Python.3.9_qbz5n2kfra8p0\\LocalCache\\local-packages\\Python39\\site-packages\\scipy\\sparse\\sparsetools.py:21: DeprecationWarning: `scipy.sparse.sparsetools` is deprecated!\n",
            "scipy.sparse.sparsetools is a private module for scipy.sparse, and should not be used.\n",
            "  _deprecated()\n"
          ]
        }
      ],
      "source": [
        "import pandas as pd\n",
        "import numpy as np\n",
        "import re\n",
        "import string\n",
        "import spacy\n",
        "import pickle\n",
        "\n",
        "# libraries for visualization\n",
        "import pyLDAvis\n",
        "import pyLDAvis.lda_model\n",
        "import matplotlib.pyplot as plt\n",
        "import seaborn as sns\n",
        "import gensim\n",
        "from gensim import corpora\n",
        "from sklearn.decomposition import LatentDirichletAllocation\n",
        "import pyLDAvis.gensim_models as gensimvis\n",
        "import nltk\n",
        "from sklearn.feature_extraction.text import TfidfVectorizer, CountVectorizer"
      ]
    },
    {
      "cell_type": "markdown",
      "metadata": {
        "id": "pHXdBwZcrA-W"
      },
      "source": [
        "We will then import our data set as we did before."
      ]
    },
    {
      "cell_type": "code",
      "execution_count": 5,
      "metadata": {
        "colab": {
          "base_uri": "https://localhost:8080/",
          "height": 261
        },
        "id": "AaKP2sZXrA-W",
        "outputId": "22f2d7b0-92d5-49c2-d670-33133446b56e"
      },
      "outputs": [
        {
          "data": {
            "text/html": [
              "<div>\n",
              "<style scoped>\n",
              "    .dataframe tbody tr th:only-of-type {\n",
              "        vertical-align: middle;\n",
              "    }\n",
              "\n",
              "    .dataframe tbody tr th {\n",
              "        vertical-align: top;\n",
              "    }\n",
              "\n",
              "    .dataframe thead th {\n",
              "        text-align: right;\n",
              "    }\n",
              "</style>\n",
              "<table border=\"1\" class=\"dataframe\">\n",
              "  <thead>\n",
              "    <tr style=\"text-align: right;\">\n",
              "      <th></th>\n",
              "      <th>ID</th>\n",
              "      <th>TITLE</th>\n",
              "      <th>ABSTRACT</th>\n",
              "    </tr>\n",
              "  </thead>\n",
              "  <tbody>\n",
              "    <tr>\n",
              "      <th>0</th>\n",
              "      <td>1</td>\n",
              "      <td>Reconstructing Subject-Specific Effect Maps</td>\n",
              "      <td>Predictive models allow subject-specific inf...</td>\n",
              "    </tr>\n",
              "    <tr>\n",
              "      <th>1</th>\n",
              "      <td>2</td>\n",
              "      <td>Rotation Invariance Neural Network</td>\n",
              "      <td>Rotation invariance and translation invarian...</td>\n",
              "    </tr>\n",
              "    <tr>\n",
              "      <th>2</th>\n",
              "      <td>3</td>\n",
              "      <td>Spherical polyharmonics and Poisson kernels fo...</td>\n",
              "      <td>We introduce and develop the notion of spher...</td>\n",
              "    </tr>\n",
              "    <tr>\n",
              "      <th>3</th>\n",
              "      <td>4</td>\n",
              "      <td>A finite element approximation for the stochas...</td>\n",
              "      <td>The stochastic Landau--Lifshitz--Gilbert (LL...</td>\n",
              "    </tr>\n",
              "    <tr>\n",
              "      <th>4</th>\n",
              "      <td>5</td>\n",
              "      <td>Comparative study of Discrete Wavelet Transfor...</td>\n",
              "      <td>Fourier-transform infra-red (FTIR) spectra o...</td>\n",
              "    </tr>\n",
              "  </tbody>\n",
              "</table>\n",
              "</div>"
            ],
            "text/plain": [
              "   ID                                              TITLE  \\\n",
              "0   1        Reconstructing Subject-Specific Effect Maps   \n",
              "1   2                 Rotation Invariance Neural Network   \n",
              "2   3  Spherical polyharmonics and Poisson kernels fo...   \n",
              "3   4  A finite element approximation for the stochas...   \n",
              "4   5  Comparative study of Discrete Wavelet Transfor...   \n",
              "\n",
              "                                            ABSTRACT  \n",
              "0    Predictive models allow subject-specific inf...  \n",
              "1    Rotation invariance and translation invarian...  \n",
              "2    We introduce and develop the notion of spher...  \n",
              "3    The stochastic Landau--Lifshitz--Gilbert (LL...  \n",
              "4    Fourier-transform infra-red (FTIR) spectra o...  "
            ]
          },
          "execution_count": 5,
          "metadata": {},
          "output_type": "execute_result"
        }
      ],
      "source": [
        "train_df = pd.read_csv('abstracts.csv')\n",
        "train_df.head()"
      ]
    },
    {
      "cell_type": "code",
      "execution_count": 6,
      "metadata": {
        "colab": {
          "base_uri": "https://localhost:8080/"
        },
        "id": "4B9vK3zgrdcx",
        "outputId": "2a2b00c7-b86e-4b67-cd8b-72c5c0de1a17"
      },
      "outputs": [
        {
          "name": "stdout",
          "output_type": "stream",
          "text": [
            "<class 'pandas.core.frame.DataFrame'>\n",
            "RangeIndex: 20972 entries, 0 to 20971\n",
            "Data columns (total 3 columns):\n",
            " #   Column    Non-Null Count  Dtype \n",
            "---  ------    --------------  ----- \n",
            " 0   ID        20972 non-null  int64 \n",
            " 1   TITLE     20972 non-null  object\n",
            " 2   ABSTRACT  20972 non-null  object\n",
            "dtypes: int64(1), object(2)\n",
            "memory usage: 491.7+ KB\n"
          ]
        }
      ],
      "source": [
        "train_df.info()"
      ]
    },
    {
      "cell_type": "markdown",
      "metadata": {
        "id": "Gbf4wHp7rA-X"
      },
      "source": [
        "## Data cleaning and preprocessing.\n",
        "And afterwords, we will have our cleaning function. this function performs a series of common text preprocessing steps to remove noise and irrelevant information from the input text, which can improve the accuracy of natural language processing tasks. These steps include removing punctuation, removing words that are entirely composed of digits, and removing short words.\n",
        "\n"
      ]
    },
    {
      "cell_type": "code",
      "execution_count": 7,
      "metadata": {
        "colab": {
          "base_uri": "https://localhost:8080/"
        },
        "id": "bDdSHy2orA-X",
        "outputId": "a3df7c57-1f04-42ad-b416-40266c48fab6"
      },
      "outputs": [],
      "source": [
        "def clean_text(text):\n",
        "    #The first line of the function creates a dictionary called clean_dict that maps each punctuation character in the string.punctuation string to an empty string.\n",
        "    #This will be used to remove all punctuation characters from the text.\n",
        "    clean_dict = {special_char: '' for special_char in string.punctuation}\n",
        "    clean_dict[' '] = ' '\n",
        "    #A translation table is created using the str.maketrans() method, which takes the clean_dict dictionary as input\n",
        "    #and returns a translation table that can be used with the translate() method to remove punctuation from the text.\n",
        "    table = str.maketrans(clean_dict)\n",
        "    text_1 = text.translate(\n",
        "        table\n",
        "    )  #he translate() method is called on the input text using the translation table to remove all punctuation characters.\n",
        "    text_Array = text_1.split()\n",
        "\n",
        "    \"\"\"\n",
        "    A list comprehension is used to remove any words that are entirely composed of digits (isdigit()) or that have a length less than or equal to 3 characters.\n",
        "    The remaining words are joined back together into a string with spaces between them using the join() method.\n",
        "    The resulting cleaned text is converted to lowercase using the lower() method.\n",
        "    \"\"\"\n",
        "    text_2 = ' '.join([\n",
        "        word for word in text_Array\n",
        "        if (not word.isdigit() and (not word.isdigit() and len(word) > 3))\n",
        "    ])\n",
        "\n",
        "    return text_2.lower()"
      ]
    },
    {
      "cell_type": "markdown",
      "metadata": {
        "id": "gB66_J-ZrA-X"
      },
      "source": [
        "We will then be using a Natural Language Toolkit (NLTK) library to remove stopwords from text data.\n",
        "\n",
        "Stopwords are words that occur frequently in a language but do not carry much meaning, such as \"a\", \"an\", \"the\", \"in\", \"of\", etc.\n",
        "\n",
        "The first two lines of the code import the stopwords module from NLTK and create a variable stop_words that contains a list of English stopwords.\n",
        "\n",
        "Next, a function remove_stopwords is defined that takes a single argument text, which is a string containing text data.\n",
        "\n",
        "The function splits the input text into an array of words using the split() method and then uses a list comprehension to remove any words that appear in the stop_words list.\n",
        "\n",
        "The filtered words are then joined back together into a string using the join() method and returned.\n",
        "\n",
        "Finally, the apply() method is used to apply the remove_stopwords function to every row in the 'ABSTRACT' column of the train_df DataFrame.\n",
        "\n",
        "This removes the stopwords from the text data in each row and updates the 'ABSTRACT' column in-place with the cleaned text."
      ]
    },
    {
      "cell_type": "code",
      "execution_count": 8,
      "metadata": {
        "colab": {
          "base_uri": "https://localhost:8080/"
        },
        "id": "F3KsKu5UrA-Y",
        "outputId": "b559ad98-995a-42ae-e47d-bc504769cdb3"
      },
      "outputs": [],
      "source": [
        "from nltk.corpus import stopwords\n",
        "\n",
        "stop_words = stopwords.words('english')\n",
        "\n",
        "\n",
        "#We then create a function to remove the stopwords in our text.\n",
        "def remove_stopwords(text):\n",
        "    text_Array = text.split(' ')\n",
        "    remove_words = \" \".join([i for i in text_Array if i not in stop_words])\n",
        "    return remove_words\n",
        "\n",
        "\n",
        "#And here we will apply the remove_stopwords function. This will remove the stopwords from our dataset's text\n",
        "train_df['ABSTRACT'] = train_df['ABSTRACT'].apply(remove_stopwords)\n"
      ]
    },
    {
      "cell_type": "markdown",
      "metadata": {
        "id": "WOpDJIT2rA-Y"
      },
      "source": [
        "We will use the SpaCy library to perform lemmatization on a list of input texts. Lemmatization is the process of reducing words to their base or dictionary form, which can be useful for standardizing text data and reducing noise in natural language processing tasks. However before beginning to use the Spacy library, you must first install the required tools to begin using the Spacy library. Run the following commands in the terminal to install the required tools.\n",
        "````\n",
        "pip install -U pip setuptools wheel\n",
        "pip install -U spacy\n",
        "python -m spacy download en_core_web_sm\n",
        "````\n",
        "\n"
      ]
    },
    {
      "cell_type": "code",
      "execution_count": 15,
      "metadata": {
        "colab": {
          "base_uri": "https://localhost:8080/"
        },
        "id": "16snqFMy4K6x",
        "outputId": "d42ef44c-e2a0-446d-dfdb-0f52f4223366"
      },
      "outputs": [],
      "source": [
        "'''\n",
        "The first line of the code loads the 'en_core_web_md' SpaCy model, \n",
        "which is a medium-sized English language model that includes word vectors and supports part-of-speech tagging, \n",
        "named entity recognition, and dependency parsing. The 'parser' and 'ner' components are disabled using the disable parameter, \n",
        "which speeds up the processing time since these components are not needed for lemmatization.\n",
        "'''\n",
        "import gensim\n",
        "from gensim.utils import simple_preprocess\n",
        "from gensim.parsing.preprocessing import STOPWORDS\n",
        "from nltk.stem import WordNetLemmatizer, SnowballStemmer\n",
        "from nltk.stem.porter import *    \n",
        "\n",
        "nlp = spacy.load('en_core_web_lg', disable=['parser', 'ner'])\n",
        " \n",
        "def lemmatization(texts,allowed_postags=['VERB', 'ADV','ADJ']): \n",
        "       output = []\n",
        "       for sent in texts:\n",
        "             doc = nlp(sent) \n",
        "             output.append([token.lemma_ for token in doc if token.pos_ in allowed_postags ])\n",
        "       return output\n",
        "\n"
      ]
    },
    {
      "cell_type": "code",
      "execution_count": 16,
      "metadata": {
        "colab": {
          "base_uri": "https://localhost:8080/"
        },
        "id": "VyAvPK8Trdc0",
        "outputId": "7c4fbdb4-4580-4181-8a12-031404060073"
      },
      "outputs": [
        {
          "data": {
            "text/plain": [
              "dtype('O')"
            ]
          },
          "execution_count": 16,
          "metadata": {},
          "output_type": "execute_result"
        }
      ],
      "source": [
        "train_df['ABSTRACT'].dtypes"
      ]
    },
    {
      "cell_type": "code",
      "execution_count": 17,
      "metadata": {
        "colab": {
          "base_uri": "https://localhost:8080/"
        },
        "id": "-RtTNfMIrdc0",
        "outputId": "2dba3c0d-5639-42c9-c77e-2a2009617367"
      },
      "outputs": [
        {
          "data": {
            "text/plain": [
              "0        False\n",
              "1        False\n",
              "2        False\n",
              "3        False\n",
              "4        False\n",
              "         ...  \n",
              "20967    False\n",
              "20968    False\n",
              "20969    False\n",
              "20970    False\n",
              "20971    False\n",
              "Name: ABSTRACT, Length: 20972, dtype: bool"
            ]
          },
          "execution_count": 17,
          "metadata": {},
          "output_type": "execute_result"
        }
      ],
      "source": [
        "train_df['ABSTRACT'].isnull()"
      ]
    },
    {
      "cell_type": "code",
      "execution_count": 18,
      "metadata": {
        "colab": {
          "base_uri": "https://localhost:8080/"
        },
        "id": "P-uyIu1ZrA-Z",
        "outputId": "96b56485-a867-4a2c-a60a-3e4f3eec115a"
      },
      "outputs": [
        {
          "name": "stdout",
          "output_type": "stream",
          "text": [
            "  Rotation invariance translation invariance great values image\n",
            "recognition tasks. In paper, bring new architecture convolutional\n",
            "neural network (CNN) named cyclic convolutional layer achieve rotation\n",
            "invariance 2-D symbol recognition. We also get position and\n",
            "orientation 2-D symbol network achieve detection purpose for\n",
            "multiple non-overlap target. Last least, architecture achieve\n",
            "one-shot learning cases using invariance.\n",
            "\n",
            "['great', 'bring', 'new', 'convolutional', 'neural', 'name', 'cyclic', 'convolutional', 'achieve', 'd', 'also', 'get', 'd', 'achieve', 'multiple', 'non', '-', 'overlap', 'last', 'least', 'achieve', 'use']\n"
          ]
        }
      ],
      "source": [
        "\n",
        "text_list=train_df['ABSTRACT'].tolist()\n",
        "print(text_list[1])\n",
        "tokenized_reviews = lemmatization(text_list)\n",
        "print(tokenized_reviews[1])"
      ]
    },
    {
      "cell_type": "code",
      "execution_count": 19,
      "metadata": {
        "colab": {
          "base_uri": "https://localhost:8080/"
        },
        "id": "ydDDSn1sugpj",
        "outputId": "6ee31a2c-4112-41fd-da70-5270ce417386"
      },
      "outputs": [
        {
          "data": {
            "text/plain": [
              "[(13, 3),\n",
              " (48, 1),\n",
              " (128, 2),\n",
              " (129, 1),\n",
              " (170, 1),\n",
              " (235, 1),\n",
              " (249, 1),\n",
              " (333, 1),\n",
              " (409, 1),\n",
              " (464, 1),\n",
              " (556, 2),\n",
              " (688, 1),\n",
              " (766, 1),\n",
              " (822, 3),\n",
              " (873, 1),\n",
              " (1080, 1),\n",
              " (1325, 3),\n",
              " (1534, 3),\n",
              " (1624, 2),\n",
              " (1838, 6),\n",
              " (3500, 1)]"
            ]
          },
          "execution_count": 19,
          "metadata": {},
          "output_type": "execute_result"
        }
      ],
      "source": [
        "dictionary = corpora.Dictionary(tokenized_reviews)\n",
        "bow_corpus = [dictionary.doc2bow(doc) for doc in tokenized_reviews]\n",
        "bow_corpus[4310]"
      ]
    },
    {
      "cell_type": "code",
      "execution_count": 20,
      "metadata": {
        "colab": {
          "base_uri": "https://localhost:8080/"
        },
        "id": "qiLrh5Vyrdc0",
        "outputId": "c63891f2-9f87-411e-ac79-fc4349216c94"
      },
      "outputs": [
        {
          "name": "stdout",
          "output_type": "stream",
          "text": [
            "0 -\n",
            "1 aim\n",
            "2 allow\n",
            "3 also\n",
            "4 analyse\n",
            "5 analyze\n",
            "6 associate\n",
            "7 binary\n",
            "8 bootstrap\n",
            "9 compare\n",
            "10 compose\n"
          ]
        }
      ],
      "source": [
        "count = 0\n",
        "for k, v in dictionary.iteritems():\n",
        "    print(k, v)\n",
        "    count += 1\n",
        "    if count > 10:\n",
        "        break"
      ]
    },
    {
      "cell_type": "code",
      "execution_count": 21,
      "metadata": {
        "colab": {
          "base_uri": "https://localhost:8080/"
        },
        "id": "u-z-j-Xurdc1",
        "outputId": "34f0f188-2d45-47cd-84e8-bb2ee826c1ec"
      },
      "outputs": [],
      "source": [
        "dictionary.filter_extremes(no_below=15, no_above=0.5, keep_n=100000)"
      ]
    },
    {
      "cell_type": "code",
      "execution_count": 22,
      "metadata": {
        "colab": {
          "base_uri": "https://localhost:8080/"
        },
        "id": "fOJ0WxKlrdc1",
        "outputId": "51dcc00c-4f13-4564-b46c-e3270671743c"
      },
      "outputs": [
        {
          "name": "stdout",
          "output_type": "stream",
          "text": [
            "Word 13 (\"diagnostic\") appears 3 time.\n",
            "Word 48 (\"reduce\") appears 1 time.\n",
            "Word 128 (\"let\") appears 2 time.\n",
            "Word 129 (\"maximum\") appears 1 time.\n",
            "Word 170 (\"molecular\") appears 1 time.\n",
            "Word 235 (\"rather\") appears 1 time.\n",
            "Word 249 (\"diagonal\") appears 1 time.\n",
            "Word 333 (\"ongoing\") appears 1 time.\n",
            "Word 409 (\"analytic\") appears 1 time.\n",
            "Word 464 (\"parallel\") appears 1 time.\n",
            "Word 556 (\"major\") appears 2 time.\n",
            "Word 688 (\"significant\") appears 1 time.\n",
            "Word 766 (\"exotic\") appears 1 time.\n",
            "Word 822 (\"iteratively\") appears 3 time.\n",
            "Word 873 (\"effectively\") appears 1 time.\n",
            "Word 1080 (\"exponentially\") appears 1 time.\n",
            "Word 1325 (\"conformal\") appears 3 time.\n",
            "Word 1534 (\"drastically\") appears 3 time.\n",
            "Word 1624 (\"sized\") appears 2 time.\n",
            "Word 1838 (\"schrödinger\") appears 6 time.\n"
          ]
        },
        {
          "ename": "KeyError",
          "evalue": "3500",
          "output_type": "error",
          "traceback": [
            "\u001b[1;31m---------------------------------------------------------------------------\u001b[0m",
            "\u001b[1;31mKeyError\u001b[0m                                  Traceback (most recent call last)",
            "\u001b[1;32mc:\\Users\\Rayni\\Desktop\\Coding\\FYP\\Main\\LDA .ipynb Cell 23\u001b[0m in \u001b[0;36m5\n\u001b[0;32m      <a href='vscode-notebook-cell:/c%3A/Users/Rayni/Desktop/Coding/FYP/Main/LDA%20.ipynb#X31sZmlsZQ%3D%3D?line=0'>1</a>\u001b[0m bow_doc_4310 \u001b[39m=\u001b[39m bow_corpus[\u001b[39m4310\u001b[39m]\n\u001b[0;32m      <a href='vscode-notebook-cell:/c%3A/Users/Rayni/Desktop/Coding/FYP/Main/LDA%20.ipynb#X31sZmlsZQ%3D%3D?line=2'>3</a>\u001b[0m \u001b[39mfor\u001b[39;00m i \u001b[39min\u001b[39;00m \u001b[39mrange\u001b[39m(\u001b[39mlen\u001b[39m(bow_doc_4310)):\n\u001b[0;32m      <a href='vscode-notebook-cell:/c%3A/Users/Rayni/Desktop/Coding/FYP/Main/LDA%20.ipynb#X31sZmlsZQ%3D%3D?line=3'>4</a>\u001b[0m     \u001b[39mprint\u001b[39m(\u001b[39m\"\u001b[39m\u001b[39mWord \u001b[39m\u001b[39m{}\u001b[39;00m\u001b[39m (\u001b[39m\u001b[39m\\\"\u001b[39;00m\u001b[39m{}\u001b[39;00m\u001b[39m\\\"\u001b[39;00m\u001b[39m) appears \u001b[39m\u001b[39m{}\u001b[39;00m\u001b[39m time.\u001b[39m\u001b[39m\"\u001b[39m\u001b[39m.\u001b[39mformat(\n\u001b[1;32m----> <a href='vscode-notebook-cell:/c%3A/Users/Rayni/Desktop/Coding/FYP/Main/LDA%20.ipynb#X31sZmlsZQ%3D%3D?line=4'>5</a>\u001b[0m         bow_doc_4310[i][\u001b[39m0\u001b[39m], dictionary[bow_doc_4310[i][\u001b[39m0\u001b[39;49m]],\n\u001b[0;32m      <a href='vscode-notebook-cell:/c%3A/Users/Rayni/Desktop/Coding/FYP/Main/LDA%20.ipynb#X31sZmlsZQ%3D%3D?line=5'>6</a>\u001b[0m         bow_doc_4310[i][\u001b[39m1\u001b[39m]))\n",
            "File \u001b[1;32m~\\AppData\\Local\\Packages\\PythonSoftwareFoundation.Python.3.9_qbz5n2kfra8p0\\LocalCache\\local-packages\\Python39\\site-packages\\gensim\\corpora\\dictionary.py:107\u001b[0m, in \u001b[0;36mDictionary.__getitem__\u001b[1;34m(self, tokenid)\u001b[0m\n\u001b[0;32m    103\u001b[0m \u001b[39mif\u001b[39;00m \u001b[39mlen\u001b[39m(\u001b[39mself\u001b[39m\u001b[39m.\u001b[39mid2token) \u001b[39m!=\u001b[39m \u001b[39mlen\u001b[39m(\u001b[39mself\u001b[39m\u001b[39m.\u001b[39mtoken2id):\n\u001b[0;32m    104\u001b[0m     \u001b[39m# the word->id mapping has changed (presumably via add_documents);\u001b[39;00m\n\u001b[0;32m    105\u001b[0m     \u001b[39m# recompute id->word accordingly\u001b[39;00m\n\u001b[0;32m    106\u001b[0m     \u001b[39mself\u001b[39m\u001b[39m.\u001b[39mid2token \u001b[39m=\u001b[39m utils\u001b[39m.\u001b[39mrevdict(\u001b[39mself\u001b[39m\u001b[39m.\u001b[39mtoken2id)\n\u001b[1;32m--> 107\u001b[0m \u001b[39mreturn\u001b[39;00m \u001b[39mself\u001b[39;49m\u001b[39m.\u001b[39;49mid2token[tokenid]\n",
            "\u001b[1;31mKeyError\u001b[0m: 3500"
          ]
        }
      ],
      "source": [
        "bow_doc_4310 = bow_corpus[4310]\n",
        "\n",
        "for i in range(len(bow_doc_4310)):\n",
        "    print(\"Word {} (\\\"{}\\\") appears {} time.\".format(\n",
        "        bow_doc_4310[i][0], dictionary[bow_doc_4310[i][0]],\n",
        "        bow_doc_4310[i][1]))\n"
      ]
    },
    {
      "cell_type": "code",
      "execution_count": 23,
      "metadata": {
        "colab": {
          "base_uri": "https://localhost:8080/"
        },
        "id": "ciHC9snprdc1",
        "outputId": "87cbfb8c-edfd-4752-fe63-b5cc460a99c5"
      },
      "outputs": [
        {
          "data": {
            "text/plain": [
              "(20972,)"
            ]
          },
          "execution_count": 23,
          "metadata": {},
          "output_type": "execute_result"
        }
      ],
      "source": [
        "train_df['ABSTRACT'].shape"
      ]
    },
    {
      "cell_type": "code",
      "execution_count": 24,
      "metadata": {
        "id": "P-_RJVgzNXtZ"
      },
      "outputs": [
        {
          "name": "stdout",
          "output_type": "stream",
          "text": [
            "  Predictive models allow subject-specific inference analyzing disease\n",
            "related alterations neuroimaging data. Given subject's data, inference can\n",
            "be made two levels: global, i.e. identifiying condition presence the\n",
            "subject, local, i.e. detecting condition effect individual\n",
            "measurement extracted subject's data. While global inference widely\n",
            "used, local inference, used form subject-specific effect maps,\n",
            "is rarely used existing models often yield noisy detections composed of\n",
            "dispersed isolated islands. In article, propose reconstruction\n",
            "method, named RSM, improve subject-specific detections predictive\n",
            "modeling approaches particular, binary classifiers. RSM specifically\n",
            "aims reduce noise due sampling error associated using finite\n",
            "sample examples train classifiers. The proposed method wrapper-type\n",
            "algorithm used different binary classifiers diagnostic\n",
            "manner, i.e. without information condition presence. Reconstruction posed\n",
            "as Maximum-A-Posteriori problem prior model whose parameters are\n",
            "estimated training data classifier-specific fashion. Experimental\n",
            "evaluation performed synthetically generated data data the\n",
            "Alzheimer's Disease Neuroimaging Initiative (ADNI) database. Results on\n",
            "synthetic data demonstrate using RSM yields higher detection accuracy\n",
            "compared using models directly bootstrap averaging. Analyses the\n",
            "ADNI dataset show RSM also improve correlation between\n",
            "subject-specific detections cortical thickness data non-imaging markers\n",
            "of Alzheimer's Disease (AD), Mini Mental State Examination Score\n",
            "and Cerebrospinal Fluid amyloid-$\\beta$ levels. Further reliability studies on\n",
            "the longitudinal ADNI dataset show improvement detection reliability when\n",
            "RSM used.\n",
            "\n"
          ]
        }
      ],
      "source": [
        "train_df['ABSTRACT'].size\n",
        "print(train_df['ABSTRACT'][0])"
      ]
    },
    {
      "cell_type": "code",
      "execution_count": 25,
      "metadata": {
        "colab": {
          "base_uri": "https://localhost:8080/"
        },
        "id": "pV9hA_uHuk4a",
        "outputId": "1cf3ec5c-2f64-4012-91a7-1fc187ef1c94"
      },
      "outputs": [
        {
          "ename": "IndexError",
          "evalue": "index 3117 is out of bounds for axis 1 with size 3117",
          "output_type": "error",
          "traceback": [
            "\u001b[1;31m---------------------------------------------------------------------------\u001b[0m",
            "\u001b[1;31mIndexError\u001b[0m                                Traceback (most recent call last)",
            "\u001b[1;32mc:\\Users\\Rayni\\Desktop\\Coding\\FYP\\Main\\LDA .ipynb Cell 26\u001b[0m in \u001b[0;36m3\n\u001b[0;32m      <a href='vscode-notebook-cell:/c%3A/Users/Rayni/Desktop/Coding/FYP/Main/LDA%20.ipynb#X34sZmlsZQ%3D%3D?line=0'>1</a>\u001b[0m LDA \u001b[39m=\u001b[39m gensim\u001b[39m.\u001b[39mmodels\u001b[39m.\u001b[39mldamodel\u001b[39m.\u001b[39mLdaModel\n\u001b[0;32m      <a href='vscode-notebook-cell:/c%3A/Users/Rayni/Desktop/Coding/FYP/Main/LDA%20.ipynb#X34sZmlsZQ%3D%3D?line=1'>2</a>\u001b[0m \u001b[39m# Build LDA model\u001b[39;00m\n\u001b[1;32m----> <a href='vscode-notebook-cell:/c%3A/Users/Rayni/Desktop/Coding/FYP/Main/LDA%20.ipynb#X34sZmlsZQ%3D%3D?line=2'>3</a>\u001b[0m lda_model \u001b[39m=\u001b[39m LDA(corpus \u001b[39m=\u001b[39;49m bow_corpus,\n\u001b[0;32m      <a href='vscode-notebook-cell:/c%3A/Users/Rayni/Desktop/Coding/FYP/Main/LDA%20.ipynb#X34sZmlsZQ%3D%3D?line=3'>4</a>\u001b[0m                                        num_topics\u001b[39m=\u001b[39;49m\u001b[39m5\u001b[39;49m,\n\u001b[0;32m      <a href='vscode-notebook-cell:/c%3A/Users/Rayni/Desktop/Coding/FYP/Main/LDA%20.ipynb#X34sZmlsZQ%3D%3D?line=4'>5</a>\u001b[0m                                        id2word\u001b[39m=\u001b[39;49mdictionary,\n\u001b[0;32m      <a href='vscode-notebook-cell:/c%3A/Users/Rayni/Desktop/Coding/FYP/Main/LDA%20.ipynb#X34sZmlsZQ%3D%3D?line=5'>6</a>\u001b[0m                                        random_state\u001b[39m=\u001b[39;49m\u001b[39m100\u001b[39;49m,\n\u001b[0;32m      <a href='vscode-notebook-cell:/c%3A/Users/Rayni/Desktop/Coding/FYP/Main/LDA%20.ipynb#X34sZmlsZQ%3D%3D?line=6'>7</a>\u001b[0m                                        chunksize\u001b[39m=\u001b[39;49m\u001b[39m1000\u001b[39;49m,\n\u001b[0;32m      <a href='vscode-notebook-cell:/c%3A/Users/Rayni/Desktop/Coding/FYP/Main/LDA%20.ipynb#X34sZmlsZQ%3D%3D?line=7'>8</a>\u001b[0m                                        passes\u001b[39m=\u001b[39;49m\u001b[39m50\u001b[39;49m,\n\u001b[0;32m      <a href='vscode-notebook-cell:/c%3A/Users/Rayni/Desktop/Coding/FYP/Main/LDA%20.ipynb#X34sZmlsZQ%3D%3D?line=8'>9</a>\u001b[0m                                        iterations\u001b[39m=\u001b[39;49m\u001b[39m100\u001b[39;49m)\n",
            "File \u001b[1;32m~\\AppData\\Local\\Packages\\PythonSoftwareFoundation.Python.3.9_qbz5n2kfra8p0\\LocalCache\\local-packages\\Python39\\site-packages\\gensim\\models\\ldamodel.py:521\u001b[0m, in \u001b[0;36mLdaModel.__init__\u001b[1;34m(self, corpus, num_topics, id2word, distributed, chunksize, passes, update_every, alpha, eta, decay, offset, eval_every, iterations, gamma_threshold, minimum_probability, random_state, ns_conf, minimum_phi_value, per_word_topics, callbacks, dtype)\u001b[0m\n\u001b[0;32m    519\u001b[0m use_numpy \u001b[39m=\u001b[39m \u001b[39mself\u001b[39m\u001b[39m.\u001b[39mdispatcher \u001b[39mis\u001b[39;00m \u001b[39mnot\u001b[39;00m \u001b[39mNone\u001b[39;00m\n\u001b[0;32m    520\u001b[0m start \u001b[39m=\u001b[39m time\u001b[39m.\u001b[39mtime()\n\u001b[1;32m--> 521\u001b[0m \u001b[39mself\u001b[39;49m\u001b[39m.\u001b[39;49mupdate(corpus, chunks_as_numpy\u001b[39m=\u001b[39;49muse_numpy)\n\u001b[0;32m    522\u001b[0m \u001b[39mself\u001b[39m\u001b[39m.\u001b[39madd_lifecycle_event(\n\u001b[0;32m    523\u001b[0m     \u001b[39m\"\u001b[39m\u001b[39mcreated\u001b[39m\u001b[39m\"\u001b[39m,\n\u001b[0;32m    524\u001b[0m     msg\u001b[39m=\u001b[39m\u001b[39mf\u001b[39m\u001b[39m\"\u001b[39m\u001b[39mtrained \u001b[39m\u001b[39m{\u001b[39;00m\u001b[39mself\u001b[39m\u001b[39m}\u001b[39;00m\u001b[39m in \u001b[39m\u001b[39m{\u001b[39;00mtime\u001b[39m.\u001b[39mtime() \u001b[39m-\u001b[39m start\u001b[39m:\u001b[39;00m\u001b[39m.2f\u001b[39m\u001b[39m}\u001b[39;00m\u001b[39ms\u001b[39m\u001b[39m\"\u001b[39m,\n\u001b[0;32m    525\u001b[0m )\n",
            "File \u001b[1;32m~\\AppData\\Local\\Packages\\PythonSoftwareFoundation.Python.3.9_qbz5n2kfra8p0\\LocalCache\\local-packages\\Python39\\site-packages\\gensim\\models\\ldamodel.py:1006\u001b[0m, in \u001b[0;36mLdaModel.update\u001b[1;34m(self, corpus, chunksize, decay, offset, passes, update_every, eval_every, iterations, gamma_threshold, chunks_as_numpy)\u001b[0m\n\u001b[0;32m   1001\u001b[0m \u001b[39melse\u001b[39;00m:\n\u001b[0;32m   1002\u001b[0m     logger\u001b[39m.\u001b[39minfo(\n\u001b[0;32m   1003\u001b[0m         \u001b[39m\"\u001b[39m\u001b[39mPROGRESS: pass \u001b[39m\u001b[39m%i\u001b[39;00m\u001b[39m, at document #\u001b[39m\u001b[39m%i\u001b[39;00m\u001b[39m/\u001b[39m\u001b[39m%i\u001b[39;00m\u001b[39m\"\u001b[39m,\n\u001b[0;32m   1004\u001b[0m         pass_, chunk_no \u001b[39m*\u001b[39m chunksize \u001b[39m+\u001b[39m \u001b[39mlen\u001b[39m(chunk), lencorpus\n\u001b[0;32m   1005\u001b[0m     )\n\u001b[1;32m-> 1006\u001b[0m     gammat \u001b[39m=\u001b[39m \u001b[39mself\u001b[39;49m\u001b[39m.\u001b[39;49mdo_estep(chunk, other)\n\u001b[0;32m   1008\u001b[0m     \u001b[39mif\u001b[39;00m \u001b[39mself\u001b[39m\u001b[39m.\u001b[39moptimize_alpha:\n\u001b[0;32m   1009\u001b[0m         \u001b[39mself\u001b[39m\u001b[39m.\u001b[39mupdate_alpha(gammat, rho())\n",
            "File \u001b[1;32m~\\AppData\\Local\\Packages\\PythonSoftwareFoundation.Python.3.9_qbz5n2kfra8p0\\LocalCache\\local-packages\\Python39\\site-packages\\gensim\\models\\ldamodel.py:768\u001b[0m, in \u001b[0;36mLdaModel.do_estep\u001b[1;34m(self, chunk, state)\u001b[0m\n\u001b[0;32m    766\u001b[0m \u001b[39mif\u001b[39;00m state \u001b[39mis\u001b[39;00m \u001b[39mNone\u001b[39;00m:\n\u001b[0;32m    767\u001b[0m     state \u001b[39m=\u001b[39m \u001b[39mself\u001b[39m\u001b[39m.\u001b[39mstate\n\u001b[1;32m--> 768\u001b[0m gamma, sstats \u001b[39m=\u001b[39m \u001b[39mself\u001b[39;49m\u001b[39m.\u001b[39;49minference(chunk, collect_sstats\u001b[39m=\u001b[39;49m\u001b[39mTrue\u001b[39;49;00m)\n\u001b[0;32m    769\u001b[0m state\u001b[39m.\u001b[39msstats \u001b[39m+\u001b[39m\u001b[39m=\u001b[39m sstats\n\u001b[0;32m    770\u001b[0m state\u001b[39m.\u001b[39mnumdocs \u001b[39m+\u001b[39m\u001b[39m=\u001b[39m gamma\u001b[39m.\u001b[39mshape[\u001b[39m0\u001b[39m]  \u001b[39m# avoids calling len(chunk) on a generator\u001b[39;00m\n",
            "File \u001b[1;32m~\\AppData\\Local\\Packages\\PythonSoftwareFoundation.Python.3.9_qbz5n2kfra8p0\\LocalCache\\local-packages\\Python39\\site-packages\\gensim\\models\\ldamodel.py:706\u001b[0m, in \u001b[0;36mLdaModel.inference\u001b[1;34m(self, chunk, collect_sstats)\u001b[0m\n\u001b[0;32m    704\u001b[0m Elogthetad \u001b[39m=\u001b[39m Elogtheta[d, :]\n\u001b[0;32m    705\u001b[0m expElogthetad \u001b[39m=\u001b[39m expElogtheta[d, :]\n\u001b[1;32m--> 706\u001b[0m expElogbetad \u001b[39m=\u001b[39m \u001b[39mself\u001b[39;49m\u001b[39m.\u001b[39;49mexpElogbeta[:, ids]\n\u001b[0;32m    708\u001b[0m \u001b[39m# The optimal phi_{dwk} is proportional to expElogthetad_k * expElogbetad_kw.\u001b[39;00m\n\u001b[0;32m    709\u001b[0m \u001b[39m# phinorm is the normalizer.\u001b[39;00m\n\u001b[0;32m    710\u001b[0m \u001b[39m# TODO treat zeros explicitly, instead of adding epsilon?\u001b[39;00m\n\u001b[0;32m    711\u001b[0m phinorm \u001b[39m=\u001b[39m np\u001b[39m.\u001b[39mdot(expElogthetad, expElogbetad) \u001b[39m+\u001b[39m epsilon\n",
            "\u001b[1;31mIndexError\u001b[0m: index 3117 is out of bounds for axis 1 with size 3117"
          ]
        }
      ],
      "source": [
        "\n",
        "LDA = gensim.models.ldamodel.LdaModel\n",
        "# Build LDA model\n",
        "lda_model = LDA(corpus = bow_corpus,\n",
        "                                       num_topics=5,\n",
        "                                       id2word=dictionary,\n",
        "                                       random_state=100,\n",
        "                                       chunksize=1000,\n",
        "                                       passes=50,\n",
        "                                       iterations=100)"
      ]
    },
    {
      "cell_type": "code",
      "execution_count": null,
      "metadata": {
        "colab": {
          "base_uri": "https://localhost:8080/"
        },
        "id": "ISkcT64Urdc1",
        "outputId": "8e182141-2339-474e-d9dd-9534d94d97e5"
      },
      "outputs": [
        {
          "name": "stderr",
          "output_type": "stream",
          "text": [
            "/usr/local/lib/python3.9/dist-packages/ipykernel/ipkernel.py:283: DeprecationWarning: `should_run_async` will not call `transform_cell` automatically in the future. Please pass the result to `transformed_cell` argument and any exception that happen during thetransform in `preprocessing_exc_tuple` in IPython 7.17 and above.\n",
            "  and should_run_async(code)\n"
          ]
        }
      ],
      "source": [
        "lda_model_multi = gensim.models.LdaMulticore(corpus = bow_corpus,\n",
        "                                       num_topics=5,\n",
        "                                       id2word=dictionary,\n",
        "                                       workers=2,\n",
        "                                       random_state=100,\n",
        "                                       chunksize=1000,\n",
        "                                       passes=50,\n",
        "                                       iterations=100)\n"
      ]
    },
    {
      "cell_type": "code",
      "execution_count": null,
      "metadata": {
        "colab": {
          "base_uri": "https://localhost:8080/"
        },
        "id": "9aeSILVA2CLk",
        "outputId": "124b5ff7-9685-4966-fd7e-704f97b0aba2"
      },
      "outputs": [
        {
          "name": "stderr",
          "output_type": "stream",
          "text": [
            "/usr/local/lib/python3.9/dist-packages/ipykernel/ipkernel.py:283: DeprecationWarning: `should_run_async` will not call `transform_cell` automatically in the future. Please pass the result to `transformed_cell` argument and any exception that happen during thetransform in `preprocessing_exc_tuple` in IPython 7.17 and above.\n",
            "  and should_run_async(code)\n"
          ]
        },
        {
          "data": {
            "text/plain": [
              "[(0,\n",
              "  '0.022*\"give\" + 0.021*\"show\" + 0.020*\"prove\" + 0.015*\"also\" + 0.010*\"set\" + 0.009*\"obtain\" + 0.009*\"define\" + 0.009*\"use\" + 0.008*\"study\" + 0.008*\"consider\"'),\n",
              " (1,\n",
              "  '0.026*\"use\" + 0.018*\"propose\" + 0.017*\"base\" + 0.016*\"learn\" + 0.010*\"show\" + 0.009*\"neural\" + 0.009*\"different\" + 0.009*\"deep\" + 0.008*\"new\" + 0.008*\"present\"'),\n",
              " (2,\n",
              "  '0.020*\"propose\" + 0.019*\"use\" + 0.015*\"show\" + 0.015*\"-\" + 0.013*\"base\" + 0.011*\"optimal\" + 0.010*\"random\" + 0.009*\"provide\" + 0.008*\"consider\" + 0.008*\"well\"'),\n",
              " (3,\n",
              "  '0.057*\"-\" + 0.030*\"non\" + 0.019*\"dimensional\" + 0.013*\"topological\" + 0.010*\"nonlinear\" + 0.010*\"critical\" + 0.009*\"study\" + 0.008*\"spatial\" + 0.008*\"describe\" + 0.008*\"couple\"'),\n",
              " (4,\n",
              "  '0.015*\"use\" + 0.014*\"high\" + 0.014*\"find\" + 0.010*\"show\" + 0.010*\"low\" + 0.010*\"large\" + 0.010*\"magnetic\" + 0.008*\"observe\" + 0.008*\"also\" + 0.007*\"present\"')]"
            ]
          },
          "execution_count": 64,
          "metadata": {},
          "output_type": "execute_result"
        }
      ],
      "source": [
        "lda_model.print_topics()"
      ]
    },
    {
      "cell_type": "code",
      "execution_count": null,
      "metadata": {
        "colab": {
          "base_uri": "https://localhost:8080/"
        },
        "id": "pSd-La3_RLPQ",
        "outputId": "b2b29d1c-717c-412b-d7dc-4751b79e6649"
      },
      "outputs": [
        {
          "name": "stderr",
          "output_type": "stream",
          "text": [
            "/usr/local/lib/python3.9/dist-packages/ipykernel/ipkernel.py:283: DeprecationWarning: `should_run_async` will not call `transform_cell` automatically in the future. Please pass the result to `transformed_cell` argument and any exception that happen during thetransform in `preprocessing_exc_tuple` in IPython 7.17 and above.\n",
            "  and should_run_async(code)\n"
          ]
        },
        {
          "data": {
            "text/plain": [
              "[(0,\n",
              "  '0.024*\"give\" + 0.021*\"show\" + 0.020*\"prove\" + 0.014*\"also\" + 0.013*\"set\" + 0.010*\"define\" + 0.008*\"use\" + 0.008*\"bound\" + 0.008*\"bind\" + 0.007*\"study\"'),\n",
              " (1,\n",
              "  '0.025*\"use\" + 0.016*\"propose\" + 0.016*\"base\" + 0.014*\"learn\" + 0.010*\"show\" + 0.009*\"neural\" + 0.009*\"different\" + 0.009*\"deep\" + 0.008*\"present\" + 0.008*\"-\"'),\n",
              " (2,\n",
              "  '0.020*\"propose\" + 0.019*\"use\" + 0.014*\"show\" + 0.014*\"-\" + 0.013*\"base\" + 0.011*\"optimal\" + 0.009*\"provide\" + 0.008*\"random\" + 0.008*\"well\" + 0.007*\"also\"'),\n",
              " (3,\n",
              "  '0.029*\"-\" + 0.020*\"non\" + 0.013*\"dimensional\" + 0.012*\"show\" + 0.011*\"use\" + 0.010*\"obtain\" + 0.009*\"consider\" + 0.009*\"study\" + 0.009*\"nonlinear\" + 0.009*\"also\"'),\n",
              " (4,\n",
              "  '0.014*\"use\" + 0.012*\"high\" + 0.012*\"find\" + 0.010*\"show\" + 0.009*\"magnetic\" + 0.009*\"-\" + 0.009*\"low\" + 0.008*\"large\" + 0.007*\"observe\" + 0.007*\"present\"')]"
            ]
          },
          "execution_count": 65,
          "metadata": {},
          "output_type": "execute_result"
        }
      ],
      "source": [
        "lda_model_multi.print_topics()"
      ]
    },
    {
      "cell_type": "code",
      "execution_count": null,
      "metadata": {
        "colab": {
          "base_uri": "https://localhost:8080/"
        },
        "id": "56rHE_aMrdc1",
        "outputId": "afd42f4d-c4ae-4642-8a8e-6c5d27dcce51"
      },
      "outputs": [
        {
          "name": "stdout",
          "output_type": "stream",
          "text": [
            "\n",
            "Score: 0.5677973031997681\t \n",
            "Topic: 0.015*\"use\" + 0.014*\"high\" + 0.014*\"find\" + 0.010*\"show\" + 0.010*\"low\" + 0.010*\"large\" + 0.010*\"magnetic\" + 0.008*\"observe\" + 0.008*\"also\" + 0.007*\"present\"\n",
            "\n",
            "Score: 0.2265579253435135\t \n",
            "Topic: 0.026*\"use\" + 0.018*\"propose\" + 0.017*\"base\" + 0.016*\"learn\" + 0.010*\"show\" + 0.009*\"neural\" + 0.009*\"different\" + 0.009*\"deep\" + 0.008*\"new\" + 0.008*\"present\"\n",
            "\n",
            "Score: 0.1152733564376831\t \n",
            "Topic: 0.057*\"-\" + 0.030*\"non\" + 0.019*\"dimensional\" + 0.013*\"topological\" + 0.010*\"nonlinear\" + 0.010*\"critical\" + 0.009*\"study\" + 0.008*\"spatial\" + 0.008*\"describe\" + 0.008*\"couple\"\n",
            "\n",
            "Score: 0.08490440994501114\t \n",
            "Topic: 0.022*\"give\" + 0.021*\"show\" + 0.020*\"prove\" + 0.015*\"also\" + 0.010*\"set\" + 0.009*\"obtain\" + 0.009*\"define\" + 0.009*\"use\" + 0.008*\"study\" + 0.008*\"consider\"\n"
          ]
        },
        {
          "name": "stderr",
          "output_type": "stream",
          "text": [
            "/usr/local/lib/python3.9/dist-packages/ipykernel/ipkernel.py:283: DeprecationWarning: `should_run_async` will not call `transform_cell` automatically in the future. Please pass the result to `transformed_cell` argument and any exception that happen during thetransform in `preprocessing_exc_tuple` in IPython 7.17 and above.\n",
            "  and should_run_async(code)\n"
          ]
        }
      ],
      "source": [
        "for index, score in sorted(lda_model[bow_corpus[4310]],\n",
        "                           key=lambda tup: -1 * tup[1]):\n",
        "    print(\"\\nScore: {}\\t \\nTopic: {}\".format(score,\n",
        "                                             lda_model.print_topic(index, 10)))\n"
      ]
    },
    {
      "cell_type": "code",
      "execution_count": null,
      "metadata": {
        "colab": {
          "base_uri": "https://localhost:8080/"
        },
        "id": "Id7zwRiKZWLh",
        "outputId": "f244a779-5759-41fe-9276-7feb3e7e0f9f"
      },
      "outputs": [
        {
          "name": "stdout",
          "output_type": "stream",
          "text": [
            "\n",
            "Score: 0.692303478717804\t \n",
            "Topic: 0.014*\"use\" + 0.012*\"high\" + 0.012*\"find\" + 0.010*\"show\" + 0.009*\"magnetic\" + 0.009*\"-\" + 0.009*\"low\" + 0.008*\"large\" + 0.007*\"observe\" + 0.007*\"present\"\n",
            "\n",
            "Score: 0.2264566421508789\t \n",
            "Topic: 0.025*\"use\" + 0.016*\"propose\" + 0.016*\"base\" + 0.014*\"learn\" + 0.010*\"show\" + 0.009*\"neural\" + 0.009*\"different\" + 0.009*\"deep\" + 0.008*\"present\" + 0.008*\"-\"\n",
            "\n",
            "Score: 0.07028019428253174\t \n",
            "Topic: 0.024*\"give\" + 0.021*\"show\" + 0.020*\"prove\" + 0.014*\"also\" + 0.013*\"set\" + 0.010*\"define\" + 0.008*\"use\" + 0.008*\"bound\" + 0.008*\"bind\" + 0.007*\"study\"\n"
          ]
        },
        {
          "name": "stderr",
          "output_type": "stream",
          "text": [
            "/usr/local/lib/python3.9/dist-packages/ipykernel/ipkernel.py:283: DeprecationWarning: `should_run_async` will not call `transform_cell` automatically in the future. Please pass the result to `transformed_cell` argument and any exception that happen during thetransform in `preprocessing_exc_tuple` in IPython 7.17 and above.\n",
            "  and should_run_async(code)\n"
          ]
        }
      ],
      "source": [
        "for index, score in sorted(lda_model_multi[bow_corpus[4310]],\n",
        "                           key=lambda tup: -1 * tup[1]):\n",
        "    print(\"\\nScore: {}\\t \\nTopic: {}\".format(score,\n",
        "                                             lda_model_multi.print_topic(index, 10)))"
      ]
    },
    {
      "cell_type": "code",
      "execution_count": null,
      "metadata": {
        "colab": {
          "base_uri": "https://localhost:8080/",
          "height": 951
        },
        "id": "dNc9fPUd2GLD",
        "outputId": "9d0e0e42-defa-4e3c-b024-d6823f7c880e"
      },
      "outputs": [
        {
          "name": "stderr",
          "output_type": "stream",
          "text": [
            "/usr/local/lib/python3.9/dist-packages/ipykernel/ipkernel.py:283: DeprecationWarning: `should_run_async` will not call `transform_cell` automatically in the future. Please pass the result to `transformed_cell` argument and any exception that happen during thetransform in `preprocessing_exc_tuple` in IPython 7.17 and above.\n",
            "  and should_run_async(code)\n",
            "/usr/local/lib/python3.9/dist-packages/pyLDAvis/_prepare.py:243: FutureWarning: In a future version of pandas all arguments of DataFrame.drop except for the argument 'labels' will be keyword-only.\n",
            "  default_term_info = default_term_info.sort_values(\n"
          ]
        },
        {
          "data": {
            "text/html": [
              "\n",
              "<link rel=\"stylesheet\" type=\"text/css\" href=\"https://cdn.jsdelivr.net/gh/bmabey/pyLDAvis@3.4.0/pyLDAvis/js/ldavis.v1.0.0.css\">\n",
              "\n",
              "\n",
              "<div id=\"ldavis_el1711403442390186087649695456\" style=\"background-color:white;\"></div>\n",
              "<script type=\"text/javascript\">\n",
              "\n",
              "var ldavis_el1711403442390186087649695456_data = {\"mdsDat\": {\"x\": [-0.14600293793177932, -0.07925074516151022, -0.08886374681953771, 0.0029618894256582865, 0.31115554048716887], \"y\": [-0.08750784585497305, 0.021207711229184523, -0.10054663531891019, 0.23344388518789516, -0.06659711524319616], \"topics\": [1, 2, 3, 4, 5], \"cluster\": [1, 1, 1, 1, 1], \"Freq\": [33.05116460819123, 23.350060815727296, 20.592662245763222, 15.267578522743996, 7.738533807574253]}, \"tinfo\": {\"Term\": [\"-\", \"non\", \"propose\", \"learn\", \"prove\", \"give\", \"dimensional\", \"optimal\", \"neural\", \"random\", \"deep\", \"magnetic\", \"topological\", \"nonlinear\", \"critical\", \"study\", \"numerical\", \"high\", \"spatial\", \"linear\", \"define\", \"set\", \"observe\", \"finite\", \"bound\", \"train\", \"low\", \"describe\", \"show\", \"optical\", \"learn\", \"neural\", \"deep\", \"train\", \"social\", \"human\", \"adversarial\", \"visual\", \"convolutional\", \"semantic\", \"generative\", \"dataset\", \"automatic\", \"automate\", \"supervised\", \"mobile\", \"public\", \"autonomous\", \"latent\", \"face\", \"recurrent\", \"supervise\", \"clinical\", \"medical\", \"digital\", \"tackle\", \"smart\", \"unsupervised\", \"meta\", \"bandwidth\", \"collect\", \"temporal\", \"automatically\", \"label\", \"scientific\", \"evaluate\", \"share\", \"enable\", \"challenge\", \"propose\", \"base\", \"use\", \"outperform\", \"improve\", \"help\", \"make\", \"different\", \"real\", \"able\", \"novel\", \"however\", \"generate\", \"achieve\", \"available\", \"perform\", \"new\", \"demonstrate\", \"exist\", \"present\", \"well\", \"provide\", \"show\", \"many\", \"develop\", \"also\", \"large\", \"-\", \"high\", \"optimal\", \"random\", \"bayesian\", \"stochastic\", \"posterior\", \"conditional\", \"parametric\", \"gradient\", \"gaussian\", \"iterative\", \"causal\", \"randomize\", \"marginal\", \"compress\", \"partition\", \"nonparametric\", \"interactive\", \"intuitive\", \"tractable\", \"greedy\", \"unbiased\", \"cost\", \"surrogate\", \"relational\", \"encourage\", \"enforce\", \"intractable\", \"constraint\", \"heuristic\", \"provably\", \"sample\", \"approximate\", \"guarantee\", \"variational\", \"sparse\", \"unknown\", \"statistical\", \"solve\", \"minimize\", \"estimate\", \"convex\", \"distribute\", \"empirical\", \"theoretical\", \"adaptive\", \"efficient\", \"linear\", \"numerical\", \"propose\", \"computational\", \"consider\", \"derive\", \"-\", \"use\", \"base\", \"show\", \"non\", \"provide\", \"well\", \"low\", \"dimensional\", \"large\", \"allow\", \"high\", \"new\", \"also\", \"present\", \"first\", \"develop\", \"apply\", \"demonstrate\", \"magnetic\", \"optical\", \"electronic\", \"thermal\", \"light\", \"molecular\", \"stellar\", \"dark\", \"solar\", \"gravitational\", \"atomic\", \"superconducte\", \"orbital\", \"mass\", \"hot\", \"angular\", \"cosmological\", \"cosmic\", \"atmospheric\", \"charge\", \"cool\", \"dope\", \"chaotic\", \"electrical\", \"turbulent\", \"planetary\", \"graphene\", \"metallic\", \"polarize\", \"narrow\", \"anomalous\", \"thin\", \"observe\", \"find\", \"report\", \"electric\", \"measure\", \"suggest\", \"high\", \"low\", \"scatter\", \"here\", \"long\", \"reveal\", \"large\", \"form\", \"indicate\", \"strong\", \"increase\", \"use\", \"small\", \"current\", \"show\", \"due\", \"present\", \"also\", \"different\", \"investigate\", \"well\", \"determine\", \"first\", \"base\", \"provide\", \"study\", \"single\", \"let\", \"manifold\", \"theorem\", \"algebraic\", \"maximal\", \"admit\", \"rational\", \"euclidean\", \"prime\", \"singular\", \"elliptic\", \"riemannian\", \"denote\", \"finitely\", \"proof\", \"conjecture\", \"vertice\", \"irreducible\", \"f$\", \"say\", \"projective\", \"boolean\", \"parabolic\", \"conformal\", \"laplacian\", \"ergodic\", \"unitary\", \"symplectic\", \"coincide\", \"travel\", \"invariant\", \"prove\", \"regular\", \"infinite\", \"geometric\", \"polynomial\", \"metric\", \"positive\", \"fractional\", \"symmetric\", \"give\", \"bound\", \"define\", \"compact\", \"finite\", \"complete\", \"integral\", \"certain\", \"generalize\", \"explicit\", \"minimal\", \"set\", \"show\", \"also\", \"obtain\", \"general\", \"construct\", \"study\", \"classical\", \"particular\", \"consider\", \"know\", \"introduce\", \"bind\", \"new\", \"first\", \"use\", \"provide\", \"extend\", \"call\", \"present\", \"topological\", \"algebra\", \"steady\", \"hyperbolic\", \"electromagnetic\", \"unstable\", \"integrable\", \"cold\", \"fluid\", \"cubic\", \"\\\\mathcal\", \"synthesize\", \"derivative\", \"microscopic\", \"inhomogeneous\", \"surround\", \"photonic\", \"commutative\", \"geometrical\", \"macroscopic\", \"nontrivial\", \"emit\", \"commercial\", \"sum\", \"viscous\", \"chiral\", \"round\", \"excited\", \"tidal\", \"inertial\", \"sphere\", \"simplicial\", \"localize\", \"quasi\", \"non\", \"couple\", \"nonlinear\", \"-\", \"realize\", \"dimensional\", \"coherent\", \"critical\", \"dynamical\", \"spatial\", \"boundary\", \"break\", \"interact\", \"describe\", \"numerical\", \"study\", \"periodic\", \"linear\", \"mechanical\", \"local\", \"initial\", \"cross\", \"show\", \"consider\", \"finite\", \"investigate\", \"present\", \"complex\", \"use\"], \"Freq\": [9152.0, 3782.0, 8765.0, 4356.0, 2913.0, 4657.0, 2498.0, 2100.0, 2557.0, 1911.0, 2451.0, 1659.0, 824.0, 1033.0, 1191.0, 3197.0, 1357.0, 5424.0, 1086.0, 1856.0, 1870.0, 3085.0, 1988.0, 1436.0, 1207.0, 1392.0, 3716.0, 1971.0, 10414.0, 951.0, 4355.575523147229, 2556.6772543122165, 2450.594458908815, 1391.6775457986155, 1212.1774701708682, 1179.3437263638639, 720.0808033200444, 667.7045437682937, 595.9379259519292, 512.6354317526487, 502.28826948251594, 414.95386127178, 362.55362460433537, 342.35177057951637, 335.1305437641971, 333.3072137217123, 313.95363116833164, 293.0457158893448, 280.43987691934575, 271.4919251567324, 249.41948349045634, 241.51787361581702, 237.93661597412847, 228.6163060850915, 227.79648313740879, 222.92702255356167, 209.40174220047354, 208.87325740922466, 195.20173285115806, 201.55033846200664, 452.0639560642862, 751.7331881565124, 382.54467442009485, 425.82336824745363, 342.4180964657667, 1166.2642745558962, 441.2050767831363, 952.2011866554966, 649.7865748163271, 4902.822990653673, 4640.021360470368, 7130.584763998578, 620.8454185376926, 1506.8621839254247, 477.7887118786245, 1627.694793661453, 2462.401827524702, 1740.93858147737, 775.3022392624372, 972.7808098585241, 1707.3238317289006, 1358.8478197785653, 1414.6194981246238, 874.1530181484569, 1236.0733228833983, 2191.9041912338325, 1636.922354234715, 1382.5228238146506, 2191.4751952719594, 2093.7496559451492, 2080.615380786163, 2680.2247215749403, 1279.8355768115878, 1283.412314442953, 1835.391827739111, 1587.163358868484, 1824.2105858579098, 1533.8084441783326, 2099.9567866426237, 1910.5974803210504, 780.4587942416758, 452.6685985358848, 444.21830697476605, 423.12686892440547, 405.3073916776707, 376.27897186260725, 349.08035130621784, 282.00753550522245, 229.38265990695035, 178.68576345126357, 172.13766422013373, 172.38020676151461, 161.6473187410438, 159.10731197752222, 157.22140665788606, 155.27842240597363, 141.88508615329403, 139.74465480679606, 135.14914263972622, 129.68877076549938, 127.61450611390602, 130.97888969237258, 124.97827665464621, 121.73435743595661, 116.02742563409886, 116.09370678445217, 112.3352759871351, 108.21280818962174, 886.1203103605322, 861.1763476884626, 428.4838417462594, 456.10642817579446, 455.86117304027897, 556.0782265922805, 1042.1660306491747, 1284.0827296364553, 380.4171772843195, 1205.196188676099, 682.8907891591906, 748.8923935245331, 655.1159769828589, 940.3366660821553, 469.48842189350603, 1080.4326991165192, 1165.5303252392516, 890.8751559577642, 3862.276592197425, 864.6481019233726, 1588.1024972769844, 1088.7522367730212, 2900.750651547344, 3823.2438047385335, 2573.197287056043, 2919.769484550118, 1539.8043123333753, 1802.1693470957532, 1583.561820715396, 1306.3804823341368, 1045.7989381558812, 1404.9864152077873, 1031.3747131221326, 1386.5003036455325, 1335.3954879706105, 1438.6615888943122, 1237.8769734241514, 1107.2035538788655, 1006.1459852936495, 990.709790964505, 1002.5052948164299, 1658.8070150865092, 950.322109965663, 629.7553204185075, 622.0453226409464, 576.9389931871793, 571.3717381464538, 564.614043556965, 525.2678038775043, 422.40888486868505, 420.14517628976245, 417.45618960179354, 410.7599065763283, 366.3944323416718, 330.23493198744603, 283.8451169959007, 279.9176637667913, 256.6007911283336, 253.6476458883438, 213.73358140241072, 212.26523534794495, 200.0710023111074, 199.27105713542332, 197.87869830218847, 190.17364655789024, 188.26978713370755, 180.13994178974383, 176.49717819766906, 174.91489168713866, 174.42569871560107, 169.27787738951525, 169.69436367208812, 323.373269759982, 1415.1196304193304, 2367.490326798816, 658.4813971000774, 303.1441955936103, 719.78883198247, 813.7185661083676, 2409.321736220032, 1760.7198487776438, 397.55222122997617, 831.8542367431876, 788.3293055327528, 578.2060659696813, 1675.2406042663822, 626.8459223380308, 521.5236365095946, 775.6010825945393, 737.9766681272955, 2538.1988089808174, 937.4939973434298, 665.1727139043888, 1791.937757204956, 736.013920625448, 1261.8360436104333, 1305.0383723247814, 1089.7045573768578, 773.1308922678087, 1093.0446842969154, 665.4099619978814, 749.6476108449177, 835.1793438724387, 787.1457298668851, 711.1072313931658, 676.0565711328105, 600.8329837658905, 471.76791629599865, 420.53202558984754, 365.660175376862, 321.8357005747803, 289.88657210454494, 273.1718511390406, 245.9345594265937, 236.4139714941344, 235.0761933216963, 216.9930108548567, 211.41886778271586, 193.45111450243957, 179.17408672920965, 180.95993130841114, 180.15619273355853, 177.13271737394373, 167.9175557875699, 141.64565140709232, 139.78764861881123, 133.39250947024783, 130.33368092875253, 129.49542735076, 125.27905900101169, 120.7907989385409, 121.79150951743568, 119.46216589486191, 117.35583020346034, 117.73961877805361, 117.24663497128029, 636.2181960482809, 2528.517522167519, 441.1336208551774, 423.90189328149484, 507.88644517155336, 628.6581231575742, 608.4276015946922, 766.0899207511401, 225.45658055802554, 481.728443294933, 2790.7944266866257, 879.6320077498928, 1185.0764944180871, 545.3175918898505, 888.2498023413328, 587.6554369556492, 355.8967101868349, 711.2776410986476, 730.4377485398669, 489.93870340870905, 381.24733639156756, 1226.8971832009324, 2648.549986374236, 1876.7414714254985, 1197.6515703235636, 876.4817129533288, 678.6841627215721, 1065.732893396327, 630.1007485099755, 791.2161844679857, 987.3543802729848, 793.2038056115103, 843.1134580703842, 636.2604642047714, 960.7393913730045, 801.3215068443595, 1121.8179474664282, 783.9964121459647, 600.3476184051702, 601.8117969251871, 602.0400210222717, 823.5041872675996, 348.0500408098405, 236.8519336520335, 234.50036967066302, 219.4095300535958, 215.3466204487213, 211.9369475060395, 187.67207241537204, 177.53562313825321, 151.49201980227141, 150.88589483580506, 153.3180569903474, 150.73516775517834, 147.43039988955044, 143.90325875095442, 138.89617310689727, 129.1562207163234, 127.93055798499388, 121.0002682287281, 115.97148541079373, 117.83542437533494, 105.69709217821708, 107.51838785102268, 104.33744560498356, 97.34137396246278, 96.2524034265597, 100.42383683294244, 95.88135140756162, 96.07203618567482, 93.47012778445325, 93.69346453332433, 94.19420647799755, 299.76709218814665, 289.3220726836566, 1929.9234993656478, 508.90287385524255, 646.047948474609, 3682.843214291465, 316.2843464998786, 1208.8260885491816, 215.4897307592177, 638.7644954881572, 419.51449276752993, 552.515043027976, 434.1388734919348, 242.73261124235245, 262.9857395745188, 540.6983676403756, 442.19793216667705, 558.7721438257913, 235.134336814797, 402.4990227904608, 198.9768007094123, 376.4843540772649, 278.7490853718375, 242.49401819394745, 373.95504017143884, 302.79535005605544, 260.3384719416148, 268.1517001190433, 273.6861181254099, 253.92125206972517, 256.0318105197211], \"Total\": [9152.0, 3782.0, 8765.0, 4356.0, 2913.0, 4657.0, 2498.0, 2100.0, 2557.0, 1911.0, 2451.0, 1659.0, 824.0, 1033.0, 1191.0, 3197.0, 1357.0, 5424.0, 1086.0, 1856.0, 1870.0, 3085.0, 1988.0, 1436.0, 1207.0, 1392.0, 3716.0, 1971.0, 10414.0, 951.0, 4356.374323503526, 2557.474061339004, 2451.3950771709833, 1392.4730422029309, 1212.976415960388, 1180.1398373381162, 720.8782268515347, 668.5023611924493, 596.7324803906505, 513.4303245288057, 503.08584291078586, 415.7533427155043, 363.3518376867637, 343.1511272259173, 335.92741165396853, 334.1092250042204, 314.75124640444005, 293.85421298025994, 281.24649547738824, 272.3029626783409, 250.22275352288122, 242.31285062616521, 238.73613835472312, 229.41448284421904, 228.59785895349432, 223.7319402637894, 210.19929034731334, 209.66999285942688, 196.00980836940204, 202.38531412719053, 471.2036118203056, 828.0288364912358, 402.08104844695504, 453.75318452581485, 358.50194347160203, 1415.900885929412, 492.6337033592358, 1217.2861995220524, 781.0326671568168, 8765.70445153406, 8286.00644469141, 14869.877135704077, 747.8195571671731, 2309.711446304916, 544.6768104878173, 2571.4864294466192, 4379.354959208789, 2861.199623554362, 1006.3317996518142, 1374.0507283943236, 2932.460929743946, 2187.287441332653, 2349.69167599371, 1227.2440597461712, 2136.688606633292, 5108.810584005113, 3408.3264179793314, 2607.13728907958, 5566.914351454226, 5369.690227627342, 5467.602303667322, 10414.43698987569, 2699.476306288771, 2783.322834420555, 6551.6926490925325, 4975.675063649357, 9152.105920401515, 5424.536916625485, 2100.756846912411, 1911.401555568788, 781.2550637753991, 453.46952169147966, 445.0117360891239, 423.92410047348665, 406.1084512161205, 377.0849401362138, 349.8809585443947, 282.8082784642473, 230.1845889523759, 179.4832348432257, 172.936408052616, 173.19011177859625, 162.45424876538294, 159.90202571283803, 158.0366298225529, 156.1041278652117, 142.69204971711133, 140.53956949976953, 135.956620699436, 130.49032366974643, 128.4102309013629, 131.80191571134466, 125.8012535945928, 122.5475440095593, 116.82627152096835, 116.90698784634375, 113.13427583893963, 109.00735772644157, 905.7401255376493, 908.83234485076, 446.92533335204774, 477.84141708568205, 478.1295547473073, 612.0246330053351, 1294.5354580898613, 1685.802439404655, 440.06308226660707, 1649.2084260125505, 867.838503707843, 973.7744525971385, 852.1066318106797, 1334.7152326841324, 593.469417372142, 1660.7721421560734, 1856.9200827191185, 1357.5952851033119, 8765.70445153406, 1342.215702953937, 3612.94023255048, 2097.0775544280505, 9152.105920401515, 14869.877135704077, 8286.00644469141, 10414.43698987569, 3782.6539361248783, 5467.602303667322, 5369.690227627342, 3716.8121459760155, 2498.6129230077913, 4975.675063649357, 2662.7721065035716, 5424.536916625485, 5108.810584005113, 6551.6926490925325, 5566.914351454226, 3699.214610403372, 2783.322834420555, 2856.406228741808, 3408.3264179793314, 1659.6025093542444, 951.1210809472323, 630.5565372080475, 622.840773060068, 577.7431424326297, 572.1697277774149, 565.4050611407117, 526.0614403328885, 423.2031712423454, 420.9425447019692, 418.25655344333063, 411.55630989642134, 367.19057528699255, 331.0319062798688, 284.642250213574, 280.71892601064764, 257.3970327396583, 254.44089603988235, 214.53061949322577, 213.06742199396953, 200.86318032692574, 200.0635270732362, 198.68671012485942, 190.97409676310838, 189.07003457850914, 180.93207809067653, 177.2916700560665, 175.71107141309912, 175.2230419807192, 170.08358310797914, 170.5025484136368, 334.6911663351777, 1988.3920469529828, 4201.269037088462, 893.2066752383311, 347.53427562268496, 1040.2141046377085, 1266.03641197402, 5424.536916625485, 3716.8121459760155, 515.4702594700874, 1521.6302647206003, 1472.9299497273853, 929.8930458796187, 4975.675063649357, 1055.7372613361351, 799.8844180563397, 1578.375472268409, 1572.9354680281733, 14869.877135704077, 2550.7939011784415, 1316.315662763613, 10414.43698987569, 1636.1451728504403, 5566.914351454226, 6551.6926490925325, 4379.354959208789, 1943.5857679415249, 5369.690227627342, 1512.9862422731455, 3699.214610403372, 8286.00644469141, 5467.602303667322, 3197.0581326214015, 2004.1950565934276, 601.6275735928117, 472.5714263927963, 421.3288973326164, 366.45717883929365, 322.6391676093064, 290.68469947761156, 273.97009926836733, 246.73697244535936, 237.21201381005721, 235.87953084085916, 217.78914820574477, 212.21457973026207, 194.25494113448423, 179.96660794195907, 181.760423504528, 180.95458389945546, 177.93399622497046, 168.71074591691078, 142.44281182698427, 140.59022768601255, 134.18609461772374, 131.13338299516352, 130.29763898313018, 126.08032877379983, 121.59289032969696, 122.60192026844011, 120.26268979163076, 118.15097249949802, 118.55004615209627, 118.07330902119713, 670.7700720583555, 2913.679861040238, 475.83958312885625, 465.26163093825727, 591.0747791189926, 755.61688860646, 741.2747571903473, 973.8834318410393, 243.56210814269355, 582.1408109440783, 4657.82302700647, 1207.3466980850112, 1870.5548125109262, 728.7049255318993, 1436.728920367118, 850.7273240505967, 442.79705435800236, 1136.7662448168667, 1189.8107805492164, 708.89959337475, 509.9451823919591, 3085.618604089557, 10414.43698987569, 6551.6926490925325, 3352.883262288138, 2065.680515933543, 1367.4911350118239, 3197.0581326214015, 1233.2975983258048, 2048.9824702346355, 3612.94023255048, 2245.870735588232, 2810.604616853739, 1371.3083516543588, 5108.810584005113, 3699.214610403372, 14869.877135704077, 5467.602303667322, 1542.1181501974665, 1676.465703905868, 5566.914351454226, 824.3048549712576, 348.85572756484345, 237.65301971156933, 235.3031177917319, 220.21279655879016, 216.1509387515589, 212.73771847173597, 188.49382370417882, 178.33502282952358, 152.29551140648073, 151.69188580237974, 154.13821819981044, 151.54166805862235, 148.2355276274543, 144.7046621245519, 139.71356468989387, 129.95359809157787, 128.73706947843647, 121.80877530212932, 116.77073527920211, 118.6503134166795, 106.51161240734704, 108.35738371986172, 105.16825895341069, 98.14137405696904, 97.04653268785596, 101.25614537203779, 96.68464743292164, 96.88801282082616, 94.27447103131776, 94.50093281483085, 95.0113775544381, 342.9988165243052, 370.4758709869404, 3782.6539361248783, 748.2614044022673, 1033.214249132147, 9152.105920401515, 425.2054775766745, 2498.6129230077913, 274.3243497595544, 1191.8821809679857, 726.8467258692204, 1086.2749448533837, 779.6072433733832, 334.05265329275693, 453.2993348893033, 1971.494139943712, 1357.5952851033119, 3197.0581326214015, 434.0203677291047, 1856.9200827191185, 317.06172396226873, 2020.6821310727332, 943.519059199334, 584.0069137054074, 10414.43698987569, 3612.94023255048, 1436.728920367118, 1943.5857679415249, 5566.914351454226, 1826.0411040316444, 14869.877135704077], \"Category\": [\"Default\", \"Default\", \"Default\", \"Default\", \"Default\", \"Default\", \"Default\", \"Default\", \"Default\", \"Default\", \"Default\", \"Default\", \"Default\", \"Default\", \"Default\", \"Default\", \"Default\", \"Default\", \"Default\", \"Default\", \"Default\", \"Default\", \"Default\", \"Default\", \"Default\", \"Default\", \"Default\", \"Default\", \"Default\", \"Default\", \"Topic1\", \"Topic1\", \"Topic1\", \"Topic1\", \"Topic1\", \"Topic1\", \"Topic1\", \"Topic1\", \"Topic1\", \"Topic1\", \"Topic1\", \"Topic1\", \"Topic1\", \"Topic1\", \"Topic1\", \"Topic1\", \"Topic1\", \"Topic1\", \"Topic1\", \"Topic1\", \"Topic1\", \"Topic1\", \"Topic1\", \"Topic1\", \"Topic1\", \"Topic1\", \"Topic1\", \"Topic1\", \"Topic1\", \"Topic1\", \"Topic1\", \"Topic1\", \"Topic1\", \"Topic1\", \"Topic1\", \"Topic1\", \"Topic1\", \"Topic1\", \"Topic1\", \"Topic1\", \"Topic1\", \"Topic1\", \"Topic1\", \"Topic1\", \"Topic1\", \"Topic1\", \"Topic1\", \"Topic1\", \"Topic1\", \"Topic1\", \"Topic1\", \"Topic1\", \"Topic1\", \"Topic1\", \"Topic1\", \"Topic1\", \"Topic1\", \"Topic1\", \"Topic1\", \"Topic1\", \"Topic1\", \"Topic1\", \"Topic1\", \"Topic1\", \"Topic1\", \"Topic1\", \"Topic1\", \"Topic1\", \"Topic2\", \"Topic2\", \"Topic2\", \"Topic2\", \"Topic2\", \"Topic2\", \"Topic2\", \"Topic2\", \"Topic2\", \"Topic2\", \"Topic2\", \"Topic2\", \"Topic2\", \"Topic2\", \"Topic2\", \"Topic2\", \"Topic2\", \"Topic2\", \"Topic2\", \"Topic2\", \"Topic2\", \"Topic2\", \"Topic2\", \"Topic2\", \"Topic2\", \"Topic2\", \"Topic2\", \"Topic2\", \"Topic2\", \"Topic2\", \"Topic2\", \"Topic2\", \"Topic2\", \"Topic2\", \"Topic2\", \"Topic2\", \"Topic2\", \"Topic2\", \"Topic2\", \"Topic2\", \"Topic2\", \"Topic2\", \"Topic2\", \"Topic2\", \"Topic2\", \"Topic2\", \"Topic2\", \"Topic2\", \"Topic2\", \"Topic2\", \"Topic2\", \"Topic2\", \"Topic2\", \"Topic2\", \"Topic2\", \"Topic2\", \"Topic2\", \"Topic2\", \"Topic2\", \"Topic2\", \"Topic2\", \"Topic2\", \"Topic2\", \"Topic2\", \"Topic2\", \"Topic2\", \"Topic2\", \"Topic2\", \"Topic2\", \"Topic2\", \"Topic2\", \"Topic3\", \"Topic3\", \"Topic3\", \"Topic3\", \"Topic3\", \"Topic3\", \"Topic3\", \"Topic3\", \"Topic3\", \"Topic3\", \"Topic3\", \"Topic3\", \"Topic3\", \"Topic3\", \"Topic3\", \"Topic3\", \"Topic3\", \"Topic3\", \"Topic3\", \"Topic3\", \"Topic3\", \"Topic3\", \"Topic3\", \"Topic3\", \"Topic3\", \"Topic3\", \"Topic3\", \"Topic3\", \"Topic3\", \"Topic3\", \"Topic3\", \"Topic3\", \"Topic3\", \"Topic3\", \"Topic3\", \"Topic3\", \"Topic3\", \"Topic3\", \"Topic3\", \"Topic3\", \"Topic3\", \"Topic3\", \"Topic3\", \"Topic3\", \"Topic3\", \"Topic3\", \"Topic3\", \"Topic3\", \"Topic3\", \"Topic3\", \"Topic3\", \"Topic3\", \"Topic3\", \"Topic3\", \"Topic3\", \"Topic3\", \"Topic3\", \"Topic3\", \"Topic3\", \"Topic3\", \"Topic3\", \"Topic3\", \"Topic3\", \"Topic3\", \"Topic3\", \"Topic4\", \"Topic4\", \"Topic4\", \"Topic4\", \"Topic4\", \"Topic4\", \"Topic4\", \"Topic4\", \"Topic4\", \"Topic4\", \"Topic4\", \"Topic4\", \"Topic4\", \"Topic4\", \"Topic4\", \"Topic4\", \"Topic4\", \"Topic4\", \"Topic4\", \"Topic4\", \"Topic4\", \"Topic4\", \"Topic4\", \"Topic4\", \"Topic4\", \"Topic4\", \"Topic4\", \"Topic4\", \"Topic4\", \"Topic4\", \"Topic4\", \"Topic4\", \"Topic4\", \"Topic4\", \"Topic4\", \"Topic4\", \"Topic4\", \"Topic4\", \"Topic4\", \"Topic4\", \"Topic4\", \"Topic4\", \"Topic4\", \"Topic4\", \"Topic4\", \"Topic4\", \"Topic4\", \"Topic4\", \"Topic4\", \"Topic4\", \"Topic4\", \"Topic4\", \"Topic4\", \"Topic4\", \"Topic4\", \"Topic4\", \"Topic4\", \"Topic4\", \"Topic4\", \"Topic4\", \"Topic4\", \"Topic4\", \"Topic4\", \"Topic4\", \"Topic4\", \"Topic4\", \"Topic4\", \"Topic4\", \"Topic4\", \"Topic4\", \"Topic4\", \"Topic5\", \"Topic5\", \"Topic5\", \"Topic5\", \"Topic5\", \"Topic5\", \"Topic5\", \"Topic5\", \"Topic5\", \"Topic5\", \"Topic5\", \"Topic5\", \"Topic5\", \"Topic5\", \"Topic5\", \"Topic5\", \"Topic5\", \"Topic5\", \"Topic5\", \"Topic5\", \"Topic5\", \"Topic5\", \"Topic5\", \"Topic5\", \"Topic5\", \"Topic5\", \"Topic5\", \"Topic5\", \"Topic5\", \"Topic5\", \"Topic5\", \"Topic5\", \"Topic5\", \"Topic5\", \"Topic5\", \"Topic5\", \"Topic5\", \"Topic5\", \"Topic5\", \"Topic5\", \"Topic5\", \"Topic5\", \"Topic5\", \"Topic5\", \"Topic5\", \"Topic5\", \"Topic5\", \"Topic5\", \"Topic5\", \"Topic5\", \"Topic5\", \"Topic5\", \"Topic5\", \"Topic5\", \"Topic5\", \"Topic5\", \"Topic5\", \"Topic5\", \"Topic5\", \"Topic5\", \"Topic5\", \"Topic5\", \"Topic5\"], \"logprob\": [30.0, 29.0, 28.0, 27.0, 26.0, 25.0, 24.0, 23.0, 22.0, 21.0, 20.0, 19.0, 18.0, 17.0, 16.0, 15.0, 14.0, 13.0, 12.0, 11.0, 10.0, 9.0, 8.0, 7.0, 6.0, 5.0, 4.0, 3.0, 2.0, 1.0, -4.1573, -4.6901, -4.7325, -5.2983, -5.4364, -5.4638, -5.9572, -6.0327, -6.1464, -6.297, -6.3174, -6.5084, -6.6434, -6.7007, -6.722, -6.7275, -6.7873, -6.8562, -6.9002, -6.9326, -7.0174, -7.0496, -7.0645, -7.1045, -7.1081, -7.1297, -7.1923, -7.1948, -7.2625, -7.2305, -6.4227, -5.9142, -6.5897, -6.4825, -6.7005, -5.475, -6.447, -5.6778, -6.0599, -4.039, -4.0941, -3.6644, -6.1055, -5.2188, -6.3674, -5.1416, -4.7277, -5.0744, -5.8833, -5.6564, -5.0939, -5.3222, -5.2819, -5.7633, -5.4169, -4.844, -5.136, -5.3049, -4.8442, -4.8898, -4.8961, -4.6429, -5.3821, -5.3793, -5.0215, -5.1668, -5.0276, -5.201, -4.5394, -4.6339, -5.5292, -6.0739, -6.0928, -6.1414, -6.1844, -6.2588, -6.3338, -6.5472, -6.7537, -7.0035, -7.0408, -7.0394, -7.1037, -7.1195, -7.1314, -7.1439, -7.2341, -7.2493, -7.2827, -7.324, -7.3401, -7.3141, -7.361, -7.3873, -7.4353, -7.4347, -7.4676, -7.505, -5.4022, -5.4308, -6.1288, -6.0664, -6.0669, -5.8682, -5.24, -5.0313, -6.2478, -5.0947, -5.6628, -5.5705, -5.7043, -5.3429, -6.0375, -5.204, -5.1282, -5.3969, -3.9301, -5.4268, -4.8188, -5.1963, -4.2164, -3.9402, -4.3362, -4.2098, -4.8497, -4.6923, -4.8217, -5.0141, -5.2366, -4.9413, -5.2504, -4.9546, -4.9921, -4.9176, -5.0679, -5.1795, -5.2752, -5.2907, -5.2788, -4.6496, -5.2066, -5.6181, -5.6304, -5.7057, -5.7154, -5.7273, -5.7995, -6.0175, -6.0228, -6.0292, -6.0454, -6.1597, -6.2636, -6.415, -6.4289, -6.5159, -6.5275, -6.6987, -6.7056, -6.7648, -6.7688, -6.7758, -6.8155, -6.8256, -6.8697, -6.8901, -6.8991, -6.9019, -6.9319, -6.9294, -6.2846, -4.8085, -4.2938, -5.5735, -6.3492, -5.4845, -5.3618, -4.2763, -4.59, -6.0781, -5.3398, -5.3935, -5.7035, -4.6397, -5.6227, -5.8067, -5.4098, -5.4595, -4.2242, -5.2202, -5.5634, -4.5724, -5.4622, -4.9231, -4.8894, -5.0698, -5.413, -5.0667, -5.563, -5.4438, -5.3358, -5.395, -5.4966, -5.5472, -5.3659, -5.6077, -5.7227, -5.8625, -5.9902, -6.0947, -6.1541, -6.2592, -6.2986, -6.3043, -6.3844, -6.4104, -6.4992, -6.5759, -6.566, -6.5704, -6.5873, -6.6408, -6.8109, -6.8241, -6.8709, -6.8941, -6.9006, -6.9337, -6.9702, -6.9619, -6.9812, -6.999, -6.9958, -6.9999, -5.3087, -3.9288, -5.6749, -5.7147, -5.534, -5.3206, -5.3533, -5.1229, -6.3461, -5.5868, -3.8301, -4.9847, -4.6867, -5.4629, -4.975, -5.3881, -5.8896, -5.1972, -5.1706, -5.5699, -5.8208, -4.652, -3.8825, -4.2269, -4.6761, -4.9883, -5.2441, -4.7928, -5.3183, -5.0907, -4.8692, -5.0881, -5.0271, -5.3086, -4.8965, -5.078, -4.7415, -5.0998, -5.3667, -5.3643, -5.3639, -4.3711, -5.2324, -5.6173, -5.6272, -5.6938, -5.7125, -5.7284, -5.85, -5.9055, -6.0642, -6.0682, -6.0522, -6.0692, -6.0914, -6.1156, -6.151, -6.2237, -6.2332, -6.2889, -6.3314, -6.3154, -6.4241, -6.407, -6.4371, -6.5065, -6.5177, -6.4753, -6.5216, -6.5196, -6.5471, -6.5447, -6.5393, -5.3817, -5.4172, -3.5195, -4.8524, -4.6138, -2.8733, -5.3281, -3.9873, -5.7118, -4.6252, -5.0456, -4.7702, -5.0113, -5.5927, -5.5126, -4.7918, -4.9929, -4.759, -5.6245, -5.087, -5.7915, -5.1538, -5.4544, -5.5937, -5.1606, -5.3716, -5.5227, -5.4932, -5.4727, -5.5477, -5.5394], \"loglift\": [30.0, 29.0, 28.0, 27.0, 26.0, 25.0, 24.0, 23.0, 22.0, 21.0, 20.0, 19.0, 18.0, 17.0, 16.0, 15.0, 14.0, 13.0, 12.0, 11.0, 10.0, 9.0, 8.0, 7.0, 6.0, 5.0, 4.0, 3.0, 2.0, 1.0, 1.1069, 1.1068, 1.1068, 1.1065, 1.1065, 1.1064, 1.106, 1.1059, 1.1058, 1.1056, 1.1055, 1.1052, 1.1049, 1.1048, 1.1047, 1.1047, 1.1046, 1.1044, 1.1042, 1.1041, 1.1039, 1.1038, 1.1038, 1.1036, 1.1036, 1.1035, 1.1033, 1.1033, 1.103, 1.103, 1.0656, 1.0104, 1.0573, 1.0436, 1.0612, 0.9132, 0.9969, 0.8615, 0.9231, 0.5261, 0.5273, 0.3722, 0.921, 0.68, 0.9761, 0.6498, 0.5313, 0.6103, 0.8463, 0.7618, 0.5662, 0.6311, 0.5997, 0.7678, 0.5598, 0.2609, 0.3737, 0.4728, 0.1748, 0.1653, 0.1409, -0.2502, 0.3608, 0.333, -0.1654, -0.0355, -0.5057, -0.1561, 1.4542, 1.4541, 1.4536, 1.4528, 1.4528, 1.4527, 1.4526, 1.4524, 1.4523, 1.4517, 1.4511, 1.4501, 1.4499, 1.4499, 1.4496, 1.4496, 1.4494, 1.4493, 1.4489, 1.4489, 1.4486, 1.4484, 1.4484, 1.4483, 1.448, 1.4479, 1.4477, 1.4476, 1.4475, 1.4473, 1.4327, 1.4007, 1.4124, 1.408, 1.4069, 1.3587, 1.2377, 1.1824, 1.3089, 1.1409, 1.2149, 1.192, 1.1917, 1.1043, 1.2202, 1.0246, 0.9888, 1.0333, 0.635, 1.0148, 0.6326, 0.7991, 0.3056, 0.0963, 0.2852, 0.1829, 0.5558, 0.3447, 0.2335, 0.409, 0.5836, 0.19, 0.5061, 0.0904, 0.1128, -0.0614, -0.0489, 0.2483, 0.4371, 0.3957, 0.2309, 1.5798, 1.5794, 1.579, 1.579, 1.5788, 1.5788, 1.5788, 1.5787, 1.5784, 1.5783, 1.5783, 1.5783, 1.5781, 1.5778, 1.5774, 1.5774, 1.5771, 1.5771, 1.5765, 1.5765, 1.5763, 1.5763, 1.5762, 1.576, 1.576, 1.5758, 1.5757, 1.5757, 1.5757, 1.5755, 1.5755, 1.5458, 1.2401, 1.0067, 1.2754, 1.4436, 1.212, 1.1382, 0.7686, 0.8331, 1.3205, 0.9764, 0.9551, 1.1051, 0.4916, 1.0589, 1.1525, 0.8697, 0.8234, -0.1876, 0.5793, 0.8977, -0.1797, 0.7814, 0.096, -0.0333, 0.1892, 0.6584, -0.0116, 0.7588, -0.016, -0.7144, -0.3579, 0.0771, 0.4935, 1.8781, 1.8777, 1.8775, 1.8773, 1.8769, 1.8767, 1.8765, 1.8762, 1.8761, 1.876, 1.8758, 1.8757, 1.8753, 1.875, 1.875, 1.875, 1.8749, 1.8747, 1.8738, 1.8737, 1.8735, 1.8733, 1.8733, 1.8731, 1.8728, 1.8728, 1.8728, 1.8727, 1.8726, 1.8724, 1.8266, 1.7377, 1.8037, 1.7863, 1.7278, 1.6955, 1.6819, 1.6394, 1.8022, 1.6901, 1.3672, 1.5628, 1.423, 1.5895, 1.3986, 1.5095, 1.661, 1.4106, 1.3915, 1.51, 1.5886, 0.9572, 0.5103, 0.6293, 0.85, 1.0221, 1.1789, 0.7809, 1.2079, 0.9279, 0.5822, 0.8387, 0.6754, 1.1115, 0.2084, 0.3498, -0.7049, -0.0628, 0.936, 0.8549, -0.3448, 2.558, 2.5566, 2.5556, 2.5555, 2.5553, 2.5552, 2.5552, 2.5546, 2.5545, 2.5537, 2.5536, 2.5536, 2.5536, 2.5535, 2.5534, 2.5531, 2.5528, 2.5527, 2.5523, 2.5521, 2.5521, 2.5513, 2.5512, 2.551, 2.5508, 2.5507, 2.5507, 2.5506, 2.5505, 2.5504, 2.5504, 2.5503, 2.4242, 2.3117, 1.886, 2.1735, 2.0894, 1.6487, 2.263, 1.8329, 2.3176, 1.9352, 2.0093, 1.8829, 1.9735, 2.2396, 2.0145, 1.2653, 1.4372, 0.8147, 1.946, 1.03, 2.093, 0.8786, 1.3397, 1.68, -0.7679, 0.0797, 0.8508, 0.5782, -0.4537, 0.5861, -1.5028]}, \"token.table\": {\"Topic\": [1, 2, 3, 4, 5, 5, 1, 2, 3, 4, 1, 2, 3, 1, 2, 4, 1, 5, 4, 1, 2, 3, 4, 5, 1, 2, 3, 4, 5, 3, 3, 1, 2, 3, 4, 5, 2, 4, 3, 3, 1, 1, 1, 2, 1, 1, 2, 3, 1, 1, 2, 3, 4, 5, 2, 2, 3, 4, 4, 2, 4, 4, 5, 3, 5, 1, 2, 3, 4, 2, 1, 2, 4, 5, 1, 2, 3, 3, 3, 5, 1, 2, 3, 4, 5, 1, 3, 5, 4, 5, 1, 3, 5, 5, 1, 3, 4, 1, 3, 4, 1, 2, 3, 4, 5, 2, 1, 2, 2, 4, 4, 1, 2, 3, 4, 5, 2, 1, 2, 4, 5, 2, 4, 1, 3, 3, 3, 2, 3, 5, 1, 2, 3, 5, 1, 3, 5, 5, 1, 2, 3, 3, 1, 1, 1, 2, 3, 4, 1, 2, 3, 5, 4, 5, 2, 3, 4, 5, 1, 2, 3, 4, 5, 1, 2, 3, 4, 5, 1, 2, 3, 4, 5, 1, 2, 3, 4, 5, 1, 2, 4, 5, 1, 2, 3, 3, 1, 2, 3, 4, 5, 2, 3, 5, 1, 2, 3, 3, 5, 3, 5, 3, 4, 5, 1, 2, 1, 2, 3, 5, 2, 2, 4, 1, 2, 3, 4, 1, 2, 3, 5, 1, 2, 3, 4, 1, 2, 4, 5, 1, 2, 3, 4, 5, 4, 1, 1, 2, 3, 4, 5, 2, 4, 5, 4, 1, 2, 3, 4, 5, 5, 1, 2, 3, 4, 3, 4, 5, 2, 1, 2, 3, 4, 5, 1, 2, 4, 5, 1, 2, 3, 4, 5, 1, 1, 4, 5, 5, 1, 2, 3, 4, 2, 3, 3, 2, 2, 4, 1, 3, 1, 2, 3, 4, 5, 2, 1, 2, 3, 4, 3, 1, 2, 3, 4, 1, 5, 1, 2, 4, 1, 2, 3, 1, 2, 3, 5, 4, 5, 5, 1, 2, 3, 4, 5, 5, 4, 5, 1, 3, 5, 2, 2, 1, 2, 4, 5, 2, 4, 5, 1, 2, 3, 4, 5, 4, 2, 1, 2, 3, 4, 1, 4, 4, 1, 2, 3, 4, 1, 1, 4, 3, 2, 4, 5, 1, 2, 3, 4, 5, 1, 5, 1, 2, 3, 4, 5, 1, 2, 3, 4, 5, 3, 1, 2, 3, 4, 4, 1, 2, 3, 4, 5, 2, 3, 4, 1, 2, 3, 4, 3, 5, 1, 1, 3, 1, 4, 5, 1, 4, 1, 2, 1, 3, 3, 1, 1, 2, 3, 4, 2, 4, 5, 2, 5, 2, 5, 1, 2, 3, 5, 2, 3, 5, 1, 2, 3, 1, 2, 3, 4, 5, 3, 2, 3, 1, 2, 4, 2, 1, 2, 3, 4, 5, 2, 1, 2, 3, 5, 3, 4, 5, 5, 3, 3, 2, 4, 1, 3, 4, 2, 1, 2, 3, 4, 5, 4, 4, 4, 1, 2, 2, 2, 4, 1, 2, 3, 4, 5, 1, 4, 5, 2, 2, 4, 1, 2, 4, 1, 3, 5, 1, 1, 4, 2, 1, 3, 1, 2, 3, 5, 4, 5, 1, 2, 4, 3, 5, 1, 3, 1, 1, 2, 3, 4, 1, 2, 3, 4, 1, 2, 3, 4, 5, 5, 1, 2, 3, 5, 4, 1, 2, 3, 4, 1, 1, 3, 1, 2, 4, 5, 1, 2, 1, 3, 5, 5, 1, 2, 3, 5, 3, 2, 1, 2, 3, 4, 5, 1, 2, 3, 4, 5, 1, 2, 3, 5, 3, 1, 1, 2, 5, 4, 5, 4, 5, 1, 1, 5, 4, 2, 3, 3, 3, 5, 5, 5, 2, 1, 4, 3, 2, 4, 1, 2, 3, 5, 1, 1, 2, 3, 4, 5, 2, 5, 4, 5, 1, 1, 2, 3, 4], \"Freq\": [0.1992983927266413, 0.3169762265899048, 0.05168209416650293, 0.029610671287784975, 0.4024210418926644, 0.9954388740128057, 0.7701237308292813, 0.08446518338127601, 0.13613800144982133, 0.009937080397797178, 0.6022066701162319, 0.36941016937165316, 0.028088791680333076, 0.2072558355991433, 0.7902681861463269, 0.9976445286633867, 0.998781726484693, 0.997547044530939, 0.9987524358487349, 0.319216202514648, 0.3871904762265907, 0.15848145583668408, 0.09200937601892796, 0.0428125259843175, 0.280080293487846, 0.21963789772698117, 0.19918516784830467, 0.28649085061399837, 0.014652702002633907, 0.9974389827545138, 0.9970525460275373, 0.34238827452452036, 0.34693944790777065, 0.11728023718375698, 0.12393195212850737, 0.06966796178975414, 0.9473694514485896, 0.051714708731804546, 0.9975266025219187, 0.9969957351941388, 0.9966454219887803, 0.9990316887097541, 0.9525442730497846, 0.04725415453771777, 0.9970930722020401, 0.7121647834097221, 0.1874117851078216, 0.10022456334026981, 0.9980961359333199, 0.5599802547791531, 0.3105235335230088, 0.10077230878030018, 0.025947360943430586, 0.0026550787942115016, 0.9983935287800453, 0.38576298274695814, 0.1502215017880404, 0.4637906560057946, 0.9913570216120687, 0.2708418389834992, 0.7288710039922913, 0.44253052153181, 0.5566905691153784, 0.272412145519615, 0.7274302347391918, 0.3441764413406682, 0.25112353865584286, 0.045333465410555954, 0.3590887654888774, 0.994853743433619, 0.13195324956553847, 0.17241891276563692, 0.6254584029406524, 0.06949537810451692, 0.8322315151889698, 0.12931597389859376, 0.03713032913920019, 0.9965437541120498, 0.9949902149095334, 0.9892161764169147, 0.05270422977247111, 0.26838615468750676, 0.04378505242636062, 0.5108256116408739, 0.12405764854135508, 0.9969165189661008, 0.21142855182500955, 0.7837437696961561, 0.9953602198400616, 0.997380159760811, 0.9592456183726603, 0.040322271568762266, 0.9967018055660548, 0.9942746135093596, 0.05763649802331607, 0.19349395764970395, 0.7479021767311252, 0.18102157488812584, 0.12812566014808907, 0.6911732859364805, 0.5443470017215858, 0.019167147947943164, 0.048191686269114235, 0.2491729233232611, 0.1390987308222161, 0.9931282925660463, 0.35538252082003097, 0.6444567725562407, 0.9978201275359091, 0.9914314248360024, 0.9947247321461287, 0.11569524351221322, 0.4395312121947239, 0.08774017271141528, 0.2731847017860154, 0.0838652124023938, 0.9922417995446444, 0.16965375062412674, 0.2347364394411409, 0.496529727042164, 0.09872093247524616, 0.7870127876118427, 0.21202101452500594, 0.9987725146280441, 0.9957026453254358, 0.998267196638809, 0.9984575084823923, 0.9962424518848817, 0.3194070930210814, 0.6802435579402947, 0.19716713929655783, 0.03859441875592196, 0.22821047612197332, 0.5361268170659594, 0.4914325383222644, 0.09246465877840515, 0.41437865600692675, 0.9914934367105346, 0.44366257769347534, 0.05089964504360077, 0.5051979694626046, 0.9979822882813519, 0.998188005631936, 0.9998388357818523, 0.1897832651711864, 0.1395307949568441, 0.03742205228727619, 0.6335018851488898, 0.48029437302854217, 0.29427932568578363, 0.18073386303334268, 0.044890066630034794, 0.993539720909259, 0.9964256163630665, 0.5192940994006348, 0.19741759150767932, 0.2074315273087935, 0.07581979963700727, 0.3302064088400418, 0.06289645882667463, 0.16028452410668698, 0.17296526177335525, 0.27441116310670144, 0.11169962771511424, 0.14672968847784237, 0.43952812089083415, 0.2954422105837637, 0.006609445426929837, 0.46095982260250484, 0.36143848911778637, 0.07688651756581141, 0.05568883281635873, 0.04491034904545059, 0.5621832491159395, 0.09955804086699822, 0.24889510216749558, 0.06279463586794613, 0.026487919129751823, 0.9973846694967692, 0.4186322700760074, 0.09765418154736692, 0.4838684651260927, 0.22284421143031913, 0.7691719555820692, 0.008215454799274437, 0.9946840531665381, 0.2939836928785586, 0.16074368238474201, 0.44983783359380275, 0.03789394793860838, 0.05806330732528704, 0.0770451293331903, 0.34532727611840647, 0.5778384699989272, 0.323343573973277, 0.6502999253093839, 0.025891571100281025, 0.8718564505820559, 0.12660621724623913, 0.9948993251984499, 0.9944926154258871, 0.9991173872996199, 0.9963765494642586, 0.9951966513717733, 0.23001816050124008, 0.7686831384097563, 0.7820675206650559, 0.10268743706211343, 0.09282944310415053, 0.021358986908919592, 0.9936307980111636, 0.9955319870831798, 0.9950904499120227, 0.12066394814701584, 0.7306535553625834, 0.1479497655671953, 0.9970131251994568, 0.8235039695131101, 0.1440778814585544, 0.03178188561585759, 0.9929187575163199, 0.5304668863404015, 0.2508498508073916, 0.04295899585692333, 0.17567160805777576, 0.11002968647319618, 0.19325726983112662, 0.6912121329726426, 0.005642548024266471, 0.11348028033882582, 0.3203386199278854, 0.0940265179950271, 0.3890752468759742, 0.08300271933354117, 0.9968913009978901, 0.9952150256995916, 0.16709236990128482, 0.15685736718653376, 0.5634011959492039, 0.08021385848537463, 0.03237117137688709, 0.20045535098326636, 0.618070665531738, 0.1809666363043377, 0.9946289594885802, 0.26924634142580706, 0.2992527108015747, 0.20274573902545712, 0.2165324492791882, 0.01243507199356137, 0.9981213851087241, 0.11745346549866612, 0.053990705914709426, 0.5938977650618037, 0.2339597256304075, 0.016422915824232217, 0.9237890151130621, 0.05748020538481276, 0.9974821192097457, 0.11570037000227439, 0.3853451653632235, 0.03969636125601046, 0.42407332268616055, 0.03533944355718004, 0.10253731265040718, 0.22440543014474357, 0.613542936350797, 0.058832884307610675, 0.621317516079185, 0.04206122993324873, 0.09326620550416022, 0.17098804342429372, 0.07269277781941899, 0.9978416349295315, 0.11166099845839161, 0.8594513214676203, 0.027069332959610087, 0.993360287055483, 0.1537198806928835, 0.19730247256530717, 0.04980867642562706, 0.5992069651031255, 0.9971228229485328, 0.9927144346056528, 0.9977608708983395, 0.996160728955624, 0.9576543732482041, 0.04027518392165345, 0.8775846351378518, 0.12117277388932682, 0.1616687086893413, 0.04928924045406747, 0.5467819741037885, 0.1406386327622725, 0.10120724039901853, 0.9899740743419403, 0.28278911611763463, 0.255690028719139, 0.44409320777534667, 0.01751301566569445, 0.9977436581776172, 0.5821049421957858, 0.20051418044002464, 0.19915013839621495, 0.01807355708047841, 0.9990341506132975, 0.9987117986596328, 0.6524624547412204, 0.3130261146502338, 0.03463636123377414, 0.41387584756804513, 0.11697873418205884, 0.46918644470847515, 0.26503829205117463, 0.08251192111027135, 0.6525942851448734, 0.9864812709381908, 0.9113152080582099, 0.08812246115657218, 0.9951303426288686, 0.1399017844027598, 0.11022564831732591, 0.2586063287444954, 0.19501460856142278, 0.29570149885128777, 0.9965322629337402, 0.8039800547367084, 0.19421990086336216, 0.22060477989543095, 0.19854430190588787, 0.5801905711249834, 0.9934405724564181, 0.9929273483591399, 0.39279804543829616, 0.2590190009774272, 0.29993546404391636, 0.04803236968674817, 0.992926978419398, 0.9481639484128168, 0.05068800982081096, 0.1723618301418221, 0.1471506967777944, 0.39771849164068207, 0.14509264507460848, 0.13788946411345768, 0.9957871923744512, 0.9971419561384959, 0.12689955636531933, 0.3775818378869852, 0.1424837124101831, 0.35309244981648497, 0.938836386228743, 0.0595037146201316, 0.99512397206704, 0.31895169594053663, 0.28237374467325393, 0.3366377383115305, 0.06190114829847844, 0.9955679608548635, 0.9999140745317714, 0.99895687362023, 0.9987137148361456, 0.6279214764550379, 0.15509552763211915, 0.21648750731983296, 0.0895737123700457, 0.41273191224650896, 0.13213359780553705, 0.17865254235130662, 0.18607577818307838, 0.12536486404160227, 0.87463858633676, 0.31637621333332844, 0.06449729670958412, 0.534988103233182, 0.055671350844062086, 0.027835675422031043, 0.11999530309403968, 0.3513763808090041, 0.47379311378610733, 0.05461669625132299, 0.9933995852868507, 0.9996369556259114, 0.6330968662161455, 0.16994062072263857, 0.15049661377496826, 0.04666561667440876, 0.9987908147617852, 0.4741660436204157, 0.2515302684517674, 0.0863130376277788, 0.12743212422298672, 0.06075252433886576, 0.994585246315911, 0.9968827588510566, 0.9980189398142745, 0.14900778532894846, 0.13747169872283632, 0.6921651963667284, 0.022110832661714933, 0.36901332187900215, 0.6276380431959097, 0.9981933013161141, 0.9948481742939163, 0.9959531780929878, 0.1780716242116748, 0.8202086933386233, 0.9916651045317595, 0.2510073718112222, 0.7471391301568411, 0.13407168739561648, 0.8635125628870214, 0.9966800527456062, 0.9979556279882917, 0.9936291140615775, 0.9998146368926394, 0.4290626876758377, 0.26131327009454536, 0.12155471215633906, 0.18810640641262777, 0.40712156755678414, 0.08274613678264509, 0.5102237827172684, 0.37455929428486145, 0.6252333439483734, 0.9943588850183929, 0.9945190754414975, 0.7081252386780653, 0.22706585248464173, 0.025472130887700194, 0.0392998590838803, 0.6563075238819761, 0.01767831714160205, 0.32557567402450444, 0.08750789376101059, 0.20066465293473118, 0.7116302854702873, 0.1354058475898659, 0.26663618446110154, 0.17865220860425038, 0.35730441720850076, 0.0620361592482205, 0.9988213057520334, 0.9996397265521121, 0.9967576093529579, 0.8304142276679949, 0.16848984329495548, 0.9900409631881496, 0.9972705536838715, 0.21425268706653636, 0.23621480760866423, 0.1205476394201241, 0.3860452744182922, 0.042460099714780555, 0.9972038357332287, 0.5784651989826086, 0.2410271662427536, 0.17550521813792738, 0.005148153065379204, 0.1013777307968707, 0.35712609712533994, 0.5414492440287412, 0.9926620108594002, 0.9948484641280171, 0.9930200847622896, 0.1667511696732645, 0.8324324263847886, 0.11705713052792491, 0.09549397490435979, 0.786541771792899, 0.9977264957144383, 0.39357530252421663, 0.2223853147078869, 0.2266965001303338, 0.10813890101304355, 0.04921936690626899, 0.9948905884209233, 0.991160823175436, 0.9958163416993301, 0.5593389586779806, 0.44058067681304525, 0.9907588097954858, 0.13213531285573282, 0.8679745615899956, 0.3806055898769734, 0.329577738086644, 0.1439387790644777, 0.14339009248608706, 0.0025605373658229833, 0.9976132059427185, 0.2186377206812892, 0.7800777935418837, 0.9997899156419445, 0.997307632416767, 0.9964591053149304, 0.6084860300090562, 0.23906056549465507, 0.15238363531530644, 0.13875644391095812, 0.11523840257011776, 0.7431701063705554, 0.9951133399914033, 0.07145265170340585, 0.9267829235647641, 0.9939157507156352, 0.2619774420489666, 0.7366716105479488, 0.22905860081845839, 0.12259474410001998, 0.6215768604369434, 0.02580941981053052, 0.9942766433305107, 0.9875943789147569, 0.020977319502899973, 0.9782055305036513, 0.9958017872527333, 0.7721105004373116, 0.22697720741498856, 0.9539697238129221, 0.04184077736021588, 0.9991618638240726, 0.2826013554767545, 0.2955647204068809, 0.02398222512073376, 0.39765121923162594, 0.8951884473044595, 0.046687832852613534, 0.028418680866808238, 0.028418680866808238, 0.2573350823098109, 0.2803800150539731, 0.17206883115641086, 0.25435844516368994, 0.035911686859652715, 0.9893551953411199, 0.3522611223280847, 0.21105730133821504, 0.3372925193962964, 0.0992917327808624, 0.9962712710266812, 0.15720595843307528, 0.32342871747453145, 0.3673366160892557, 0.1521095059152948, 0.9942945081054663, 0.9991950247774479, 0.9971569890678905, 0.12931527141281585, 0.7616550848351172, 0.08008055798500065, 0.029066276601963197, 0.046012633566705693, 0.9537164048371726, 0.4087362983962844, 0.08285195237762522, 0.5090792184980749, 0.9946991759773166, 0.1150992034006202, 0.8049219459291694, 0.07956522114271061, 0.9972522137006217, 0.9992835912365295, 0.9989646014362149, 0.15458932572572745, 0.1235447480185117, 0.4916447408326414, 0.2078086017952402, 0.02217469836229697, 0.05817848543388569, 0.21144438792100392, 0.2223919523843695, 0.3334315347985062, 0.17484824385775324, 0.22748160896174127, 0.12953813843654713, 0.6429514919960326, 0.9888915252088729, 0.9986482775672633, 0.9987088979170656, 0.9972392498444758, 0.9968053098379832, 0.9948926599111712, 0.827978370419218, 0.1717797449002527, 0.990258459366444, 0.992615600380595, 0.996728494541609, 0.9081809314595767, 0.09178424307304232, 0.9992193810234745, 0.7042700772281184, 0.29519405364667944, 0.9986500995175103, 0.9650687932305045, 0.03286611989329892, 0.9908346471872805, 0.9996301672015893, 0.9951500471225739, 0.9996602862758603, 0.990909808236132, 0.9943405385158227, 0.9929637799577937, 0.9895005691805288, 0.021240975115925893, 0.9084601664965228, 0.07025860999883181, 0.9946753007032656, 0.9968045362605794, 0.47956011572400614, 0.2570969460682759, 0.17068063016512797, 0.07545455754344901, 0.01721601312934309, 0.9542914944064682, 0.043947634610824196, 0.9947508837839535, 0.9883701031503136, 0.9992485274224714, 0.38996662958810147, 0.2949890836998819, 0.20354991697220387, 0.11155205879812453], \"Term\": [\"-\", \"-\", \"-\", \"-\", \"-\", \"\\\\mathcal\", \"able\", \"able\", \"able\", \"able\", \"achieve\", \"achieve\", \"achieve\", \"adaptive\", \"adaptive\", \"admit\", \"adversarial\", \"algebra\", \"algebraic\", \"allow\", \"allow\", \"allow\", \"allow\", \"allow\", \"also\", \"also\", \"also\", \"also\", \"also\", \"angular\", \"anomalous\", \"apply\", \"apply\", \"apply\", \"apply\", \"apply\", \"approximate\", \"approximate\", \"atmospheric\", \"atomic\", \"automate\", \"automatic\", \"automatically\", \"automatically\", \"autonomous\", \"available\", \"available\", \"available\", \"bandwidth\", \"base\", \"base\", \"base\", \"base\", \"base\", \"bayesian\", \"bind\", \"bind\", \"bind\", \"boolean\", \"bound\", \"bound\", \"boundary\", \"boundary\", \"break\", \"break\", \"call\", \"call\", \"call\", \"call\", \"causal\", \"certain\", \"certain\", \"certain\", \"certain\", \"challenge\", \"challenge\", \"challenge\", \"chaotic\", \"charge\", \"chiral\", \"classical\", \"classical\", \"classical\", \"classical\", \"classical\", \"clinical\", \"coherent\", \"coherent\", \"coincide\", \"cold\", \"collect\", \"collect\", \"commercial\", \"commutative\", \"compact\", \"compact\", \"compact\", \"complete\", \"complete\", \"complete\", \"complex\", \"complex\", \"complex\", \"complex\", \"complex\", \"compress\", \"computational\", \"computational\", \"conditional\", \"conformal\", \"conjecture\", \"consider\", \"consider\", \"consider\", \"consider\", \"consider\", \"constraint\", \"construct\", \"construct\", \"construct\", \"construct\", \"convex\", \"convex\", \"convolutional\", \"cool\", \"cosmic\", \"cosmological\", \"cost\", \"couple\", \"couple\", \"critical\", \"critical\", \"critical\", \"critical\", \"cross\", \"cross\", \"cross\", \"cubic\", \"current\", \"current\", \"current\", \"dark\", \"dataset\", \"deep\", \"define\", \"define\", \"define\", \"define\", \"demonstrate\", \"demonstrate\", \"demonstrate\", \"demonstrate\", \"denote\", \"derivative\", \"derive\", \"derive\", \"derive\", \"derive\", \"describe\", \"describe\", \"describe\", \"describe\", \"describe\", \"determine\", \"determine\", \"determine\", \"determine\", \"determine\", \"develop\", \"develop\", \"develop\", \"develop\", \"develop\", \"different\", \"different\", \"different\", \"different\", \"different\", \"digital\", \"dimensional\", \"dimensional\", \"dimensional\", \"distribute\", \"distribute\", \"distribute\", \"dope\", \"due\", \"due\", \"due\", \"due\", \"due\", \"dynamical\", \"dynamical\", \"dynamical\", \"efficient\", \"efficient\", \"efficient\", \"electric\", \"electric\", \"electrical\", \"electromagnetic\", \"electronic\", \"elliptic\", \"emit\", \"empirical\", \"empirical\", \"enable\", \"enable\", \"enable\", \"enable\", \"encourage\", \"enforce\", \"ergodic\", \"estimate\", \"estimate\", \"estimate\", \"euclidean\", \"evaluate\", \"evaluate\", \"evaluate\", \"excited\", \"exist\", \"exist\", \"exist\", \"exist\", \"explicit\", \"explicit\", \"explicit\", \"explicit\", \"extend\", \"extend\", \"extend\", \"extend\", \"extend\", \"f$\", \"face\", \"find\", \"find\", \"find\", \"find\", \"find\", \"finite\", \"finite\", \"finite\", \"finitely\", \"first\", \"first\", \"first\", \"first\", \"first\", \"fluid\", \"form\", \"form\", \"form\", \"form\", \"fractional\", \"fractional\", \"fractional\", \"gaussian\", \"general\", \"general\", \"general\", \"general\", \"general\", \"generalize\", \"generalize\", \"generalize\", \"generalize\", \"generate\", \"generate\", \"generate\", \"generate\", \"generate\", \"generative\", \"geometric\", \"geometric\", \"geometric\", \"geometrical\", \"give\", \"give\", \"give\", \"give\", \"gradient\", \"graphene\", \"gravitational\", \"greedy\", \"guarantee\", \"guarantee\", \"help\", \"help\", \"here\", \"here\", \"here\", \"here\", \"here\", \"heuristic\", \"high\", \"high\", \"high\", \"high\", \"hot\", \"however\", \"however\", \"however\", \"however\", \"human\", \"hyperbolic\", \"improve\", \"improve\", \"improve\", \"increase\", \"increase\", \"increase\", \"indicate\", \"indicate\", \"indicate\", \"inertial\", \"infinite\", \"infinite\", \"inhomogeneous\", \"initial\", \"initial\", \"initial\", \"initial\", \"initial\", \"integrable\", \"integral\", \"integral\", \"interact\", \"interact\", \"interact\", \"interactive\", \"intractable\", \"introduce\", \"introduce\", \"introduce\", \"introduce\", \"intuitive\", \"invariant\", \"invariant\", \"investigate\", \"investigate\", \"investigate\", \"investigate\", \"investigate\", \"irreducible\", \"iterative\", \"know\", \"know\", \"know\", \"know\", \"label\", \"label\", \"laplacian\", \"large\", \"large\", \"large\", \"large\", \"latent\", \"learn\", \"let\", \"light\", \"linear\", \"linear\", \"linear\", \"local\", \"local\", \"local\", \"local\", \"local\", \"localize\", \"localize\", \"long\", \"long\", \"long\", \"long\", \"long\", \"low\", \"low\", \"low\", \"low\", \"macroscopic\", \"magnetic\", \"make\", \"make\", \"make\", \"make\", \"manifold\", \"many\", \"many\", \"many\", \"many\", \"many\", \"marginal\", \"mass\", \"maximal\", \"measure\", \"measure\", \"measure\", \"measure\", \"mechanical\", \"mechanical\", \"medical\", \"meta\", \"metallic\", \"metric\", \"metric\", \"microscopic\", \"minimal\", \"minimal\", \"minimize\", \"minimize\", \"mobile\", \"molecular\", \"narrow\", \"neural\", \"new\", \"new\", \"new\", \"new\", \"non\", \"non\", \"non\", \"nonlinear\", \"nonlinear\", \"nonparametric\", \"nontrivial\", \"novel\", \"novel\", \"novel\", \"novel\", \"numerical\", \"numerical\", \"numerical\", \"observe\", \"observe\", \"observe\", \"obtain\", \"obtain\", \"obtain\", \"obtain\", \"obtain\", \"optical\", \"optimal\", \"orbital\", \"outperform\", \"outperform\", \"parabolic\", \"parametric\", \"particular\", \"particular\", \"particular\", \"particular\", \"particular\", \"partition\", \"perform\", \"perform\", \"perform\", \"perform\", \"periodic\", \"periodic\", \"periodic\", \"photonic\", \"planetary\", \"polarize\", \"polynomial\", \"polynomial\", \"positive\", \"positive\", \"positive\", \"posterior\", \"present\", \"present\", \"present\", \"present\", \"present\", \"prime\", \"projective\", \"proof\", \"propose\", \"propose\", \"provably\", \"prove\", \"prove\", \"provide\", \"provide\", \"provide\", \"provide\", \"provide\", \"public\", \"quasi\", \"quasi\", \"random\", \"randomize\", \"rational\", \"real\", \"real\", \"real\", \"realize\", \"realize\", \"realize\", \"recurrent\", \"regular\", \"regular\", \"relational\", \"report\", \"report\", \"reveal\", \"reveal\", \"reveal\", \"reveal\", \"riemannian\", \"round\", \"sample\", \"sample\", \"say\", \"scatter\", \"scatter\", \"scientific\", \"scientific\", \"semantic\", \"set\", \"set\", \"set\", \"set\", \"share\", \"share\", \"share\", \"share\", \"show\", \"show\", \"show\", \"show\", \"show\", \"simplicial\", \"single\", \"single\", \"single\", \"single\", \"singular\", \"small\", \"small\", \"small\", \"small\", \"smart\", \"social\", \"solar\", \"solve\", \"solve\", \"solve\", \"solve\", \"sparse\", \"sparse\", \"spatial\", \"spatial\", \"spatial\", \"sphere\", \"statistical\", \"statistical\", \"statistical\", \"steady\", \"stellar\", \"stochastic\", \"strong\", \"strong\", \"strong\", \"strong\", \"strong\", \"study\", \"study\", \"study\", \"study\", \"study\", \"suggest\", \"suggest\", \"suggest\", \"sum\", \"superconducte\", \"supervise\", \"supervised\", \"surrogate\", \"surround\", \"symmetric\", \"symmetric\", \"symplectic\", \"synthesize\", \"tackle\", \"temporal\", \"temporal\", \"theorem\", \"theoretical\", \"theoretical\", \"thermal\", \"thin\", \"thin\", \"tidal\", \"topological\", \"tractable\", \"train\", \"travel\", \"turbulent\", \"unbiased\", \"unitary\", \"unknown\", \"unknown\", \"unknown\", \"unstable\", \"unsupervised\", \"use\", \"use\", \"use\", \"use\", \"use\", \"variational\", \"variational\", \"vertice\", \"viscous\", \"visual\", \"well\", \"well\", \"well\", \"well\"]}, \"R\": 30, \"lambda.step\": 0.01, \"plot.opts\": {\"xlab\": \"PC1\", \"ylab\": \"PC2\"}, \"topic.order\": [2, 3, 5, 1, 4]};\n",
              "\n",
              "function LDAvis_load_lib(url, callback){\n",
              "  var s = document.createElement('script');\n",
              "  s.src = url;\n",
              "  s.async = true;\n",
              "  s.onreadystatechange = s.onload = callback;\n",
              "  s.onerror = function(){console.warn(\"failed to load library \" + url);};\n",
              "  document.getElementsByTagName(\"head\")[0].appendChild(s);\n",
              "}\n",
              "\n",
              "if(typeof(LDAvis) !== \"undefined\"){\n",
              "   // already loaded: just create the visualization\n",
              "   !function(LDAvis){\n",
              "       new LDAvis(\"#\" + \"ldavis_el1711403442390186087649695456\", ldavis_el1711403442390186087649695456_data);\n",
              "   }(LDAvis);\n",
              "}else if(typeof define === \"function\" && define.amd){\n",
              "   // require.js is available: use it to load d3/LDAvis\n",
              "   require.config({paths: {d3: \"https://d3js.org/d3.v5\"}});\n",
              "   require([\"d3\"], function(d3){\n",
              "      window.d3 = d3;\n",
              "      LDAvis_load_lib(\"https://cdn.jsdelivr.net/gh/bmabey/pyLDAvis@3.4.0/pyLDAvis/js/ldavis.v3.0.0.js\", function(){\n",
              "        new LDAvis(\"#\" + \"ldavis_el1711403442390186087649695456\", ldavis_el1711403442390186087649695456_data);\n",
              "      });\n",
              "    });\n",
              "}else{\n",
              "    // require.js not available: dynamically load d3 & LDAvis\n",
              "    LDAvis_load_lib(\"https://d3js.org/d3.v5.js\", function(){\n",
              "         LDAvis_load_lib(\"https://cdn.jsdelivr.net/gh/bmabey/pyLDAvis@3.4.0/pyLDAvis/js/ldavis.v3.0.0.js\", function(){\n",
              "                 new LDAvis(\"#\" + \"ldavis_el1711403442390186087649695456\", ldavis_el1711403442390186087649695456_data);\n",
              "            })\n",
              "         });\n",
              "}\n",
              "</script>"
            ],
            "text/plain": [
              "PreparedData(topic_coordinates=              x         y  topics  cluster       Freq\n",
              "topic                                                \n",
              "1     -0.146003 -0.087508       1        1  33.051165\n",
              "2     -0.079251  0.021208       2        1  23.350061\n",
              "4     -0.088864 -0.100547       3        1  20.592662\n",
              "0      0.002962  0.233444       4        1  15.267579\n",
              "3      0.311156 -0.066597       5        1   7.738534, topic_info=            Term         Freq         Total Category  logprob  loglift\n",
              "0              -  9152.000000   9152.000000  Default  30.0000  30.0000\n",
              "38           non  3782.000000   3782.000000  Default  29.0000  29.0000\n",
              "45       propose  8765.000000   8765.000000  Default  28.0000  28.0000\n",
              "106        learn  4356.000000   4356.000000  Default  27.0000  27.0000\n",
              "99         prove  2913.000000   2913.000000  Default  26.0000  26.0000\n",
              "..           ...          ...           ...      ...      ...      ...\n",
              "21        finite   260.338472   1436.728920   Topic5  -5.5227   0.8508\n",
              "199  investigate   268.151700   1943.585768   Topic5  -5.4932   0.5782\n",
              "98       present   273.686118   5566.914351   Topic5  -5.4727  -0.4537\n",
              "236      complex   253.921252   1826.041104   Topic5  -5.5477   0.5861\n",
              "55           use   256.031811  14869.877136   Topic5  -5.5394  -1.5028\n",
              "\n",
              "[368 rows x 6 columns], token_table=      Topic      Freq    Term\n",
              "term                         \n",
              "0         1  0.199298       -\n",
              "0         2  0.316976       -\n",
              "0         3  0.051682       -\n",
              "0         4  0.029611       -\n",
              "0         5  0.402421       -\n",
              "...     ...       ...     ...\n",
              "814       1  0.999249  visual\n",
              "119       1  0.389967    well\n",
              "119       2  0.294989    well\n",
              "119       3  0.203550    well\n",
              "119       4  0.111552    well\n",
              "\n",
              "[622 rows x 3 columns], R=30, lambda_step=0.01, plot_opts={'xlab': 'PC1', 'ylab': 'PC2'}, topic_order=[2, 3, 5, 1, 4])"
            ]
          },
          "execution_count": 68,
          "metadata": {},
          "output_type": "execute_result"
        }
      ],
      "source": [
        "pyLDAvis.enable_notebook()\n",
        "vis = gensimvis.prepare(lda_model, bow_corpus, dictionary)\n",
        "vis"
      ]
    },
    {
      "cell_type": "code",
      "execution_count": null,
      "metadata": {
        "colab": {
          "base_uri": "https://localhost:8080/"
        },
        "id": "CzgjIM3l4IXX",
        "outputId": "59d014e5-e1de-4554-d9c4-1f95dff41c69"
      },
      "outputs": [
        {
          "name": "stderr",
          "output_type": "stream",
          "text": [
            "/usr/local/lib/python3.9/dist-packages/ipykernel/ipkernel.py:283: DeprecationWarning: `should_run_async` will not call `transform_cell` automatically in the future. Please pass the result to `transformed_cell` argument and any exception that happen during thetransform in `preprocessing_exc_tuple` in IPython 7.17 and above.\n",
            "  and should_run_async(code)\n"
          ]
        }
      ],
      "source": [
        "pyLDAvis.save_html(vis, 'lda_model.html')"
      ]
    },
    {
      "cell_type": "code",
      "execution_count": null,
      "metadata": {
        "colab": {
          "base_uri": "https://localhost:8080/",
          "height": 951
        },
        "id": "QN-wFshXZnot",
        "outputId": "4233914e-8420-4da1-eb55-a0b548e686d3"
      },
      "outputs": [
        {
          "name": "stderr",
          "output_type": "stream",
          "text": [
            "/usr/local/lib/python3.9/dist-packages/ipykernel/ipkernel.py:283: DeprecationWarning: `should_run_async` will not call `transform_cell` automatically in the future. Please pass the result to `transformed_cell` argument and any exception that happen during thetransform in `preprocessing_exc_tuple` in IPython 7.17 and above.\n",
            "  and should_run_async(code)\n",
            "/usr/local/lib/python3.9/dist-packages/pyLDAvis/_prepare.py:243: FutureWarning: In a future version of pandas all arguments of DataFrame.drop except for the argument 'labels' will be keyword-only.\n",
            "  default_term_info = default_term_info.sort_values(\n"
          ]
        },
        {
          "data": {
            "text/html": [
              "\n",
              "<link rel=\"stylesheet\" type=\"text/css\" href=\"https://cdn.jsdelivr.net/gh/bmabey/pyLDAvis@3.4.0/pyLDAvis/js/ldavis.v1.0.0.css\">\n",
              "\n",
              "\n",
              "<div id=\"ldavis_el1711403442388173443856894573\" style=\"background-color:white;\"></div>\n",
              "<script type=\"text/javascript\">\n",
              "\n",
              "var ldavis_el1711403442388173443856894573_data = {\"mdsDat\": {\"x\": [0.15818236402685687, 0.057465731479730844, 0.10826706001289987, -0.17241028623969945, -0.15150486927978815], \"y\": [-0.06459518480973843, -0.058187620029230135, 0.11567904530991241, -0.10110476189473053, 0.10820852142378655], \"topics\": [1, 2, 3, 4, 5], \"cluster\": [1, 1, 1, 1, 1], \"Freq\": [33.05894105235886, 23.40143369329812, 21.929159758977686, 11.100382541298524, 10.5100829540668]}, \"tinfo\": {\"Term\": [\"-\", \"propose\", \"give\", \"prove\", \"non\", \"learn\", \"optimal\", \"neural\", \"dimensional\", \"set\", \"magnetic\", \"deep\", \"show\", \"random\", \"nonlinear\", \"finite\", \"define\", \"boundary\", \"study\", \"consider\", \"differential\", \"also\", \"bind\", \"obtain\", \"bound\", \"train\", \"optical\", \"polynomial\", \"linear\", \"topological\", \"neural\", \"train\", \"human\", \"social\", \"adversarial\", \"visual\", \"convolutional\", \"semantic\", \"automatic\", \"automate\", \"mobile\", \"supervised\", \"public\", \"clinical\", \"supervise\", \"digital\", \"smart\", \"unsupervised\", \"cognitive\", \"robotic\", \"meta\", \"urban\", \"interpretable\", \"unsupervise\", \"raw\", \"architecture\", \"historical\", \"task\", \"discriminative\", \"intelligent\", \"deep\", \"learn\", \"generative\", \"dataset\", \"collect\", \"medical\", \"temporal\", \"label\", \"evaluate\", \"automatically\", \"extract\", \"base\", \"challenge\", \"propose\", \"use\", \"different\", \"make\", \"improve\", \"real\", \"enable\", \"predict\", \"however\", \"generate\", \"available\", \"achieve\", \"perform\", \"present\", \"demonstrate\", \"new\", \"well\", \"provide\", \"show\", \"exist\", \"develop\", \"-\", \"also\", \"large\", \"high\", \"many\", \"compare\", \"optimal\", \"bayesian\", \"conditional\", \"posterior\", \"marginal\", \"nonparametric\", \"greedy\", \"penalize\", \"corrupt\", \"provably\", \"proximal\", \"cache\", \"primal\", \"quantile\", \"decentralize\", \"minimax\", \"armed\", \"submodular\", \"packet\", \"decentralized\", \"gps\", \"validation\", \"provable\", \"suboptimal\", \"centralize\", \"solver\", \"censor\", \"inferential\", \"differentially\", \"lossy\", \"wearable\", \"sample\", \"parametric\", \"gaussian\", \"random\", \"regularize\", \"randomize\", \"sparse\", \"iterative\", \"minimize\", \"unknown\", \"causal\", \"approximate\", \"convex\", \"guarantee\", \"statistical\", \"distribute\", \"adaptive\", \"stochastic\", \"solve\", \"estimate\", \"empirical\", \"gradient\", \"efficient\", \"computational\", \"theoretical\", \"propose\", \"prior\", \"linear\", \"fast\", \"consider\", \"use\", \"base\", \"-\", \"show\", \"provide\", \"low\", \"non\", \"well\", \"large\", \"high\", \"new\", \"achieve\", \"numerical\", \"also\", \"require\", \"demonstrate\", \"present\", \"first\", \"set\", \"give\", \"develop\", \"allow\", \"magnetic\", \"optical\", \"thermal\", \"electronic\", \"molecular\", \"stellar\", \"dark\", \"solar\", \"atomic\", \"superconducte\", \"gravitational\", \"orbital\", \"electric\", \"thin\", \"cosmic\", \"dope\", \"charge\", \"cool\", \"electrical\", \"atmospheric\", \"graphene\", \"turbulent\", \"planetary\", \"metallic\", \"polarize\", \"bright\", \"liquid\", \"probe\", \"lense\", \"young\", \"mass\", \"cosmological\", \"angular\", \"light\", \"solid\", \"scatter\", \"observe\", \"find\", \"hot\", \"report\", \"induce\", \"measure\", \"high\", \"low\", \"suggest\", \"here\", \"strong\", \"large\", \"long\", \"form\", \"use\", \"due\", \"show\", \"-\", \"present\", \"single\", \"small\", \"investigate\", \"increase\", \"different\", \"also\", \"well\", \"study\", \"base\", \"demonstrate\", \"provide\", \"first\", \"let\", \"algebra\", \"rational\", \"prime\", \"vertice\", \"conjecture\", \"finitely\", \"irreducible\", \"say\", \"projective\", \"f$\", \"proof\", \"boolean\", \"simplicial\", \"isomorphic\", \"question\", \"extremal\", \"countable\", \"equivariant\", \"color\", \"x$\", \"infect\", \"k$\", \"definable\", \"invertible\", \"nilpotent\", \"r$\", \"decidable\", \"polyhedral\", \"reductive\", \"phylogenetic\", \"algebraic\", \"denote\", \"polynomial\", \"maximal\", \"prove\", \"right\", \"arithmetic\", \"give\", \"theorem\", \"bound\", \"regular\", \"positive\", \"define\", \"bind\", \"metric\", \"upper\", \"set\", \"complete\", \"certain\", \"show\", \"finite\", \"minimal\", \"also\", \"compact\", \"know\", \"generalize\", \"fix\", \"free\", \"study\", \"general\", \"obtain\", \"new\", \"call\", \"particular\", \"introduce\", \"use\", \"first\", \"consider\", \"provide\", \"well\", \"boundary\", \"manifold\", \"scalar\", \"fractional\", \"harmonic\", \"hamiltonian\", \"elliptic\", \"riemannian\", \"integrable\", \"lagrangian\", \"derivative\", \"\\\\mathcal\", \"conformal\", \"ergodic\", \"brownian\", \"nonlocal\", \"grade\", \"geodesic\", \"incompressible\", \"deform\", \"hermitian\", \"perturbative\", \"injective\", \"linearize\", \"planck\", \"supercritical\", \"chern\", \"fracture\", \"hypergeometric\", \"curvature\", \"differential\", \"chaotic\", \"integral\", \"eigenvalue\", \"nonlinear\", \"topological\", \"singular\", \"hyperbolic\", \"periodic\", \"parabolic\", \"non\", \"stationary\", \"dimensional\", \"symmetric\", \"dynamical\", \"-\", \"invariant\", \"finite\", \"analytic\", \"initial\", \"obtain\", \"study\", \"discrete\", \"consider\", \"describe\", \"continuous\", \"local\", \"numerical\", \"linear\", \"show\", \"derive\", \"also\", \"construct\", \"associate\", \"use\", \"general\", \"prove\", \"give\", \"present\", \"introduce\", \"complex\", \"first\", \"apply\"], \"Freq\": [9114.0, 8663.0, 4650.0, 2879.0, 3792.0, 4311.0, 2093.0, 2561.0, 2505.0, 3028.0, 1679.0, 2431.0, 10333.0, 1901.0, 1032.0, 1453.0, 1819.0, 767.0, 3162.0, 3555.0, 808.0, 6531.0, 1349.0, 3333.0, 1185.0, 1359.0, 948.0, 786.0, 1830.0, 811.0, 2560.619017763834, 1358.620859558661, 1136.1521372436227, 1139.0089373490111, 708.9806005702931, 674.954577715025, 601.6628181115074, 483.83770360471334, 370.49697577694064, 355.31456172137126, 340.58007426942964, 328.70935488610473, 304.4018906413884, 243.23501903337637, 230.98162883228622, 227.45566118848515, 211.0250904639186, 197.12267504884377, 190.60380515278118, 187.15385312643244, 185.07297623794244, 172.81449780323896, 170.40980507941535, 162.38891778892207, 148.83248605498665, 136.65334517369322, 135.41063323875355, 126.79437400180618, 122.4939982679948, 120.3911722953353, 2376.73816280688, 3912.963654592438, 485.74313366093804, 383.0622876621792, 454.4722434661861, 253.18173792824456, 730.7402209582559, 420.71638312939297, 1122.623528748904, 369.8089947378112, 530.4607668847576, 4487.664927470091, 621.1781709755567, 4489.225751233256, 6902.85043164176, 2433.2345382994095, 1567.297940869391, 1386.378243420595, 1627.7023390499921, 843.2592800803075, 989.5292085329327, 1590.620329568397, 1253.2299944101487, 849.163057073523, 1311.297564587858, 1177.1062600958148, 2208.11993450545, 1572.7928442621892, 1995.115585984217, 2036.2998136686033, 2012.1648632297702, 2661.9854466246634, 1235.264057295049, 1266.9644657068532, 2128.950519668541, 1820.4837785527443, 1595.3361174448644, 1601.9834895465115, 1217.0256242040214, 1162.3624388140602, 2092.714739673303, 775.3110787467871, 444.78250991657916, 422.58720488981777, 183.95149718100592, 153.16158979430418, 151.83194907066758, 103.82629370315047, 102.8528190348377, 101.7530401979204, 97.34765036289977, 90.35893823095552, 85.06213530442685, 82.58470501844435, 81.98512441313666, 78.8941421770676, 77.60706931917358, 76.21591108974948, 63.505571942969134, 54.41496390192547, 52.65352488831843, 49.55717435228506, 48.3254076018224, 47.7211641462252, 46.90291421550199, 45.55844184260505, 42.94535014294137, 41.88988272218239, 40.013074009930165, 39.02191434916021, 40.88284184068472, 870.4279022356328, 393.4669764407307, 335.11759352447746, 1637.1002392672176, 200.25447357772023, 171.3681561817785, 434.84395136643076, 267.14791883330975, 382.34661188903954, 501.77802593499797, 205.12320046500156, 782.6682191405976, 697.6826624057469, 377.46212422365784, 953.9723227860499, 737.3510496898175, 479.86618549951396, 370.96131943996477, 1169.2565680108314, 1106.745880847037, 623.5023005434867, 316.29520971844875, 1080.5784926757497, 894.1813907392119, 890.8383622315283, 3947.9157004474273, 546.0255272057117, 1005.3305273641787, 709.6426382484359, 1430.4188553253982, 3754.1591639717954, 2527.9636535652457, 2671.342411391272, 2852.989164337177, 1809.1315869676628, 1306.223740363255, 1303.0366219690645, 1523.8884825004116, 1429.9771864753438, 1447.8839998400254, 1386.546079745355, 950.0383224532363, 732.8877441571051, 1463.4850136627751, 922.1921705290101, 1025.1645145331383, 1170.4809074659374, 1001.7684538647893, 926.5799527989768, 942.2276754197067, 910.7885249176642, 902.466742314884, 1678.9980332408782, 947.9734468158991, 639.0443293367639, 602.7320730959151, 589.3871163076406, 580.8473758728118, 492.0686615229348, 412.7084446818737, 409.5766418385353, 382.858866700975, 378.86197958673824, 366.75363754574533, 349.7604716201152, 346.245572312875, 253.19281711067927, 220.5509560650282, 215.05240390589776, 204.92565089746097, 188.97520819229268, 183.54691188299563, 178.53218561995624, 177.42363516198222, 172.68611638232002, 170.58694339301243, 164.78783679428722, 163.22361222582703, 161.8953724993562, 154.1467628092855, 153.03327853321574, 150.50118719139283, 302.43481548751305, 242.03415443516687, 274.6577850766996, 492.1927056641645, 233.78317672217483, 430.2054190043354, 1284.533278514304, 2222.0310363674685, 242.08964107789026, 621.4413262960101, 647.8005128242617, 660.3541238865977, 2242.1192218564292, 1610.912461422285, 756.3319990250637, 863.290639912062, 745.6923224177362, 1523.2716854577757, 709.2395114809846, 573.1053876031048, 2514.9038544080877, 730.8653283663604, 1821.8609390841052, 1630.0872348709395, 1273.2357594942157, 777.9661571802484, 865.8518397057437, 765.7411233544037, 701.6462041958088, 1040.1276236792528, 1188.0172194882218, 1002.0430195889655, 786.6047889581719, 874.3791972245675, 736.7439457547456, 740.9268775827088, 681.548645527372, 589.8857333847378, 370.74658622856043, 275.5846000256141, 237.11219779513937, 184.6022680223563, 183.13759022607096, 169.16055679100035, 164.95339240906748, 152.7253122808723, 145.95270370052882, 140.37118371876196, 172.69130586124393, 128.83393780711117, 93.49769635250354, 89.71239103896004, 77.8123926866338, 76.69568387272524, 72.33516763628734, 72.05107168187092, 71.66556457700513, 69.92929990640228, 66.94829198787305, 62.67526857787714, 59.18779798658376, 58.39414881677764, 56.3452605245298, 54.09911073167076, 51.1272819423833, 50.279716950611146, 49.39692630222299, 49.66591233257041, 333.75585977881155, 180.04065975360226, 641.8398007726133, 258.52201889126616, 1901.2523745643803, 202.01096816638264, 141.49499860427082, 2258.1350042185118, 310.259900646045, 720.9673989025979, 332.42710056489693, 575.7696146493246, 934.3213549651069, 711.4613250740597, 435.03583628167615, 405.86041743605097, 1183.5475004551427, 463.5581930003813, 532.3492319109387, 1955.00953416604, 588.7222093793674, 311.6811149661103, 1290.8932762634458, 363.32823923674414, 674.5885398249301, 463.2070899466096, 401.4046820166071, 470.5133503572875, 676.6127581871351, 509.4240220022057, 592.2761157549181, 663.8954364555593, 455.6376545962957, 484.39145378176306, 523.1115564743614, 730.5286236819331, 509.8620955371869, 482.6762896821143, 472.13801814540744, 433.945179436238, 766.9164717591989, 442.7194098514208, 276.3315954409694, 252.99083925194554, 241.0608130647266, 230.2421219282766, 226.06733091640322, 197.81399159937985, 190.3064318546887, 181.4140410682439, 149.89681188744032, 136.13430898244596, 124.56962414725895, 118.11406162135661, 114.36300187188701, 105.14912141128967, 99.42558104389771, 85.41671125220822, 81.66282319315735, 75.26795340892527, 66.99201562099688, 65.54466811882656, 67.3395628358818, 58.46671778086021, 56.31176740508885, 48.32477570001081, 44.12008394349315, 43.46069112647052, 39.36071379718228, 39.36239841873615, 733.7308902442996, 174.82174085034492, 395.97084232308185, 227.97658928445057, 804.1226421686916, 638.0000809526312, 201.375642186618, 186.34131698117196, 312.34183909964855, 110.43245522658583, 1812.812537365149, 264.40604097090267, 1175.872273984575, 368.34465618490333, 431.7254150384106, 2599.9636734868855, 384.2730363229038, 610.3295073547946, 243.07547619421808, 415.0058088553642, 853.6558324563557, 805.1468096454804, 374.1222383874639, 834.020007266363, 589.4541304130152, 423.718650925003, 571.8539462698453, 467.1827525085642, 526.3279091183267, 1041.319005513304, 519.7940091142954, 768.8687781324577, 439.5179488683434, 434.1444697687975, 930.9834855746623, 496.48774902901687, 545.1365696701243, 556.69235228499, 522.0959749190663, 466.32558409076734, 436.7196842806553, 455.1401091128815, 446.01595149320843], \"Total\": [9114.0, 8663.0, 4650.0, 2879.0, 3792.0, 4311.0, 2093.0, 2561.0, 2505.0, 3028.0, 1679.0, 2431.0, 10333.0, 1901.0, 1032.0, 1453.0, 1819.0, 767.0, 3162.0, 3555.0, 808.0, 6531.0, 1349.0, 3333.0, 1185.0, 1359.0, 948.0, 786.0, 1830.0, 811.0, 2561.4073885299485, 1359.4079390431225, 1136.9384127005735, 1139.7984513573867, 709.7704570286633, 675.7423887822854, 602.4486655794434, 484.62436228734606, 371.28887756333995, 356.1055555649974, 341.37387927234295, 329.49768414099765, 305.1908026625154, 244.0234630956597, 231.76858556735266, 228.25054109038484, 211.81516320485989, 197.9114281404561, 191.3943433231775, 187.94268974991428, 185.86927396984333, 173.6034519992891, 171.20212446177246, 163.1761952130394, 149.62282616284153, 137.44091437325633, 136.20687697875485, 127.58284194010216, 123.27932472344645, 121.17812789189358, 2431.2333164060315, 4311.031260295872, 503.2241318477699, 398.5074453452613, 484.29953219505506, 262.68842696586387, 822.9745979270424, 460.32001811846516, 1404.9857018524506, 405.63924396341184, 629.2681583249002, 8256.015381794978, 787.1273772445962, 8663.24290097447, 14833.42555927824, 4390.326894169828, 2573.639483980194, 2275.133564808664, 2847.7718642485793, 1207.7456309619172, 1506.8265739441395, 2952.720244318142, 2149.5572487497093, 1248.1836241512665, 2381.3019155458724, 2126.214813286521, 5584.5893418605165, 3411.7630240045305, 5060.498503371079, 5310.768555943019, 5466.842130843823, 10333.16408972529, 2616.88570221935, 2771.9423625659324, 9114.707404393712, 6531.748066099645, 4937.553811353863, 5466.616841377209, 2713.6888324760575, 2691.0162614470387, 2093.5080596409666, 776.1003219524658, 445.5749973644696, 423.37267397498454, 184.7439658855709, 153.94914554386725, 152.6200467970285, 104.61611790032966, 103.64159894210319, 102.53979440758023, 98.13583189041933, 91.14823072502806, 85.84813339196216, 83.36879186055009, 82.77565367493484, 79.68147870631736, 78.3975715998458, 77.00352058250395, 64.29613360479252, 55.202204976582436, 53.44953402178213, 50.35215796285236, 49.115718326110176, 48.513531614817076, 47.698156049870775, 46.349395975964086, 43.73141823224107, 42.68047676028153, 40.813275405856494, 39.82570090351637, 41.72828886795877, 929.853853136192, 415.59165740063827, 360.137070010066, 1901.0923652298598, 214.39558694929357, 183.1924830273025, 488.5500452701184, 292.6645217004643, 428.2510550313316, 581.9232394043377, 225.3119603431857, 943.217916452046, 856.2714829416028, 441.0394199970822, 1284.1193439294059, 966.2796269544218, 606.768496460455, 456.58434574347035, 1718.7746869916828, 1636.4414895312664, 844.2534743298768, 386.6172370133553, 1661.9049348389558, 1336.3613856551679, 1336.647524348758, 8663.24290097447, 808.1099399907264, 1830.7757741262806, 1247.0300812088328, 3555.6041815711055, 14833.42555927824, 8256.015381794978, 9114.707404393712, 10333.16408972529, 5466.842130843823, 3598.624964087834, 3792.7307573610897, 5310.768555943019, 4937.553811353863, 5466.616841377209, 5060.498503371079, 2381.3019155458724, 1340.3179918793944, 6531.748066099645, 2274.4772279012427, 3411.7630240045305, 5584.5893418605165, 3668.9489631484344, 3028.0221870673313, 4650.081557625278, 2771.9423625659324, 2663.0930817295157, 1679.784808742642, 948.7622320757888, 639.8312523459133, 603.525534860388, 590.1791416449265, 581.6309575505569, 492.8553064650776, 413.49544389539466, 410.3681072807188, 383.6446594337529, 379.65231980092943, 367.5431363410642, 350.55312122604835, 347.0365215502357, 253.9794413337169, 221.33464074206813, 215.8460431430358, 205.70975138549412, 189.76809356723035, 184.33643439051585, 179.31718689469207, 178.21384323184898, 173.4708939612529, 171.37344947808802, 165.57893996598025, 164.01022346583036, 162.6832553438512, 154.93636877244447, 153.8181080433069, 151.29094815386105, 310.80821669670996, 247.6027084642445, 288.8662393155348, 581.9406691717314, 250.23528690056688, 513.5549126567809, 1975.3242582112891, 4245.352344811297, 265.1371906374321, 900.3798662048443, 984.3531850606249, 1026.8168148218883, 5466.616841377209, 3598.624964087834, 1290.716871001373, 1570.2259019372812, 1546.4966679945783, 4937.553811353863, 1481.560598482644, 1040.0617761294397, 14833.42555927824, 1638.8875053708791, 10333.16408972529, 9114.707404393712, 5584.5893418605165, 1985.9119944553227, 2552.701893351322, 1937.7089881378806, 1592.0682884723396, 4390.326894169828, 6531.748066099645, 5310.768555943019, 3162.0055288217754, 8256.015381794978, 3411.7630240045305, 5466.842130843823, 3668.9489631484344, 590.6750389633653, 371.53616594992087, 276.37737133685874, 237.90231817923342, 185.3946845235578, 183.9290333189818, 169.94745056500906, 165.74198916405453, 153.5218750622896, 146.7427962248547, 141.16260412853785, 173.74933651455476, 129.62571515803808, 94.28652994946118, 90.50012560307184, 78.61507637439706, 77.49031565888772, 73.12146973685937, 72.84041608013432, 72.458878597701, 70.72696733719388, 67.75283109814212, 63.466985131090404, 59.97308375208952, 59.19017324488074, 57.13530704663086, 54.89025845590204, 51.9129306499421, 51.07270305899767, 50.183923586517864, 50.45911294101721, 378.132781060096, 196.93764701210134, 786.4931743861393, 300.8371843577346, 2879.6221659307157, 246.94670963906643, 165.46083377302028, 4650.081557625278, 427.1385213069626, 1185.4035791469232, 464.2426419918536, 951.7256685156497, 1819.9795008832846, 1349.9491543891265, 733.2374215465435, 697.6705412198685, 3028.0221870673313, 849.7610219313041, 1140.0466494542268, 10333.16408972529, 1453.373706274107, 530.6684542302836, 6531.748066099645, 697.1207810071401, 2228.8757544212513, 1159.940412302867, 959.7004286641263, 1355.3883258633828, 3162.0055288217754, 2077.6994732540575, 3333.1597464530455, 5060.498503371079, 1637.7270443803482, 2043.450888233768, 2790.0122319844418, 14833.42555927824, 3668.9489631484344, 3555.6041815711055, 5466.842130843823, 5310.768555943019, 767.7077451780359, 443.51238436305573, 277.1271997098331, 253.78341169535165, 241.85335921309732, 231.03206937192294, 226.8554185023838, 198.60285876434293, 191.09388952248221, 182.2059494276809, 150.68971974927973, 136.92878216699447, 125.35896184557946, 118.90573194713565, 115.15313367153863, 105.93819752995844, 100.21835631720846, 86.20951724805147, 82.45022011587899, 76.06084541286015, 67.78221188866952, 66.33502717630961, 68.15541167475162, 59.25782489226356, 57.11985695698504, 49.11712684702455, 44.908955557119334, 44.253164839105615, 40.147914075371425, 40.15703406659239, 808.2801459132371, 189.09874720761488, 448.5979187636267, 261.2821925513776, 1032.0725833549961, 811.0036671505444, 240.66006166114911, 226.75965097596995, 418.28938582455623, 123.27121065517294, 3792.7307573610897, 360.8023955717686, 2505.4492249289788, 567.5986155123014, 713.8388907502733, 9114.707404393712, 657.2031889828679, 1453.373706274107, 370.64154678957726, 921.9298376152178, 3333.1597464530455, 3162.0055288217754, 795.1294936984946, 3555.6041815711055, 1940.0065996641715, 1054.3389534979685, 1998.3925802650633, 1340.3179918793944, 1830.7757741262806, 10333.16408972529, 2050.463022934287, 6531.748066099645, 1387.0620592421876, 1356.493331594495, 14833.42555927824, 2077.6994732540575, 2879.6221659307157, 4650.081557625278, 5584.5893418605165, 2790.0122319844418, 1810.8493196117784, 3668.9489631484344, 2839.8389797329905], \"Category\": [\"Default\", \"Default\", \"Default\", \"Default\", \"Default\", \"Default\", \"Default\", \"Default\", \"Default\", \"Default\", \"Default\", \"Default\", \"Default\", \"Default\", \"Default\", \"Default\", \"Default\", \"Default\", \"Default\", \"Default\", \"Default\", \"Default\", \"Default\", \"Default\", \"Default\", \"Default\", \"Default\", \"Default\", \"Default\", \"Default\", \"Topic1\", \"Topic1\", \"Topic1\", \"Topic1\", \"Topic1\", \"Topic1\", \"Topic1\", \"Topic1\", \"Topic1\", \"Topic1\", \"Topic1\", \"Topic1\", \"Topic1\", \"Topic1\", \"Topic1\", \"Topic1\", \"Topic1\", \"Topic1\", \"Topic1\", \"Topic1\", \"Topic1\", \"Topic1\", \"Topic1\", \"Topic1\", \"Topic1\", \"Topic1\", \"Topic1\", \"Topic1\", \"Topic1\", \"Topic1\", \"Topic1\", \"Topic1\", \"Topic1\", \"Topic1\", \"Topic1\", \"Topic1\", \"Topic1\", \"Topic1\", \"Topic1\", \"Topic1\", \"Topic1\", \"Topic1\", \"Topic1\", \"Topic1\", \"Topic1\", \"Topic1\", \"Topic1\", \"Topic1\", \"Topic1\", \"Topic1\", \"Topic1\", \"Topic1\", \"Topic1\", \"Topic1\", \"Topic1\", \"Topic1\", \"Topic1\", \"Topic1\", \"Topic1\", \"Topic1\", \"Topic1\", \"Topic1\", \"Topic1\", \"Topic1\", \"Topic1\", \"Topic1\", \"Topic1\", \"Topic1\", \"Topic1\", \"Topic1\", \"Topic2\", \"Topic2\", \"Topic2\", \"Topic2\", \"Topic2\", \"Topic2\", \"Topic2\", \"Topic2\", \"Topic2\", \"Topic2\", \"Topic2\", \"Topic2\", \"Topic2\", \"Topic2\", \"Topic2\", \"Topic2\", \"Topic2\", \"Topic2\", \"Topic2\", \"Topic2\", \"Topic2\", \"Topic2\", \"Topic2\", \"Topic2\", \"Topic2\", \"Topic2\", \"Topic2\", \"Topic2\", \"Topic2\", \"Topic2\", \"Topic2\", \"Topic2\", \"Topic2\", \"Topic2\", \"Topic2\", \"Topic2\", \"Topic2\", \"Topic2\", \"Topic2\", \"Topic2\", \"Topic2\", \"Topic2\", \"Topic2\", \"Topic2\", \"Topic2\", \"Topic2\", \"Topic2\", \"Topic2\", \"Topic2\", \"Topic2\", \"Topic2\", \"Topic2\", \"Topic2\", \"Topic2\", \"Topic2\", \"Topic2\", \"Topic2\", \"Topic2\", \"Topic2\", \"Topic2\", \"Topic2\", \"Topic2\", \"Topic2\", \"Topic2\", \"Topic2\", \"Topic2\", \"Topic2\", \"Topic2\", \"Topic2\", \"Topic2\", \"Topic2\", \"Topic2\", \"Topic2\", \"Topic2\", \"Topic2\", \"Topic2\", \"Topic2\", \"Topic2\", \"Topic2\", \"Topic2\", \"Topic2\", \"Topic2\", \"Topic2\", \"Topic3\", \"Topic3\", \"Topic3\", \"Topic3\", \"Topic3\", \"Topic3\", \"Topic3\", \"Topic3\", \"Topic3\", \"Topic3\", \"Topic3\", \"Topic3\", \"Topic3\", \"Topic3\", \"Topic3\", \"Topic3\", \"Topic3\", \"Topic3\", \"Topic3\", \"Topic3\", \"Topic3\", \"Topic3\", \"Topic3\", \"Topic3\", \"Topic3\", \"Topic3\", \"Topic3\", \"Topic3\", \"Topic3\", \"Topic3\", \"Topic3\", \"Topic3\", \"Topic3\", \"Topic3\", \"Topic3\", \"Topic3\", \"Topic3\", \"Topic3\", \"Topic3\", \"Topic3\", \"Topic3\", \"Topic3\", \"Topic3\", \"Topic3\", \"Topic3\", \"Topic3\", \"Topic3\", \"Topic3\", \"Topic3\", \"Topic3\", \"Topic3\", \"Topic3\", \"Topic3\", \"Topic3\", \"Topic3\", \"Topic3\", \"Topic3\", \"Topic3\", \"Topic3\", \"Topic3\", \"Topic3\", \"Topic3\", \"Topic3\", \"Topic3\", \"Topic3\", \"Topic3\", \"Topic3\", \"Topic4\", \"Topic4\", \"Topic4\", \"Topic4\", \"Topic4\", \"Topic4\", \"Topic4\", \"Topic4\", \"Topic4\", \"Topic4\", \"Topic4\", \"Topic4\", \"Topic4\", \"Topic4\", \"Topic4\", \"Topic4\", \"Topic4\", \"Topic4\", \"Topic4\", \"Topic4\", \"Topic4\", \"Topic4\", \"Topic4\", \"Topic4\", \"Topic4\", \"Topic4\", \"Topic4\", \"Topic4\", \"Topic4\", \"Topic4\", \"Topic4\", \"Topic4\", \"Topic4\", \"Topic4\", \"Topic4\", \"Topic4\", \"Topic4\", \"Topic4\", \"Topic4\", \"Topic4\", \"Topic4\", \"Topic4\", \"Topic4\", \"Topic4\", \"Topic4\", \"Topic4\", \"Topic4\", \"Topic4\", \"Topic4\", \"Topic4\", \"Topic4\", \"Topic4\", \"Topic4\", \"Topic4\", \"Topic4\", \"Topic4\", \"Topic4\", \"Topic4\", \"Topic4\", \"Topic4\", \"Topic4\", \"Topic4\", \"Topic4\", \"Topic4\", \"Topic4\", \"Topic4\", \"Topic4\", \"Topic4\", \"Topic4\", \"Topic4\", \"Topic4\", \"Topic5\", \"Topic5\", \"Topic5\", \"Topic5\", \"Topic5\", \"Topic5\", \"Topic5\", \"Topic5\", \"Topic5\", \"Topic5\", \"Topic5\", \"Topic5\", \"Topic5\", \"Topic5\", \"Topic5\", \"Topic5\", \"Topic5\", \"Topic5\", \"Topic5\", \"Topic5\", \"Topic5\", \"Topic5\", \"Topic5\", \"Topic5\", \"Topic5\", \"Topic5\", \"Topic5\", \"Topic5\", \"Topic5\", \"Topic5\", \"Topic5\", \"Topic5\", \"Topic5\", \"Topic5\", \"Topic5\", \"Topic5\", \"Topic5\", \"Topic5\", \"Topic5\", \"Topic5\", \"Topic5\", \"Topic5\", \"Topic5\", \"Topic5\", \"Topic5\", \"Topic5\", \"Topic5\", \"Topic5\", \"Topic5\", \"Topic5\", \"Topic5\", \"Topic5\", \"Topic5\", \"Topic5\", \"Topic5\", \"Topic5\", \"Topic5\", \"Topic5\", \"Topic5\", \"Topic5\", \"Topic5\", \"Topic5\", \"Topic5\", \"Topic5\", \"Topic5\", \"Topic5\", \"Topic5\", \"Topic5\", \"Topic5\", \"Topic5\", \"Topic5\", \"Topic5\", \"Topic5\"], \"logprob\": [30.0, 29.0, 28.0, 27.0, 26.0, 25.0, 24.0, 23.0, 22.0, 21.0, 20.0, 19.0, 18.0, 17.0, 16.0, 15.0, 14.0, 13.0, 12.0, 11.0, 10.0, 9.0, 8.0, 7.0, 6.0, 5.0, 4.0, 3.0, 2.0, 1.0, -4.6888, -5.3226, -5.5014, -5.4989, -5.973, -6.0221, -6.1371, -6.355, -6.6219, -6.6638, -6.7061, -6.7416, -6.8184, -7.0428, -7.0944, -7.1098, -7.1848, -7.253, -7.2866, -7.3049, -7.316, -7.3846, -7.3986, -7.4468, -7.534, -7.6193, -7.6285, -7.6942, -7.7287, -7.746, -4.7633, -4.2647, -6.3511, -6.5886, -6.4176, -7.0027, -5.9427, -6.4948, -5.5134, -6.6238, -6.263, -4.1277, -6.1052, -4.1274, -3.6971, -4.7398, -5.1797, -5.3023, -5.1419, -5.7995, -5.6396, -5.1649, -5.4033, -5.7925, -5.358, -5.466, -4.8369, -5.1762, -4.9383, -4.9179, -4.9298, -4.65, -5.4177, -5.3924, -4.8734, -5.0299, -5.1619, -5.1578, -5.4326, -5.4786, -4.5451, -5.538, -6.0937, -6.1449, -6.9766, -7.1598, -7.1685, -7.5486, -7.558, -7.5687, -7.613, -7.6875, -7.7479, -7.7775, -7.7848, -7.8232, -7.8396, -7.8577, -8.0402, -8.1947, -8.2276, -8.2882, -8.3133, -8.3259, -8.3432, -8.3723, -8.4314, -8.4562, -8.5021, -8.5272, -8.4806, -5.4223, -6.2163, -6.3768, -4.7906, -6.8917, -7.0475, -6.1163, -6.6035, -6.245, -5.9731, -6.8677, -5.5286, -5.6435, -6.2578, -5.3307, -5.5882, -6.0178, -6.2752, -5.1272, -5.1821, -5.7559, -6.4346, -5.206, -5.3954, -5.3991, -3.9103, -5.8886, -5.2782, -5.6265, -4.9256, -3.9607, -4.3561, -4.301, -4.2352, -4.6907, -5.0164, -5.0188, -4.8623, -4.9259, -4.9134, -4.9567, -5.3348, -5.5943, -4.9027, -5.3645, -5.2587, -5.1261, -5.2818, -5.3598, -5.343, -5.377, -5.3862, -4.7004, -5.272, -5.6663, -5.7248, -5.7472, -5.7618, -5.9277, -6.1036, -6.1112, -6.1786, -6.1891, -6.2216, -6.2691, -6.2792, -6.5922, -6.7302, -6.7554, -6.8037, -6.8847, -6.9138, -6.9415, -6.9478, -6.9748, -6.9871, -7.0217, -7.0312, -7.0394, -7.0884, -7.0957, -7.1123, -6.4144, -6.6372, -6.5108, -5.9274, -6.6719, -6.062, -4.9682, -4.4201, -6.637, -5.6943, -5.6527, -5.6335, -4.4111, -4.7418, -5.4978, -5.3656, -5.512, -4.7977, -5.5621, -5.7752, -4.2963, -5.5321, -4.6187, -4.7299, -4.977, -5.4696, -5.3626, -5.4855, -5.5729, -5.1792, -5.0463, -5.2165, -5.4586, -5.3528, -5.5241, -5.5184, -5.6019, -5.0655, -5.53, -5.8266, -5.9769, -6.2273, -6.2352, -6.3146, -6.3398, -6.4168, -6.4622, -6.5012, -6.294, -6.5869, -6.9075, -6.9489, -7.0912, -7.1056, -7.1642, -7.1681, -7.1735, -7.198, -7.2416, -7.3075, -7.3648, -7.3783, -7.414, -7.4547, -7.5112, -7.5279, -7.5456, -7.5402, -5.6351, -6.2523, -4.9811, -5.8905, -3.8952, -6.1372, -6.4932, -3.7232, -5.7081, -4.8649, -5.6391, -5.0898, -4.6057, -4.8782, -5.37, -5.4395, -4.3692, -5.3065, -5.1682, -3.8673, -5.0675, -5.7035, -4.2824, -5.5502, -4.9314, -5.3073, -5.4505, -5.2916, -4.9284, -5.2122, -5.0615, -4.9473, -5.3238, -5.2626, -5.1857, -4.8517, -5.2113, -5.2661, -5.2882, -5.3726, -4.7485, -5.2979, -5.7692, -5.8575, -5.9058, -5.9517, -5.97, -6.1035, -6.1422, -6.19, -6.3809, -6.4772, -6.566, -6.6192, -6.6515, -6.7355, -6.7914, -6.9433, -6.9882, -7.0698, -7.1863, -7.2081, -7.1811, -7.3224, -7.3599, -7.5129, -7.6039, -7.619, -7.7181, -7.718, -4.7927, -6.2271, -5.4095, -5.9616, -4.7011, -4.9325, -6.0857, -6.1632, -5.6467, -6.6864, -3.8882, -5.8133, -4.3211, -5.4818, -5.323, -3.5276, -5.4395, -4.9768, -5.8975, -5.3625, -4.6413, -4.6998, -5.4662, -4.6646, -5.0116, -5.3418, -5.0419, -5.2441, -5.1249, -4.4426, -5.1374, -4.7459, -5.3052, -5.3175, -4.5546, -5.1833, -5.0898, -5.0688, -5.133, -5.2459, -5.3115, -5.2702, -5.2905], \"loglift\": [30.0, 29.0, 28.0, 27.0, 26.0, 25.0, 24.0, 23.0, 22.0, 21.0, 20.0, 19.0, 18.0, 17.0, 16.0, 15.0, 14.0, 13.0, 12.0, 11.0, 10.0, 9.0, 8.0, 7.0, 6.0, 5.0, 4.0, 3.0, 2.0, 1.0, 1.1066, 1.1063, 1.1062, 1.1062, 1.1058, 1.1057, 1.1056, 1.1053, 1.1047, 1.1047, 1.1046, 1.1045, 1.1043, 1.1036, 1.1035, 1.1034, 1.1031, 1.1029, 1.1027, 1.1027, 1.1026, 1.1023, 1.1022, 1.102, 1.1016, 1.1011, 1.101, 1.1007, 1.1005, 1.1004, 1.0842, 1.01, 1.0715, 1.0673, 1.0433, 1.07, 0.988, 1.0169, 0.8825, 1.0144, 0.9361, 0.4973, 0.8701, 0.4495, 0.3419, 0.5167, 0.6109, 0.6115, 0.5475, 0.7476, 0.6863, 0.4883, 0.5673, 0.7217, 0.5102, 0.5156, 0.179, 0.3325, 0.1761, 0.1483, 0.1074, -0.2494, 0.3562, 0.324, -0.3474, -0.1707, -0.0229, -0.1205, 0.305, 0.2674, 1.452, 1.4514, 1.4506, 1.4505, 1.4481, 1.4472, 1.4472, 1.4448, 1.4447, 1.4447, 1.4443, 1.4437, 1.4432, 1.4429, 1.4428, 1.4424, 1.4422, 1.4421, 1.44, 1.438, 1.4374, 1.4365, 1.4362, 1.4359, 1.4356, 1.4352, 1.4342, 1.4337, 1.4326, 1.432, 1.4319, 1.3863, 1.3977, 1.3804, 1.3029, 1.3841, 1.3856, 1.3359, 1.3611, 1.339, 1.3042, 1.3585, 1.2658, 1.2475, 1.2967, 1.1552, 1.182, 1.2177, 1.2447, 1.0671, 1.0613, 1.1493, 1.2516, 1.0219, 1.0506, 1.0466, 0.6665, 1.0603, 0.8529, 0.8886, 0.5418, 0.0784, 0.2688, 0.2251, 0.1654, 0.3465, 0.439, 0.384, 0.2039, 0.2132, 0.1238, 0.1577, 0.5335, 0.8487, -0.0435, 0.5496, 0.25, -0.1102, 0.1542, 0.2682, -0.144, 0.3394, 0.3703, 1.5169, 1.5165, 1.5161, 1.516, 1.516, 1.516, 1.5158, 1.5154, 1.5154, 1.5153, 1.5153, 1.5152, 1.5151, 1.5151, 1.5143, 1.5138, 1.5137, 1.5135, 1.5132, 1.5131, 1.513, 1.5129, 1.5128, 1.5128, 1.5126, 1.5125, 1.5125, 1.5122, 1.5122, 1.5121, 1.49, 1.4946, 1.4669, 1.3499, 1.4493, 1.3403, 1.087, 0.8699, 1.4264, 1.1466, 1.099, 1.0759, 0.6261, 0.7136, 0.9829, 0.9191, 0.7879, 0.3413, 0.7807, 0.9214, -0.2573, 0.7098, -0.2181, -0.2039, 0.0389, 0.5802, 0.4362, 0.5889, 0.698, 0.0773, -0.187, -0.1503, 0.1261, -0.7278, -0.0154, -0.4812, -0.1659, 2.1969, 2.1961, 2.1953, 2.1949, 2.1939, 2.1939, 2.1935, 2.1934, 2.193, 2.1928, 2.1926, 2.1921, 2.1921, 2.1898, 2.1894, 2.1879, 2.1879, 2.1874, 2.1873, 2.1872, 2.1868, 2.1862, 2.1856, 2.185, 2.1847, 2.1843, 2.1837, 2.1829, 2.1825, 2.1824, 2.1823, 2.0734, 2.1085, 1.9949, 2.0466, 1.783, 1.9973, 2.0417, 1.4758, 1.8785, 1.7009, 1.8642, 1.6956, 1.5314, 1.5577, 1.6761, 1.6565, 1.2588, 1.5922, 1.4367, 0.5332, 1.2945, 1.666, 0.5769, 1.5465, 1.003, 1.2802, 1.3265, 1.1402, 0.6563, 0.7925, 0.4705, 0.1671, 0.9188, 0.7587, 0.5242, -0.8127, 0.2247, 0.2013, -0.251, -0.3064, 2.2518, 2.251, 2.25, 2.2497, 2.2496, 2.2494, 2.2494, 2.2489, 2.2487, 2.2485, 2.2476, 2.247, 2.2465, 2.2462, 2.2459, 2.2454, 2.2449, 2.2436, 2.2432, 2.2424, 2.2411, 2.2408, 2.2408, 2.2394, 2.2386, 2.2366, 2.2351, 2.2348, 2.233, 2.2328, 2.1561, 2.1743, 2.128, 2.1165, 2.0033, 2.0129, 2.0746, 2.0565, 1.9608, 2.1429, 1.5146, 1.942, 1.4964, 1.8204, 1.75, 0.9984, 1.7162, 1.3852, 1.831, 1.4547, 0.8907, 0.8849, 1.4989, 0.8028, 1.0616, 1.3412, 1.0016, 1.1989, 1.0063, -0.042, 0.8804, 0.1133, 1.1036, 1.1136, -0.5156, 0.8214, 0.5885, 0.1302, -0.1171, 0.4639, 0.8306, 0.1658, 0.4017]}, \"token.table\": {\"Topic\": [1, 2, 3, 4, 5, 5, 1, 2, 3, 1, 2, 3, 1, 4, 4, 5, 1, 2, 3, 4, 5, 1, 2, 3, 4, 5, 1, 2, 3, 4, 5, 3, 5, 1, 2, 3, 4, 5, 2, 4, 5, 1, 1, 2, 4, 2, 1, 2, 3, 4, 5, 3, 3, 1, 1, 1, 2, 5, 1, 2, 3, 1, 2, 3, 4, 5, 2, 2, 3, 4, 4, 2, 4, 5, 5, 3, 5, 2, 1, 2, 3, 4, 5, 1, 2, 2, 2, 1, 2, 3, 4, 5, 1, 2, 3, 3, 5, 3, 5, 1, 1, 1, 2, 3, 4, 1, 3, 4, 5, 1, 2, 3, 1, 2, 3, 4, 5, 1, 2, 3, 4, 5, 1, 2, 2, 5, 4, 1, 2, 3, 4, 5, 1, 2, 3, 4, 5, 1, 2, 3, 4, 5, 2, 4, 1, 3, 2, 3, 3, 5, 4, 5, 3, 1, 2, 2, 2, 4, 1, 3, 4, 1, 2, 3, 4, 5, 5, 1, 2, 3, 5, 2, 4, 5, 1, 2, 3, 4, 5, 1, 2, 3, 4, 5, 1, 2, 3, 4, 5, 1, 2, 3, 4, 5, 2, 5, 2, 1, 1, 2, 3, 4, 5, 1, 2, 4, 5, 1, 1, 2, 3, 3, 1, 2, 3, 4, 5, 3, 5, 1, 2, 3, 2, 5, 3, 3, 3, 5, 1, 2, 3, 1, 2, 3, 4, 5, 1, 2, 3, 5, 1, 2, 3, 5, 1, 2, 3, 4, 5, 1, 3, 4, 4, 1, 2, 3, 1, 2, 3, 4, 5, 2, 4, 5, 4, 1, 2, 3, 4, 5, 1, 2, 3, 4, 5, 1, 2, 3, 4, 5, 5, 5, 1, 2, 3, 4, 5, 2, 5, 1, 2, 3, 4, 5, 1, 2, 4, 5, 1, 2, 3, 4, 5, 1, 2, 5, 1, 2, 3, 4, 5, 2, 5, 1, 2, 3, 5, 3, 3, 2, 1, 2, 4, 5, 5, 1, 2, 3, 4, 5, 5, 1, 2, 3, 4, 5, 1, 1, 3, 1, 2, 3, 4, 5, 1, 4, 5, 5, 1, 2, 3, 4, 5, 1, 2, 3, 1, 2, 3, 4, 5, 4, 2, 1, 2, 3, 4, 5, 5, 5, 4, 5, 1, 1, 1, 2, 3, 4, 5, 1, 4, 5, 4, 1, 2, 3, 4, 5, 4, 4, 1, 2, 4, 1, 2, 3, 4, 5, 1, 4, 5, 1, 2, 3, 4, 5, 1, 2, 3, 4, 1, 2, 3, 2, 3, 4, 5, 5, 3, 1, 2, 3, 4, 5, 1, 2, 3, 4, 5, 2, 1, 2, 3, 4, 5, 3, 1, 2, 3, 4, 5, 5, 1, 2, 3, 4, 5, 2, 3, 5, 2, 4, 5, 1, 2, 3, 4, 1, 2, 1, 3, 1, 4, 5, 1, 2, 3, 4, 5, 2, 1, 2, 1, 3, 1, 1, 2, 3, 4, 5, 4, 1, 2, 3, 4, 5, 2, 3, 5, 5, 2, 2, 3, 5, 1, 2, 3, 4, 1, 2, 3, 4, 5, 3, 2, 3, 2, 4, 5, 2, 5, 1, 2, 3, 4, 5, 2, 1, 2, 3, 5, 3, 4, 5, 5, 4, 5, 3, 3, 4, 2, 4, 1, 2, 3, 4, 5, 2, 1, 3, 1, 2, 3, 4, 5, 2, 4, 1, 2, 3, 4, 4, 1, 2, 3, 2, 2, 2, 4, 5, 1, 2, 3, 4, 5, 2, 1, 2, 4, 4, 2, 5, 2, 4, 4, 1, 1, 2, 4, 5, 4, 1, 4, 5, 1, 2, 1, 2, 3, 1, 2, 3, 4, 5, 5, 1, 4, 1, 1, 2, 4, 5, 3, 5, 1, 1, 2, 3, 4, 1, 2, 3, 4, 5, 4, 1, 2, 3, 4, 5, 2, 5, 1, 2, 3, 4, 5, 1, 1, 3, 3, 5, 1, 2, 4, 5, 2, 1, 2, 2, 5, 1, 2, 3, 3, 2, 5, 1, 2, 3, 4, 5, 1, 2, 3, 4, 5, 2, 2, 1, 2, 3, 5, 3, 5, 1, 1, 4, 5, 1, 1, 3, 5, 4, 5, 2, 3, 5, 3, 3, 3, 4, 5, 1, 3, 1, 2, 3, 1, 1, 2, 3, 4, 1, 1, 2, 3, 4, 5, 2, 4, 1, 2, 1, 2, 3, 4, 5, 4, 3], \"Freq\": [0.23357853472879703, 0.2930428681355645, 0.17883185138935612, 0.009215874550126327, 0.2852532598848625, 0.9932170420835136, 0.5505391783550789, 0.3989414335906369, 0.050392602137764655, 0.19447285198283268, 0.7910760080657601, 0.014832675151233, 0.9989144983127521, 0.998556894324002, 0.8832876088225684, 0.1163612418808174, 0.33156933419185847, 0.3387038951767342, 0.17122946363701863, 0.06346004244442138, 0.09462680885203661, 0.27863903836799253, 0.22398291930350167, 0.18188086680284346, 0.1976499991939991, 0.11773264862911333, 0.016188147421601264, 0.09712888452960759, 0.06745061425667194, 0.16188147421601265, 0.6556199705748512, 0.9519977157995663, 0.048465338258887006, 0.3556539674284501, 0.3038904691987648, 0.13240187302286854, 0.051059232947648775, 0.15705115789414728, 0.8301369029813254, 0.05513042012136516, 0.11556184217747698, 0.9967919714790392, 0.07856844247402647, 0.0664809897857147, 0.8521654145259794, 0.9949287765968686, 0.1680804429255812, 0.10320728951570775, 0.19535665515473252, 0.2137865282825375, 0.319942597498694, 0.9981748893449728, 0.9991029827265134, 0.9968954273593308, 0.9965286394470029, 0.9121405423814801, 0.07395734127417405, 0.012326223545695677, 0.6801883822000138, 0.21471199815029882, 0.10415134238633898, 0.5436036383721276, 0.3062009799030166, 0.10586220586836888, 0.015503847083697044, 0.02882746567124919, 0.9985822426285075, 0.31630820954380634, 0.15630218317035863, 0.5266865034792654, 0.9951729087297593, 0.2859785527591891, 0.6082316712075969, 0.10544931886400778, 0.9990781059817603, 0.9938404847912372, 0.989986085182642, 0.9874025999638766, 0.3144602159237444, 0.27782407426272565, 0.04823758652034137, 0.2784346766237426, 0.08121011401525827, 0.08876581593598867, 0.9098496133438839, 0.9832747653333175, 0.9853630390000649, 0.11315326444032446, 0.19385171659931555, 0.0184202988623784, 0.4666475711802528, 0.2070090729295858, 0.7889447349345938, 0.15880530091276043, 0.05081769629208334, 0.07403539265455393, 0.925442408181924, 0.9960803398074101, 0.979760037929111, 0.9958058824234516, 0.9979396291639004, 0.9374363793875157, 0.0020648378400606074, 0.057815459521697005, 0.9936670480335648, 0.05594439451891846, 0.1821779001000678, 0.5207132105222411, 0.23955676627331748, 0.4318071267897721, 0.32961525082833726, 0.2385715795172407, 0.14592337939692454, 0.07649209403871045, 0.11885694612168854, 0.5460358712917176, 0.11297293888794158, 0.5295857527260174, 0.04031257554640174, 0.0822818322796419, 0.10657982301993885, 0.24132322621613095, 0.3307488563681477, 0.6689807185364798, 0.9987095385336461, 0.9971365282521912, 0.9949489577462706, 0.14146681529037372, 0.40218199973207636, 0.08578007686593238, 0.13584189221719783, 0.23455929215143476, 0.18312086204619515, 0.20619120687091264, 0.02451224137626234, 0.26891370686311333, 0.3172172413398656, 0.19728001067391157, 0.26746616831751474, 0.01896923179556842, 0.11476385236318895, 0.40214771406605054, 0.8151620296895993, 0.1845209178953534, 0.9992552633857826, 0.9965497436037242, 0.9938094457375016, 0.9961436196230152, 0.9773721842584223, 0.02019364017062856, 0.9846629212884372, 0.9711872628672307, 0.99826458911194, 0.9610861841443743, 0.03764045107615043, 0.990629446697203, 0.9782217942726666, 0.9824141954901728, 0.9776930843946307, 0.022210949329957954, 0.9837746587100314, 0.18406800727009046, 0.14725440581607235, 0.03571468797777874, 0.5131925934037745, 0.1197815689100887, 0.9860526739204403, 0.4610519514200325, 0.300431182584573, 0.21601734786812712, 0.022568976642938655, 0.0812439888601738, 0.9139948746769552, 0.9954229143804415, 0.06096184061935458, 0.42526980016061755, 0.1784962693334702, 0.08193271379241256, 0.25360125697651503, 0.339174103899391, 0.060309073185757976, 0.19896839529660323, 0.09742234899237827, 0.30360721458471324, 0.45708021101389823, 0.32865041218126384, 0.09704386484825464, 0.02633532391792784, 0.09091098119613446, 0.5541728574313961, 0.11707556461970307, 0.23688441090367937, 0.03894926371589343, 0.05284344550928232, 0.09155241579810294, 0.9081009891325346, 0.9800732629819808, 0.9945211911244073, 0.055878202841635534, 0.3133170659334564, 0.16124852820014823, 0.00039913002029739667, 0.46937690386973846, 0.026410792413597724, 0.43011861930716294, 0.07168643655119382, 0.4703636363183595, 0.9896225524732848, 0.22043308588772195, 0.7627191751138549, 0.015523456752656477, 0.9984880778673135, 0.2989833032433262, 0.18488151200556704, 0.4460342748385132, 0.04027122043685619, 0.029898330324332624, 0.39504712289296356, 0.6051785712402846, 0.300257848411982, 0.6504583850367787, 0.04934096907772049, 0.12630022611859015, 0.8726197440920774, 0.998422147193801, 0.9959524620140728, 0.9991292251445342, 0.9962292348667228, 0.23334224375726503, 0.7391145182971237, 0.02724300307825937, 0.6979946591308196, 0.15400593902530538, 0.14738202766937827, 0.9884622284528174, 0.9923827730395846, 0.14971509923656146, 0.6764678157341777, 0.1491040171988612, 0.025054363545710286, 0.7992963903613702, 0.14448545613834207, 0.027758289602932713, 0.02918179163385234, 0.47193501762519124, 0.301503424215608, 0.05082377112886675, 0.1326003652760659, 0.04318109877866123, 0.842248241847879, 0.15573646736055122, 0.9936725556642962, 0.9917640784844177, 0.2814687514672872, 0.5693527451332591, 0.14915438111941717, 0.19692122869890075, 0.1573485415919446, 0.5233958973312888, 0.0633634097129238, 0.058652375533524266, 0.17476578728753708, 0.4052639713085014, 0.4197131112023529, 0.9944250380817179, 0.2782813307721374, 0.2731027359781407, 0.18588429734240716, 0.13900438657570036, 0.12401371743518366, 0.09169528049757497, 0.3563612037519391, 0.06564548490167299, 0.4178387213582678, 0.06772946854934515, 0.12499257542546299, 0.07211110120699787, 0.5509288132214638, 0.1605673853542486, 0.09134072819553064, 0.9969130697309244, 0.9716819160016728, 0.1025536352553848, 0.11583396212298859, 0.2737222926600558, 0.3475018863689658, 0.16083951428542365, 0.9302013813535958, 0.06664129299249641, 0.12321319964482504, 0.35760705990666014, 0.035616315522332236, 0.24498249460631227, 0.23872557431184852, 0.10690204314359461, 0.2207009922964534, 0.39915843528616374, 0.2732899006170927, 0.5829107369570212, 0.06885138792469205, 0.1442157449773955, 0.1535199865888404, 0.05024290470180231, 0.9657724446072861, 0.033782163700254865, 0.9859700264348852, 0.14601894431003365, 0.20257709210611444, 0.04602069820669691, 0.4855828810781384, 0.11978284533238401, 0.9915895614431562, 0.9878429824437337, 0.08794227661097662, 0.8173458649726062, 0.010346150189526662, 0.08018266396883163, 0.9982311405828692, 0.9982817968785981, 0.9959373174753832, 0.058951646544819075, 0.8547988748998766, 0.08389272777531946, 0.9955327873973138, 0.9964715842034453, 0.20442918410909106, 0.054769189512092926, 0.5496024482434442, 0.10762782590167098, 0.08279063530897768, 0.9884599238225763, 0.2930514514707431, 0.26488046300226964, 0.4101256892618015, 0.009878138813620553, 0.02213434808237198, 0.9911393829333368, 0.08297591125224073, 0.912735023774648, 0.5388251741970911, 0.2377468713302061, 0.20184777110085875, 0.01659486708715114, 0.005080061353209532, 0.999174614306201, 0.17639822529202454, 0.8202517476079141, 0.9714078775495933, 0.6091950035102933, 0.317783540792166, 0.022855800997500182, 0.050106948340673474, 0.994539491644216, 0.39696789677686006, 0.162053350266503, 0.44093586002746166, 0.06095373176072436, 0.05689014964334274, 0.6583003030158231, 0.167622762341992, 0.05587425411399733, 0.988888566190664, 0.9840564864328136, 0.18981921710298202, 0.06508087443530812, 0.27550903510947106, 0.019524262330592436, 0.45014271484421453, 0.9830473964376384, 0.9942756436366663, 0.11591672146700177, 0.8827504173256289, 0.9902777183276456, 0.9929783320998398, 0.3745503292136919, 0.24981969326501746, 0.02078843932477907, 0.18745437529068026, 0.1670243573335698, 0.062385576770335474, 0.3530110685540934, 0.5842941824343615, 0.979892384501786, 0.19972039267460034, 0.15740237665569276, 0.3953121984205268, 0.08308781193956241, 0.16462740378087212, 0.995523227591289, 0.9944737579120568, 0.08542203836236409, 0.9123073697100484, 0.9926420779224686, 0.14222416811309074, 0.3512981818061516, 0.13549431788691926, 0.3028432601777169, 0.06864447230694916, 0.9145811249330764, 0.08472366715532062, 0.9933813937938423, 0.32303445409188475, 0.28961709677203457, 0.30845233453413196, 0.045164064741373224, 0.033619886758152265, 0.9076714511533014, 0.09208933455350388, 0.994681328136759, 0.9988571737100149, 0.13059750594191982, 0.022339047069012602, 0.8454470121503231, 0.54894761783683, 0.06991571650061118, 0.09340302751253525, 0.28730989749469904, 0.9787736911614558, 0.9958000880766306, 0.1276025554329156, 0.34827991600513436, 0.17714237107157696, 0.06054866355836388, 0.2862300459122656, 0.3341071573494594, 0.06884632333261588, 0.4785494435571045, 0.03374819771206661, 0.08437049428016652, 0.979267134418632, 0.1311612087145182, 0.36291639529906944, 0.4476709899133238, 0.05363159593623308, 0.0047240265850568, 0.999532792094227, 0.6088653868398839, 0.17912376728346296, 0.15192493060267684, 0.04157536464063023, 0.018650630866824777, 0.9988447123888285, 0.44846704067008664, 0.2682695198092219, 0.12013168057390981, 0.11570965552210945, 0.04753676930685388, 0.9959729895263172, 0.9716602836619821, 0.02573934526256906, 0.06980520059324935, 0.860930807316742, 0.06980520059324935, 0.17237738751941106, 0.15971690143041478, 0.6427631399028887, 0.024347088632685178, 0.9631181811937117, 0.03426112107013204, 0.9953231970444756, 0.9978208440150715, 0.20866365450537505, 0.5932594098682232, 0.19638932188741182, 0.1695974186567052, 0.1300246876368073, 0.026381820679931917, 0.5879377180099113, 0.08856754085405714, 0.9914474641110879, 0.10507855023663099, 0.8920001375642898, 0.9989047806670508, 0.9980020614729961, 0.9998409512942873, 0.39422993578024373, 0.27408366963769326, 0.11955343917145236, 0.13121236960304855, 0.08101968605007515, 0.980129501260853, 0.06196063338899083, 0.34355193747172363, 0.10124631158030842, 0.015292411644942418, 0.47801969503932074, 0.1976605166051885, 0.022285254323133996, 0.7790149772086841, 0.9911439164358716, 0.9938346813130132, 0.5468851454960976, 0.10445282451494362, 0.34842477891770474, 0.13314269741118545, 0.20756085908207617, 0.6505261071230923, 0.008606181961939742, 0.14970779619278876, 0.24481274888440005, 0.17160893671798633, 0.1776092491906432, 0.2562133425824481, 0.9991966036905567, 0.9997573166061497, 0.9985222514383721, 0.9953942237551522, 0.09734633038988844, 0.8923413619073106, 0.9456397716404122, 0.052936577547300426, 0.21630076971511528, 0.2407691825788161, 0.1101078578866537, 0.23685423652062396, 0.19574730290960657, 0.9941106789976986, 0.5535658921408294, 0.2591459698977035, 0.18201359410237977, 0.00564383237526759, 0.18886446244451227, 0.06454861374685862, 0.7458950921859219, 0.9949494680175656, 0.9909012879090071, 0.9803946120203283, 0.9972854583815192, 0.9965035410535953, 0.9789965481607952, 0.18309122658615887, 0.8162817185299583, 0.10612301773632284, 0.054637593289988, 0.0746013292997913, 0.6052164179814055, 0.15970988807842645, 0.9991197495778706, 0.6570099154865986, 0.34310517808744595, 0.3953737445740998, 0.209505109217254, 0.2279487213962088, 0.07359538451990716, 0.09347151026615946, 0.9901205377630078, 0.9962071904715379, 0.32297585648184846, 0.6756506422953611, 0.9939564301147414, 0.9949381077370469, 0.9956872553899394, 0.5181662399763791, 0.4557184930779115, 0.02608722883374063, 0.9772838845865549, 0.9947357568766461, 0.150366949220941, 0.6601560518914753, 0.1892609407053414, 0.36803696756640053, 0.3309040130852975, 0.13554442990392784, 0.08633869219251543, 0.07902185387111582, 0.988425920802428, 0.9960981698919931, 0.995576379934029, 0.9921761015473951, 0.9837811210778455, 0.861083885212527, 0.13834151607262957, 0.9334444141712661, 0.06004613190575396, 0.9986345794699711, 0.995837358651656, 0.5716750068494579, 0.26792876549516975, 0.07971144137274382, 0.08041374482096182, 0.9764083096357191, 0.06031328763739746, 0.7151432677005699, 0.2240207826531906, 0.06529985154643655, 0.9328550220919507, 0.2732180152327316, 0.035540554827021995, 0.6897088921118956, 0.4497736831350762, 0.4053678747317109, 0.11211367468176386, 0.023741719344373524, 0.008793229386805008, 0.9969645010746886, 0.17817609339403523, 0.8179902469453436, 0.9949841637832859, 0.06345083133333912, 0.9356309027119497, 0.9966006468975326, 0.9959325547582, 0.8373009183681546, 0.16161854935943448, 0.9987116572423244, 0.2691525853016736, 0.30614042524497104, 0.03368535423407448, 0.3910143079720018, 0.25761712258561165, 0.2761012962947972, 0.17632546857662826, 0.18919664712805062, 0.10074358550399012, 0.9863551034262181, 0.332341011002866, 0.22256776797464664, 0.39175955539428753, 0.012085127672831491, 0.04129085288217427, 0.16205430901498, 0.8352029772310507, 0.17236638604218088, 0.29772375770922155, 0.33924838707392874, 0.12770782238579767, 0.06346216940643933, 0.9961515351756405, 0.9992994802226343, 0.9988018153459509, 0.9351199141349793, 0.06393982318871654, 0.15941589207342446, 0.6801356855249386, 0.06050822180889103, 0.09948948008961891, 0.9924616930036094, 0.10848428019425604, 0.8903898468773845, 0.26607362140117574, 0.7317024588532333, 0.1752173589344896, 0.7429216018822359, 0.08176810083609515, 0.9989151926279611, 0.8125552342270721, 0.18616494584717283, 0.15583609391963132, 0.1403171468073029, 0.4823806060748754, 0.15066311154885517, 0.07112850759817198, 0.0809612752623461, 0.20177067819287817, 0.24889267043541555, 0.21410462247112622, 0.25458526010229926, 0.9869678610157993, 0.9894146726135222, 0.2610952158226198, 0.13635833229905367, 0.5857210182845715, 0.01627002828568254, 0.9983196444472747, 0.9772558592341151, 0.9966838233685932, 0.9984895671048641, 0.35059986857153835, 0.6483454855996287, 0.9954316589030382, 0.8882412675206337, 0.05346459065787672, 0.0571099036572774, 0.7257598753946588, 0.2715746630509046, 0.6665930873841355, 0.29850801556259265, 0.03516259832441568, 0.998700825658538, 0.9970132205521036, 0.12083792462285935, 0.09124496349073054, 0.7866795500957579, 0.999699914182192, 0.9931888387016612, 0.06701914850474228, 0.8626567320354006, 0.07045602791524189, 0.9927918700916897, 0.995394767502717, 0.24366802087236916, 0.17486763850840611, 0.5819365674951875, 0.9965239631335697, 0.4653678931015503, 0.253077078183865, 0.16954950762717647, 0.04928059247533439, 0.06276365471208799, 0.9930060998952187, 0.9978711119762032, 0.998901373075584, 0.9825468791623999, 0.3833720069991777, 0.2869641152587165, 0.18867325688269942, 0.08172075198312531, 0.0593134490200103, 0.98972149712389, 0.9980768964871238], \"Term\": [\"-\", \"-\", \"-\", \"-\", \"-\", \"\\\\mathcal\", \"achieve\", \"achieve\", \"achieve\", \"adaptive\", \"adaptive\", \"adaptive\", \"adversarial\", \"algebra\", \"algebraic\", \"algebraic\", \"allow\", \"allow\", \"allow\", \"allow\", \"allow\", \"also\", \"also\", \"also\", \"also\", \"also\", \"analytic\", \"analytic\", \"analytic\", \"analytic\", \"analytic\", \"angular\", \"angular\", \"apply\", \"apply\", \"apply\", \"apply\", \"apply\", \"approximate\", \"approximate\", \"approximate\", \"architecture\", \"arithmetic\", \"arithmetic\", \"arithmetic\", \"armed\", \"associate\", \"associate\", \"associate\", \"associate\", \"associate\", \"atmospheric\", \"atomic\", \"automate\", \"automatic\", \"automatically\", \"automatically\", \"automatically\", \"available\", \"available\", \"available\", \"base\", \"base\", \"base\", \"base\", \"base\", \"bayesian\", \"bind\", \"bind\", \"bind\", \"boolean\", \"bound\", \"bound\", \"bound\", \"boundary\", \"bright\", \"brownian\", \"cache\", \"call\", \"call\", \"call\", \"call\", \"call\", \"causal\", \"causal\", \"censor\", \"centralize\", \"certain\", \"certain\", \"certain\", \"certain\", \"certain\", \"challenge\", \"challenge\", \"challenge\", \"chaotic\", \"chaotic\", \"charge\", \"chern\", \"clinical\", \"cognitive\", \"collect\", \"collect\", \"collect\", \"color\", \"compact\", \"compact\", \"compact\", \"compact\", \"compare\", \"compare\", \"compare\", \"complete\", \"complete\", \"complete\", \"complete\", \"complete\", \"complex\", \"complex\", \"complex\", \"complex\", \"complex\", \"computational\", \"computational\", \"conditional\", \"conformal\", \"conjecture\", \"consider\", \"consider\", \"consider\", \"consider\", \"consider\", \"construct\", \"construct\", \"construct\", \"construct\", \"construct\", \"continuous\", \"continuous\", \"continuous\", \"continuous\", \"continuous\", \"convex\", \"convex\", \"convolutional\", \"cool\", \"corrupt\", \"cosmic\", \"cosmological\", \"cosmological\", \"countable\", \"curvature\", \"dark\", \"dataset\", \"dataset\", \"decentralize\", \"decentralized\", \"decidable\", \"deep\", \"deep\", \"definable\", \"define\", \"define\", \"define\", \"define\", \"define\", \"deform\", \"demonstrate\", \"demonstrate\", \"demonstrate\", \"demonstrate\", \"denote\", \"denote\", \"derivative\", \"derive\", \"derive\", \"derive\", \"derive\", \"derive\", \"describe\", \"describe\", \"describe\", \"describe\", \"describe\", \"develop\", \"develop\", \"develop\", \"develop\", \"develop\", \"different\", \"different\", \"different\", \"different\", \"different\", \"differential\", \"differential\", \"differentially\", \"digital\", \"dimensional\", \"dimensional\", \"dimensional\", \"dimensional\", \"dimensional\", \"discrete\", \"discrete\", \"discrete\", \"discrete\", \"discriminative\", \"distribute\", \"distribute\", \"distribute\", \"dope\", \"due\", \"due\", \"due\", \"due\", \"due\", \"dynamical\", \"dynamical\", \"efficient\", \"efficient\", \"efficient\", \"eigenvalue\", \"eigenvalue\", \"electric\", \"electrical\", \"electronic\", \"elliptic\", \"empirical\", \"empirical\", \"empirical\", \"enable\", \"enable\", \"enable\", \"equivariant\", \"ergodic\", \"estimate\", \"estimate\", \"estimate\", \"estimate\", \"evaluate\", \"evaluate\", \"evaluate\", \"evaluate\", \"exist\", \"exist\", \"exist\", \"exist\", \"exist\", \"extract\", \"extract\", \"extremal\", \"f$\", \"fast\", \"fast\", \"fast\", \"find\", \"find\", \"find\", \"find\", \"find\", \"finite\", \"finite\", \"finite\", \"finitely\", \"first\", \"first\", \"first\", \"first\", \"first\", \"fix\", \"fix\", \"fix\", \"fix\", \"fix\", \"form\", \"form\", \"form\", \"form\", \"form\", \"fractional\", \"fracture\", \"free\", \"free\", \"free\", \"free\", \"free\", \"gaussian\", \"gaussian\", \"general\", \"general\", \"general\", \"general\", \"general\", \"generalize\", \"generalize\", \"generalize\", \"generalize\", \"generate\", \"generate\", \"generate\", \"generate\", \"generate\", \"generative\", \"generative\", \"geodesic\", \"give\", \"give\", \"give\", \"give\", \"give\", \"gps\", \"grade\", \"gradient\", \"gradient\", \"gradient\", \"gradient\", \"graphene\", \"gravitational\", \"greedy\", \"guarantee\", \"guarantee\", \"guarantee\", \"hamiltonian\", \"harmonic\", \"here\", \"here\", \"here\", \"here\", \"here\", \"hermitian\", \"high\", \"high\", \"high\", \"high\", \"high\", \"historical\", \"hot\", \"hot\", \"however\", \"however\", \"however\", \"however\", \"however\", \"human\", \"hyperbolic\", \"hyperbolic\", \"hypergeometric\", \"improve\", \"improve\", \"improve\", \"improve\", \"incompressible\", \"increase\", \"increase\", \"increase\", \"induce\", \"induce\", \"induce\", \"induce\", \"induce\", \"infect\", \"inferential\", \"initial\", \"initial\", \"initial\", \"initial\", \"initial\", \"injective\", \"integrable\", \"integral\", \"integral\", \"intelligent\", \"interpretable\", \"introduce\", \"introduce\", \"introduce\", \"introduce\", \"introduce\", \"invariant\", \"invariant\", \"invariant\", \"invertible\", \"investigate\", \"investigate\", \"investigate\", \"investigate\", \"investigate\", \"irreducible\", \"isomorphic\", \"iterative\", \"iterative\", \"k$\", \"know\", \"know\", \"know\", \"know\", \"know\", \"label\", \"label\", \"lagrangian\", \"large\", \"large\", \"large\", \"large\", \"large\", \"learn\", \"learn\", \"lense\", \"let\", \"light\", \"light\", \"light\", \"linear\", \"linear\", \"linear\", \"linear\", \"linearize\", \"liquid\", \"local\", \"local\", \"local\", \"local\", \"local\", \"long\", \"long\", \"long\", \"long\", \"long\", \"lossy\", \"low\", \"low\", \"low\", \"low\", \"low\", \"magnetic\", \"make\", \"make\", \"make\", \"make\", \"make\", \"manifold\", \"many\", \"many\", \"many\", \"many\", \"many\", \"marginal\", \"mass\", \"mass\", \"maximal\", \"maximal\", \"maximal\", \"measure\", \"measure\", \"measure\", \"measure\", \"medical\", \"medical\", \"meta\", \"metallic\", \"metric\", \"metric\", \"metric\", \"minimal\", \"minimal\", \"minimal\", \"minimal\", \"minimal\", \"minimax\", \"minimize\", \"minimize\", \"mobile\", \"molecular\", \"neural\", \"new\", \"new\", \"new\", \"new\", \"new\", \"nilpotent\", \"non\", \"non\", \"non\", \"non\", \"non\", \"nonlinear\", \"nonlinear\", \"nonlinear\", \"nonlocal\", \"nonparametric\", \"numerical\", \"numerical\", \"numerical\", \"observe\", \"observe\", \"observe\", \"observe\", \"obtain\", \"obtain\", \"obtain\", \"obtain\", \"obtain\", \"optical\", \"optimal\", \"orbital\", \"packet\", \"parabolic\", \"parabolic\", \"parametric\", \"parametric\", \"particular\", \"particular\", \"particular\", \"particular\", \"particular\", \"penalize\", \"perform\", \"perform\", \"perform\", \"perform\", \"periodic\", \"periodic\", \"periodic\", \"perturbative\", \"phylogenetic\", \"planck\", \"planetary\", \"polarize\", \"polyhedral\", \"polynomial\", \"polynomial\", \"positive\", \"positive\", \"positive\", \"positive\", \"positive\", \"posterior\", \"predict\", \"predict\", \"present\", \"present\", \"present\", \"present\", \"present\", \"primal\", \"prime\", \"prior\", \"prior\", \"probe\", \"projective\", \"proof\", \"propose\", \"propose\", \"propose\", \"provable\", \"provably\", \"prove\", \"prove\", \"prove\", \"provide\", \"provide\", \"provide\", \"provide\", \"provide\", \"proximal\", \"public\", \"quantile\", \"question\", \"r$\", \"random\", \"random\", \"randomize\", \"randomize\", \"rational\", \"raw\", \"real\", \"real\", \"real\", \"real\", \"reductive\", \"regular\", \"regular\", \"regular\", \"regularize\", \"regularize\", \"report\", \"report\", \"report\", \"require\", \"require\", \"require\", \"require\", \"require\", \"riemannian\", \"right\", \"right\", \"robotic\", \"sample\", \"sample\", \"say\", \"scalar\", \"scatter\", \"scatter\", \"semantic\", \"set\", \"set\", \"set\", \"set\", \"show\", \"show\", \"show\", \"show\", \"show\", \"simplicial\", \"single\", \"single\", \"single\", \"single\", \"single\", \"singular\", \"singular\", \"small\", \"small\", \"small\", \"small\", \"small\", \"smart\", \"social\", \"solar\", \"solid\", \"solid\", \"solve\", \"solve\", \"solve\", \"solve\", \"solver\", \"sparse\", \"sparse\", \"stationary\", \"stationary\", \"statistical\", \"statistical\", \"statistical\", \"stellar\", \"stochastic\", \"stochastic\", \"strong\", \"strong\", \"strong\", \"strong\", \"strong\", \"study\", \"study\", \"study\", \"study\", \"study\", \"submodular\", \"suboptimal\", \"suggest\", \"suggest\", \"suggest\", \"suggest\", \"superconducte\", \"supercritical\", \"supervise\", \"supervised\", \"symmetric\", \"symmetric\", \"task\", \"temporal\", \"temporal\", \"temporal\", \"theorem\", \"theorem\", \"theoretical\", \"theoretical\", \"theoretical\", \"thermal\", \"thin\", \"topological\", \"topological\", \"topological\", \"train\", \"turbulent\", \"unknown\", \"unknown\", \"unknown\", \"unsupervise\", \"unsupervised\", \"upper\", \"upper\", \"upper\", \"urban\", \"use\", \"use\", \"use\", \"use\", \"use\", \"validation\", \"vertice\", \"visual\", \"wearable\", \"well\", \"well\", \"well\", \"well\", \"well\", \"x$\", \"young\"]}, \"R\": 30, \"lambda.step\": 0.01, \"plot.opts\": {\"xlab\": \"PC1\", \"ylab\": \"PC2\"}, \"topic.order\": [2, 3, 5, 1, 4]};\n",
              "\n",
              "function LDAvis_load_lib(url, callback){\n",
              "  var s = document.createElement('script');\n",
              "  s.src = url;\n",
              "  s.async = true;\n",
              "  s.onreadystatechange = s.onload = callback;\n",
              "  s.onerror = function(){console.warn(\"failed to load library \" + url);};\n",
              "  document.getElementsByTagName(\"head\")[0].appendChild(s);\n",
              "}\n",
              "\n",
              "if(typeof(LDAvis) !== \"undefined\"){\n",
              "   // already loaded: just create the visualization\n",
              "   !function(LDAvis){\n",
              "       new LDAvis(\"#\" + \"ldavis_el1711403442388173443856894573\", ldavis_el1711403442388173443856894573_data);\n",
              "   }(LDAvis);\n",
              "}else if(typeof define === \"function\" && define.amd){\n",
              "   // require.js is available: use it to load d3/LDAvis\n",
              "   require.config({paths: {d3: \"https://d3js.org/d3.v5\"}});\n",
              "   require([\"d3\"], function(d3){\n",
              "      window.d3 = d3;\n",
              "      LDAvis_load_lib(\"https://cdn.jsdelivr.net/gh/bmabey/pyLDAvis@3.4.0/pyLDAvis/js/ldavis.v3.0.0.js\", function(){\n",
              "        new LDAvis(\"#\" + \"ldavis_el1711403442388173443856894573\", ldavis_el1711403442388173443856894573_data);\n",
              "      });\n",
              "    });\n",
              "}else{\n",
              "    // require.js not available: dynamically load d3 & LDAvis\n",
              "    LDAvis_load_lib(\"https://d3js.org/d3.v5.js\", function(){\n",
              "         LDAvis_load_lib(\"https://cdn.jsdelivr.net/gh/bmabey/pyLDAvis@3.4.0/pyLDAvis/js/ldavis.v3.0.0.js\", function(){\n",
              "                 new LDAvis(\"#\" + \"ldavis_el1711403442388173443856894573\", ldavis_el1711403442388173443856894573_data);\n",
              "            })\n",
              "         });\n",
              "}\n",
              "</script>"
            ],
            "text/plain": [
              "PreparedData(topic_coordinates=              x         y  topics  cluster       Freq\n",
              "topic                                                \n",
              "1      0.158182 -0.064595       1        1  33.058941\n",
              "2      0.057466 -0.058188       2        1  23.401434\n",
              "4      0.108267  0.115679       3        1  21.929160\n",
              "0     -0.172410 -0.101105       4        1  11.100383\n",
              "3     -0.151505  0.108209       5        1  10.510083, topic_info=          Term         Freq        Total Category  logprob  loglift\n",
              "0            -  9114.000000  9114.000000  Default  30.0000  30.0000\n",
              "45     propose  8663.000000  8663.000000  Default  29.0000  29.0000\n",
              "24        give  4650.000000  4650.000000  Default  28.0000  28.0000\n",
              "99       prove  2879.000000  2879.000000  Default  27.0000  27.0000\n",
              "38         non  3792.000000  3792.000000  Default  26.0000  26.0000\n",
              "..         ...          ...          ...      ...      ...      ...\n",
              "98     present   522.095975  5584.589342   Topic5  -5.1330  -0.1171\n",
              "77   introduce   466.325584  2790.012232   Topic5  -5.2459   0.4639\n",
              "236    complex   436.719684  1810.849320   Topic5  -5.3115   0.8306\n",
              "91       first   455.140109  3668.948963   Topic5  -5.2702   0.1658\n",
              "102      apply   446.015951  2839.838980   Topic5  -5.2905   0.4017\n",
              "\n",
              "[394 rows x 6 columns], token_table=      Topic      Freq   Term\n",
              "term                        \n",
              "0         1  0.233579      -\n",
              "0         2  0.293043      -\n",
              "0         3  0.178832      -\n",
              "0         4  0.009216      -\n",
              "0         5  0.285253      -\n",
              "...     ...       ...    ...\n",
              "119       3  0.188673   well\n",
              "119       4  0.081721   well\n",
              "119       5  0.059313   well\n",
              "532       4  0.989721     x$\n",
              "386       3  0.998077  young\n",
              "\n",
              "[710 rows x 3 columns], R=30, lambda_step=0.01, plot_opts={'xlab': 'PC1', 'ylab': 'PC2'}, topic_order=[2, 3, 5, 1, 4])"
            ]
          },
          "execution_count": 70,
          "metadata": {},
          "output_type": "execute_result"
        }
      ],
      "source": [
        "pyLDAvis.enable_notebook()\n",
        "vis2 = gensimvis.prepare(lda_model_multi, bow_corpus, dictionary)\n",
        "vis2"
      ]
    },
    {
      "cell_type": "code",
      "execution_count": null,
      "metadata": {
        "colab": {
          "base_uri": "https://localhost:8080/"
        },
        "id": "5ZlI1VB7Zr9S",
        "outputId": "c4d25fcc-3aa7-4664-a91d-b5ba1c39abb3"
      },
      "outputs": [
        {
          "name": "stderr",
          "output_type": "stream",
          "text": [
            "/usr/local/lib/python3.9/dist-packages/ipykernel/ipkernel.py:283: DeprecationWarning: `should_run_async` will not call `transform_cell` automatically in the future. Please pass the result to `transformed_cell` argument and any exception that happen during thetransform in `preprocessing_exc_tuple` in IPython 7.17 and above.\n",
            "  and should_run_async(code)\n"
          ]
        }
      ],
      "source": [
        "pyLDAvis.save_html(vis2, 'lda_model_multi.html')"
      ]
    },
    {
      "cell_type": "code",
      "execution_count": null,
      "metadata": {
        "colab": {
          "base_uri": "https://localhost:8080/"
        },
        "id": "JHmTNkdA4LAx",
        "outputId": "2602dd9d-0b2e-40c5-83aa-ce28dc8ba93c"
      },
      "outputs": [
        {
          "name": "stderr",
          "output_type": "stream",
          "text": [
            "/usr/local/lib/python3.9/dist-packages/ipykernel/ipkernel.py:283: DeprecationWarning: `should_run_async` will not call `transform_cell` automatically in the future. Please pass the result to `transformed_cell` argument and any exception that happen during thetransform in `preprocessing_exc_tuple` in IPython 7.17 and above.\n",
            "  and should_run_async(code)\n"
          ]
        },
        {
          "name": "stdout",
          "output_type": "stream",
          "text": [
            "\n",
            "Perplexity:  -7.195498084202839\n",
            "\n",
            "Coherence Score:  0.4097290552536677\n"
          ]
        }
      ],
      "source": [
        "print('\\nPerplexity: ', lda_model.log_perplexity(bow_corpus,total_docs=80000))\n",
        "from gensim.models.coherencemodel import CoherenceModel\n",
        "coherence_model_lda = CoherenceModel(model=lda_model, texts=tokenized_reviews, dictionary=dictionary , coherence='c_v')\n",
        "coherence_lda = coherence_model_lda.get_coherence()\n",
        "print('\\nCoherence Score: ', coherence_lda)"
      ]
    },
    {
      "cell_type": "code",
      "execution_count": null,
      "metadata": {
        "colab": {
          "base_uri": "https://localhost:8080/"
        },
        "id": "bbx89MlcZ12G",
        "outputId": "e3d6b063-5947-45d9-b3a7-50e93ca95e43"
      },
      "outputs": [
        {
          "name": "stderr",
          "output_type": "stream",
          "text": [
            "/usr/local/lib/python3.9/dist-packages/ipykernel/ipkernel.py:283: DeprecationWarning: `should_run_async` will not call `transform_cell` automatically in the future. Please pass the result to `transformed_cell` argument and any exception that happen during thetransform in `preprocessing_exc_tuple` in IPython 7.17 and above.\n",
            "  and should_run_async(code)\n"
          ]
        },
        {
          "name": "stdout",
          "output_type": "stream",
          "text": [
            "\n",
            "Perplexity:  -7.150351881079179\n",
            "\n",
            "Coherence Score:  0.40879715468728806\n"
          ]
        }
      ],
      "source": [
        "print('\\nPerplexity: ', lda_model_multi.log_perplexity(bow_corpus,total_docs=80000))\n",
        "from gensim.models.coherencemodel import CoherenceModel\n",
        "coherence_model_lda_multi = CoherenceModel(model=lda_model_multi, texts=tokenized_reviews, dictionary=dictionary , coherence='c_v')\n",
        "coherence_lda_multi = coherence_model_lda_multi.get_coherence()\n",
        "print('\\nCoherence Score: ', coherence_lda_multi)"
      ]
    },
    {
      "cell_type": "code",
      "execution_count": null,
      "metadata": {
        "colab": {
          "base_uri": "https://localhost:8080/"
        },
        "id": "DHdL3qf0rdc2",
        "outputId": "cfa90c3f-00a6-4c38-ee29-fb7dc6500a5b"
      },
      "outputs": [
        {
          "name": "stdout",
          "output_type": "stream",
          "text": [
            "Topic: 0 \n",
            "Words: 0.022*\"give\" + 0.021*\"show\" + 0.020*\"prove\" + 0.015*\"also\" + 0.010*\"set\" + 0.009*\"obtain\" + 0.009*\"define\" + 0.009*\"use\" + 0.008*\"study\" + 0.008*\"consider\"\n",
            "Topic: 1 \n",
            "Words: 0.026*\"use\" + 0.018*\"propose\" + 0.017*\"base\" + 0.016*\"learn\" + 0.010*\"show\" + 0.009*\"neural\" + 0.009*\"different\" + 0.009*\"deep\" + 0.008*\"new\" + 0.008*\"present\"\n",
            "Topic: 2 \n",
            "Words: 0.020*\"propose\" + 0.019*\"use\" + 0.015*\"show\" + 0.015*\"-\" + 0.013*\"base\" + 0.011*\"optimal\" + 0.010*\"random\" + 0.009*\"provide\" + 0.008*\"consider\" + 0.008*\"well\"\n",
            "Topic: 3 \n",
            "Words: 0.057*\"-\" + 0.030*\"non\" + 0.019*\"dimensional\" + 0.013*\"topological\" + 0.010*\"nonlinear\" + 0.010*\"critical\" + 0.009*\"study\" + 0.008*\"spatial\" + 0.008*\"describe\" + 0.008*\"couple\"\n",
            "Topic: 4 \n",
            "Words: 0.015*\"use\" + 0.014*\"high\" + 0.014*\"find\" + 0.010*\"show\" + 0.010*\"low\" + 0.010*\"large\" + 0.010*\"magnetic\" + 0.008*\"observe\" + 0.008*\"also\" + 0.007*\"present\"\n"
          ]
        },
        {
          "name": "stderr",
          "output_type": "stream",
          "text": [
            "/usr/local/lib/python3.9/dist-packages/ipykernel/ipkernel.py:283: DeprecationWarning: `should_run_async` will not call `transform_cell` automatically in the future. Please pass the result to `transformed_cell` argument and any exception that happen during thetransform in `preprocessing_exc_tuple` in IPython 7.17 and above.\n",
            "  and should_run_async(code)\n"
          ]
        }
      ],
      "source": [
        "for idx, topic in lda_model.print_topics(-1):\n",
        "    print('Topic: {} \\nWords: {}'.format(idx, topic))"
      ]
    },
    {
      "cell_type": "code",
      "execution_count": null,
      "metadata": {
        "colab": {
          "base_uri": "https://localhost:8080/"
        },
        "id": "NGO9YM9saQ3V",
        "outputId": "2e0ffb32-4dab-44c7-ee96-1e2edcbb81ba"
      },
      "outputs": [
        {
          "name": "stdout",
          "output_type": "stream",
          "text": [
            "Topic: 0 \n",
            "Words: 0.024*\"give\" + 0.021*\"show\" + 0.020*\"prove\" + 0.014*\"also\" + 0.013*\"set\" + 0.010*\"define\" + 0.008*\"use\" + 0.008*\"bound\" + 0.008*\"bind\" + 0.007*\"study\"\n",
            "Topic: 1 \n",
            "Words: 0.025*\"use\" + 0.016*\"propose\" + 0.016*\"base\" + 0.014*\"learn\" + 0.010*\"show\" + 0.009*\"neural\" + 0.009*\"different\" + 0.009*\"deep\" + 0.008*\"present\" + 0.008*\"-\"\n",
            "Topic: 2 \n",
            "Words: 0.020*\"propose\" + 0.019*\"use\" + 0.014*\"show\" + 0.014*\"-\" + 0.013*\"base\" + 0.011*\"optimal\" + 0.009*\"provide\" + 0.008*\"random\" + 0.008*\"well\" + 0.007*\"also\"\n",
            "Topic: 3 \n",
            "Words: 0.029*\"-\" + 0.020*\"non\" + 0.013*\"dimensional\" + 0.012*\"show\" + 0.011*\"use\" + 0.010*\"obtain\" + 0.009*\"consider\" + 0.009*\"study\" + 0.009*\"nonlinear\" + 0.009*\"also\"\n",
            "Topic: 4 \n",
            "Words: 0.014*\"use\" + 0.012*\"high\" + 0.012*\"find\" + 0.010*\"show\" + 0.009*\"magnetic\" + 0.009*\"-\" + 0.009*\"low\" + 0.008*\"large\" + 0.007*\"observe\" + 0.007*\"present\"\n"
          ]
        },
        {
          "name": "stderr",
          "output_type": "stream",
          "text": [
            "/usr/local/lib/python3.9/dist-packages/ipykernel/ipkernel.py:283: DeprecationWarning: `should_run_async` will not call `transform_cell` automatically in the future. Please pass the result to `transformed_cell` argument and any exception that happen during thetransform in `preprocessing_exc_tuple` in IPython 7.17 and above.\n",
            "  and should_run_async(code)\n"
          ]
        }
      ],
      "source": [
        "for idx, topic in lda_model_multi.print_topics(-1):\n",
        "    print('Topic: {} \\nWords: {}'.format(idx, topic))"
      ]
    },
    {
      "cell_type": "code",
      "execution_count": null,
      "metadata": {
        "colab": {
          "base_uri": "https://localhost:8080/",
          "height": 522
        },
        "id": "u1cVoUnOan_q",
        "outputId": "d4188b52-c5bd-4690-eb14-86d3eeb89d8e"
      },
      "outputs": [
        {
          "name": "stderr",
          "output_type": "stream",
          "text": [
            "/usr/local/lib/python3.9/dist-packages/ipykernel/ipkernel.py:283: DeprecationWarning: `should_run_async` will not call `transform_cell` automatically in the future. Please pass the result to `transformed_cell` argument and any exception that happen during thetransform in `preprocessing_exc_tuple` in IPython 7.17 and above.\n",
            "  and should_run_async(code)\n"
          ]
        },
        {
          "ename": "FileNotFoundError",
          "evalue": "ignored",
          "output_type": "error",
          "traceback": [
            "\u001b[0;31m---------------------------------------------------------------------------\u001b[0m",
            "\u001b[0;31mTypeError\u001b[0m                                 Traceback (most recent call last)",
            "\u001b[0;32m/usr/local/lib/python3.9/dist-packages/gensim/utils.py\u001b[0m in \u001b[0;36msave\u001b[0;34m(self, fname_or_handle, separately, sep_limit, ignore, pickle_protocol)\u001b[0m\n\u001b[1;32m    763\u001b[0m         \u001b[0;32mtry\u001b[0m\u001b[0;34m:\u001b[0m\u001b[0;34m\u001b[0m\u001b[0;34m\u001b[0m\u001b[0m\n\u001b[0;32m--> 764\u001b[0;31m             \u001b[0m_pickle\u001b[0m\u001b[0;34m.\u001b[0m\u001b[0mdump\u001b[0m\u001b[0;34m(\u001b[0m\u001b[0mself\u001b[0m\u001b[0;34m,\u001b[0m \u001b[0mfname_or_handle\u001b[0m\u001b[0;34m,\u001b[0m \u001b[0mprotocol\u001b[0m\u001b[0;34m=\u001b[0m\u001b[0mpickle_protocol\u001b[0m\u001b[0;34m)\u001b[0m\u001b[0;34m\u001b[0m\u001b[0;34m\u001b[0m\u001b[0m\n\u001b[0m\u001b[1;32m    765\u001b[0m             \u001b[0mlogger\u001b[0m\u001b[0;34m.\u001b[0m\u001b[0minfo\u001b[0m\u001b[0;34m(\u001b[0m\u001b[0;34m\"saved %s object\"\u001b[0m\u001b[0;34m,\u001b[0m \u001b[0mself\u001b[0m\u001b[0;34m.\u001b[0m\u001b[0m__class__\u001b[0m\u001b[0;34m.\u001b[0m\u001b[0m__name__\u001b[0m\u001b[0;34m)\u001b[0m\u001b[0;34m\u001b[0m\u001b[0;34m\u001b[0m\u001b[0m\n",
            "\u001b[0;31mTypeError\u001b[0m: file must have a 'write' attribute",
            "\nDuring handling of the above exception, another exception occurred:\n",
            "\u001b[0;31mFileNotFoundError\u001b[0m                         Traceback (most recent call last)",
            "\u001b[0;32m<ipython-input-78-9fba8ffceb5d>\u001b[0m in \u001b[0;36m<cell line: 3>\u001b[0;34m()\u001b[0m\n\u001b[1;32m      1\u001b[0m \u001b[0;32mfrom\u001b[0m \u001b[0mgensim\u001b[0m\u001b[0;34m.\u001b[0m\u001b[0mtest\u001b[0m\u001b[0;34m.\u001b[0m\u001b[0mutils\u001b[0m \u001b[0;32mimport\u001b[0m \u001b[0mdatapath\u001b[0m\u001b[0;34m\u001b[0m\u001b[0;34m\u001b[0m\u001b[0m\n\u001b[1;32m      2\u001b[0m \u001b[0;34m\u001b[0m\u001b[0m\n\u001b[0;32m----> 3\u001b[0;31m \u001b[0mlda_model\u001b[0m\u001b[0;34m.\u001b[0m\u001b[0msave\u001b[0m\u001b[0;34m(\u001b[0m\u001b[0;34m'Model/lda_model.model'\u001b[0m\u001b[0;34m)\u001b[0m\u001b[0;34m\u001b[0m\u001b[0;34m\u001b[0m\u001b[0m\n\u001b[0m",
            "\u001b[0;32m/usr/local/lib/python3.9/dist-packages/gensim/models/ldamodel.py\u001b[0m in \u001b[0;36msave\u001b[0;34m(self, fname, ignore, separately, *args, **kwargs)\u001b[0m\n\u001b[1;32m   1594\u001b[0m         \"\"\"\n\u001b[1;32m   1595\u001b[0m         \u001b[0;32mif\u001b[0m \u001b[0mself\u001b[0m\u001b[0;34m.\u001b[0m\u001b[0mstate\u001b[0m \u001b[0;32mis\u001b[0m \u001b[0;32mnot\u001b[0m \u001b[0;32mNone\u001b[0m\u001b[0;34m:\u001b[0m\u001b[0;34m\u001b[0m\u001b[0;34m\u001b[0m\u001b[0m\n\u001b[0;32m-> 1596\u001b[0;31m             \u001b[0mself\u001b[0m\u001b[0;34m.\u001b[0m\u001b[0mstate\u001b[0m\u001b[0;34m.\u001b[0m\u001b[0msave\u001b[0m\u001b[0;34m(\u001b[0m\u001b[0mutils\u001b[0m\u001b[0;34m.\u001b[0m\u001b[0msmart_extension\u001b[0m\u001b[0;34m(\u001b[0m\u001b[0mfname\u001b[0m\u001b[0;34m,\u001b[0m \u001b[0;34m'.state'\u001b[0m\u001b[0;34m)\u001b[0m\u001b[0;34m,\u001b[0m \u001b[0;34m*\u001b[0m\u001b[0margs\u001b[0m\u001b[0;34m,\u001b[0m \u001b[0;34m**\u001b[0m\u001b[0mkwargs\u001b[0m\u001b[0;34m)\u001b[0m\u001b[0;34m\u001b[0m\u001b[0;34m\u001b[0m\u001b[0m\n\u001b[0m\u001b[1;32m   1597\u001b[0m         \u001b[0;31m# Save the dictionary separately if not in 'ignore'.\u001b[0m\u001b[0;34m\u001b[0m\u001b[0;34m\u001b[0m\u001b[0m\n\u001b[1;32m   1598\u001b[0m         \u001b[0;32mif\u001b[0m \u001b[0;34m'id2word'\u001b[0m \u001b[0;32mnot\u001b[0m \u001b[0;32min\u001b[0m \u001b[0mignore\u001b[0m\u001b[0;34m:\u001b[0m\u001b[0;34m\u001b[0m\u001b[0;34m\u001b[0m\u001b[0m\n",
            "\u001b[0;32m/usr/local/lib/python3.9/dist-packages/gensim/utils.py\u001b[0m in \u001b[0;36msave\u001b[0;34m(self, fname_or_handle, separately, sep_limit, ignore, pickle_protocol)\u001b[0m\n\u001b[1;32m    765\u001b[0m             \u001b[0mlogger\u001b[0m\u001b[0;34m.\u001b[0m\u001b[0minfo\u001b[0m\u001b[0;34m(\u001b[0m\u001b[0;34m\"saved %s object\"\u001b[0m\u001b[0;34m,\u001b[0m \u001b[0mself\u001b[0m\u001b[0;34m.\u001b[0m\u001b[0m__class__\u001b[0m\u001b[0;34m.\u001b[0m\u001b[0m__name__\u001b[0m\u001b[0;34m)\u001b[0m\u001b[0;34m\u001b[0m\u001b[0;34m\u001b[0m\u001b[0m\n\u001b[1;32m    766\u001b[0m         \u001b[0;32mexcept\u001b[0m \u001b[0mTypeError\u001b[0m\u001b[0;34m:\u001b[0m  \u001b[0;31m# `fname_or_handle` does not have write attribute\u001b[0m\u001b[0;34m\u001b[0m\u001b[0;34m\u001b[0m\u001b[0m\n\u001b[0;32m--> 767\u001b[0;31m             \u001b[0mself\u001b[0m\u001b[0;34m.\u001b[0m\u001b[0m_smart_save\u001b[0m\u001b[0;34m(\u001b[0m\u001b[0mfname_or_handle\u001b[0m\u001b[0;34m,\u001b[0m \u001b[0mseparately\u001b[0m\u001b[0;34m,\u001b[0m \u001b[0msep_limit\u001b[0m\u001b[0;34m,\u001b[0m \u001b[0mignore\u001b[0m\u001b[0;34m,\u001b[0m \u001b[0mpickle_protocol\u001b[0m\u001b[0;34m=\u001b[0m\u001b[0mpickle_protocol\u001b[0m\u001b[0;34m)\u001b[0m\u001b[0;34m\u001b[0m\u001b[0;34m\u001b[0m\u001b[0m\n\u001b[0m\u001b[1;32m    768\u001b[0m \u001b[0;34m\u001b[0m\u001b[0m\n\u001b[1;32m    769\u001b[0m \u001b[0;34m\u001b[0m\u001b[0m\n",
            "\u001b[0;32m/usr/local/lib/python3.9/dist-packages/gensim/utils.py\u001b[0m in \u001b[0;36m_smart_save\u001b[0;34m(self, fname, separately, sep_limit, ignore, pickle_protocol)\u001b[0m\n\u001b[1;32m    609\u001b[0m         )\n\u001b[1;32m    610\u001b[0m         \u001b[0;32mtry\u001b[0m\u001b[0;34m:\u001b[0m\u001b[0;34m\u001b[0m\u001b[0;34m\u001b[0m\u001b[0m\n\u001b[0;32m--> 611\u001b[0;31m             \u001b[0mpickle\u001b[0m\u001b[0;34m(\u001b[0m\u001b[0mself\u001b[0m\u001b[0;34m,\u001b[0m \u001b[0mfname\u001b[0m\u001b[0;34m,\u001b[0m \u001b[0mprotocol\u001b[0m\u001b[0;34m=\u001b[0m\u001b[0mpickle_protocol\u001b[0m\u001b[0;34m)\u001b[0m\u001b[0;34m\u001b[0m\u001b[0;34m\u001b[0m\u001b[0m\n\u001b[0m\u001b[1;32m    612\u001b[0m         \u001b[0;32mfinally\u001b[0m\u001b[0;34m:\u001b[0m\u001b[0;34m\u001b[0m\u001b[0;34m\u001b[0m\u001b[0m\n\u001b[1;32m    613\u001b[0m             \u001b[0;31m# restore attribs handled specially\u001b[0m\u001b[0;34m\u001b[0m\u001b[0;34m\u001b[0m\u001b[0m\n",
            "\u001b[0;32m/usr/local/lib/python3.9/dist-packages/gensim/utils.py\u001b[0m in \u001b[0;36mpickle\u001b[0;34m(obj, fname, protocol)\u001b[0m\n\u001b[1;32m   1440\u001b[0m \u001b[0;34m\u001b[0m\u001b[0m\n\u001b[1;32m   1441\u001b[0m     \"\"\"\n\u001b[0;32m-> 1442\u001b[0;31m     \u001b[0;32mwith\u001b[0m \u001b[0mopen\u001b[0m\u001b[0;34m(\u001b[0m\u001b[0mfname\u001b[0m\u001b[0;34m,\u001b[0m \u001b[0;34m'wb'\u001b[0m\u001b[0;34m)\u001b[0m \u001b[0;32mas\u001b[0m \u001b[0mfout\u001b[0m\u001b[0;34m:\u001b[0m  \u001b[0;31m# 'b' for binary, needed on Windows\u001b[0m\u001b[0;34m\u001b[0m\u001b[0;34m\u001b[0m\u001b[0m\n\u001b[0m\u001b[1;32m   1443\u001b[0m         \u001b[0m_pickle\u001b[0m\u001b[0;34m.\u001b[0m\u001b[0mdump\u001b[0m\u001b[0;34m(\u001b[0m\u001b[0mobj\u001b[0m\u001b[0;34m,\u001b[0m \u001b[0mfout\u001b[0m\u001b[0;34m,\u001b[0m \u001b[0mprotocol\u001b[0m\u001b[0;34m=\u001b[0m\u001b[0mprotocol\u001b[0m\u001b[0;34m)\u001b[0m\u001b[0;34m\u001b[0m\u001b[0;34m\u001b[0m\u001b[0m\n\u001b[1;32m   1444\u001b[0m \u001b[0;34m\u001b[0m\u001b[0m\n",
            "\u001b[0;32m/usr/local/lib/python3.9/dist-packages/smart_open/smart_open_lib.py\u001b[0m in \u001b[0;36mopen\u001b[0;34m(uri, mode, buffering, encoding, errors, newline, closefd, opener, compression, transport_params)\u001b[0m\n\u001b[1;32m    175\u001b[0m         \u001b[0mtransport_params\u001b[0m \u001b[0;34m=\u001b[0m \u001b[0;34m{\u001b[0m\u001b[0;34m}\u001b[0m\u001b[0;34m\u001b[0m\u001b[0;34m\u001b[0m\u001b[0m\n\u001b[1;32m    176\u001b[0m \u001b[0;34m\u001b[0m\u001b[0m\n\u001b[0;32m--> 177\u001b[0;31m     fobj = _shortcut_open(\n\u001b[0m\u001b[1;32m    178\u001b[0m         \u001b[0muri\u001b[0m\u001b[0;34m,\u001b[0m\u001b[0;34m\u001b[0m\u001b[0;34m\u001b[0m\u001b[0m\n\u001b[1;32m    179\u001b[0m         \u001b[0mmode\u001b[0m\u001b[0;34m,\u001b[0m\u001b[0;34m\u001b[0m\u001b[0;34m\u001b[0m\u001b[0m\n",
            "\u001b[0;32m/usr/local/lib/python3.9/dist-packages/smart_open/smart_open_lib.py\u001b[0m in \u001b[0;36m_shortcut_open\u001b[0;34m(uri, mode, compression, buffering, encoding, errors, newline)\u001b[0m\n\u001b[1;32m    361\u001b[0m         \u001b[0mopen_kwargs\u001b[0m\u001b[0;34m[\u001b[0m\u001b[0;34m'errors'\u001b[0m\u001b[0;34m]\u001b[0m \u001b[0;34m=\u001b[0m \u001b[0merrors\u001b[0m\u001b[0;34m\u001b[0m\u001b[0;34m\u001b[0m\u001b[0m\n\u001b[1;32m    362\u001b[0m \u001b[0;34m\u001b[0m\u001b[0m\n\u001b[0;32m--> 363\u001b[0;31m     \u001b[0;32mreturn\u001b[0m \u001b[0m_builtin_open\u001b[0m\u001b[0;34m(\u001b[0m\u001b[0mlocal_path\u001b[0m\u001b[0;34m,\u001b[0m \u001b[0mmode\u001b[0m\u001b[0;34m,\u001b[0m \u001b[0mbuffering\u001b[0m\u001b[0;34m=\u001b[0m\u001b[0mbuffering\u001b[0m\u001b[0;34m,\u001b[0m \u001b[0;34m**\u001b[0m\u001b[0mopen_kwargs\u001b[0m\u001b[0;34m)\u001b[0m\u001b[0;34m\u001b[0m\u001b[0;34m\u001b[0m\u001b[0m\n\u001b[0m\u001b[1;32m    364\u001b[0m \u001b[0;34m\u001b[0m\u001b[0m\n\u001b[1;32m    365\u001b[0m \u001b[0;34m\u001b[0m\u001b[0m\n",
            "\u001b[0;31mFileNotFoundError\u001b[0m: [Errno 2] No such file or directory: 'Model/lda_model.model.state'"
          ]
        }
      ],
      "source": [
        "\n",
        "lda_model.save('Model/lda_model.model')\n"
      ]
    },
    {
      "cell_type": "code",
      "execution_count": null,
      "metadata": {
        "id": "FhlGEwO6rdc3"
      },
      "outputs": [],
      "source": [
        "import pickle\n",
        "data = {'model': lda_model, 'topic': train_df['ABSTRACT_Topic']}\n",
        "with open('model.pkl', 'wb') as file:\n",
        "    pickle.dump(data, file)\n",
        "\n",
        "with open('model.pkl', 'rb') as file:\n",
        "    data = pickle.load(file)\n",
        "\n",
        "model_loaded = data['model']\n",
        "topic_loaded = data['topic']"
      ]
    }
  ],
  "metadata": {
    "colab": {
      "provenance": []
    },
    "kernelspec": {
      "display_name": "Python 3",
      "language": "python",
      "name": "python3"
    },
    "language_info": {
      "codemirror_mode": {
        "name": "ipython",
        "version": 3
      },
      "file_extension": ".py",
      "mimetype": "text/x-python",
      "name": "python",
      "nbconvert_exporter": "python",
      "pygments_lexer": "ipython3",
      "version": "3.9.13"
    },
    "orig_nbformat": 4
  },
  "nbformat": 4,
  "nbformat_minor": 0
}
