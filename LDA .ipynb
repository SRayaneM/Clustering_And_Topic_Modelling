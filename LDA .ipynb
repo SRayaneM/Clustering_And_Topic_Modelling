{
  "cells": [
    {
      "cell_type": "markdown",
      "metadata": {
        "id": "aLjSifPyrA-U"
      },
      "source": [
        "# LDA introduction.\n",
        "\n",
        "Natural language processing (NLP) employs the probabilistic topic modeling method known as Latent Dirichlet Allocation (LDA).\n",
        "\n",
        "By identifying the topics that most accurately represent each theme, LDA aims to reveal the hidden thematic structure of a group of documents.\n",
        "\n",
        "LDA can be used to find the topics that are most pertinent to computer science, mathematics, and physics in the case of abstracts for STEM subjects.\n",
        "\n",
        "We begin by preprocessing the text data for this purpose in order to get rid of stop words, punctuation, and other extraneous details.\n",
        "\n",
        "In order to represent the frequency of each term in each document, we tokenize the text to separate it into individual words or phrases.\n",
        "\n",
        "The topics that best explain the variation in the data can be found using LDA once we have the document-term matrix.\n",
        "\n",
        "Until the model converges on a stable solution, this entails repeatedly assigning each word in each document to a topic and adjusting the topic probabilities.\n",
        "\n",
        "The LDA model produces a list of topics, each of which is represented by a distribution over the vocabulary words.\n",
        "\n",
        "The topics can then be understood by looking at the most frequently occurring words in each topic and using domain knowledge to assign them to pertinent STEM subject areas.\n",
        "\n",
        "We previously conduct a similar procedure using TF-IDF, and this model will work in tandom with the website that we have created for the users to input their abstracts."
      ]
    },
    {
      "cell_type": "markdown",
      "metadata": {
        "id": "sxOdNoOsrA-V"
      },
      "source": [
        "We first begin by importing the libraries that will be using."
      ]
    },
    {
      "cell_type": "code",
      "execution_count": 40,
      "metadata": {
        "id": "nOpKdqP1rQ9E"
      },
      "outputs": [
        {
          "name": "stdout",
          "output_type": "stream",
          "text": [
            "Requirement already satisfied: pyLDAvis in c:\\users\\rayni\\appdata\\local\\packages\\pythonsoftwarefoundation.python.3.9_qbz5n2kfra8p0\\localcache\\local-packages\\python39\\site-packages (3.4.0)\n",
            "Requirement already satisfied: numpy>=1.22.0 in c:\\users\\rayni\\appdata\\local\\packages\\pythonsoftwarefoundation.python.3.9_qbz5n2kfra8p0\\localcache\\local-packages\\python39\\site-packages (from pyLDAvis) (1.22.4)\n",
            "Requirement already satisfied: scipy in c:\\users\\rayni\\appdata\\local\\packages\\pythonsoftwarefoundation.python.3.9_qbz5n2kfra8p0\\localcache\\local-packages\\python39\\site-packages (from pyLDAvis) (1.7.2)\n",
            "Requirement already satisfied: pandas>=1.3.4 in c:\\users\\rayni\\appdata\\local\\packages\\pythonsoftwarefoundation.python.3.9_qbz5n2kfra8p0\\localcache\\local-packages\\python39\\site-packages (from pyLDAvis) (1.3.4)\n",
            "Requirement already satisfied: joblib>=1.2.0 in c:\\users\\rayni\\appdata\\local\\packages\\pythonsoftwarefoundation.python.3.9_qbz5n2kfra8p0\\localcache\\local-packages\\python39\\site-packages (from pyLDAvis) (1.2.0)\n",
            "Requirement already satisfied: jinja2 in c:\\users\\rayni\\appdata\\local\\packages\\pythonsoftwarefoundation.python.3.9_qbz5n2kfra8p0\\localcache\\local-packages\\python39\\site-packages (from pyLDAvis) (3.0.2)\n",
            "Requirement already satisfied: numexpr in c:\\users\\rayni\\appdata\\local\\packages\\pythonsoftwarefoundation.python.3.9_qbz5n2kfra8p0\\localcache\\local-packages\\python39\\site-packages (from pyLDAvis) (2.8.4)\n",
            "Requirement already satisfied: funcy in c:\\users\\rayni\\appdata\\local\\packages\\pythonsoftwarefoundation.python.3.9_qbz5n2kfra8p0\\localcache\\local-packages\\python39\\site-packages (from pyLDAvis) (2.0)\n",
            "Requirement already satisfied: scikit-learn>=1.0.0 in c:\\users\\rayni\\appdata\\local\\packages\\pythonsoftwarefoundation.python.3.9_qbz5n2kfra8p0\\localcache\\local-packages\\python39\\site-packages (from pyLDAvis) (1.2.1)\n",
            "Requirement already satisfied: gensim in c:\\users\\rayni\\appdata\\local\\packages\\pythonsoftwarefoundation.python.3.9_qbz5n2kfra8p0\\localcache\\local-packages\\python39\\site-packages (from pyLDAvis) (4.3.1)\n",
            "Requirement already satisfied: setuptools in c:\\users\\rayni\\appdata\\local\\packages\\pythonsoftwarefoundation.python.3.9_qbz5n2kfra8p0\\localcache\\local-packages\\python39\\site-packages (from pyLDAvis) (67.6.1)\n",
            "Requirement already satisfied: python-dateutil>=2.7.3 in c:\\users\\rayni\\appdata\\local\\packages\\pythonsoftwarefoundation.python.3.9_qbz5n2kfra8p0\\localcache\\local-packages\\python39\\site-packages (from pandas>=1.3.4->pyLDAvis) (2.8.2)\n",
            "Requirement already satisfied: pytz>=2017.3 in c:\\users\\rayni\\appdata\\local\\packages\\pythonsoftwarefoundation.python.3.9_qbz5n2kfra8p0\\localcache\\local-packages\\python39\\site-packages (from pandas>=1.3.4->pyLDAvis) (2021.3)\n",
            "Requirement already satisfied: threadpoolctl>=2.0.0 in c:\\users\\rayni\\appdata\\local\\packages\\pythonsoftwarefoundation.python.3.9_qbz5n2kfra8p0\\localcache\\local-packages\\python39\\site-packages (from scikit-learn>=1.0.0->pyLDAvis) (3.1.0)\n",
            "Requirement already satisfied: smart-open>=1.8.1 in c:\\users\\rayni\\appdata\\local\\packages\\pythonsoftwarefoundation.python.3.9_qbz5n2kfra8p0\\localcache\\local-packages\\python39\\site-packages (from gensim->pyLDAvis) (6.3.0)\n",
            "Requirement already satisfied: MarkupSafe>=2.0 in c:\\users\\rayni\\appdata\\local\\packages\\pythonsoftwarefoundation.python.3.9_qbz5n2kfra8p0\\localcache\\local-packages\\python39\\site-packages (from jinja2->pyLDAvis) (2.0.1)\n",
            "Requirement already satisfied: six>=1.5 in c:\\users\\rayni\\appdata\\local\\packages\\pythonsoftwarefoundation.python.3.9_qbz5n2kfra8p0\\localcache\\local-packages\\python39\\site-packages (from python-dateutil>=2.7.3->pandas>=1.3.4->pyLDAvis) (1.16.0)\n",
            "Note: you may need to restart the kernel to use updated packages.\n"
          ]
        }
      ],
      "source": [
        "pip install pyLDAvis\n"
      ]
    },
    {
      "cell_type": "code",
      "execution_count": null,
      "metadata": {
        "colab": {
          "base_uri": "https://localhost:8080/"
        },
        "id": "44X2uTSWr8PP",
        "outputId": "023aab51-0ac1-475d-fa56-85362f2c0a6d"
      },
      "outputs": [],
      "source": [
        "import nltk\n",
        "nltk.download('punkt')\n",
        "nltk.download('stopwords')\n",
        "nltk.download('wordnet')\n",
        "nltk.download('wordnet')"
      ]
    },
    {
      "cell_type": "markdown",
      "metadata": {
        "id": "QuCNrDsurdcv"
      },
      "source": [
        "You can use the following command line to import the dataset file in case youre using Google Colab."
      ]
    },
    {
      "cell_type": "code",
      "execution_count": null,
      "metadata": {
        "colab": {
          "base_uri": "https://localhost:8080/",
          "height": 79
        },
        "id": "rk2lLxmJrdcv",
        "outputId": "3d47093e-a651-4c59-df0c-8135125b0cd3"
      },
      "outputs": [
        {
          "data": {
            "text/html": [
              "\n",
              "     <input type=\"file\" id=\"files-2b8af976-2999-4dbe-aaa8-f4907843493c\" name=\"files[]\" multiple disabled\n",
              "        style=\"border:none\" />\n",
              "     <output id=\"result-2b8af976-2999-4dbe-aaa8-f4907843493c\">\n",
              "      Upload widget is only available when the cell has been executed in the\n",
              "      current browser session. Please rerun this cell to enable.\n",
              "      </output>\n",
              "      <script>// Copyright 2017 Google LLC\n",
              "//\n",
              "// Licensed under the Apache License, Version 2.0 (the \"License\");\n",
              "// you may not use this file except in compliance with the License.\n",
              "// You may obtain a copy of the License at\n",
              "//\n",
              "//      http://www.apache.org/licenses/LICENSE-2.0\n",
              "//\n",
              "// Unless required by applicable law or agreed to in writing, software\n",
              "// distributed under the License is distributed on an \"AS IS\" BASIS,\n",
              "// WITHOUT WARRANTIES OR CONDITIONS OF ANY KIND, either express or implied.\n",
              "// See the License for the specific language governing permissions and\n",
              "// limitations under the License.\n",
              "\n",
              "/**\n",
              " * @fileoverview Helpers for google.colab Python module.\n",
              " */\n",
              "(function(scope) {\n",
              "function span(text, styleAttributes = {}) {\n",
              "  const element = document.createElement('span');\n",
              "  element.textContent = text;\n",
              "  for (const key of Object.keys(styleAttributes)) {\n",
              "    element.style[key] = styleAttributes[key];\n",
              "  }\n",
              "  return element;\n",
              "}\n",
              "\n",
              "// Max number of bytes which will be uploaded at a time.\n",
              "const MAX_PAYLOAD_SIZE = 100 * 1024;\n",
              "\n",
              "function _uploadFiles(inputId, outputId) {\n",
              "  const steps = uploadFilesStep(inputId, outputId);\n",
              "  const outputElement = document.getElementById(outputId);\n",
              "  // Cache steps on the outputElement to make it available for the next call\n",
              "  // to uploadFilesContinue from Python.\n",
              "  outputElement.steps = steps;\n",
              "\n",
              "  return _uploadFilesContinue(outputId);\n",
              "}\n",
              "\n",
              "// This is roughly an async generator (not supported in the browser yet),\n",
              "// where there are multiple asynchronous steps and the Python side is going\n",
              "// to poll for completion of each step.\n",
              "// This uses a Promise to block the python side on completion of each step,\n",
              "// then passes the result of the previous step as the input to the next step.\n",
              "function _uploadFilesContinue(outputId) {\n",
              "  const outputElement = document.getElementById(outputId);\n",
              "  const steps = outputElement.steps;\n",
              "\n",
              "  const next = steps.next(outputElement.lastPromiseValue);\n",
              "  return Promise.resolve(next.value.promise).then((value) => {\n",
              "    // Cache the last promise value to make it available to the next\n",
              "    // step of the generator.\n",
              "    outputElement.lastPromiseValue = value;\n",
              "    return next.value.response;\n",
              "  });\n",
              "}\n",
              "\n",
              "/**\n",
              " * Generator function which is called between each async step of the upload\n",
              " * process.\n",
              " * @param {string} inputId Element ID of the input file picker element.\n",
              " * @param {string} outputId Element ID of the output display.\n",
              " * @return {!Iterable<!Object>} Iterable of next steps.\n",
              " */\n",
              "function* uploadFilesStep(inputId, outputId) {\n",
              "  const inputElement = document.getElementById(inputId);\n",
              "  inputElement.disabled = false;\n",
              "\n",
              "  const outputElement = document.getElementById(outputId);\n",
              "  outputElement.innerHTML = '';\n",
              "\n",
              "  const pickedPromise = new Promise((resolve) => {\n",
              "    inputElement.addEventListener('change', (e) => {\n",
              "      resolve(e.target.files);\n",
              "    });\n",
              "  });\n",
              "\n",
              "  const cancel = document.createElement('button');\n",
              "  inputElement.parentElement.appendChild(cancel);\n",
              "  cancel.textContent = 'Cancel upload';\n",
              "  const cancelPromise = new Promise((resolve) => {\n",
              "    cancel.onclick = () => {\n",
              "      resolve(null);\n",
              "    };\n",
              "  });\n",
              "\n",
              "  // Wait for the user to pick the files.\n",
              "  const files = yield {\n",
              "    promise: Promise.race([pickedPromise, cancelPromise]),\n",
              "    response: {\n",
              "      action: 'starting',\n",
              "    }\n",
              "  };\n",
              "\n",
              "  cancel.remove();\n",
              "\n",
              "  // Disable the input element since further picks are not allowed.\n",
              "  inputElement.disabled = true;\n",
              "\n",
              "  if (!files) {\n",
              "    return {\n",
              "      response: {\n",
              "        action: 'complete',\n",
              "      }\n",
              "    };\n",
              "  }\n",
              "\n",
              "  for (const file of files) {\n",
              "    const li = document.createElement('li');\n",
              "    li.append(span(file.name, {fontWeight: 'bold'}));\n",
              "    li.append(span(\n",
              "        `(${file.type || 'n/a'}) - ${file.size} bytes, ` +\n",
              "        `last modified: ${\n",
              "            file.lastModifiedDate ? file.lastModifiedDate.toLocaleDateString() :\n",
              "                                    'n/a'} - `));\n",
              "    const percent = span('0% done');\n",
              "    li.appendChild(percent);\n",
              "\n",
              "    outputElement.appendChild(li);\n",
              "\n",
              "    const fileDataPromise = new Promise((resolve) => {\n",
              "      const reader = new FileReader();\n",
              "      reader.onload = (e) => {\n",
              "        resolve(e.target.result);\n",
              "      };\n",
              "      reader.readAsArrayBuffer(file);\n",
              "    });\n",
              "    // Wait for the data to be ready.\n",
              "    let fileData = yield {\n",
              "      promise: fileDataPromise,\n",
              "      response: {\n",
              "        action: 'continue',\n",
              "      }\n",
              "    };\n",
              "\n",
              "    // Use a chunked sending to avoid message size limits. See b/62115660.\n",
              "    let position = 0;\n",
              "    do {\n",
              "      const length = Math.min(fileData.byteLength - position, MAX_PAYLOAD_SIZE);\n",
              "      const chunk = new Uint8Array(fileData, position, length);\n",
              "      position += length;\n",
              "\n",
              "      const base64 = btoa(String.fromCharCode.apply(null, chunk));\n",
              "      yield {\n",
              "        response: {\n",
              "          action: 'append',\n",
              "          file: file.name,\n",
              "          data: base64,\n",
              "        },\n",
              "      };\n",
              "\n",
              "      let percentDone = fileData.byteLength === 0 ?\n",
              "          100 :\n",
              "          Math.round((position / fileData.byteLength) * 100);\n",
              "      percent.textContent = `${percentDone}% done`;\n",
              "\n",
              "    } while (position < fileData.byteLength);\n",
              "  }\n",
              "\n",
              "  // All done.\n",
              "  yield {\n",
              "    response: {\n",
              "      action: 'complete',\n",
              "    }\n",
              "  };\n",
              "}\n",
              "\n",
              "scope.google = scope.google || {};\n",
              "scope.google.colab = scope.google.colab || {};\n",
              "scope.google.colab._files = {\n",
              "  _uploadFiles,\n",
              "  _uploadFilesContinue,\n",
              "};\n",
              "})(self);\n",
              "</script> "
            ],
            "text/plain": [
              "<IPython.core.display.HTML object>"
            ]
          },
          "metadata": {},
          "output_type": "display_data"
        },
        {
          "name": "stdout",
          "output_type": "stream",
          "text": [
            "Saving abstracts.csv to abstracts.csv\n"
          ]
        }
      ],
      "source": [
        "from google.colab import files\n",
        "\n",
        "uploaded = files.upload()"
      ]
    },
    {
      "cell_type": "code",
      "execution_count": 1,
      "metadata": {
        "colab": {
          "base_uri": "https://localhost:8080/"
        },
        "id": "Zycx5gHQrA-V",
        "outputId": "78b957d6-1390-49d1-e117-e89a844e9d30"
      },
      "outputs": [
        {
          "name": "stderr",
          "output_type": "stream",
          "text": [
            "C:\\Users\\Rayni\\AppData\\Local\\Packages\\PythonSoftwareFoundation.Python.3.9_qbz5n2kfra8p0\\LocalCache\\local-packages\\Python39\\site-packages\\seaborn\\rcmod.py:82: DeprecationWarning: distutils Version classes are deprecated. Use packaging.version instead.\n",
            "  if LooseVersion(mpl.__version__) >= \"3.0\":\n",
            "C:\\Users\\Rayni\\AppData\\Local\\Packages\\PythonSoftwareFoundation.Python.3.9_qbz5n2kfra8p0\\LocalCache\\local-packages\\Python39\\site-packages\\setuptools\\_distutils\\version.py:345: DeprecationWarning: distutils Version classes are deprecated. Use packaging.version instead.\n",
            "  other = LooseVersion(other)\n",
            "C:\\Users\\Rayni\\AppData\\Local\\Packages\\PythonSoftwareFoundation.Python.3.9_qbz5n2kfra8p0\\LocalCache\\local-packages\\Python39\\site-packages\\scipy\\sparse\\sparsetools.py:21: DeprecationWarning: `scipy.sparse.sparsetools` is deprecated!\n",
            "scipy.sparse.sparsetools is a private module for scipy.sparse, and should not be used.\n",
            "  _deprecated()\n"
          ]
        }
      ],
      "source": [
        "import pandas as pd\n",
        "import numpy as np\n",
        "import re\n",
        "import string\n",
        "import spacy\n",
        "import pickle\n",
        "\n",
        "# libraries for visualization\n",
        "import pyLDAvis\n",
        "import pyLDAvis.lda_model\n",
        "import matplotlib.pyplot as plt\n",
        "import seaborn as sns\n",
        "import gensim\n",
        "from gensim import corpora\n",
        "from sklearn.decomposition import LatentDirichletAllocation\n",
        "import pyLDAvis.gensim_models as gensimvis\n",
        "import nltk\n",
        "from sklearn.feature_extraction.text import TfidfVectorizer, CountVectorizer"
      ]
    },
    {
      "cell_type": "markdown",
      "metadata": {
        "id": "pHXdBwZcrA-W"
      },
      "source": [
        "We will then import our data set as we did before."
      ]
    },
    {
      "cell_type": "code",
      "execution_count": 2,
      "metadata": {
        "colab": {
          "base_uri": "https://localhost:8080/",
          "height": 261
        },
        "id": "AaKP2sZXrA-W",
        "outputId": "22f2d7b0-92d5-49c2-d670-33133446b56e"
      },
      "outputs": [
        {
          "data": {
            "text/html": [
              "<div>\n",
              "<style scoped>\n",
              "    .dataframe tbody tr th:only-of-type {\n",
              "        vertical-align: middle;\n",
              "    }\n",
              "\n",
              "    .dataframe tbody tr th {\n",
              "        vertical-align: top;\n",
              "    }\n",
              "\n",
              "    .dataframe thead th {\n",
              "        text-align: right;\n",
              "    }\n",
              "</style>\n",
              "<table border=\"1\" class=\"dataframe\">\n",
              "  <thead>\n",
              "    <tr style=\"text-align: right;\">\n",
              "      <th></th>\n",
              "      <th>ID</th>\n",
              "      <th>TITLE</th>\n",
              "      <th>ABSTRACT</th>\n",
              "    </tr>\n",
              "  </thead>\n",
              "  <tbody>\n",
              "    <tr>\n",
              "      <th>0</th>\n",
              "      <td>1</td>\n",
              "      <td>Reconstructing Subject-Specific Effect Maps</td>\n",
              "      <td>Predictive models allow subject-specific inf...</td>\n",
              "    </tr>\n",
              "    <tr>\n",
              "      <th>1</th>\n",
              "      <td>2</td>\n",
              "      <td>Rotation Invariance Neural Network</td>\n",
              "      <td>Rotation invariance and translation invarian...</td>\n",
              "    </tr>\n",
              "    <tr>\n",
              "      <th>2</th>\n",
              "      <td>3</td>\n",
              "      <td>Spherical polyharmonics and Poisson kernels fo...</td>\n",
              "      <td>We introduce and develop the notion of spher...</td>\n",
              "    </tr>\n",
              "    <tr>\n",
              "      <th>3</th>\n",
              "      <td>4</td>\n",
              "      <td>A finite element approximation for the stochas...</td>\n",
              "      <td>The stochastic Landau--Lifshitz--Gilbert (LL...</td>\n",
              "    </tr>\n",
              "    <tr>\n",
              "      <th>4</th>\n",
              "      <td>5</td>\n",
              "      <td>Comparative study of Discrete Wavelet Transfor...</td>\n",
              "      <td>Fourier-transform infra-red (FTIR) spectra o...</td>\n",
              "    </tr>\n",
              "  </tbody>\n",
              "</table>\n",
              "</div>"
            ],
            "text/plain": [
              "   ID                                              TITLE  \\\n",
              "0   1        Reconstructing Subject-Specific Effect Maps   \n",
              "1   2                 Rotation Invariance Neural Network   \n",
              "2   3  Spherical polyharmonics and Poisson kernels fo...   \n",
              "3   4  A finite element approximation for the stochas...   \n",
              "4   5  Comparative study of Discrete Wavelet Transfor...   \n",
              "\n",
              "                                            ABSTRACT  \n",
              "0    Predictive models allow subject-specific inf...  \n",
              "1    Rotation invariance and translation invarian...  \n",
              "2    We introduce and develop the notion of spher...  \n",
              "3    The stochastic Landau--Lifshitz--Gilbert (LL...  \n",
              "4    Fourier-transform infra-red (FTIR) spectra o...  "
            ]
          },
          "execution_count": 2,
          "metadata": {},
          "output_type": "execute_result"
        }
      ],
      "source": [
        "train_df = pd.read_csv('abstracts.csv')\n",
        "train_df.head()"
      ]
    },
    {
      "cell_type": "code",
      "execution_count": 3,
      "metadata": {
        "colab": {
          "base_uri": "https://localhost:8080/"
        },
        "id": "4B9vK3zgrdcx",
        "outputId": "2a2b00c7-b86e-4b67-cd8b-72c5c0de1a17"
      },
      "outputs": [
        {
          "name": "stdout",
          "output_type": "stream",
          "text": [
            "<class 'pandas.core.frame.DataFrame'>\n",
            "RangeIndex: 20972 entries, 0 to 20971\n",
            "Data columns (total 3 columns):\n",
            " #   Column    Non-Null Count  Dtype \n",
            "---  ------    --------------  ----- \n",
            " 0   ID        20972 non-null  int64 \n",
            " 1   TITLE     20972 non-null  object\n",
            " 2   ABSTRACT  20972 non-null  object\n",
            "dtypes: int64(1), object(2)\n",
            "memory usage: 491.7+ KB\n"
          ]
        }
      ],
      "source": [
        "train_df.info()"
      ]
    },
    {
      "cell_type": "markdown",
      "metadata": {
        "id": "Gbf4wHp7rA-X"
      },
      "source": [
        "## Data cleaning and preprocessing.\n",
        "And afterwords, we will have our cleaning function. this function performs a series of common text preprocessing steps to remove noise and irrelevant information from the input text, which can improve the accuracy of natural language processing tasks. These steps include removing punctuation, removing words that are entirely composed of digits, and removing short words.\n",
        "\n"
      ]
    },
    {
      "cell_type": "code",
      "execution_count": 4,
      "metadata": {
        "colab": {
          "base_uri": "https://localhost:8080/"
        },
        "id": "bDdSHy2orA-X",
        "outputId": "a3df7c57-1f04-42ad-b416-40266c48fab6"
      },
      "outputs": [],
      "source": [
        "def clean_text(text):\n",
        "    #The first line of the function creates a dictionary called clean_dict that maps each punctuation character in the string.punctuation string to an empty string.\n",
        "    #This will be used to remove all punctuation characters from the text.\n",
        "    clean_dict = {special_char: '' for special_char in string.punctuation}\n",
        "    clean_dict[' '] = ' '\n",
        "    #A translation table is created using the str.maketrans() method, which takes the clean_dict dictionary as input\n",
        "    #and returns a translation table that can be used with the translate() method to remove punctuation from the text.\n",
        "    table = str.maketrans(clean_dict)\n",
        "    text_1 = text.translate(\n",
        "        table\n",
        "    )  #he translate() method is called on the input text using the translation table to remove all punctuation characters.\n",
        "    text_Array = text_1.split()\n",
        "\n",
        "    \"\"\"\n",
        "    A list comprehension is used to remove any words that are entirely composed of digits (isdigit()) or that have a length less than or equal to 3 characters.\n",
        "    The remaining words are joined back together into a string with spaces between them using the join() method.\n",
        "    The resulting cleaned text is converted to lowercase using the lower() method.\n",
        "    \"\"\"\n",
        "    text_2 = ' '.join([\n",
        "        word for word in text_Array\n",
        "        if (not word.isdigit() and (not word.isdigit() and len(word) > 3))\n",
        "    ])\n",
        "\n",
        "    return text_2.lower()"
      ]
    },
    {
      "cell_type": "markdown",
      "metadata": {
        "id": "gB66_J-ZrA-X"
      },
      "source": [
        "We will then be using a Natural Language Toolkit (NLTK) library to remove stopwords from text data.\n",
        "\n",
        "Stopwords are words that occur frequently in a language but do not carry much meaning, such as \"a\", \"an\", \"the\", \"in\", \"of\", etc.\n",
        "\n",
        "The first two lines of the code import the stopwords module from NLTK and create a variable stop_words that contains a list of English stopwords.\n",
        "\n",
        "Next, a function remove_stopwords is defined that takes a single argument text, which is a string containing text data.\n",
        "\n",
        "The function splits the input text into an array of words using the split() method and then uses a list comprehension to remove any words that appear in the stop_words list.\n",
        "\n",
        "The filtered words are then joined back together into a string using the join() method and returned.\n",
        "\n",
        "Finally, the apply() method is used to apply the remove_stopwords function to every row in the 'ABSTRACT' column of the train_df DataFrame.\n",
        "\n",
        "This removes the stopwords from the text data in each row and updates the 'ABSTRACT' column in-place with the cleaned text."
      ]
    },
    {
      "cell_type": "code",
      "execution_count": 5,
      "metadata": {
        "colab": {
          "base_uri": "https://localhost:8080/"
        },
        "id": "F3KsKu5UrA-Y",
        "outputId": "b559ad98-995a-42ae-e47d-bc504769cdb3"
      },
      "outputs": [],
      "source": [
        "from nltk.corpus import stopwords\n",
        "\n",
        "stop_words = stopwords.words('english')\n",
        "\n",
        "\n",
        "#We then create a function to remove the stopwords in our text.\n",
        "def remove_stopwords(text):\n",
        "    text_Array = text.split(' ')\n",
        "    remove_words = \" \".join([i for i in text_Array if i not in stop_words])\n",
        "    return remove_words\n",
        "\n",
        "\n",
        "#And here we will apply the remove_stopwords function. This will remove the stopwords from our dataset's text\n",
        "train_df['ABSTRACT'] = train_df['ABSTRACT'].apply(remove_stopwords)\n"
      ]
    },
    {
      "cell_type": "markdown",
      "metadata": {
        "id": "WOpDJIT2rA-Y"
      },
      "source": [
        "We will use the SpaCy library to perform lemmatization on a list of input texts. Lemmatization is the process of reducing words to their base or dictionary form, which can be useful for standardizing text data and reducing noise in natural language processing tasks. However before beginning to use the Spacy library, you must first install the required tools to begin using the Spacy library. Run the following commands in the terminal to install the required tools.\n",
        "````\n",
        "pip install -U pip setuptools wheel\n",
        "pip install -U spacy\n",
        "python -m spacy download en_core_web_sm\n",
        "````\n",
        "\n"
      ]
    },
    {
      "cell_type": "code",
      "execution_count": 6,
      "metadata": {
        "colab": {
          "base_uri": "https://localhost:8080/"
        },
        "id": "16snqFMy4K6x",
        "outputId": "d42ef44c-e2a0-446d-dfdb-0f52f4223366"
      },
      "outputs": [],
      "source": [
        "'''\n",
        "The first line of the code loads the 'en_core_web_md' SpaCy model, \n",
        "which is a medium-sized English language model that includes word vectors and supports part-of-speech tagging, \n",
        "named entity recognition, and dependency parsing. The 'parser' and 'ner' components are disabled using the disable parameter, \n",
        "which speeds up the processing time since these components are not needed for lemmatization.\n",
        "'''\n",
        "import gensim\n",
        "from gensim.utils import simple_preprocess\n",
        "from gensim.parsing.preprocessing import STOPWORDS\n",
        "from nltk.stem import WordNetLemmatizer, SnowballStemmer\n",
        "from nltk.stem.porter import *    \n",
        "\n",
        " \n",
        "def lemmatization(texts,allowed_postags=['VERB', 'ADV','ADJ']): \n",
        "      nlp = spacy.load('en_core_web_sm', disable=['parser', 'ner'])\n",
        "      output = []\n",
        "      for sent in texts:\n",
        "            doc = nlp(sent) \n",
        "            output.append([token.lemma_ for token in doc if token.pos_ in allowed_postags ])\n",
        "      return output\n",
        "\n",
        "\n",
        "\n"
      ]
    },
    {
      "cell_type": "code",
      "execution_count": 7,
      "metadata": {
        "colab": {
          "base_uri": "https://localhost:8080/"
        },
        "id": "VyAvPK8Trdc0",
        "outputId": "7c4fbdb4-4580-4181-8a12-031404060073"
      },
      "outputs": [
        {
          "data": {
            "text/plain": [
              "dtype('O')"
            ]
          },
          "execution_count": 7,
          "metadata": {},
          "output_type": "execute_result"
        }
      ],
      "source": [
        "train_df['ABSTRACT'].dtypes"
      ]
    },
    {
      "cell_type": "code",
      "execution_count": 8,
      "metadata": {
        "colab": {
          "base_uri": "https://localhost:8080/"
        },
        "id": "-RtTNfMIrdc0",
        "outputId": "2dba3c0d-5639-42c9-c77e-2a2009617367"
      },
      "outputs": [
        {
          "data": {
            "text/plain": [
              "0        False\n",
              "1        False\n",
              "2        False\n",
              "3        False\n",
              "4        False\n",
              "         ...  \n",
              "20967    False\n",
              "20968    False\n",
              "20969    False\n",
              "20970    False\n",
              "20971    False\n",
              "Name: ABSTRACT, Length: 20972, dtype: bool"
            ]
          },
          "execution_count": 8,
          "metadata": {},
          "output_type": "execute_result"
        }
      ],
      "source": [
        "train_df['ABSTRACT'].isnull()"
      ]
    },
    {
      "cell_type": "code",
      "execution_count": 9,
      "metadata": {
        "colab": {
          "base_uri": "https://localhost:8080/"
        },
        "id": "P-uyIu1ZrA-Z",
        "outputId": "96b56485-a867-4a2c-a60a-3e4f3eec115a"
      },
      "outputs": [
        {
          "name": "stdout",
          "output_type": "stream",
          "text": [
            "  Rotation invariance translation invariance great values image\n",
            "recognition tasks. In paper, bring new architecture convolutional\n",
            "neural network (CNN) named cyclic convolutional layer achieve rotation\n",
            "invariance 2-D symbol recognition. We also get position and\n",
            "orientation 2-D symbol network achieve detection purpose for\n",
            "multiple non-overlap target. Last least, architecture achieve\n",
            "one-shot learning cases using invariance.\n",
            "\n",
            "['great', 'bring', 'new', 'convolutional', 'neural', 'name', 'cyclic', 'convolutional', 'achieve', 'd', 'also', 'get', 'd', 'achieve', 'multiple', 'non', '-', 'overlap', 'last', 'least', 'achieve', 'use']\n"
          ]
        }
      ],
      "source": [
        "\n",
        "text_list=train_df['ABSTRACT'].tolist()\n",
        "print(text_list[1])\n",
        "tokenized_reviews = lemmatization(text_list)\n",
        "print(tokenized_reviews[1])"
      ]
    },
    {
      "cell_type": "code",
      "execution_count": 46,
      "metadata": {
        "colab": {
          "base_uri": "https://localhost:8080/"
        },
        "id": "ydDDSn1sugpj",
        "outputId": "6ee31a2c-4112-41fd-da70-5270ce417386"
      },
      "outputs": [
        {
          "data": {
            "text/plain": [
              "[(11, 3),\n",
              " (45, 1),\n",
              " (125, 1),\n",
              " (126, 1),\n",
              " (170, 1),\n",
              " (234, 1),\n",
              " (248, 1),\n",
              " (335, 1),\n",
              " (416, 1),\n",
              " (467, 1),\n",
              " (554, 2),\n",
              " (683, 1),\n",
              " (758, 1),\n",
              " (806, 1),\n",
              " (817, 3),\n",
              " (866, 1),\n",
              " (1083, 1),\n",
              " (1232, 1),\n",
              " (1346, 3),\n",
              " (1572, 3),\n",
              " (1667, 1),\n",
              " (1879, 6)]"
            ]
          },
          "execution_count": 46,
          "metadata": {},
          "output_type": "execute_result"
        }
      ],
      "source": [
        "dictionary = corpora.Dictionary(tokenized_reviews)\n",
        "bow_corpus = [dictionary.doc2bow(doc) for doc in tokenized_reviews]\n",
        "bow_corpus[4310]"
      ]
    },
    {
      "cell_type": "code",
      "execution_count": 29,
      "metadata": {
        "colab": {
          "base_uri": "https://localhost:8080/"
        },
        "id": "qiLrh5Vyrdc0",
        "outputId": "c63891f2-9f87-411e-ac79-fc4349216c94"
      },
      "outputs": [
        {
          "name": "stdout",
          "output_type": "stream",
          "text": [
            "0 -\n",
            "1 aim\n",
            "2 allow\n",
            "3 also\n",
            "4 analyse\n",
            "5 analyze\n",
            "6 associate\n",
            "7 binary\n",
            "8 compare\n",
            "9 compose\n",
            "10 cortical\n"
          ]
        }
      ],
      "source": [
        "count = 0\n",
        "for k, v in dictionary.iteritems():\n",
        "    print(k, v)\n",
        "    count += 1\n",
        "    if count > 10:\n",
        "        break"
      ]
    },
    {
      "cell_type": "code",
      "execution_count": 30,
      "metadata": {
        "colab": {
          "base_uri": "https://localhost:8080/"
        },
        "id": "u-z-j-Xurdc1",
        "outputId": "34f0f188-2d45-47cd-84e8-bb2ee826c1ec"
      },
      "outputs": [],
      "source": [
        "dictionary.filter_extremes(no_below=15, no_above=0.5, keep_n=100000)"
      ]
    },
    {
      "cell_type": "code",
      "execution_count": 31,
      "metadata": {
        "colab": {
          "base_uri": "https://localhost:8080/"
        },
        "id": "fOJ0WxKlrdc1",
        "outputId": "51dcc00c-4f13-4564-b46c-e3270671743c"
      },
      "outputs": [
        {
          "name": "stdout",
          "output_type": "stream",
          "text": [
            "Word 11 (\"detect\") appears 3 time.\n",
            "Word 45 (\"reduce\") appears 1 time.\n",
            "Word 125 (\"finally\") appears 1 time.\n",
            "Word 126 (\"interest\") appears 1 time.\n",
            "Word 170 (\"metallic\") appears 1 time.\n",
            "Word 234 (\"main\") appears 1 time.\n",
            "Word 248 (\"utilize\") appears 1 time.\n",
            "Word 335 (\"giant\") appears 1 time.\n",
            "Word 416 (\"adequate\") appears 1 time.\n",
            "Word 467 (\"check\") appears 1 time.\n",
            "Word 554 (\"geometric\") appears 2 time.\n",
            "Word 683 (\"create\") appears 1 time.\n",
            "Word 758 (\"odd\") appears 1 time.\n",
            "Word 806 (\"possible\") appears 1 time.\n",
            "Word 817 (\"internal\") appears 3 time.\n",
            "Word 866 (\"begin\") appears 1 time.\n",
            "Word 1083 (\"logarithmic\") appears 1 time.\n",
            "Word 1232 (\"fine\") appears 1 time.\n",
            "Word 1346 (\"employ\") appears 3 time.\n",
            "Word 1572 (\"categorical\") appears 3 time.\n",
            "Word 1667 (\"stimulate\") appears 1 time.\n",
            "Word 1879 (\"probe\") appears 6 time.\n"
          ]
        }
      ],
      "source": [
        "bow_doc_4310 = bow_corpus[4310]\n",
        "\n",
        "for i in range(len(bow_doc_4310)):\n",
        "    print(\"Word {} (\\\"{}\\\") appears {} time.\".format(\n",
        "        bow_doc_4310[i][0], dictionary[bow_doc_4310[i][0]],\n",
        "        bow_doc_4310[i][1]))\n"
      ]
    },
    {
      "cell_type": "code",
      "execution_count": 32,
      "metadata": {
        "colab": {
          "base_uri": "https://localhost:8080/"
        },
        "id": "ciHC9snprdc1",
        "outputId": "87cbfb8c-edfd-4752-fe63-b5cc460a99c5"
      },
      "outputs": [
        {
          "data": {
            "text/plain": [
              "(20972,)"
            ]
          },
          "execution_count": 32,
          "metadata": {},
          "output_type": "execute_result"
        }
      ],
      "source": [
        "train_df['ABSTRACT'].shape"
      ]
    },
    {
      "cell_type": "code",
      "execution_count": 33,
      "metadata": {
        "id": "P-_RJVgzNXtZ"
      },
      "outputs": [
        {
          "data": {
            "text/plain": [
              "20972"
            ]
          },
          "execution_count": 33,
          "metadata": {},
          "output_type": "execute_result"
        }
      ],
      "source": [
        "train_df['ABSTRACT'].size"
      ]
    },
    {
      "cell_type": "code",
      "execution_count": 47,
      "metadata": {
        "colab": {
          "base_uri": "https://localhost:8080/"
        },
        "id": "pV9hA_uHuk4a",
        "outputId": "1cf3ec5c-2f64-4012-91a7-1fc187ef1c94"
      },
      "outputs": [],
      "source": [
        "\n",
        "# Build LDA model\n",
        "lda_model = gensim.models.ldamodel.LdaModel(corpus=bow_corpus,\n",
        "                num_topics=5,\n",
        "                id2word=dictionary,\n",
        "                random_state=100,\n",
        "                chunksize=1000,\n",
        "                passes=50,\n",
        "                iterations=100,\n",
        "                update_every=1, alpha='auto')\n"
      ]
    },
    {
      "cell_type": "code",
      "execution_count": 45,
      "metadata": {
        "colab": {
          "base_uri": "https://localhost:8080/"
        },
        "id": "ISkcT64Urdc1",
        "outputId": "8e182141-2339-474e-d9dd-9534d94d97e5"
      },
      "outputs": [
        {
          "ename": "KeyboardInterrupt",
          "evalue": "",
          "output_type": "error",
          "traceback": [
            "\u001b[1;31m---------------------------------------------------------------------------\u001b[0m",
            "\u001b[1;31mFull\u001b[0m                                      Traceback (most recent call last)",
            "File \u001b[1;32m~\\AppData\\Local\\Packages\\PythonSoftwareFoundation.Python.3.9_qbz5n2kfra8p0\\LocalCache\\local-packages\\Python39\\site-packages\\gensim\\models\\ldamulticore.py:298\u001b[0m, in \u001b[0;36mLdaMulticore.update\u001b[1;34m(self, corpus, chunks_as_numpy)\u001b[0m\n\u001b[0;32m    297\u001b[0m \u001b[39mtry\u001b[39;00m:\n\u001b[1;32m--> 298\u001b[0m     job_queue\u001b[39m.\u001b[39;49mput((chunk_no, chunk, \u001b[39mself\u001b[39;49m\u001b[39m.\u001b[39;49mstate), block\u001b[39m=\u001b[39;49m\u001b[39mFalse\u001b[39;49;00m)\n\u001b[0;32m    299\u001b[0m     queue_size[\u001b[39m0\u001b[39m] \u001b[39m+\u001b[39m\u001b[39m=\u001b[39m \u001b[39m1\u001b[39m\n",
            "File \u001b[1;32mC:\\Program Files\\WindowsApps\\PythonSoftwareFoundation.Python.3.9_3.9.3568.0_x64__qbz5n2kfra8p0\\lib\\multiprocessing\\queues.py:90\u001b[0m, in \u001b[0;36mQueue.put\u001b[1;34m(self, obj, block, timeout)\u001b[0m\n\u001b[0;32m     89\u001b[0m \u001b[39mif\u001b[39;00m \u001b[39mnot\u001b[39;00m \u001b[39mself\u001b[39m\u001b[39m.\u001b[39m_sem\u001b[39m.\u001b[39macquire(block, timeout):\n\u001b[1;32m---> 90\u001b[0m     \u001b[39mraise\u001b[39;00m Full\n\u001b[0;32m     92\u001b[0m \u001b[39mwith\u001b[39;00m \u001b[39mself\u001b[39m\u001b[39m.\u001b[39m_notempty:\n",
            "\u001b[1;31mFull\u001b[0m: ",
            "\nDuring handling of the above exception, another exception occurred:\n",
            "\u001b[1;31mKeyboardInterrupt\u001b[0m                         Traceback (most recent call last)",
            "\u001b[1;32mc:\\Users\\Rayni\\Desktop\\Coding\\FYP\\Main\\LDA .ipynb Cell 28\u001b[0m in \u001b[0;36m1\n\u001b[1;32m----> <a href='vscode-notebook-cell:/c%3A/Users/Rayni/Desktop/Coding/FYP/Main/LDA%20.ipynb#X36sZmlsZQ%3D%3D?line=0'>1</a>\u001b[0m lda_model_multi \u001b[39m=\u001b[39m gensim\u001b[39m.\u001b[39;49mmodels\u001b[39m.\u001b[39;49mLdaMulticore(corpus \u001b[39m=\u001b[39;49m bow_corpus,\n\u001b[0;32m      <a href='vscode-notebook-cell:/c%3A/Users/Rayni/Desktop/Coding/FYP/Main/LDA%20.ipynb#X36sZmlsZQ%3D%3D?line=1'>2</a>\u001b[0m                                        num_topics\u001b[39m=\u001b[39;49m\u001b[39m5\u001b[39;49m,\n\u001b[0;32m      <a href='vscode-notebook-cell:/c%3A/Users/Rayni/Desktop/Coding/FYP/Main/LDA%20.ipynb#X36sZmlsZQ%3D%3D?line=2'>3</a>\u001b[0m                                        id2word\u001b[39m=\u001b[39;49mdictionary,\n\u001b[0;32m      <a href='vscode-notebook-cell:/c%3A/Users/Rayni/Desktop/Coding/FYP/Main/LDA%20.ipynb#X36sZmlsZQ%3D%3D?line=3'>4</a>\u001b[0m                                        workers\u001b[39m=\u001b[39;49m\u001b[39m2\u001b[39;49m,\n\u001b[0;32m      <a href='vscode-notebook-cell:/c%3A/Users/Rayni/Desktop/Coding/FYP/Main/LDA%20.ipynb#X36sZmlsZQ%3D%3D?line=4'>5</a>\u001b[0m                                        random_state\u001b[39m=\u001b[39;49m\u001b[39m100\u001b[39;49m,\n\u001b[0;32m      <a href='vscode-notebook-cell:/c%3A/Users/Rayni/Desktop/Coding/FYP/Main/LDA%20.ipynb#X36sZmlsZQ%3D%3D?line=5'>6</a>\u001b[0m                                        chunksize\u001b[39m=\u001b[39;49m\u001b[39m1000\u001b[39;49m,\n\u001b[0;32m      <a href='vscode-notebook-cell:/c%3A/Users/Rayni/Desktop/Coding/FYP/Main/LDA%20.ipynb#X36sZmlsZQ%3D%3D?line=6'>7</a>\u001b[0m                                        passes\u001b[39m=\u001b[39;49m\u001b[39m50\u001b[39;49m,\n\u001b[0;32m      <a href='vscode-notebook-cell:/c%3A/Users/Rayni/Desktop/Coding/FYP/Main/LDA%20.ipynb#X36sZmlsZQ%3D%3D?line=7'>8</a>\u001b[0m                                        iterations\u001b[39m=\u001b[39;49m\u001b[39m100\u001b[39;49m)\n",
            "File \u001b[1;32m~\\AppData\\Local\\Packages\\PythonSoftwareFoundation.Python.3.9_qbz5n2kfra8p0\\LocalCache\\local-packages\\Python39\\site-packages\\gensim\\models\\ldamulticore.py:186\u001b[0m, in \u001b[0;36mLdaMulticore.__init__\u001b[1;34m(self, corpus, num_topics, id2word, workers, chunksize, passes, batch, alpha, eta, decay, offset, eval_every, iterations, gamma_threshold, random_state, minimum_probability, minimum_phi_value, per_word_topics, dtype)\u001b[0m\n\u001b[0;32m    183\u001b[0m \u001b[39mif\u001b[39;00m \u001b[39misinstance\u001b[39m(alpha, \u001b[39mstr\u001b[39m) \u001b[39mand\u001b[39;00m alpha \u001b[39m==\u001b[39m \u001b[39m'\u001b[39m\u001b[39mauto\u001b[39m\u001b[39m'\u001b[39m:\n\u001b[0;32m    184\u001b[0m     \u001b[39mraise\u001b[39;00m \u001b[39mNotImplementedError\u001b[39;00m(\u001b[39m\"\u001b[39m\u001b[39mauto-tuning alpha not implemented in LdaMulticore; use plain LdaModel.\u001b[39m\u001b[39m\"\u001b[39m)\n\u001b[1;32m--> 186\u001b[0m \u001b[39msuper\u001b[39;49m(LdaMulticore, \u001b[39mself\u001b[39;49m)\u001b[39m.\u001b[39;49m\u001b[39m__init__\u001b[39;49m(\n\u001b[0;32m    187\u001b[0m     corpus\u001b[39m=\u001b[39;49mcorpus, num_topics\u001b[39m=\u001b[39;49mnum_topics,\n\u001b[0;32m    188\u001b[0m     id2word\u001b[39m=\u001b[39;49mid2word, chunksize\u001b[39m=\u001b[39;49mchunksize, passes\u001b[39m=\u001b[39;49mpasses, alpha\u001b[39m=\u001b[39;49malpha, eta\u001b[39m=\u001b[39;49meta,\n\u001b[0;32m    189\u001b[0m     decay\u001b[39m=\u001b[39;49mdecay, offset\u001b[39m=\u001b[39;49moffset, eval_every\u001b[39m=\u001b[39;49meval_every, iterations\u001b[39m=\u001b[39;49miterations,\n\u001b[0;32m    190\u001b[0m     gamma_threshold\u001b[39m=\u001b[39;49mgamma_threshold, random_state\u001b[39m=\u001b[39;49mrandom_state, minimum_probability\u001b[39m=\u001b[39;49mminimum_probability,\n\u001b[0;32m    191\u001b[0m     minimum_phi_value\u001b[39m=\u001b[39;49mminimum_phi_value, per_word_topics\u001b[39m=\u001b[39;49mper_word_topics, dtype\u001b[39m=\u001b[39;49mdtype,\n\u001b[0;32m    192\u001b[0m )\n",
            "File \u001b[1;32m~\\AppData\\Local\\Packages\\PythonSoftwareFoundation.Python.3.9_qbz5n2kfra8p0\\LocalCache\\local-packages\\Python39\\site-packages\\gensim\\models\\ldamodel.py:521\u001b[0m, in \u001b[0;36mLdaModel.__init__\u001b[1;34m(self, corpus, num_topics, id2word, distributed, chunksize, passes, update_every, alpha, eta, decay, offset, eval_every, iterations, gamma_threshold, minimum_probability, random_state, ns_conf, minimum_phi_value, per_word_topics, callbacks, dtype)\u001b[0m\n\u001b[0;32m    519\u001b[0m use_numpy \u001b[39m=\u001b[39m \u001b[39mself\u001b[39m\u001b[39m.\u001b[39mdispatcher \u001b[39mis\u001b[39;00m \u001b[39mnot\u001b[39;00m \u001b[39mNone\u001b[39;00m\n\u001b[0;32m    520\u001b[0m start \u001b[39m=\u001b[39m time\u001b[39m.\u001b[39mtime()\n\u001b[1;32m--> 521\u001b[0m \u001b[39mself\u001b[39;49m\u001b[39m.\u001b[39;49mupdate(corpus, chunks_as_numpy\u001b[39m=\u001b[39;49muse_numpy)\n\u001b[0;32m    522\u001b[0m \u001b[39mself\u001b[39m\u001b[39m.\u001b[39madd_lifecycle_event(\n\u001b[0;32m    523\u001b[0m     \u001b[39m\"\u001b[39m\u001b[39mcreated\u001b[39m\u001b[39m\"\u001b[39m,\n\u001b[0;32m    524\u001b[0m     msg\u001b[39m=\u001b[39m\u001b[39mf\u001b[39m\u001b[39m\"\u001b[39m\u001b[39mtrained \u001b[39m\u001b[39m{\u001b[39;00m\u001b[39mself\u001b[39m\u001b[39m}\u001b[39;00m\u001b[39m in \u001b[39m\u001b[39m{\u001b[39;00mtime\u001b[39m.\u001b[39mtime() \u001b[39m-\u001b[39m start\u001b[39m:\u001b[39;00m\u001b[39m.2f\u001b[39m\u001b[39m}\u001b[39;00m\u001b[39ms\u001b[39m\u001b[39m\"\u001b[39m,\n\u001b[0;32m    525\u001b[0m )\n",
            "File \u001b[1;32m~\\AppData\\Local\\Packages\\PythonSoftwareFoundation.Python.3.9_qbz5n2kfra8p0\\LocalCache\\local-packages\\Python39\\site-packages\\gensim\\models\\ldamulticore.py:309\u001b[0m, in \u001b[0;36mLdaMulticore.update\u001b[1;34m(self, corpus, chunks_as_numpy)\u001b[0m\n\u001b[0;32m    305\u001b[0m             \u001b[39mbreak\u001b[39;00m\n\u001b[0;32m    306\u001b[0m         \u001b[39mexcept\u001b[39;00m queue\u001b[39m.\u001b[39mFull:\n\u001b[0;32m    307\u001b[0m             \u001b[39m# in case the input job queue is full, keep clearing the\u001b[39;00m\n\u001b[0;32m    308\u001b[0m             \u001b[39m# result queue, to make sure we don't deadlock\u001b[39;00m\n\u001b[1;32m--> 309\u001b[0m             process_result_queue()\n\u001b[0;32m    311\u001b[0m     process_result_queue()\n\u001b[0;32m    312\u001b[0m \u001b[39m# endfor single corpus pass\u001b[39;00m\n\u001b[0;32m    313\u001b[0m \n\u001b[0;32m    314\u001b[0m \u001b[39m# wait for all outstanding jobs to finish\u001b[39;00m\n",
            "File \u001b[1;32m~\\AppData\\Local\\Packages\\PythonSoftwareFoundation.Python.3.9_qbz5n2kfra8p0\\LocalCache\\local-packages\\Python39\\site-packages\\gensim\\models\\ldamulticore.py:274\u001b[0m, in \u001b[0;36mLdaMulticore.update.<locals>.process_result_queue\u001b[1;34m(force)\u001b[0m\n\u001b[0;32m    268\u001b[0m \u001b[39m\"\"\"\u001b[39;00m\n\u001b[0;32m    269\u001b[0m \u001b[39mClear the result queue, merging all intermediate results, and update the\u001b[39;00m\n\u001b[0;32m    270\u001b[0m \u001b[39mLDA model if necessary.\u001b[39;00m\n\u001b[0;32m    271\u001b[0m \n\u001b[0;32m    272\u001b[0m \u001b[39m\"\"\"\u001b[39;00m\n\u001b[0;32m    273\u001b[0m merged_new \u001b[39m=\u001b[39m \u001b[39mFalse\u001b[39;00m\n\u001b[1;32m--> 274\u001b[0m \u001b[39mwhile\u001b[39;00m \u001b[39mnot\u001b[39;00m result_queue\u001b[39m.\u001b[39;49mempty():\n\u001b[0;32m    275\u001b[0m     other\u001b[39m.\u001b[39mmerge(result_queue\u001b[39m.\u001b[39mget())\n\u001b[0;32m    276\u001b[0m     queue_size[\u001b[39m0\u001b[39m] \u001b[39m-\u001b[39m\u001b[39m=\u001b[39m \u001b[39m1\u001b[39m\n",
            "File \u001b[1;32mC:\\Program Files\\WindowsApps\\PythonSoftwareFoundation.Python.3.9_3.9.3568.0_x64__qbz5n2kfra8p0\\lib\\multiprocessing\\queues.py:129\u001b[0m, in \u001b[0;36mQueue.empty\u001b[1;34m(self)\u001b[0m\n\u001b[0;32m    128\u001b[0m \u001b[39mdef\u001b[39;00m \u001b[39mempty\u001b[39m(\u001b[39mself\u001b[39m):\n\u001b[1;32m--> 129\u001b[0m     \u001b[39mreturn\u001b[39;00m \u001b[39mnot\u001b[39;00m \u001b[39mself\u001b[39;49m\u001b[39m.\u001b[39;49m_poll()\n",
            "File \u001b[1;32mC:\\Program Files\\WindowsApps\\PythonSoftwareFoundation.Python.3.9_3.9.3568.0_x64__qbz5n2kfra8p0\\lib\\multiprocessing\\connection.py:262\u001b[0m, in \u001b[0;36m_ConnectionBase.poll\u001b[1;34m(self, timeout)\u001b[0m\n\u001b[0;32m    260\u001b[0m \u001b[39mself\u001b[39m\u001b[39m.\u001b[39m_check_closed()\n\u001b[0;32m    261\u001b[0m \u001b[39mself\u001b[39m\u001b[39m.\u001b[39m_check_readable()\n\u001b[1;32m--> 262\u001b[0m \u001b[39mreturn\u001b[39;00m \u001b[39mself\u001b[39;49m\u001b[39m.\u001b[39;49m_poll(timeout)\n",
            "File \u001b[1;32mC:\\Program Files\\WindowsApps\\PythonSoftwareFoundation.Python.3.9_3.9.3568.0_x64__qbz5n2kfra8p0\\lib\\multiprocessing\\connection.py:335\u001b[0m, in \u001b[0;36mPipeConnection._poll\u001b[1;34m(self, timeout)\u001b[0m\n\u001b[0;32m    332\u001b[0m \u001b[39mif\u001b[39;00m (\u001b[39mself\u001b[39m\u001b[39m.\u001b[39m_got_empty_message \u001b[39mor\u001b[39;00m\n\u001b[0;32m    333\u001b[0m             _winapi\u001b[39m.\u001b[39mPeekNamedPipe(\u001b[39mself\u001b[39m\u001b[39m.\u001b[39m_handle)[\u001b[39m0\u001b[39m] \u001b[39m!=\u001b[39m \u001b[39m0\u001b[39m):\n\u001b[0;32m    334\u001b[0m     \u001b[39mreturn\u001b[39;00m \u001b[39mTrue\u001b[39;00m\n\u001b[1;32m--> 335\u001b[0m \u001b[39mreturn\u001b[39;00m \u001b[39mbool\u001b[39m(wait([\u001b[39mself\u001b[39;49m], timeout))\n",
            "File \u001b[1;32mC:\\Program Files\\WindowsApps\\PythonSoftwareFoundation.Python.3.9_3.9.3568.0_x64__qbz5n2kfra8p0\\lib\\multiprocessing\\connection.py:888\u001b[0m, in \u001b[0;36mwait\u001b[1;34m(object_list, timeout)\u001b[0m\n\u001b[0;32m    885\u001b[0m \u001b[39mfinally\u001b[39;00m:\n\u001b[0;32m    886\u001b[0m     \u001b[39m# request that overlapped reads stop\u001b[39;00m\n\u001b[0;32m    887\u001b[0m     \u001b[39mfor\u001b[39;00m ov \u001b[39min\u001b[39;00m ov_list:\n\u001b[1;32m--> 888\u001b[0m         ov\u001b[39m.\u001b[39;49mcancel()\n\u001b[0;32m    890\u001b[0m     \u001b[39m# wait for all overlapped reads to stop\u001b[39;00m\n\u001b[0;32m    891\u001b[0m     \u001b[39mfor\u001b[39;00m ov \u001b[39min\u001b[39;00m ov_list:\n",
            "\u001b[1;31mKeyboardInterrupt\u001b[0m: "
          ]
        }
      ],
      "source": [
        "lda_model_multi = gensim.models.LdaMulticore(corpus = bow_corpus,\n",
        "                                       num_topics=5,\n",
        "                                       id2word=dictionary,\n",
        "                                       workers=2,\n",
        "                                       random_state=100,\n",
        "                                       chunksize=1000,\n",
        "                                       passes=50,\n",
        "                                       iterations=100)\n"
      ]
    },
    {
      "cell_type": "code",
      "execution_count": null,
      "metadata": {
        "colab": {
          "base_uri": "https://localhost:8080/"
        },
        "id": "9aeSILVA2CLk",
        "outputId": "124b5ff7-9685-4966-fd7e-704f97b0aba2"
      },
      "outputs": [
        {
          "data": {
            "text/plain": [
              "[(0,\n",
              "  '0.023*\"give\" + 0.022*\"prove\" + 0.020*\"show\" + 0.014*\"also\" + 0.010*\"define\" + 0.009*\"set\" + 0.008*\"obtain\" + 0.008*\"study\" + 0.008*\"finite\" + 0.007*\"positive\"'),\n",
              " (1,\n",
              "  '0.027*\"use\" + 0.018*\"propose\" + 0.018*\"base\" + 0.014*\"learn\" + 0.010*\"different\" + 0.009*\"show\" + 0.008*\"present\" + 0.008*\"new\" + 0.008*\"neural\" + 0.008*\"deep\"'),\n",
              " (2,\n",
              "  '0.019*\"use\" + 0.018*\"-\" + 0.018*\"show\" + 0.013*\"propose\" + 0.012*\"consider\" + 0.010*\"provide\" + 0.010*\"base\" + 0.010*\"non\" + 0.009*\"well\" + 0.009*\"also\"'),\n",
              " (3,\n",
              "  '0.036*\"-\" + 0.022*\"non\" + 0.018*\"dimensional\" + 0.017*\"topological\" + 0.013*\"critical\" + 0.012*\"couple\" + 0.010*\"spatial\" + 0.009*\"boundary\" + 0.009*\"nonlinear\" + 0.009*\"algebra\"'),\n",
              " (4,\n",
              "  '0.015*\"find\" + 0.014*\"high\" + 0.012*\"magnetic\" + 0.011*\"use\" + 0.011*\"low\" + 0.010*\"show\" + 0.009*\"large\" + 0.009*\"observe\" + 0.007*\"also\" + 0.007*\"optical\"')]"
            ]
          },
          "execution_count": 68,
          "metadata": {},
          "output_type": "execute_result"
        }
      ],
      "source": [
        "lda_model.print_topics()"
      ]
    },
    {
      "cell_type": "code",
      "execution_count": null,
      "metadata": {
        "colab": {
          "base_uri": "https://localhost:8080/"
        },
        "id": "pSd-La3_RLPQ",
        "outputId": "b2b29d1c-717c-412b-d7dc-4751b79e6649"
      },
      "outputs": [
        {
          "data": {
            "text/plain": [
              "[(0,\n",
              "  '0.024*\"give\" + 0.020*\"show\" + 0.020*\"prove\" + 0.014*\"also\" + 0.012*\"set\" + 0.010*\"define\" + 0.008*\"use\" + 0.007*\"study\" + 0.007*\"bound\" + 0.007*\"new\"'),\n",
              " (1,\n",
              "  '0.025*\"use\" + 0.017*\"propose\" + 0.016*\"base\" + 0.014*\"learn\" + 0.010*\"show\" + 0.009*\"neural\" + 0.009*\"different\" + 0.009*\"deep\" + 0.008*\"present\" + 0.007*\"new\"'),\n",
              " (2,\n",
              "  '0.019*\"propose\" + 0.019*\"use\" + 0.014*\"show\" + 0.014*\"-\" + 0.013*\"base\" + 0.011*\"optimal\" + 0.009*\"provide\" + 0.008*\"random\" + 0.008*\"well\" + 0.007*\"also\"'),\n",
              " (3,\n",
              "  '0.026*\"-\" + 0.018*\"non\" + 0.013*\"dimensional\" + 0.012*\"show\" + 0.010*\"use\" + 0.010*\"nonlinear\" + 0.009*\"consider\" + 0.009*\"obtain\" + 0.009*\"boundary\" + 0.009*\"study\"'),\n",
              " (4,\n",
              "  '0.014*\"use\" + 0.012*\"high\" + 0.012*\"find\" + 0.010*\"show\" + 0.009*\"low\" + 0.009*\"magnetic\" + 0.009*\"-\" + 0.008*\"large\" + 0.007*\"observe\" + 0.007*\"present\"')]"
            ]
          },
          "execution_count": 69,
          "metadata": {},
          "output_type": "execute_result"
        }
      ],
      "source": [
        "lda_model_multi.print_topics()"
      ]
    },
    {
      "cell_type": "code",
      "execution_count": null,
      "metadata": {
        "colab": {
          "base_uri": "https://localhost:8080/"
        },
        "id": "56rHE_aMrdc1",
        "outputId": "afd42f4d-c4ae-4642-8a8e-6c5d27dcce51"
      },
      "outputs": [
        {
          "name": "stdout",
          "output_type": "stream",
          "text": [
            "\n",
            "Score: 0.3617786169052124\t \n",
            "Topic: 0.023*\"give\" + 0.022*\"prove\" + 0.020*\"show\" + 0.014*\"also\" + 0.010*\"define\" + 0.009*\"set\" + 0.008*\"obtain\" + 0.008*\"study\" + 0.008*\"finite\" + 0.007*\"positive\"\n",
            "\n",
            "Score: 0.2938082814216614\t \n",
            "Topic: 0.027*\"use\" + 0.018*\"propose\" + 0.018*\"base\" + 0.014*\"learn\" + 0.010*\"different\" + 0.009*\"show\" + 0.008*\"present\" + 0.008*\"new\" + 0.008*\"neural\" + 0.008*\"deep\"\n",
            "\n",
            "Score: 0.20413623750209808\t \n",
            "Topic: 0.015*\"find\" + 0.014*\"high\" + 0.012*\"magnetic\" + 0.011*\"use\" + 0.011*\"low\" + 0.010*\"show\" + 0.009*\"large\" + 0.009*\"observe\" + 0.007*\"also\" + 0.007*\"optical\"\n",
            "\n",
            "Score: 0.11722999066114426\t \n",
            "Topic: 0.036*\"-\" + 0.022*\"non\" + 0.018*\"dimensional\" + 0.017*\"topological\" + 0.013*\"critical\" + 0.012*\"couple\" + 0.010*\"spatial\" + 0.009*\"boundary\" + 0.009*\"nonlinear\" + 0.009*\"algebra\"\n",
            "\n",
            "Score: 0.023046845570206642\t \n",
            "Topic: 0.019*\"use\" + 0.018*\"-\" + 0.018*\"show\" + 0.013*\"propose\" + 0.012*\"consider\" + 0.010*\"provide\" + 0.010*\"base\" + 0.010*\"non\" + 0.009*\"well\" + 0.009*\"also\"\n"
          ]
        }
      ],
      "source": [
        "for index, score in sorted(lda_model[bow_corpus[4310]],\n",
        "                           key=lambda tup: -1 * tup[1]):\n",
        "    print(\"\\nScore: {}\\t \\nTopic: {}\".format(score,\n",
        "                                             lda_model.print_topic(index, 10)))\n"
      ]
    },
    {
      "cell_type": "code",
      "execution_count": null,
      "metadata": {
        "colab": {
          "base_uri": "https://localhost:8080/"
        },
        "id": "Id7zwRiKZWLh",
        "outputId": "f244a779-5759-41fe-9276-7feb3e7e0f9f"
      },
      "outputs": [
        {
          "name": "stdout",
          "output_type": "stream",
          "text": [
            "\n",
            "Score: 0.6847151517868042\t \n",
            "Topic: 0.014*\"use\" + 0.012*\"high\" + 0.012*\"find\" + 0.010*\"show\" + 0.009*\"low\" + 0.009*\"magnetic\" + 0.009*\"-\" + 0.008*\"large\" + 0.007*\"observe\" + 0.007*\"present\"\n",
            "\n",
            "Score: 0.2423679679632187\t \n",
            "Topic: 0.025*\"use\" + 0.017*\"propose\" + 0.016*\"base\" + 0.014*\"learn\" + 0.010*\"show\" + 0.009*\"neural\" + 0.009*\"different\" + 0.009*\"deep\" + 0.008*\"present\" + 0.007*\"new\"\n",
            "\n",
            "Score: 0.061950888484716415\t \n",
            "Topic: 0.024*\"give\" + 0.020*\"show\" + 0.020*\"prove\" + 0.014*\"also\" + 0.012*\"set\" + 0.010*\"define\" + 0.008*\"use\" + 0.007*\"study\" + 0.007*\"bound\" + 0.007*\"new\"\n"
          ]
        }
      ],
      "source": [
        "for index, score in sorted(lda_model_multi[bow_corpus[4310]],\n",
        "                           key=lambda tup: -1 * tup[1]):\n",
        "    print(\"\\nScore: {}\\t \\nTopic: {}\".format(score,\n",
        "                                             lda_model_multi.print_topic(index, 10)))"
      ]
    },
    {
      "cell_type": "code",
      "execution_count": null,
      "metadata": {
        "colab": {
          "base_uri": "https://localhost:8080/",
          "height": 951
        },
        "id": "dNc9fPUd2GLD",
        "outputId": "9d0e0e42-defa-4e3c-b024-d6823f7c880e"
      },
      "outputs": [
        {
          "name": "stderr",
          "output_type": "stream",
          "text": [
            "C:\\Users\\Rayni\\AppData\\Local\\Packages\\PythonSoftwareFoundation.Python.3.9_qbz5n2kfra8p0\\LocalCache\\local-packages\\Python39\\site-packages\\pyLDAvis\\_prepare.py:243: FutureWarning: In a future version of pandas all arguments of DataFrame.drop except for the argument 'labels' will be keyword-only\n",
            "  default_term_info = default_term_info.sort_values(\n"
          ]
        },
        {
          "data": {
            "text/html": [
              "\n",
              "<link rel=\"stylesheet\" type=\"text/css\" href=\"https://cdn.jsdelivr.net/gh/bmabey/pyLDAvis@3.4.0/pyLDAvis/js/ldavis.v1.0.0.css\">\n",
              "\n",
              "\n",
              "<div id=\"ldavis_el202082223808770336224146540\" style=\"background-color:white;\"></div>\n",
              "<script type=\"text/javascript\">\n",
              "\n",
              "var ldavis_el202082223808770336224146540_data = {\"mdsDat\": {\"x\": [0.16749767156163087, 0.12563192098816944, 0.0522370011024892, 0.028097193607534366, -0.3734637872598238], \"y\": [0.13155702409435266, -0.0574156337285432, 0.14203047127882834, -0.25643394600860764, 0.04026208436397001], \"topics\": [1, 2, 3, 4, 5], \"cluster\": [1, 1, 1, 1, 1], \"Freq\": [37.85354956716394, 28.754919070737373, 16.570980430762315, 12.215388689553313, 4.6051622417830655]}, \"tinfo\": {\"Term\": [\"-\", \"non\", \"give\", \"prove\", \"dimensional\", \"learn\", \"propose\", \"magnetic\", \"show\", \"optimal\", \"find\", \"neural\", \"high\", \"low\", \"study\", \"random\", \"consider\", \"deep\", \"base\", \"critical\", \"spatial\", \"define\", \"topological\", \"nonlinear\", \"solve\", \"set\", \"also\", \"observe\", \"finite\", \"general\", \"learn\", \"neural\", \"deep\", \"evaluate\", \"train\", \"social\", \"enable\", \"human\", \"temporal\", \"challenge\", \"adversarial\", \"visual\", \"convolutional\", \"help\", \"semantic\", \"generative\", \"share\", \"collect\", \"dataset\", \"automatically\", \"effectively\", \"automatic\", \"scientific\", \"automate\", \"supervised\", \"mobile\", \"public\", \"artificial\", \"target\", \"diverse\", \"outperform\", \"traditional\", \"build\", \"extensive\", \"able\", \"online\", \"available\", \"novel\", \"extract\", \"make\", \"base\", \"propose\", \"different\", \"use\", \"however\", \"generate\", \"real\", \"improve\", \"perform\", \"achieve\", \"multiple\", \"demonstrate\", \"new\", \"exist\", \"present\", \"many\", \"well\", \"provide\", \"show\", \"develop\", \"high\", \"large\", \"also\", \"compare\", \"-\", \"optimal\", \"random\", \"solve\", \"statistical\", \"approximate\", \"sample\", \"illustrate\", \"bayesian\", \"unknown\", \"choose\", \"true\", \"variable\", \"sparse\", \"variational\", \"stochastic\", \"posterior\", \"guarantee\", \"minimize\", \"conditional\", \"parametric\", \"deterministic\", \"gradient\", \"gaussian\", \"asymptotically\", \"iterative\", \"bad\", \"causal\", \"mutual\", \"uniformly\", \"rigorous\", \"linear\", \"estimate\", \"numerical\", \"recover\", \"consider\", \"distribute\", \"derive\", \"convex\", \"empirical\", \"mean\", \"local\", \"theoretical\", \"non\", \"general\", \"-\", \"asymptotic\", \"dimensional\", \"show\", \"know\", \"bind\", \"provide\", \"compute\", \"obtain\", \"use\", \"low\", \"propose\", \"well\", \"first\", \"allow\", \"also\", \"base\", \"large\", \"new\", \"give\", \"present\", \"apply\", \"high\", \"magnetic\", \"optical\", \"electronic\", \"thermal\", \"molecular\", \"stellar\", \"dark\", \"solar\", \"gravitational\", \"atomic\", \"superconducte\", \"orbital\", \"thin\", \"mass\", \"hot\", \"angular\", \"cosmological\", \"cosmic\", \"radial\", \"atmospheric\", \"cool\", \"dope\", \"chaotic\", \"electrical\", \"turbulent\", \"planetary\", \"graphene\", \"metallic\", \"polarize\", \"anomalous\", \"electric\", \"light\", \"scatter\", \"observe\", \"find\", \"report\", \"measure\", \"high\", \"suggest\", \"low\", \"here\", \"form\", \"strong\", \"induce\", \"large\", \"reveal\", \"long\", \"investigate\", \"indicate\", \"show\", \"use\", \"small\", \"increase\", \"due\", \"present\", \"also\", \"different\", \"-\", \"study\", \"well\", \"single\", \"invariant\", \"let\", \"geometric\", \"symmetric\", \"regular\", \"manifold\", \"infinite\", \"integral\", \"theorem\", \"algebraic\", \"maximal\", \"admit\", \"rational\", \"canonical\", \"euclidean\", \"fractional\", \"prime\", \"singular\", \"elliptic\", \"riemannian\", \"charge\", \"denote\", \"proof\", \"finitely\", \"conjecture\", \"vertice\", \"irreducible\", \"arithmetic\", \"f$\", \"say\", \"prove\", \"positive\", \"metric\", \"compact\", \"give\", \"polynomial\", \"define\", \"complete\", \"finite\", \"bound\", \"certain\", \"generalize\", \"show\", \"also\", \"construct\", \"set\", \"connect\", \"study\", \"obtain\", \"associate\", \"particular\", \"introduce\", \"general\", \"free\", \"-\", \"new\", \"consider\", \"algebra\", \"steady\", \"hyperbolic\", \"electromagnetic\", \"unstable\", \"integrable\", \"cold\", \"fluid\", \"synthesize\", \"\\\\mathcal\", \"microscopic\", \"surround\", \"photonic\", \"commutative\", \"nontrivial\", \"macroscopic\", \"commercial\", \"emit\", \"sum\", \"round\", \"viscous\", \"chiral\", \"excited\", \"tidal\", \"inertial\", \"sphere\", \"simplicial\", \"diffusive\", \"topologically\", \"conserve\", \"topological\", \"couple\", \"inhomogeneous\", \"coherent\", \"localize\", \"quasi\", \"hamiltonian\", \"realize\", \"critical\", \"boundary\", \"dimensional\", \"mechanical\", \"non\", \"-\", \"spatial\", \"break\", \"nonlinear\", \"interact\", \"periodic\", \"describe\", \"study\", \"dynamical\", \"harmonic\", \"finite\"], \"Freq\": [9137.0, 3766.0, 4651.0, 2888.0, 2482.0, 4402.0, 8847.0, 1632.0, 10442.0, 2121.0, 4183.0, 2584.0, 5424.0, 3717.0, 3179.0, 1930.0, 3641.0, 2477.0, 8360.0, 1169.0, 1073.0, 1864.0, 792.0, 1026.0, 1706.0, 3096.0, 6562.0, 1973.0, 1423.0, 2078.0, 4401.959945462965, 2583.899210975104, 2476.6940318068637, 1427.6315732155051, 1406.4929649346557, 1225.084081848969, 1227.164143347628, 1191.8972075535858, 835.6523496239431, 787.2342535789413, 727.745726752576, 674.813705770482, 602.2778881739026, 549.2198062321471, 518.0859777219601, 507.63438490448107, 496.7008510557616, 475.29360712964007, 419.37275018873095, 405.35771796839845, 398.45475786466324, 366.4131197412297, 361.41257797633625, 346.0004845407033, 338.69421842884304, 336.8597104686238, 317.2938026500803, 318.9933433714745, 297.9729473917737, 297.8544753241495, 751.2543701378528, 630.9911755549053, 969.3396076952216, 526.7429181784771, 958.6182288380784, 672.8002187085709, 1109.3390426857163, 1216.2277520676769, 614.7781849654857, 2089.6756785781945, 5718.959351726062, 5815.730824854144, 3048.8482490752144, 8522.885814430158, 2168.9351803008453, 1683.4387624183628, 2096.996194736717, 1755.8908981003008, 1604.4989961176855, 1723.0546343279914, 1300.0992962362054, 2117.8266457585055, 2596.6319245433606, 1651.199664663973, 2613.4636046586784, 1625.4759554317154, 2326.4728602203036, 2322.8244029609345, 2832.9879484908993, 1551.5030725825925, 2004.4170556489285, 1878.1188920857317, 1995.419041809942, 1495.67851478514, 1939.9309929268875, 2120.965784953741, 1929.7168723540099, 1705.71478722328, 1308.7813500220564, 917.51596134759, 914.2038959890756, 883.836756856737, 788.2571221951108, 617.6763972480392, 535.8250947746963, 524.9807953945947, 495.89741563673897, 482.3454946510362, 481.94345301294055, 457.20072473692227, 448.6512650449746, 450.73837476319954, 444.3119384794877, 427.35647652766846, 409.3629003306866, 384.64334399594685, 380.05727290246585, 352.576675462462, 286.2314328329363, 284.82600667188626, 257.65259249722584, 231.67587377899628, 226.10732083221785, 216.62626171277302, 192.34822670440212, 1727.3749707562217, 1498.838288941712, 1213.5242620174972, 439.3845463823563, 2867.1999432768903, 865.6914918324803, 1693.0209609973324, 771.6709172491404, 749.8724913803957, 1219.8894984417009, 1507.2109709648548, 1070.806415162106, 2426.1480319520238, 1487.517978125565, 4342.55394895786, 726.3614842749671, 1555.9858213176826, 4259.5187914408025, 1417.8301970614639, 996.2132863537689, 2500.1802982984655, 901.2646501514846, 1752.1501171982623, 4504.607794170362, 1835.7258405863145, 3031.302391064324, 2199.524416588764, 1766.1397679943948, 1433.2248229832933, 2195.14689296679, 2430.000099387341, 1750.7144716685375, 1727.196811791647, 1654.7518516124949, 1736.0738640986772, 1378.5508812439525, 1458.8300999931812, 1631.263326796932, 934.5400758825687, 619.294379685773, 611.7164209367575, 561.8819426547595, 555.2394509361409, 516.5448670291107, 415.39554493628833, 413.16822236978373, 410.52342912136857, 403.93997267623666, 360.311443496144, 328.3669599075058, 324.7470287046831, 279.1322566109597, 275.27036851124313, 252.33976217010596, 249.43663680309234, 251.57922409537926, 210.18259864500618, 196.7488248748395, 195.96274925197818, 194.59208796141692, 187.01177364975536, 185.13607972789063, 177.1503162264429, 173.5676678944655, 172.0118106441494, 171.5291314900935, 166.87397111750062, 308.1573370824374, 479.28460958512244, 420.734939399137, 1272.5301752546497, 2136.085289573559, 605.3358677843745, 644.0987467628793, 1960.969578398658, 713.5759532899801, 1495.1562528881825, 737.7550728145385, 583.3032669049329, 733.1854112433657, 558.6877997067767, 1277.0023002870182, 519.6011527038935, 650.5447358210422, 701.7834543452516, 474.9177863256602, 1330.9147286217801, 1504.2087613630779, 738.492542620594, 620.1365989259074, 627.7584198759175, 923.8442619247816, 937.3323111073641, 792.1907284713867, 804.5072345106637, 625.839919694934, 656.5435903532144, 566.8585804701235, 660.4002917872717, 592.320383522874, 582.0570879907226, 572.8776512656561, 468.41128029729754, 465.0903909448613, 457.78345718650496, 435.53659293800484, 414.57208976805987, 360.47899931364645, 317.2750805204942, 285.77819723587265, 269.30332302299826, 254.4690624196459, 242.44662193850507, 239.27923174845463, 233.06544961587645, 231.74095949587388, 213.91991990290032, 208.4258043066567, 208.27654439403565, 190.71156027696574, 178.39838390376673, 176.6364127882674, 177.5986147073293, 174.62250569381092, 165.5396376413516, 150.21033086278732, 139.64012083283717, 137.80851345354682, 2297.5810191212377, 770.2948664007293, 597.9996848772026, 582.1850319017017, 2351.5006356431873, 541.1722783245252, 1052.101892530704, 562.017555588657, 800.7924603184882, 696.3598117437385, 629.5215485997035, 611.9660249552724, 2019.1288921440719, 1433.997557705305, 613.5758860410772, 939.1773800119411, 425.5147669884988, 852.9105154432373, 866.16446995632, 545.6358011672254, 609.0324162169379, 631.1134467627763, 558.600480772632, 514.0191890149541, 640.5505915526378, 572.7423305810751, 550.0726430820275, 333.1364618282173, 226.69592217052127, 224.44956236064093, 210.00617288678964, 206.11437027227507, 202.85418423353542, 179.63904258961455, 169.9253553614359, 146.76652937086456, 144.43332589352934, 141.11889190780812, 132.9356053583495, 123.62698090472827, 122.4432596408481, 112.80022657131305, 111.00478024750352, 102.96167335465097, 101.17215927138187, 99.8644659182778, 96.13845904318995, 93.16905211307133, 92.12957368424955, 91.77748572742532, 91.95919106781437, 89.46868840866054, 89.67946804819752, 90.17194333519315, 86.58025611045451, 86.21510277758462, 86.68615157020818, 652.3598060584712, 479.19284692775113, 124.31268290034673, 201.27754458402762, 229.15905706547716, 231.93476776412956, 160.2223949243714, 253.1707080960548, 486.37575185438504, 360.79572747760875, 713.1515290254231, 196.19411105157894, 851.8610012574154, 1409.5941125062486, 383.04338118559804, 195.22093466581407, 346.6175822931269, 224.81210623001587, 209.4038834301552, 314.1094820058399, 305.64105965116636, 208.98254085393202, 154.33970710248929, 162.4705605913417], \"Total\": [9137.0, 3766.0, 4651.0, 2888.0, 2482.0, 4402.0, 8847.0, 1632.0, 10442.0, 2121.0, 4183.0, 2584.0, 5424.0, 3717.0, 3179.0, 1930.0, 3641.0, 2477.0, 8360.0, 1169.0, 1073.0, 1864.0, 792.0, 1026.0, 1706.0, 3096.0, 6562.0, 1973.0, 1423.0, 2078.0, 4402.744782312485, 2584.6833204046875, 2477.480347197193, 1428.4250406453978, 1407.2756760899886, 1225.8698496198501, 1227.9611036546642, 1192.6809616135552, 836.4446272814382, 788.0246147822395, 728.5298992453376, 675.5983941462083, 603.0599892978559, 550.0158478310932, 518.8689655839663, 508.41848615812984, 497.4935764347404, 476.0832471081451, 420.1581292242643, 406.1455986966244, 399.25217009224536, 367.19782688051174, 362.2015614654972, 346.78568594730467, 339.4778562034715, 337.64704555778144, 318.0784166752567, 319.7869815753759, 298.7632303604187, 298.64740443110094, 754.3911554964864, 639.6937726479579, 1003.349092812884, 539.5438683176017, 1014.0201050588249, 713.9325532158831, 1237.1806570316678, 1386.4653042100335, 654.815260824188, 2590.029014243588, 8360.138716210382, 8847.619084938298, 4398.274768027197, 14969.75887411768, 2949.414970648637, 2192.995370753432, 2880.6983208956603, 2332.031903861711, 2149.787132317038, 2371.3415784775343, 1671.2656654258942, 3428.047066361826, 5141.512978996267, 2625.206399905391, 5592.407826885729, 2714.290847122867, 5404.367323667194, 5509.34450671001, 10442.74663609503, 2810.8651499657744, 5424.608122361333, 4990.5065929615375, 6562.08980011515, 2676.545563770153, 9137.136880454298, 2121.7517954751006, 1930.50571944107, 1706.505827482301, 1309.5733798028025, 918.303017599227, 914.9901370901825, 884.630621200727, 789.0411658707752, 618.4673041316654, 536.617636474443, 525.7731328383499, 496.6916501823138, 483.1311281415047, 482.7320965055956, 457.9869512005212, 449.43280965916426, 451.52459523187855, 445.101468318748, 428.1403016647909, 410.14981661838783, 385.43096507663057, 380.8458021846554, 353.36182615782593, 287.02255375223217, 285.613296777408, 258.44137125943774, 232.46373472201304, 226.90390729724015, 217.43549252884125, 193.1428664299747, 1874.7906910985994, 1664.5793687981334, 1364.671958434822, 461.237980695579, 3641.9476655058734, 984.7211214744799, 2111.0545369038587, 874.6661003946051, 861.6478626090498, 1551.462703963443, 2030.9123353057905, 1341.2740967959935, 3766.2052867219177, 2078.360692524926, 9137.136880454298, 862.8689943769637, 2482.0458302271054, 10442.74663609503, 2255.8674906286783, 1378.7767216325524, 5509.34450671001, 1197.6448693150958, 3359.584343753715, 14969.75887411768, 3717.24157001665, 8847.619084938298, 5404.367323667194, 3716.403128755637, 2682.995365651966, 6562.08980011515, 8360.138716210382, 4990.5065929615375, 5141.512978996267, 4651.792840900257, 5592.407826885729, 2876.755193545581, 5424.608122361333, 1632.0516802424029, 935.332646153264, 620.0893024842948, 612.5049517932808, 562.6730424576693, 556.0234057846974, 517.3315645052264, 416.18255211797657, 413.95829574639924, 411.31671246485126, 404.72946623641116, 361.1006096919009, 329.1597200199048, 325.53764077203414, 279.92213971838294, 276.0640070483497, 253.12876567968797, 250.22272559345652, 252.37467309192533, 210.97252423156775, 197.53423571437338, 196.74841088818457, 195.39253690244794, 187.80584106072683, 185.93052925431573, 177.9352858190894, 174.3553523563235, 172.80138203331228, 172.31958143165426, 167.67476624040148, 340.90636912622057, 569.987948489851, 504.68149583335855, 1973.9887141473464, 4183.154302124654, 885.6361210863696, 1033.2326344406354, 5424.608122361333, 1259.054688233256, 3717.24157001665, 1507.5884160000048, 1045.1009843109512, 1569.6479349603248, 994.4483754711644, 4990.5065929615375, 925.0942886578423, 1467.3842088551667, 1932.8693907893762, 794.8319139579827, 10442.74663609503, 14969.75887411768, 2554.3656809217005, 1570.7412472489225, 1630.906295662147, 5592.407826885729, 6562.08980011515, 4398.274768027197, 9137.136880454298, 3179.1706716598314, 5404.367323667194, 2002.906489589379, 661.1986153282802, 593.1075629127428, 582.8560199372703, 573.6765949835568, 469.2083669230382, 465.88474786993584, 458.580321770145, 436.33506617527837, 415.36136827573915, 361.2681461545576, 318.0705742450718, 286.5685614669244, 270.09341872254197, 255.2673694137602, 243.2411903607262, 240.07375421046538, 233.85579345632217, 232.53661195859632, 214.70800338274088, 209.2131052902449, 209.13762331955178, 191.50640450615916, 179.19054802083517, 177.42130022726803, 178.390394099504, 175.41551384520682, 166.32509444005743, 151.00229604178293, 140.4295660132299, 138.60286305999935, 2888.1466214072884, 962.7764873860909, 734.0899912813056, 718.1443385286942, 4651.792840900257, 750.5610813391575, 1864.9684157024171, 843.1417775210995, 1423.673287078595, 1203.7941095434703, 1134.3113232399614, 1189.1108615901492, 10442.74663609503, 6562.08980011515, 1365.4782734938779, 3096.82195552145, 730.6054211251076, 3179.1706716598314, 3359.584343753715, 1360.4899865909629, 2053.6032010326817, 2825.747445449962, 2078.360692524926, 1329.0750093085808, 9137.136880454298, 5141.512978996267, 3641.9476655058734, 333.93990923274504, 227.49615846171264, 225.25100453948426, 210.80784128949855, 206.91754791010862, 203.65332379742833, 180.45661117550165, 170.72362682665647, 147.57850404536092, 145.23413051166665, 141.92068488323554, 133.75491894660644, 124.42172723433873, 123.25079153659104, 113.60849702872093, 111.80160868519567, 103.7799213279247, 101.98432006376785, 100.6906772745859, 96.9604068489452, 93.96786526258983, 92.9218206975797, 92.57821963613318, 92.77317500743452, 90.27015448960523, 90.48446189320141, 90.9820791166936, 87.37760847229315, 87.01050022849769, 87.49134873993803, 792.74554400943, 722.7132100331373, 138.91752064213517, 264.2696886509253, 332.6230867765146, 358.16977592834326, 209.57950754336008, 413.41449955586984, 1169.461775752364, 757.618740486035, 2482.0458302271054, 306.41558886899435, 3766.2052867219177, 9137.136880454298, 1073.3539128064913, 324.05426114813355, 1026.1021093173686, 442.89533874937126, 421.47943164134864, 1960.1434983698584, 3179.1706716598314, 716.6251518138245, 233.6456844324666, 1423.673287078595], \"Category\": [\"Default\", \"Default\", \"Default\", \"Default\", \"Default\", \"Default\", \"Default\", \"Default\", \"Default\", \"Default\", \"Default\", \"Default\", \"Default\", \"Default\", \"Default\", \"Default\", \"Default\", \"Default\", \"Default\", \"Default\", \"Default\", \"Default\", \"Default\", \"Default\", \"Default\", \"Default\", \"Default\", \"Default\", \"Default\", \"Default\", \"Topic1\", \"Topic1\", \"Topic1\", \"Topic1\", \"Topic1\", \"Topic1\", \"Topic1\", \"Topic1\", \"Topic1\", \"Topic1\", \"Topic1\", \"Topic1\", \"Topic1\", \"Topic1\", \"Topic1\", \"Topic1\", \"Topic1\", \"Topic1\", \"Topic1\", \"Topic1\", \"Topic1\", \"Topic1\", \"Topic1\", \"Topic1\", \"Topic1\", \"Topic1\", \"Topic1\", \"Topic1\", \"Topic1\", \"Topic1\", \"Topic1\", \"Topic1\", \"Topic1\", \"Topic1\", \"Topic1\", \"Topic1\", \"Topic1\", \"Topic1\", \"Topic1\", \"Topic1\", \"Topic1\", \"Topic1\", \"Topic1\", \"Topic1\", \"Topic1\", \"Topic1\", \"Topic1\", \"Topic1\", \"Topic1\", \"Topic1\", \"Topic1\", \"Topic1\", \"Topic1\", \"Topic1\", \"Topic1\", \"Topic1\", \"Topic1\", \"Topic1\", \"Topic1\", \"Topic1\", \"Topic1\", \"Topic1\", \"Topic1\", \"Topic1\", \"Topic1\", \"Topic2\", \"Topic2\", \"Topic2\", \"Topic2\", \"Topic2\", \"Topic2\", \"Topic2\", \"Topic2\", \"Topic2\", \"Topic2\", \"Topic2\", \"Topic2\", \"Topic2\", \"Topic2\", \"Topic2\", \"Topic2\", \"Topic2\", \"Topic2\", \"Topic2\", \"Topic2\", \"Topic2\", \"Topic2\", \"Topic2\", \"Topic2\", \"Topic2\", \"Topic2\", \"Topic2\", \"Topic2\", \"Topic2\", \"Topic2\", \"Topic2\", \"Topic2\", \"Topic2\", \"Topic2\", \"Topic2\", \"Topic2\", \"Topic2\", \"Topic2\", \"Topic2\", \"Topic2\", \"Topic2\", \"Topic2\", \"Topic2\", \"Topic2\", \"Topic2\", \"Topic2\", \"Topic2\", \"Topic2\", \"Topic2\", \"Topic2\", \"Topic2\", \"Topic2\", \"Topic2\", \"Topic2\", \"Topic2\", \"Topic2\", \"Topic2\", \"Topic2\", \"Topic2\", \"Topic2\", \"Topic2\", \"Topic2\", \"Topic2\", \"Topic2\", \"Topic2\", \"Topic2\", \"Topic2\", \"Topic3\", \"Topic3\", \"Topic3\", \"Topic3\", \"Topic3\", \"Topic3\", \"Topic3\", \"Topic3\", \"Topic3\", \"Topic3\", \"Topic3\", \"Topic3\", \"Topic3\", \"Topic3\", \"Topic3\", \"Topic3\", \"Topic3\", \"Topic3\", \"Topic3\", \"Topic3\", \"Topic3\", \"Topic3\", \"Topic3\", \"Topic3\", \"Topic3\", \"Topic3\", \"Topic3\", \"Topic3\", \"Topic3\", \"Topic3\", \"Topic3\", \"Topic3\", \"Topic3\", \"Topic3\", \"Topic3\", \"Topic3\", \"Topic3\", \"Topic3\", \"Topic3\", \"Topic3\", \"Topic3\", \"Topic3\", \"Topic3\", \"Topic3\", \"Topic3\", \"Topic3\", \"Topic3\", \"Topic3\", \"Topic3\", \"Topic3\", \"Topic3\", \"Topic3\", \"Topic3\", \"Topic3\", \"Topic3\", \"Topic3\", \"Topic3\", \"Topic3\", \"Topic3\", \"Topic3\", \"Topic3\", \"Topic4\", \"Topic4\", \"Topic4\", \"Topic4\", \"Topic4\", \"Topic4\", \"Topic4\", \"Topic4\", \"Topic4\", \"Topic4\", \"Topic4\", \"Topic4\", \"Topic4\", \"Topic4\", \"Topic4\", \"Topic4\", \"Topic4\", \"Topic4\", \"Topic4\", \"Topic4\", \"Topic4\", \"Topic4\", \"Topic4\", \"Topic4\", \"Topic4\", \"Topic4\", \"Topic4\", \"Topic4\", \"Topic4\", \"Topic4\", \"Topic4\", \"Topic4\", \"Topic4\", \"Topic4\", \"Topic4\", \"Topic4\", \"Topic4\", \"Topic4\", \"Topic4\", \"Topic4\", \"Topic4\", \"Topic4\", \"Topic4\", \"Topic4\", \"Topic4\", \"Topic4\", \"Topic4\", \"Topic4\", \"Topic4\", \"Topic4\", \"Topic4\", \"Topic4\", \"Topic4\", \"Topic4\", \"Topic4\", \"Topic4\", \"Topic4\", \"Topic5\", \"Topic5\", \"Topic5\", \"Topic5\", \"Topic5\", \"Topic5\", \"Topic5\", \"Topic5\", \"Topic5\", \"Topic5\", \"Topic5\", \"Topic5\", \"Topic5\", \"Topic5\", \"Topic5\", \"Topic5\", \"Topic5\", \"Topic5\", \"Topic5\", \"Topic5\", \"Topic5\", \"Topic5\", \"Topic5\", \"Topic5\", \"Topic5\", \"Topic5\", \"Topic5\", \"Topic5\", \"Topic5\", \"Topic5\", \"Topic5\", \"Topic5\", \"Topic5\", \"Topic5\", \"Topic5\", \"Topic5\", \"Topic5\", \"Topic5\", \"Topic5\", \"Topic5\", \"Topic5\", \"Topic5\", \"Topic5\", \"Topic5\", \"Topic5\", \"Topic5\", \"Topic5\", \"Topic5\", \"Topic5\", \"Topic5\", \"Topic5\", \"Topic5\", \"Topic5\", \"Topic5\"], \"logprob\": [30.0, 29.0, 28.0, 27.0, 26.0, 25.0, 24.0, 23.0, 22.0, 21.0, 20.0, 19.0, 18.0, 17.0, 16.0, 15.0, 14.0, 13.0, 12.0, 11.0, 10.0, 9.0, 8.0, 7.0, 6.0, 5.0, 4.0, 3.0, 2.0, 1.0, -4.2824, -4.8152, -4.8575, -5.4084, -5.4234, -5.5615, -5.5598, -5.5889, -5.944, -6.0037, -6.0823, -6.1578, -6.2715, -6.3637, -6.4221, -6.4425, -6.4642, -6.5083, -6.6335, -6.6674, -6.6846, -6.7685, -6.7822, -6.8258, -6.8471, -6.8526, -6.9124, -6.907, -6.9752, -6.9756, -6.0505, -6.2249, -5.7956, -6.4055, -5.8067, -6.1608, -5.6607, -5.5687, -6.251, -5.0275, -4.0207, -4.0039, -4.6497, -3.6217, -4.9902, -5.2436, -5.024, -5.2015, -5.2917, -5.2204, -5.502, -5.0141, -4.8102, -5.263, -4.8038, -5.2787, -4.9201, -4.9217, -4.7231, -5.3252, -5.0691, -5.1342, -5.0736, -5.3619, -5.1018, -4.7377, -4.8322, -4.9556, -5.2205, -5.5756, -5.5792, -5.613, -5.7275, -5.9713, -6.1135, -6.1339, -6.1909, -6.2186, -6.2195, -6.2722, -6.2911, -6.2864, -6.3008, -6.3397, -6.3827, -6.445, -6.457, -6.532, -6.7405, -6.7454, -6.8457, -6.952, -6.9763, -7.0191, -7.138, -4.9429, -5.0849, -5.296, -6.3119, -4.4362, -5.6338, -4.963, -5.7487, -5.7774, -5.2908, -5.0793, -5.4211, -4.6032, -5.0924, -4.0211, -5.8093, -5.0474, -4.0404, -5.1404, -5.4933, -4.5732, -5.5935, -4.9287, -3.9844, -4.8821, -4.3806, -4.7013, -4.9208, -5.1296, -4.7033, -4.6017, -4.9295, -4.943, -4.9859, -4.9379, -5.1685, -5.1119, -4.449, -5.0061, -5.4176, -5.4299, -5.5149, -5.5267, -5.599, -5.8169, -5.8223, -5.8287, -5.8449, -5.9592, -6.052, -6.0631, -6.2145, -6.2284, -6.3154, -6.3269, -6.3184, -6.4982, -6.5642, -6.5682, -6.5752, -6.615, -6.6251, -6.6691, -6.6896, -6.6986, -6.7014, -6.7289, -6.1155, -5.6739, -5.8041, -4.6974, -4.1794, -5.4404, -5.3783, -4.265, -5.2759, -4.5362, -5.2425, -5.4774, -5.2487, -5.5206, -4.6939, -5.5931, -5.3683, -5.2925, -5.683, -4.6525, -4.5301, -5.2415, -5.4162, -5.404, -5.0176, -5.0031, -5.1713, -5.1559, -5.4071, -5.3592, -5.506, -5.0483, -5.1571, -5.1746, -5.1905, -5.3918, -5.399, -5.4148, -5.4646, -5.5139, -5.6538, -5.7814, -5.886, -5.9454, -6.002, -6.0504, -6.0636, -6.0899, -6.0956, -6.1756, -6.2016, -6.2023, -6.2904, -6.3572, -6.3671, -6.3617, -6.3786, -6.432, -6.5292, -6.6021, -6.6153, -3.8016, -4.8944, -5.1476, -5.1744, -3.7784, -5.2475, -4.5826, -5.2097, -4.8556, -4.9953, -5.0962, -5.1245, -3.9308, -4.273, -5.1219, -4.6962, -5.4879, -4.7925, -4.7771, -5.2392, -5.1293, -5.0937, -5.2158, -5.2989, -5.0789, -5.1908, -5.2311, -4.7571, -5.1421, -5.152, -5.2185, -5.2372, -5.2532, -5.3747, -5.4303, -5.5768, -5.5929, -5.6161, -5.6758, -5.7484, -5.758, -5.8401, -5.8561, -5.9313, -5.9488, -5.9619, -5.9999, -6.0313, -6.0425, -6.0463, -6.0443, -6.0718, -6.0694, -6.064, -6.1046, -6.1088, -6.1034, -4.0851, -4.3936, -5.7429, -5.261, -5.1313, -5.1192, -5.4891, -5.0316, -4.3787, -4.6774, -3.996, -5.2866, -3.8182, -3.3146, -4.6175, -5.2915, -4.7175, -5.1504, -5.2214, -4.8159, -4.8433, -5.2234, -5.5265, -5.4752], \"loglift\": [30.0, 29.0, 28.0, 27.0, 26.0, 25.0, 24.0, 23.0, 22.0, 21.0, 20.0, 19.0, 18.0, 17.0, 16.0, 15.0, 14.0, 13.0, 12.0, 11.0, 10.0, 9.0, 8.0, 7.0, 6.0, 5.0, 4.0, 3.0, 2.0, 1.0, 0.9713, 0.9711, 0.9711, 0.9709, 0.9709, 0.9708, 0.9708, 0.9708, 0.9705, 0.9704, 0.9704, 0.9703, 0.9701, 0.97, 0.9699, 0.9699, 0.9699, 0.9698, 0.9696, 0.9695, 0.9694, 0.9693, 0.9693, 0.9692, 0.9691, 0.9691, 0.969, 0.969, 0.9688, 0.9688, 0.9673, 0.9577, 0.937, 0.9474, 0.9153, 0.9121, 0.8624, 0.8404, 0.9084, 0.7568, 0.5918, 0.5519, 0.605, 0.4082, 0.6641, 0.707, 0.6539, 0.6877, 0.6789, 0.6521, 0.7203, 0.4898, 0.2883, 0.5078, 0.2107, 0.4587, 0.1286, 0.1078, -0.3331, 0.3772, -0.0241, -0.0058, -0.219, 0.3895, -0.5782, 1.246, 1.246, 1.2459, 1.2458, 1.2455, 1.2455, 1.2455, 1.2454, 1.2451, 1.2449, 1.2449, 1.2448, 1.2447, 1.2447, 1.2446, 1.2446, 1.2446, 1.2446, 1.2445, 1.2444, 1.2443, 1.2443, 1.2441, 1.2436, 1.2436, 1.2433, 1.243, 1.2428, 1.2426, 1.2422, 1.1645, 1.1415, 1.129, 1.1978, 1.0072, 1.1175, 1.0257, 1.1211, 1.1074, 1.0059, 0.9481, 1.0212, 0.8066, 0.9119, 0.5025, 1.0741, 0.7794, 0.3496, 0.782, 0.9214, 0.4563, 0.962, 0.5954, 0.0454, 0.5408, 0.1752, 0.3474, 0.5024, 0.6194, 0.1513, 0.0108, 0.1988, 0.1555, 0.2128, 0.0766, 0.5107, -0.0669, 1.797, 1.7967, 1.7962, 1.7962, 1.7961, 1.7961, 1.796, 1.7956, 1.7956, 1.7956, 1.7956, 1.7953, 1.7951, 1.7951, 1.7947, 1.7946, 1.7944, 1.7944, 1.7944, 1.7938, 1.7935, 1.7935, 1.7934, 1.7933, 1.7932, 1.7931, 1.793, 1.7929, 1.7929, 1.7927, 1.6965, 1.6242, 1.6156, 1.3585, 1.1254, 1.417, 1.3249, 0.78, 1.2297, 0.8868, 1.0829, 1.2144, 1.0363, 1.2209, 0.4345, 1.2207, 0.9841, 0.7844, 1.2825, -0.2625, -0.5002, 0.5566, 0.8682, 0.8428, -0.0031, -0.1485, 0.0834, -0.6324, 0.1722, -0.3105, 0.5353, 2.1013, 2.1011, 2.1011, 2.1011, 2.1008, 2.1008, 2.1007, 2.1006, 2.1006, 2.1003, 2.1, 2.0997, 2.0995, 2.0993, 2.0992, 2.0992, 2.0991, 2.099, 2.0988, 2.0987, 2.0983, 2.0983, 2.098, 2.098, 2.098, 2.0979, 2.0977, 2.0972, 2.0968, 2.0967, 1.8737, 1.8794, 1.8974, 1.8926, 1.4203, 1.7754, 1.53, 1.6969, 1.5271, 1.5551, 1.5137, 1.4382, 0.4592, 0.5816, 1.3025, 0.9093, 1.5619, 0.7868, 0.747, 1.1888, 0.887, 0.6034, 0.7886, 1.1525, -0.5553, -0.0922, 0.2123, 3.0756, 3.0745, 3.0744, 3.0742, 3.0741, 3.0741, 3.0735, 3.0733, 3.0725, 3.0725, 3.0723, 3.0718, 3.0716, 3.0714, 3.0709, 3.0708, 3.0701, 3.07, 3.0698, 3.0695, 3.0695, 3.0694, 3.0693, 3.0692, 3.0691, 3.0691, 3.069, 3.0688, 3.0688, 3.0687, 2.8831, 2.6671, 2.9669, 2.8057, 2.7054, 2.6434, 2.8095, 2.5876, 2.2007, 2.3361, 1.8308, 2.6322, 1.5916, 1.2089, 2.0476, 2.5712, 1.9927, 2.3999, 2.3785, 1.247, 0.736, 1.8457, 2.6633, 0.9075]}, \"token.table\": {\"Topic\": [1, 2, 3, 4, 5, 5, 1, 3, 1, 2, 4, 1, 5, 4, 1, 2, 3, 4, 1, 2, 3, 4, 3, 3, 1, 2, 3, 4, 2, 4, 1, 1, 2, 3, 4, 5, 2, 4, 2, 3, 3, 1, 1, 1, 1, 2, 3, 2, 1, 2, 3, 2, 2, 3, 4, 2, 4, 4, 5, 1, 3, 5, 1, 4, 4, 2, 1, 2, 4, 1, 3, 4, 5, 2, 3, 5, 5, 1, 5, 5, 3, 4, 1, 2, 3, 1, 3, 4, 1, 2, 4, 2, 4, 1, 3, 4, 5, 1, 2, 3, 4, 1, 2, 4, 5, 2, 4, 1, 3, 3, 3, 3, 5, 1, 2, 3, 4, 5, 3, 1, 1, 1, 2, 4, 1, 2, 3, 5, 4, 2, 3, 4, 1, 2, 3, 4, 5, 2, 1, 2, 3, 4, 1, 2, 3, 4, 5, 2, 3, 4, 5, 1, 2, 1, 3, 1, 2, 3, 4, 5, 2, 3, 5, 1, 3, 5, 3, 5, 3, 4, 5, 1, 2, 1, 1, 2, 3, 4, 1, 5, 1, 2, 4, 1, 2, 1, 3, 4, 1, 2, 3, 4, 2, 4, 5, 4, 1, 2, 3, 4, 5, 1, 2, 3, 4, 4, 1, 2, 3, 4, 2, 1, 2, 4, 1, 2, 4, 1, 3, 4, 5, 1, 4, 1, 2, 3, 4, 2, 3, 3, 2, 4, 5, 4, 5, 1, 1, 2, 3, 4, 5, 1, 2, 3, 3, 1, 2, 3, 1, 5, 2, 1, 2, 1, 2, 3, 1, 2, 3, 1, 2, 3, 4, 5, 5, 4, 3, 5, 5, 4, 1, 3, 5, 1, 2, 4, 4, 1, 2, 3, 4, 5, 4, 2, 1, 2, 3, 4, 1, 2, 3, 4, 1, 4, 1, 3, 2, 4, 5, 2, 3, 4, 5, 1, 3, 5, 1, 2, 3, 4, 5, 1, 2, 3, 5, 3, 1, 2, 3, 4, 4, 1, 2, 3, 4, 5, 3, 4, 2, 3, 4, 5, 1, 2, 3, 3, 5, 3, 1, 4, 5, 2, 1, 3, 1, 2, 3, 2, 1, 1, 2, 3, 4, 2, 4, 5, 2, 5, 5, 1, 2, 2, 5, 1, 2, 3, 1, 2, 3, 4, 1, 2, 3, 2, 3, 1, 2, 2, 1, 2, 3, 4, 1, 2, 3, 3, 4, 5, 5, 3, 3, 2, 4, 1, 3, 4, 2, 1, 2, 3, 4, 5, 4, 4, 1, 2, 2, 4, 1, 2, 3, 4, 1, 4, 5, 3, 2, 4, 1, 2, 4, 1, 3, 4, 5, 2, 4, 4, 1, 3, 1, 2, 3, 4, 2, 5, 2, 4, 3, 5, 1, 1, 1, 2, 4, 1, 1, 2, 3, 4, 5, 1, 2, 3, 5, 4, 1, 2, 3, 4, 1, 3, 2, 2, 1, 3, 5, 5, 2, 5, 3, 2, 1, 2, 3, 4, 1, 2, 3, 4, 5, 1, 2, 3, 5, 3, 1, 5, 4, 5, 1, 1, 4, 2, 3, 3, 3, 5, 4, 5, 5, 1, 2, 1, 2, 3, 2, 2, 5, 1, 2, 3, 4, 2, 2, 4, 5, 1, 1, 2, 3, 4], \"Freq\": [0.21232033900575026, 0.4753130063412234, 0.08810199634001493, 0.07015326665086903, 0.154315297937169, 0.9915024759860596, 0.9457406171886177, 0.05423955573031697, 0.7265929192310678, 0.2732630363678073, 0.9980159670550951, 0.9992726458503811, 0.9971853941180479, 0.996489737143847, 0.3358186941113324, 0.534104537915138, 0.10026107515643554, 0.02981742012087302, 0.3040190032091594, 0.3344970987689749, 0.14278987769773552, 0.218527945163877, 0.9961457958256639, 0.9959757436641716, 0.37507536352794063, 0.4793595239156906, 0.07091322906366997, 0.07508459547917996, 0.9996700243890962, 0.9933623787978324, 0.9975390443616593, 0.14921094752682867, 0.20654323278344264, 0.2006629983981489, 0.4013259967962978, 0.0418966699952179, 0.8413791719613356, 0.15761372918283972, 0.9964373749070783, 0.9953902801556269, 0.9992300034128121, 0.9977343760739189, 0.99673792491996, 0.9971793398714629, 0.8963929347721876, 0.07517091337584621, 0.027481839298696464, 0.9982921803220326, 0.6840795582626887, 0.2906650334985721, 0.025238815665925392, 0.9986804669821933, 0.7223794718703096, 0.06527525348225689, 0.21178193352021124, 0.4211683675643469, 0.5781719602066774, 0.5226903438871565, 0.4764929650082411, 0.12960792384334893, 0.26847355653265137, 0.6017510749869772, 0.9657655614990527, 0.032889848843620985, 0.9950351295715124, 0.998005130896793, 0.09697514055118861, 0.34822891379745, 0.555403077702262, 0.998699768049095, 0.9979910343113876, 0.9945604081107227, 0.9900796100349795, 0.9988490194274999, 0.2346088206956493, 0.760586660642347, 0.9974696899574514, 0.9977246687113546, 0.9924848533517356, 0.9898516551415436, 0.18798449386453797, 0.8104220402160082, 0.5589293977468296, 0.2719923807217192, 0.16887439022832015, 0.2360219897833494, 0.09725529227253593, 0.6665545641117707, 0.07848737335113065, 0.7523098232911566, 0.16866435549923822, 0.9973366168511655, 0.9978115744321623, 0.38324380288447557, 0.034218196686113894, 0.5830780715313807, 0.9943840305697135, 0.02553578704077345, 0.7872161445795428, 0.03596976454130454, 0.15101809540242364, 0.15452461170261603, 0.3683690980398856, 0.44965929661329973, 0.027829076989096726, 0.8826225226423119, 0.1166159291574039, 0.998242315330702, 0.9972954778575909, 0.9951134510642207, 0.9955407451355556, 0.3362329574532865, 0.6627801918523631, 0.24284675727626143, 0.0949154579495247, 0.22916524982407768, 0.01795697853099116, 0.4155757888600812, 0.9993590870382256, 0.9972435872503466, 0.999806114628624, 0.19303275968049596, 0.24289955593129076, 0.5640846199552271, 0.6178444925051235, 0.25378881420182126, 0.12456071685537665, 0.003792246648992732, 0.9973556784825811, 0.801968859830125, 0.11795052929574786, 0.08005477691157184, 0.39435888272611713, 0.1540703526303847, 0.13111284975499626, 0.16019235339715496, 0.16019235339715496, 0.9988818618230507, 0.5521431720119684, 0.4315397343109006, 0.014230494124019805, 0.0021345741186029705, 0.6932263582449169, 0.10276756770308376, 0.1800706053558459, 0.023872996922176537, 0.9956784297614086, 0.626902203436601, 0.0024173606816321374, 0.08299605006937005, 0.2872630276672857, 0.11983088148176589, 0.8794368081627904, 0.9978322114255967, 0.9961961019923566, 0.40100403177024735, 0.16003371910097028, 0.38506197546133847, 0.015942056308908915, 0.03862882874851006, 0.3418802694545247, 0.36560257386565503, 0.29164480128977827, 0.9968637112430571, 0.9034738799085418, 0.09386741609439395, 0.9957091799904867, 0.9961678783646897, 0.998243313535759, 0.9967024825736058, 0.9903483195931259, 0.12882292734284115, 0.8704251847489267, 0.9992173175096477, 0.02282859004039977, 0.9005278018568225, 0.07629555092449396, 0.9948972854520013, 0.999702441056896, 0.9937542584162258, 0.6289029312359972, 0.2487423465155095, 0.12227609989506669, 0.9767509760481279, 0.02224100894227236, 0.9391961928711401, 0.0595587829625601, 0.9969410571760263, 0.18239824421787806, 0.2581783797579401, 0.510619462187926, 0.04876702728761091, 0.3231078395408604, 0.5626290858091939, 0.1137901521861291, 0.997625424756056, 0.2669247564464707, 0.4751906450448258, 0.13696038410408626, 0.12081574157708198, 0.9957614136947126, 0.135872037374094, 0.08707292535945461, 0.5578408295006818, 0.21816073606544673, 0.9955273985946667, 0.08125952203117896, 0.28064631220027547, 0.25055019292946845, 0.38673513262987025, 0.9989760462759655, 0.015396750003544546, 0.7159488751648214, 0.2689619766244188, 0.02354700550170465, 0.4616895007298519, 0.5146702631086874, 0.767443480476561, 0.046055728774885715, 0.15184710576274202, 0.03419979859521217, 0.9991768864242287, 0.9985313355134217, 0.1319921202426489, 0.35577680619150476, 0.0066640972760946505, 0.5056115094636974, 0.9977791479391303, 0.9979619073832774, 0.9976850427778688, 0.998838169088864, 0.23380148457435587, 0.7634334190183049, 0.3381188066533038, 0.659117673729225, 0.9981530571617181, 0.2354754097553366, 0.0968434079557159, 0.489523527885742, 0.11873267139776128, 0.059697991205578296, 0.3694276074504085, 0.2689595205938852, 0.36150076756998556, 0.9967057278166327, 0.7354000781799085, 0.13697631700538637, 0.12748290889610217, 0.9994290496490915, 0.9944461755363005, 0.9992871361383907, 0.7529914136646951, 0.24699490562122117, 0.5424190658341957, 0.0623909254128535, 0.3947180995507058, 0.3296294416455076, 0.07171327547249594, 0.5976106289374661, 0.04726238300478056, 0.07843544413559328, 0.5621206829717518, 0.17698254061364638, 0.13474807069448075, 0.9859294082658129, 0.9987345253544571, 0.10077922450160437, 0.8926159884427816, 0.9967919806794895, 0.9992320897373309, 0.284491591976997, 0.2077240195387597, 0.5080206999589232, 0.4197119604265078, 0.3570736661638671, 0.2233037496029734, 0.9981872083508749, 0.18883841905682797, 0.2659258832745468, 0.3631906032271047, 0.11433778249742187, 0.06777488464779305, 0.9980454275937622, 0.9978527022924778, 0.07269930555818929, 0.6285830200092221, 0.079791920734598, 0.21898449357161895, 0.3763145013471529, 0.35086618309843703, 0.25588584569771794, 0.016831958526709715, 0.9998308368190051, 0.9981326103695196, 0.1578980752811522, 0.8403686451074657, 0.9211694981203495, 0.0656073238383341, 0.012801429041626166, 0.7420310437836274, 0.12014304889396489, 0.11078764754566434, 0.02708142495560684, 0.18038435209493822, 0.12927545233470572, 0.6884669438290143, 0.40071304873776015, 0.10835607950561882, 0.4436465896739487, 0.025214936740301234, 0.02248899763324164, 0.10384043994167187, 0.4939146314324082, 0.4021799422611385, 0.9928300791498198, 0.9993556084925898, 0.8069407672679604, 0.11621491432902205, 0.06911119489998321, 0.007721921217875219, 0.9981009297385652, 0.5986830783895141, 0.2593679305761341, 0.026526265627104625, 0.09063140755927414, 0.02431574349151257, 0.998348452821741, 0.9966341613096, 0.7863547070021909, 0.15791549443896458, 0.05478700827474281, 0.000644553038526386, 0.19937426784000384, 0.17711403405204224, 0.6232865460629246, 0.35898956840289764, 0.6396541400633449, 0.995362409583288, 0.18390115871811086, 0.8146140215809651, 0.9935126801002051, 0.9975253545603691, 0.9980836629068898, 0.9988038480487184, 0.7778535913790323, 0.21002046967233873, 0.011966978328908189, 0.9960163431824202, 0.9997356270304787, 0.5051042388902012, 0.33589334638559004, 0.04765134329152841, 0.1114457947185542, 0.644149698518313, 0.12957339360137543, 0.2262224003040407, 0.6617275160380637, 0.33817297211370856, 0.9946439126946015, 0.877050436320035, 0.1226139590250049, 0.8895910790109356, 0.11064930224930089, 0.1124626490561734, 0.24265589593651826, 0.6448871722905799, 0.08661785811123922, 0.5214930838862237, 0.1339451414091328, 0.2577699832451311, 0.9426660781449117, 0.05742839406232003, 0.9996443552412801, 0.9996456722804694, 0.9969520691398446, 0.9955047782946839, 0.003976716824079962, 0.9971965936060441, 0.2059794218217467, 0.4280281602395162, 0.06963370524943209, 0.29655193354478426, 0.7461203836824583, 0.14885194686931835, 0.10466152514248947, 0.139983106103752, 0.3606344428435645, 0.4958723589099012, 0.9966105016887891, 0.9947436742814446, 0.9981454142994132, 0.2784583496217262, 0.720794101173942, 0.1256781834468261, 0.07374504979111283, 0.7997702582979843, 0.9990369869536394, 0.467240602060153, 0.3104208515791908, 0.16522400164698867, 0.056683991907029656, 0.00035762770919261616, 0.9963405077818522, 0.9933559664056792, 0.6573519886158796, 0.3425780394592041, 0.2042832575142998, 0.7956659758777304, 0.4216472571593123, 0.45377449113141655, 0.06625107570518682, 0.058446154457726454, 0.996609588646319, 0.3517884770523128, 0.6477375133026712, 0.998515409302625, 0.9997380378436712, 0.9959517017196735, 0.7279484924849768, 0.1628077458156672, 0.10934848599559738, 0.21044254638737606, 0.10643071311545456, 0.06772863561892563, 0.6119766004138637, 0.951786319370225, 0.045529641701081376, 0.9974246688502969, 0.31615693322957145, 0.6831248021567525, 0.2875382577336216, 0.15025495422922333, 0.5621048647424182, 0.9942015807826095, 0.9940827924370219, 0.9900948554141134, 0.9989178712971363, 0.9956504285215351, 0.8341894907496481, 0.1644601608841349, 0.9966826165502004, 0.9983252696892589, 0.27899569701110494, 0.4175248104575911, 0.30321407348776336, 0.9990078737533103, 0.27128878050223143, 0.4079386533496314, 0.12745688910994354, 0.19333993922838166, 0.9892057960619477, 0.42787818825016427, 0.2356575319184102, 0.28308860296131055, 0.05342236422726672, 0.9976923549626161, 0.14641599783201295, 0.48622638852235317, 0.28891712941183306, 0.0782973250438572, 0.9992904225353777, 0.9971585735347182, 0.9997035887752888, 0.9976587554069308, 0.5673804257233774, 0.07546439159867582, 0.35682545657151654, 0.994645910656205, 0.9995621629061452, 0.9978190468574609, 0.9981594195962793, 0.997845023317948, 0.14971510156252968, 0.22807662280589627, 0.4669836997673798, 0.15544887140960528, 0.02013103623863826, 0.41866264427543004, 0.19690669820918047, 0.26830896736810056, 0.09625151701598918, 0.2994309965431429, 0.1334334414303661, 0.5670921260790559, 0.9931406035466183, 0.9981976448535006, 0.9985923788702581, 0.9943559537656496, 0.9988205985925289, 0.9960800250070084, 0.9974453671574713, 0.9994684318998099, 0.9991299906458819, 0.7984945079893674, 0.20130113646790776, 0.9991755955738767, 0.9964767255852731, 0.9916659637080163, 0.17660143416502716, 0.8224581076828409, 0.9883864565099152, 0.9864094774411032, 0.01250598386613126, 0.9990935137218225, 0.9985295314840906, 0.9949952852925893, 0.9979971414796346, 0.9992444157863422, 0.995565635107433, 0.5693478479961386, 0.30094005106448485, 0.1004692201556016, 0.029258988316591423, 0.9986074857870876, 0.9984834310564905, 0.9976312594245599, 0.9897000399031609, 0.9991142753573822, 0.4303926548097154, 0.40707817737806273, 0.12156834660790328, 0.041077888808149964], \"Term\": [\"-\", \"-\", \"-\", \"-\", \"-\", \"\\\\mathcal\", \"able\", \"able\", \"achieve\", \"achieve\", \"admit\", \"adversarial\", \"algebra\", \"algebraic\", \"allow\", \"allow\", \"allow\", \"allow\", \"also\", \"also\", \"also\", \"also\", \"angular\", \"anomalous\", \"apply\", \"apply\", \"apply\", \"apply\", \"approximate\", \"arithmetic\", \"artificial\", \"associate\", \"associate\", \"associate\", \"associate\", \"associate\", \"asymptotic\", \"asymptotic\", \"asymptotically\", \"atmospheric\", \"atomic\", \"automate\", \"automatic\", \"automatically\", \"available\", \"available\", \"available\", \"bad\", \"base\", \"base\", \"base\", \"bayesian\", \"bind\", \"bind\", \"bind\", \"bound\", \"bound\", \"boundary\", \"boundary\", \"break\", \"break\", \"break\", \"build\", \"build\", \"canonical\", \"causal\", \"certain\", \"certain\", \"certain\", \"challenge\", \"chaotic\", \"charge\", \"chiral\", \"choose\", \"coherent\", \"coherent\", \"cold\", \"collect\", \"commercial\", \"commutative\", \"compact\", \"compact\", \"compare\", \"compare\", \"compare\", \"complete\", \"complete\", \"complete\", \"compute\", \"compute\", \"compute\", \"conditional\", \"conjecture\", \"connect\", \"connect\", \"connect\", \"conserve\", \"consider\", \"consider\", \"consider\", \"consider\", \"construct\", \"construct\", \"construct\", \"construct\", \"convex\", \"convex\", \"convolutional\", \"cool\", \"cosmic\", \"cosmological\", \"couple\", \"couple\", \"critical\", \"critical\", \"critical\", \"critical\", \"critical\", \"dark\", \"dataset\", \"deep\", \"define\", \"define\", \"define\", \"demonstrate\", \"demonstrate\", \"demonstrate\", \"demonstrate\", \"denote\", \"derive\", \"derive\", \"derive\", \"describe\", \"describe\", \"describe\", \"describe\", \"describe\", \"deterministic\", \"develop\", \"develop\", \"develop\", \"develop\", \"different\", \"different\", \"different\", \"different\", \"diffusive\", \"dimensional\", \"dimensional\", \"dimensional\", \"dimensional\", \"distribute\", \"distribute\", \"diverse\", \"dope\", \"due\", \"due\", \"due\", \"due\", \"due\", \"dynamical\", \"dynamical\", \"dynamical\", \"effectively\", \"electric\", \"electric\", \"electrical\", \"electromagnetic\", \"electronic\", \"elliptic\", \"emit\", \"empirical\", \"empirical\", \"enable\", \"estimate\", \"estimate\", \"estimate\", \"euclidean\", \"evaluate\", \"excited\", \"exist\", \"exist\", \"exist\", \"extensive\", \"extensive\", \"extract\", \"extract\", \"f$\", \"find\", \"find\", \"find\", \"find\", \"finite\", \"finite\", \"finite\", \"finitely\", \"first\", \"first\", \"first\", \"first\", \"fluid\", \"form\", \"form\", \"form\", \"form\", \"fractional\", \"free\", \"free\", \"free\", \"free\", \"gaussian\", \"general\", \"general\", \"general\", \"generalize\", \"generalize\", \"generalize\", \"generate\", \"generate\", \"generate\", \"generate\", \"generative\", \"geometric\", \"give\", \"give\", \"give\", \"give\", \"gradient\", \"graphene\", \"gravitational\", \"guarantee\", \"hamiltonian\", \"hamiltonian\", \"harmonic\", \"harmonic\", \"help\", \"here\", \"here\", \"here\", \"here\", \"here\", \"high\", \"high\", \"high\", \"hot\", \"however\", \"however\", \"however\", \"human\", \"hyperbolic\", \"illustrate\", \"improve\", \"improve\", \"increase\", \"increase\", \"increase\", \"indicate\", \"indicate\", \"indicate\", \"induce\", \"induce\", \"induce\", \"induce\", \"induce\", \"inertial\", \"infinite\", \"inhomogeneous\", \"inhomogeneous\", \"integrable\", \"integral\", \"interact\", \"interact\", \"interact\", \"introduce\", \"introduce\", \"introduce\", \"invariant\", \"investigate\", \"investigate\", \"investigate\", \"investigate\", \"investigate\", \"irreducible\", \"iterative\", \"know\", \"know\", \"know\", \"know\", \"large\", \"large\", \"large\", \"large\", \"learn\", \"let\", \"light\", \"light\", \"linear\", \"linear\", \"linear\", \"local\", \"local\", \"local\", \"local\", \"localize\", \"localize\", \"localize\", \"long\", \"long\", \"long\", \"long\", \"long\", \"low\", \"low\", \"low\", \"macroscopic\", \"magnetic\", \"make\", \"make\", \"make\", \"make\", \"manifold\", \"many\", \"many\", \"many\", \"many\", \"many\", \"mass\", \"maximal\", \"mean\", \"mean\", \"mean\", \"mean\", \"measure\", \"measure\", \"measure\", \"mechanical\", \"mechanical\", \"metallic\", \"metric\", \"metric\", \"microscopic\", \"minimize\", \"mobile\", \"molecular\", \"multiple\", \"multiple\", \"multiple\", \"mutual\", \"neural\", \"new\", \"new\", \"new\", \"new\", \"non\", \"non\", \"non\", \"nonlinear\", \"nonlinear\", \"nontrivial\", \"novel\", \"novel\", \"numerical\", \"numerical\", \"observe\", \"observe\", \"observe\", \"obtain\", \"obtain\", \"obtain\", \"obtain\", \"online\", \"online\", \"optical\", \"optimal\", \"orbital\", \"outperform\", \"outperform\", \"parametric\", \"particular\", \"particular\", \"particular\", \"particular\", \"perform\", \"perform\", \"perform\", \"periodic\", \"periodic\", \"periodic\", \"photonic\", \"planetary\", \"polarize\", \"polynomial\", \"polynomial\", \"positive\", \"positive\", \"positive\", \"posterior\", \"present\", \"present\", \"present\", \"present\", \"present\", \"prime\", \"proof\", \"propose\", \"propose\", \"prove\", \"prove\", \"provide\", \"provide\", \"provide\", \"provide\", \"public\", \"quasi\", \"quasi\", \"radial\", \"random\", \"rational\", \"real\", \"real\", \"real\", \"realize\", \"realize\", \"realize\", \"realize\", \"recover\", \"recover\", \"regular\", \"report\", \"report\", \"reveal\", \"reveal\", \"reveal\", \"riemannian\", \"rigorous\", \"round\", \"sample\", \"say\", \"scatter\", \"scatter\", \"scientific\", \"semantic\", \"set\", \"set\", \"set\", \"share\", \"show\", \"show\", \"show\", \"show\", \"simplicial\", \"single\", \"single\", \"single\", \"single\", \"singular\", \"small\", \"small\", \"small\", \"small\", \"social\", \"solar\", \"solve\", \"sparse\", \"spatial\", \"spatial\", \"spatial\", \"sphere\", \"statistical\", \"steady\", \"stellar\", \"stochastic\", \"strong\", \"strong\", \"strong\", \"strong\", \"study\", \"study\", \"study\", \"study\", \"study\", \"suggest\", \"suggest\", \"suggest\", \"sum\", \"superconducte\", \"supervised\", \"surround\", \"symmetric\", \"synthesize\", \"target\", \"temporal\", \"theorem\", \"theoretical\", \"theoretical\", \"thermal\", \"thin\", \"tidal\", \"topological\", \"topological\", \"topologically\", \"traditional\", \"traditional\", \"train\", \"true\", \"turbulent\", \"uniformly\", \"unknown\", \"unstable\", \"use\", \"use\", \"use\", \"use\", \"variable\", \"variational\", \"vertice\", \"viscous\", \"visual\", \"well\", \"well\", \"well\", \"well\"]}, \"R\": 30, \"lambda.step\": 0.01, \"plot.opts\": {\"xlab\": \"PC1\", \"ylab\": \"PC2\"}, \"topic.order\": [2, 3, 5, 1, 4]};\n",
              "\n",
              "function LDAvis_load_lib(url, callback){\n",
              "  var s = document.createElement('script');\n",
              "  s.src = url;\n",
              "  s.async = true;\n",
              "  s.onreadystatechange = s.onload = callback;\n",
              "  s.onerror = function(){console.warn(\"failed to load library \" + url);};\n",
              "  document.getElementsByTagName(\"head\")[0].appendChild(s);\n",
              "}\n",
              "\n",
              "if(typeof(LDAvis) !== \"undefined\"){\n",
              "   // already loaded: just create the visualization\n",
              "   !function(LDAvis){\n",
              "       new LDAvis(\"#\" + \"ldavis_el202082223808770336224146540\", ldavis_el202082223808770336224146540_data);\n",
              "   }(LDAvis);\n",
              "}else if(typeof define === \"function\" && define.amd){\n",
              "   // require.js is available: use it to load d3/LDAvis\n",
              "   require.config({paths: {d3: \"https://d3js.org/d3.v5\"}});\n",
              "   require([\"d3\"], function(d3){\n",
              "      window.d3 = d3;\n",
              "      LDAvis_load_lib(\"https://cdn.jsdelivr.net/gh/bmabey/pyLDAvis@3.4.0/pyLDAvis/js/ldavis.v3.0.0.js\", function(){\n",
              "        new LDAvis(\"#\" + \"ldavis_el202082223808770336224146540\", ldavis_el202082223808770336224146540_data);\n",
              "      });\n",
              "    });\n",
              "}else{\n",
              "    // require.js not available: dynamically load d3 & LDAvis\n",
              "    LDAvis_load_lib(\"https://d3js.org/d3.v5.js\", function(){\n",
              "         LDAvis_load_lib(\"https://cdn.jsdelivr.net/gh/bmabey/pyLDAvis@3.4.0/pyLDAvis/js/ldavis.v3.0.0.js\", function(){\n",
              "                 new LDAvis(\"#\" + \"ldavis_el202082223808770336224146540\", ldavis_el202082223808770336224146540_data);\n",
              "            })\n",
              "         });\n",
              "}\n",
              "</script>"
            ],
            "text/plain": [
              "PreparedData(topic_coordinates=              x         y  topics  cluster       Freq\n",
              "topic                                                \n",
              "1      0.167498  0.131557       1        1  37.853550\n",
              "2      0.125632 -0.057416       2        1  28.754919\n",
              "4      0.052237  0.142030       3        1  16.570980\n",
              "0      0.028097 -0.256434       4        1  12.215389\n",
              "3     -0.373464  0.040262       5        1   4.605162, topic_info=            Term         Freq        Total Category  logprob  loglift\n",
              "0              -  9137.000000  9137.000000  Default  30.0000  30.0000\n",
              "38           non  3766.000000  3766.000000  Default  29.0000  29.0000\n",
              "24          give  4651.000000  4651.000000  Default  28.0000  28.0000\n",
              "99         prove  2888.000000  2888.000000  Default  27.0000  27.0000\n",
              "421  dimensional  2482.000000  2482.000000  Default  26.0000  26.0000\n",
              "..           ...          ...          ...      ...      ...      ...\n",
              "89      describe   314.109482  1960.143498   Topic5  -4.8159   1.2470\n",
              "206        study   305.641060  3179.170672   Topic5  -4.8433   0.7360\n",
              "461    dynamical   208.982541   716.625152   Topic5  -5.2234   1.8457\n",
              "76      harmonic   154.339707   233.645684   Topic5  -5.5265   2.6633\n",
              "21        finite   162.470561  1423.673287   Topic5  -5.4752   0.9075\n",
              "\n",
              "[334 rows x 6 columns], token_table=      Topic      Freq    Term\n",
              "term                         \n",
              "0         1  0.212320       -\n",
              "0         2  0.475313       -\n",
              "0         3  0.088102       -\n",
              "0         4  0.070153       -\n",
              "0         5  0.154315       -\n",
              "...     ...       ...     ...\n",
              "814       1  0.999114  visual\n",
              "119       1  0.430393    well\n",
              "119       2  0.407078    well\n",
              "119       3  0.121568    well\n",
              "119       4  0.041078    well\n",
              "\n",
              "[522 rows x 3 columns], R=30, lambda_step=0.01, plot_opts={'xlab': 'PC1', 'ylab': 'PC2'}, topic_order=[2, 3, 5, 1, 4])"
            ]
          },
          "execution_count": 72,
          "metadata": {},
          "output_type": "execute_result"
        }
      ],
      "source": [
        "pyLDAvis.enable_notebook()\n",
        "vis = gensimvis.prepare(lda_model, bow_corpus, dictionary)\n",
        "vis"
      ]
    },
    {
      "cell_type": "code",
      "execution_count": null,
      "metadata": {
        "colab": {
          "base_uri": "https://localhost:8080/"
        },
        "id": "CzgjIM3l4IXX",
        "outputId": "59d014e5-e1de-4554-d9c4-1f95dff41c69"
      },
      "outputs": [],
      "source": [
        "pyLDAvis.save_html(vis, 'lda_model.html')"
      ]
    },
    {
      "cell_type": "code",
      "execution_count": null,
      "metadata": {
        "colab": {
          "base_uri": "https://localhost:8080/",
          "height": 951
        },
        "id": "QN-wFshXZnot",
        "outputId": "4233914e-8420-4da1-eb55-a0b548e686d3"
      },
      "outputs": [
        {
          "name": "stderr",
          "output_type": "stream",
          "text": [
            "C:\\Users\\Rayni\\AppData\\Local\\Packages\\PythonSoftwareFoundation.Python.3.9_qbz5n2kfra8p0\\LocalCache\\local-packages\\Python39\\site-packages\\pyLDAvis\\_prepare.py:243: FutureWarning: In a future version of pandas all arguments of DataFrame.drop except for the argument 'labels' will be keyword-only\n",
            "  default_term_info = default_term_info.sort_values(\n"
          ]
        },
        {
          "data": {
            "text/html": [
              "\n",
              "<link rel=\"stylesheet\" type=\"text/css\" href=\"https://cdn.jsdelivr.net/gh/bmabey/pyLDAvis@3.4.0/pyLDAvis/js/ldavis.v1.0.0.css\">\n",
              "\n",
              "\n",
              "<div id=\"ldavis_el2020822238111632964439137242\" style=\"background-color:white;\"></div>\n",
              "<script type=\"text/javascript\">\n",
              "\n",
              "var ldavis_el2020822238111632964439137242_data = {\"mdsDat\": {\"x\": [0.15630906089788404, 0.05302390459365061, 0.10619839773516118, -0.17195879801231742, -0.14357256521437836], \"y\": [-0.0687419369458304, -0.07163979577630344, 0.12934088726789292, -0.0843006127722559, 0.09534145822649678], \"topics\": [1, 2, 3, 4, 5], \"cluster\": [1, 1, 1, 1, 1], \"Freq\": [33.03429906625457, 23.293106910833767, 21.544763775009887, 11.689579450541444, 10.438250797360329]}, \"tinfo\": {\"Term\": [\"give\", \"prove\", \"propose\", \"-\", \"learn\", \"non\", \"optimal\", \"neural\", \"magnetic\", \"deep\", \"dimensional\", \"show\", \"set\", \"nonlinear\", \"random\", \"finite\", \"boundary\", \"define\", \"consider\", \"differential\", \"study\", \"also\", \"train\", \"obtain\", \"optical\", \"bound\", \"bind\", \"numerical\", \"linear\", \"topological\", \"neural\", \"train\", \"human\", \"social\", \"visual\", \"convolutional\", \"semantic\", \"generative\", \"automatic\", \"automate\", \"supervised\", \"mobile\", \"public\", \"recurrent\", \"supervise\", \"clinical\", \"digital\", \"unsupervised\", \"smart\", \"meta\", \"robotic\", \"interpretable\", \"unsupervise\", \"cognitive\", \"urban\", \"raw\", \"architecture\", \"historical\", \"indoor\", \"manually\", \"deep\", \"adversarial\", \"learn\", \"dataset\", \"collect\", \"temporal\", \"label\", \"evaluate\", \"automatically\", \"extract\", \"base\", \"propose\", \"use\", \"challenge\", \"different\", \"make\", \"enable\", \"improve\", \"real\", \"generate\", \"predict\", \"however\", \"embed\", \"achieve\", \"novel\", \"present\", \"new\", \"perform\", \"demonstrate\", \"well\", \"provide\", \"show\", \"exist\", \"develop\", \"large\", \"also\", \"-\", \"high\", \"many\", \"compare\", \"optimal\", \"bayesian\", \"posterior\", \"conditional\", \"causal\", \"marginal\", \"nonparametric\", \"greedy\", \"corrupt\", \"penalize\", \"provably\", \"proximal\", \"decentralize\", \"agent\", \"cache\", \"minimax\", \"armed\", \"primal\", \"quantile\", \"submodular\", \"packet\", \"validation\", \"rewrite\", \"decentralized\", \"plant\", \"gps\", \"inferential\", \"monotone\", \"censor\", \"suboptimal\", \"sample\", \"randomize\", \"random\", \"unknown\", \"surrogate\", \"sparse\", \"gaussian\", \"minimize\", \"parametric\", \"approximate\", \"regularize\", \"convex\", \"guarantee\", \"distribute\", \"statistical\", \"stochastic\", \"empirical\", \"estimate\", \"adaptive\", \"solve\", \"theoretical\", \"efficient\", \"computational\", \"propose\", \"computationally\", \"linear\", \"gradient\", \"prior\", \"fast\", \"-\", \"base\", \"use\", \"consider\", \"show\", \"provide\", \"low\", \"well\", \"non\", \"large\", \"high\", \"new\", \"derive\", \"also\", \"achieve\", \"demonstrate\", \"present\", \"first\", \"require\", \"allow\", \"give\", \"develop\", \"set\", \"magnetic\", \"optical\", \"thermal\", \"electronic\", \"molecular\", \"stellar\", \"dark\", \"solar\", \"atomic\", \"superconducte\", \"orbital\", \"electric\", \"mass\", \"cosmic\", \"dope\", \"cool\", \"atmospheric\", \"turbulent\", \"electrical\", \"planetary\", \"polarize\", \"graphene\", \"liquid\", \"metallic\", \"young\", \"dielectric\", \"probe\", \"bright\", \"infrare\", \"lense\", \"gravitational\", \"cosmological\", \"thin\", \"hot\", \"light\", \"scatter\", \"observe\", \"find\", \"report\", \"high\", \"measure\", \"induce\", \"low\", \"suggest\", \"here\", \"indicate\", \"large\", \"strong\", \"use\", \"due\", \"long\", \"show\", \"investigate\", \"-\", \"present\", \"increase\", \"small\", \"single\", \"different\", \"also\", \"well\", \"base\", \"study\", \"demonstrate\", \"provide\", \"first\", \"compare\", \"let\", \"algebra\", \"rational\", \"prime\", \"conjecture\", \"finitely\", \"irreducible\", \"f$\", \"projective\", \"boolean\", \"grade\", \"simplicial\", \"question\", \"isomorphic\", \"x$\", \"equivariant\", \"countable\", \"k$\", \"color\", \"nilpotent\", \"infect\", \"invertible\", \"phylogenetic\", \"definable\", \"reductive\", \"intersect\", \"r$\", \"decidable\", \"transitive\", \"isometric\", \"proof\", \"cyclic\", \"algebraic\", \"empty\", \"vertice\", \"denote\", \"theorem\", \"polynomial\", \"prove\", \"metric\", \"say\", \"regular\", \"maximal\", \"positive\", \"arithmetic\", \"give\", \"bound\", \"define\", \"admit\", \"compact\", \"bind\", \"complete\", \"set\", \"certain\", \"upper\", \"finite\", \"show\", \"generalize\", \"also\", \"minimal\", \"hold\", \"know\", \"study\", \"free\", \"obtain\", \"general\", \"call\", \"introduce\", \"new\", \"particular\", \"use\", \"consider\", \"first\", \"provide\", \"well\", \"boundary\", \"harmonic\", \"fractional\", \"integrable\", \"elliptic\", \"riemannian\", \"hamiltonian\", \"\\\\mathcal\", \"lagrangian\", \"derivative\", \"ergodic\", \"conformal\", \"brownian\", \"nonlocal\", \"incompressible\", \"deform\", \"hermitian\", \"bosonic\", \"injective\", \"linearize\", \"perturbative\", \"planck\", \"repulsive\", \"supercritical\", \"hypergeometric\", \"fracture\", \"commute\", \"curvature\", \"semiclassical\", \"quartic\", \"differential\", \"scalar\", \"chaotic\", \"nonlinear\", \"manifold\", \"topological\", \"integral\", \"parabolic\", \"periodic\", \"eigenvalue\", \"dynamical\", \"fluid\", \"stationary\", \"non\", \"dimensional\", \"initial\", \"-\", \"finite\", \"numerical\", \"discrete\", \"couple\", \"local\", \"consider\", \"obtain\", \"study\", \"describe\", \"continuous\", \"derive\", \"show\", \"linear\", \"also\", \"classical\", \"general\", \"use\", \"construct\", \"prove\", \"present\", \"give\", \"introduce\", \"provide\", \"apply\", \"first\"], \"Freq\": [4659.0, 2934.0, 8690.0, 9038.0, 4359.0, 3757.0, 2091.0, 2595.0, 1636.0, 2432.0, 2473.0, 10366.0, 3056.0, 1041.0, 1915.0, 1440.0, 776.0, 1871.0, 3572.0, 806.0, 3143.0, 6521.0, 1387.0, 3300.0, 958.0, 1189.0, 1353.0, 1321.0, 1855.0, 808.0, 2594.5537732596968, 1386.7096754365762, 1160.8310906270165, 1156.7216965481568, 669.4678106796202, 587.174159778421, 500.6623336718065, 488.34917806300984, 377.29061061910784, 349.2885869011355, 337.3549831837444, 334.00064476598715, 312.88434653458006, 259.0870921669037, 238.21638538331862, 236.17922480713077, 229.9031464498923, 209.33157966809165, 199.6149055157274, 197.35124443369563, 185.29899836526667, 184.83777157026682, 171.33356139985634, 171.08429425752283, 163.18033662133058, 136.6021668481947, 134.11118753973386, 134.9264144819141, 125.874409529141, 123.36777208591099, 2383.7120498844265, 694.2956212033846, 3958.347452708109, 381.4398706005546, 440.50251687470745, 745.8028855054359, 409.5786560623329, 1121.9446391836211, 358.56597507816093, 537.5964893625146, 4420.1421506062225, 4592.475290410872, 6925.925602080572, 613.1962633611662, 2397.3585596291405, 1543.7708388980966, 865.5167257821739, 1393.5572838091325, 1633.2707293702672, 1286.2976033165478, 989.0071073783973, 1572.4701434841452, 640.0782527647817, 1316.648412019842, 894.830697168468, 2213.8588218234863, 2085.8206831448138, 1174.9541776442495, 1581.4090439163776, 2013.7527172196278, 1983.5134423656511, 2706.0513514066615, 1240.071291900821, 1269.0485891008477, 1637.2078353892057, 1839.3794536136995, 2053.1187253531198, 1582.814292693841, 1220.7246381706057, 1167.0835927234236, 2090.683263640091, 770.8322682040299, 436.5288798346865, 437.2391932871329, 227.4417235191283, 174.59546221296566, 152.96008536966923, 140.5014783349128, 110.63989485690088, 109.32461840249555, 106.11569414656336, 103.53633788021345, 93.00200072438794, 92.22548786672579, 90.98463150945679, 85.28665871321026, 80.84241564942776, 79.02447813696368, 78.46307338455597, 71.4116264605427, 61.62856349642048, 60.976582703727026, 53.113268237979405, 50.857978497714264, 50.535025190327076, 48.90650041205186, 48.46001979093071, 49.89217849976757, 43.39839420069401, 43.489772329323394, 837.4394197390687, 170.4559099611163, 1660.826936755274, 531.4610190986264, 106.47574903505588, 442.76852201391756, 316.2045988607792, 379.2121834268723, 354.75101224165206, 782.6771891692895, 195.9775960745984, 713.4813417484687, 384.88621916671406, 761.1492978728543, 950.0178679271125, 366.65210793503536, 635.7554303678191, 1133.1331410702617, 458.37084723299745, 1139.929643786089, 915.8154051685914, 1050.9542635582918, 871.0598575096149, 3817.6560797726393, 344.8251432994794, 1036.4698610993855, 296.29177666841315, 518.6265095081751, 699.1501181823489, 2716.0154046987777, 2527.3368239689057, 3769.3184112797926, 1412.6052450576933, 2832.4121816018755, 1744.9258938768207, 1298.1187742748893, 1541.265558826849, 1267.9853713349987, 1362.7232739170604, 1400.178116422416, 1344.2533886740491, 877.4521762060148, 1449.8130101003255, 923.2580542693739, 994.7087461429808, 1123.590379206842, 1003.0120103468238, 889.5909412369234, 901.9393339118061, 954.944163231014, 907.2045044048771, 901.7305283370241, 1635.610462726681, 957.8401480406702, 622.2603017034309, 611.8843472556088, 573.7497534567148, 562.0701937429629, 524.2455758170888, 416.7394123547104, 405.3465528658408, 400.95172186594453, 369.7711398130849, 357.08709436963306, 325.8672689826176, 261.5562307527878, 205.92783300812854, 203.97730412440617, 196.68630239104345, 195.0797968801575, 190.66105659378957, 180.185494199854, 173.75743395300225, 168.09213697204737, 168.17212325108295, 161.35490346073226, 160.91359548234055, 157.24952901247138, 156.74073855150277, 155.39919947064095, 152.07558687765967, 149.92718330285072, 396.1592616901508, 248.66800591682554, 320.77919540270926, 254.47496330799737, 485.1225062170687, 430.726851851314, 1300.057736110139, 2187.738575310427, 610.3635730113205, 2259.8954501201965, 656.7756800658678, 634.9212404689674, 1652.8741503507952, 731.548974284618, 806.2469922692825, 493.81708022419724, 1505.697538252884, 729.1806031621418, 2471.5568440791353, 718.3373615642317, 686.6463204694572, 1781.4758658986539, 779.5906724066888, 1569.1456877993974, 1245.1907393089587, 696.8156665778216, 844.7021648226528, 761.050752692676, 1017.4116982594334, 1121.2132318379242, 1026.9633314772052, 869.1618717938549, 738.4280899795671, 708.4757947159958, 734.8337554083606, 683.7968911237662, 642.1701897382268, 599.1157795223569, 356.4825146132384, 265.70758819512315, 232.57687088919934, 185.41635765556396, 178.10022145030885, 165.60547825588935, 144.13578019717698, 137.4717070636744, 133.66341806867305, 87.61093074508345, 86.55184967474689, 88.2033684361272, 85.95481087081546, 76.83631618217753, 74.32896177417007, 69.09914090332447, 66.67057267490046, 63.15531669881384, 61.77086303155753, 59.71045832289902, 56.37107028935458, 55.64501696764127, 53.74556526149179, 52.60079920719224, 52.16098896818955, 51.216603385614576, 49.33284015653415, 48.98223306253183, 48.7559133155364, 164.32183078917208, 98.3418146808926, 342.2942868407644, 72.45534047511602, 159.2876288398522, 178.16391506283608, 354.20031678172046, 609.8647126556706, 2006.0148099657206, 554.2369255092663, 130.1774247121597, 367.70819867644747, 253.56638007563447, 640.2054251206654, 140.68119817422559, 2320.7216719577814, 713.4222755632592, 987.5425316863201, 222.44676738461385, 437.45841137813767, 680.1313501423425, 479.5081138463782, 1137.6474966429776, 552.1287792407321, 392.55402491295797, 616.6318209223565, 2010.4766174280828, 503.16381610876505, 1363.4421093993951, 307.61580787454375, 302.4628593953557, 657.8102112733477, 730.444628437229, 465.3653815114237, 659.7838652359048, 525.350233475624, 473.24065320585066, 571.9182631789839, 708.3319205550363, 506.7078763121074, 807.7989279382679, 564.075124786019, 561.9621653981504, 518.863844664222, 448.72395265336, 775.2696720656332, 252.23823037826756, 233.7840861736505, 229.93606091975764, 228.46628428224594, 213.04391382927457, 207.99000248948283, 170.7145001650701, 166.89002121795795, 142.75543539151693, 129.3549466998035, 118.81497100776613, 117.16911383971299, 115.26252814038394, 85.20559078673165, 72.51660783620173, 64.42514105709326, 61.332823314109845, 61.856408856370685, 59.136841122424386, 58.73546920114664, 59.703768856067114, 51.21761747053584, 47.34040236871079, 45.272221057244536, 39.31569105778312, 38.61057075572657, 37.00125590036963, 36.56235673287651, 36.17935318216435, 746.0618548528112, 237.59283688368225, 184.0007877339357, 866.6503815780943, 375.73188631251145, 636.0343123236161, 332.5973649653055, 118.03399291685018, 316.442347237118, 206.45397692102878, 466.88255628719315, 142.48277509418003, 255.98189872796667, 1623.2562337216239, 1129.731865307704, 478.3386480655164, 2290.5316753646803, 594.6246167882819, 523.2483419561722, 382.988651354203, 352.8168784270204, 627.5516657664517, 831.9563260507427, 795.5612877774902, 766.4772498462064, 587.6167610756361, 401.13934393723144, 552.1458923191068, 1035.700625505319, 510.39866902068906, 747.9108488030911, 410.06835724875253, 476.34524495344175, 889.0943814633669, 397.20272071545185, 479.78273968346286, 523.2285716542599, 478.5485079783625, 438.8083591809195, 458.13454561554056, 426.1653534387189, 413.4509208293608], \"Total\": [4659.0, 2934.0, 8690.0, 9038.0, 4359.0, 3757.0, 2091.0, 2595.0, 1636.0, 2432.0, 2473.0, 10366.0, 3056.0, 1041.0, 1915.0, 1440.0, 776.0, 1871.0, 3572.0, 806.0, 3143.0, 6521.0, 1387.0, 3300.0, 958.0, 1189.0, 1353.0, 1321.0, 1855.0, 808.0, 2595.344256798617, 1387.4990036632896, 1161.6198458269491, 1157.5136016596296, 670.2592551765995, 587.96224502184, 501.4510989171762, 489.1418228359792, 378.08473971331006, 350.0811857217864, 338.1456317465317, 334.7962044407303, 313.6751537286665, 259.8850710766837, 239.00711896705926, 236.97178120369418, 230.69955419191476, 210.1223978700503, 200.40763208375498, 198.1489304064275, 186.0898643726636, 185.63336157924206, 172.12285842730483, 171.87724434057748, 163.97142631454918, 137.39501660696223, 134.90115936125852, 135.72542156489826, 126.66487322701461, 124.15813572864337, 2432.7305678938087, 709.2600170428635, 4359.272879767383, 400.91275678731404, 468.6523405916464, 842.5317893295883, 450.2600060787788, 1421.0595976664308, 397.3899273204762, 643.2205968792388, 8222.918052938341, 8690.64541164654, 14863.694166841135, 783.956519332955, 4345.773097785637, 2538.1573573897, 1222.6469136821179, 2299.2432224682207, 2862.885830632354, 2163.8780092870365, 1514.7357652636822, 2929.004555572689, 839.6832424676436, 2370.30240485563, 1370.617602953433, 5553.022562637671, 5088.3905543316805, 2131.8792448672066, 3392.626769676686, 5344.994336203984, 5440.271481930595, 10366.116641840592, 2634.4397368744208, 2797.531723756387, 4957.248815666968, 6521.758653754436, 9038.853230883706, 5429.8698978398415, 2713.6098864936735, 2672.302776542452, 2091.4764416828093, 771.6216814959266, 437.31506705751036, 438.03140457554326, 228.23396181564607, 175.38718612233703, 153.74805188003742, 141.28990592784265, 111.42892576226546, 110.11389456836771, 106.90295379184401, 104.32353614362326, 93.79319958720154, 93.014041203655, 91.774390253641, 86.07370091621914, 81.63353573131369, 79.81105602134699, 79.24698883575307, 72.19917181145834, 62.419651726415275, 61.767363388456694, 53.924075450595005, 51.64517238363989, 51.327642688569625, 49.70133160005084, 49.24959731897136, 50.75861131456801, 44.18383665342803, 44.281537114008735, 910.161903278925, 179.2831616337234, 1915.9631307846857, 594.6146932343046, 111.54757811111213, 497.1611658364157, 352.6070889409029, 427.6907665823591, 401.8928392797514, 942.7930048739611, 214.36624820742122, 872.5164820052659, 455.4329319665406, 984.0464407935361, 1302.8243197453314, 449.11146460572024, 851.5399900027029, 1655.2513428678815, 585.1503955829669, 1701.233189880884, 1357.7780713898187, 1644.0276766520587, 1323.7787438139676, 8690.64541164654, 441.7261590294712, 1855.8513382579124, 371.5407220804065, 796.565374717226, 1262.808270419492, 9038.853230883706, 8222.918052938341, 14863.694166841135, 3572.340029532432, 10366.116641840592, 5440.271481930595, 3715.127708221111, 5344.994336203984, 3757.90375475807, 4957.248815666968, 5429.8698978398415, 5088.3905543316805, 2061.787271831998, 6521.758653754436, 2370.30240485563, 3392.626769676686, 5553.022562637671, 3683.4333605928405, 2285.5929079604684, 2641.203041988258, 4659.855026448115, 2797.531723756387, 3056.168842769511, 1636.3976049077162, 958.6298299219407, 623.0472330558491, 612.6779870975638, 574.5413920871771, 562.8540459609528, 525.0323411503258, 417.52614978230383, 406.13883627193576, 401.7382319892587, 370.56033588018283, 357.8794438486479, 326.65878324558184, 262.34278733574394, 206.71181293214644, 204.76155100676343, 197.4761913903586, 195.87092028114503, 191.45390372848865, 180.97046234837498, 174.5486646017682, 168.8777469806323, 168.96145193347172, 162.1421282399517, 161.70314844960944, 158.0359186028881, 157.53204671326708, 156.18605406521823, 152.86190965183928, 150.71206619663505, 405.81013871904406, 256.0790716996243, 341.1729594325164, 270.19211418210824, 571.0242249552078, 523.1716665153772, 1992.795977972169, 4188.890795450643, 890.2664515033241, 5429.8698978398415, 1033.415402375906, 993.2587874366345, 3715.127708221111, 1258.0707452564325, 1534.4948818311843, 796.0701010943225, 4957.248815666968, 1561.345689584118, 14863.694166841135, 1629.7428942007, 1496.9359114401104, 10366.116641840592, 1943.4546201639773, 9038.853230883706, 5553.022562637671, 1563.606016300524, 2555.946132570052, 1993.7480251000525, 4345.773097785637, 6521.758653754436, 5344.994336203984, 8222.918052938341, 3143.1548020471273, 3392.626769676686, 5440.271481930595, 3683.4333605928405, 2672.302776542452, 599.9047480310282, 357.2716818656618, 266.5029762921814, 233.36850810195799, 186.20897961126298, 178.887255590606, 166.39411502308525, 144.92700575607614, 138.26074544286254, 134.45601230736682, 88.40068363857195, 87.34098537201027, 89.01003591133441, 86.74224692160213, 77.63313052314622, 75.11771314179312, 69.88566368720242, 67.46261454140672, 63.949819625421355, 62.55848657638903, 60.516361744635894, 57.16758069654625, 56.438031891180685, 54.53157266621072, 53.38741010770767, 52.95611076600458, 52.008085649555454, 50.119048044846565, 49.77327416170023, 49.54743185047668, 171.84238853835595, 101.76220635149015, 374.5072736492857, 74.94901712063782, 174.85470038592015, 197.74337714078717, 417.8646603259317, 761.7335683978529, 2934.2344917331848, 735.1267011069646, 146.60175505057362, 486.9922128966063, 318.56497036951794, 942.319767906857, 162.59079938368592, 4659.855026448115, 1189.0706373262042, 1871.0795162625343, 293.56204193432325, 714.3854693237723, 1353.60040199861, 850.4056478477862, 3056.168842769511, 1130.3352462757334, 701.4018121448022, 1440.5001841182334, 10366.116641840592, 1178.1125662834156, 6521.758653754436, 525.469739288456, 515.1583293386628, 2222.649287430918, 3143.1548020471273, 1317.2236265182846, 3300.531616972994, 2053.9763849412166, 1654.004376189449, 2804.749005640658, 5088.3905543316805, 2020.110537687493, 14863.694166841135, 3572.340029532432, 3683.4333605928405, 5440.271481930595, 5344.994336203984, 776.0628088846559, 253.03330638405873, 234.5781745657485, 230.72521822081055, 229.2574723493192, 213.83604131230456, 208.78155020939937, 171.51209329504275, 167.68389772257186, 143.55113310045047, 130.14881594871292, 119.60710187456311, 117.9605753397011, 116.05365699606894, 85.99460596104208, 73.3120353612754, 65.22095458685263, 62.12551234675094, 62.67706111387766, 59.93184114743031, 59.527012691897426, 60.51412075365487, 52.01245689284134, 48.13441392813935, 46.062017172960125, 40.108554601369576, 39.41154316400863, 37.798286215772, 37.35303815978365, 36.97368052699754, 806.0577476647403, 257.37888124759934, 201.73354904103735, 1041.1116535424517, 449.6916670507959, 808.1041471971566, 424.9569310917333, 132.86149834965275, 406.8904731756415, 254.95258120080356, 707.53512118297, 175.07360426361728, 369.3346012119799, 3757.90375475807, 2473.566858534102, 935.1664007008958, 9038.853230883706, 1440.5001841182334, 1321.738346162537, 814.2411358710353, 748.7433611000364, 1994.63931067861, 3572.340029532432, 3300.531616972994, 3143.1548020471273, 1959.8081283968008, 1043.0847173649745, 2061.787271831998, 10366.116641840592, 1855.8513382579124, 6521.758653754436, 1212.4826252472144, 2053.9763849412166, 14863.694166841135, 1360.9487580581476, 2934.2344917331848, 5553.022562637671, 4659.855026448115, 2804.749005640658, 5440.271481930595, 2842.381899743714, 3683.4333605928405], \"Category\": [\"Default\", \"Default\", \"Default\", \"Default\", \"Default\", \"Default\", \"Default\", \"Default\", \"Default\", \"Default\", \"Default\", \"Default\", \"Default\", \"Default\", \"Default\", \"Default\", \"Default\", \"Default\", \"Default\", \"Default\", \"Default\", \"Default\", \"Default\", \"Default\", \"Default\", \"Default\", \"Default\", \"Default\", \"Default\", \"Default\", \"Topic1\", \"Topic1\", \"Topic1\", \"Topic1\", \"Topic1\", \"Topic1\", \"Topic1\", \"Topic1\", \"Topic1\", \"Topic1\", \"Topic1\", \"Topic1\", \"Topic1\", \"Topic1\", \"Topic1\", \"Topic1\", \"Topic1\", \"Topic1\", \"Topic1\", \"Topic1\", \"Topic1\", \"Topic1\", \"Topic1\", \"Topic1\", \"Topic1\", \"Topic1\", \"Topic1\", \"Topic1\", \"Topic1\", \"Topic1\", \"Topic1\", \"Topic1\", \"Topic1\", \"Topic1\", \"Topic1\", \"Topic1\", \"Topic1\", \"Topic1\", \"Topic1\", \"Topic1\", \"Topic1\", \"Topic1\", \"Topic1\", \"Topic1\", \"Topic1\", \"Topic1\", \"Topic1\", \"Topic1\", \"Topic1\", \"Topic1\", \"Topic1\", \"Topic1\", \"Topic1\", \"Topic1\", \"Topic1\", \"Topic1\", \"Topic1\", \"Topic1\", \"Topic1\", \"Topic1\", \"Topic1\", \"Topic1\", \"Topic1\", \"Topic1\", \"Topic1\", \"Topic1\", \"Topic1\", \"Topic1\", \"Topic1\", \"Topic1\", \"Topic2\", \"Topic2\", \"Topic2\", \"Topic2\", \"Topic2\", \"Topic2\", \"Topic2\", \"Topic2\", \"Topic2\", \"Topic2\", \"Topic2\", \"Topic2\", \"Topic2\", \"Topic2\", \"Topic2\", \"Topic2\", \"Topic2\", \"Topic2\", \"Topic2\", \"Topic2\", \"Topic2\", \"Topic2\", \"Topic2\", \"Topic2\", \"Topic2\", \"Topic2\", \"Topic2\", \"Topic2\", \"Topic2\", \"Topic2\", \"Topic2\", \"Topic2\", \"Topic2\", \"Topic2\", \"Topic2\", \"Topic2\", \"Topic2\", \"Topic2\", \"Topic2\", \"Topic2\", \"Topic2\", \"Topic2\", \"Topic2\", \"Topic2\", \"Topic2\", \"Topic2\", \"Topic2\", \"Topic2\", \"Topic2\", \"Topic2\", \"Topic2\", \"Topic2\", \"Topic2\", \"Topic2\", \"Topic2\", \"Topic2\", \"Topic2\", \"Topic2\", \"Topic2\", \"Topic2\", \"Topic2\", \"Topic2\", \"Topic2\", \"Topic2\", \"Topic2\", \"Topic2\", \"Topic2\", \"Topic2\", \"Topic2\", \"Topic2\", \"Topic2\", \"Topic2\", \"Topic2\", \"Topic2\", \"Topic2\", \"Topic2\", \"Topic2\", \"Topic2\", \"Topic2\", \"Topic2\", \"Topic2\", \"Topic2\", \"Topic3\", \"Topic3\", \"Topic3\", \"Topic3\", \"Topic3\", \"Topic3\", \"Topic3\", \"Topic3\", \"Topic3\", \"Topic3\", \"Topic3\", \"Topic3\", \"Topic3\", \"Topic3\", \"Topic3\", \"Topic3\", \"Topic3\", \"Topic3\", \"Topic3\", \"Topic3\", \"Topic3\", \"Topic3\", \"Topic3\", \"Topic3\", \"Topic3\", \"Topic3\", \"Topic3\", \"Topic3\", \"Topic3\", \"Topic3\", \"Topic3\", \"Topic3\", \"Topic3\", \"Topic3\", \"Topic3\", \"Topic3\", \"Topic3\", \"Topic3\", \"Topic3\", \"Topic3\", \"Topic3\", \"Topic3\", \"Topic3\", \"Topic3\", \"Topic3\", \"Topic3\", \"Topic3\", \"Topic3\", \"Topic3\", \"Topic3\", \"Topic3\", \"Topic3\", \"Topic3\", \"Topic3\", \"Topic3\", \"Topic3\", \"Topic3\", \"Topic3\", \"Topic3\", \"Topic3\", \"Topic3\", \"Topic3\", \"Topic3\", \"Topic3\", \"Topic3\", \"Topic3\", \"Topic3\", \"Topic4\", \"Topic4\", \"Topic4\", \"Topic4\", \"Topic4\", \"Topic4\", \"Topic4\", \"Topic4\", \"Topic4\", \"Topic4\", \"Topic4\", \"Topic4\", \"Topic4\", \"Topic4\", \"Topic4\", \"Topic4\", \"Topic4\", \"Topic4\", \"Topic4\", \"Topic4\", \"Topic4\", \"Topic4\", \"Topic4\", \"Topic4\", \"Topic4\", \"Topic4\", \"Topic4\", \"Topic4\", \"Topic4\", \"Topic4\", \"Topic4\", \"Topic4\", \"Topic4\", \"Topic4\", \"Topic4\", \"Topic4\", \"Topic4\", \"Topic4\", \"Topic4\", \"Topic4\", \"Topic4\", \"Topic4\", \"Topic4\", \"Topic4\", \"Topic4\", \"Topic4\", \"Topic4\", \"Topic4\", \"Topic4\", \"Topic4\", \"Topic4\", \"Topic4\", \"Topic4\", \"Topic4\", \"Topic4\", \"Topic4\", \"Topic4\", \"Topic4\", \"Topic4\", \"Topic4\", \"Topic4\", \"Topic4\", \"Topic4\", \"Topic4\", \"Topic4\", \"Topic4\", \"Topic4\", \"Topic4\", \"Topic4\", \"Topic4\", \"Topic4\", \"Topic4\", \"Topic4\", \"Topic4\", \"Topic4\", \"Topic5\", \"Topic5\", \"Topic5\", \"Topic5\", \"Topic5\", \"Topic5\", \"Topic5\", \"Topic5\", \"Topic5\", \"Topic5\", \"Topic5\", \"Topic5\", \"Topic5\", \"Topic5\", \"Topic5\", \"Topic5\", \"Topic5\", \"Topic5\", \"Topic5\", \"Topic5\", \"Topic5\", \"Topic5\", \"Topic5\", \"Topic5\", \"Topic5\", \"Topic5\", \"Topic5\", \"Topic5\", \"Topic5\", \"Topic5\", \"Topic5\", \"Topic5\", \"Topic5\", \"Topic5\", \"Topic5\", \"Topic5\", \"Topic5\", \"Topic5\", \"Topic5\", \"Topic5\", \"Topic5\", \"Topic5\", \"Topic5\", \"Topic5\", \"Topic5\", \"Topic5\", \"Topic5\", \"Topic5\", \"Topic5\", \"Topic5\", \"Topic5\", \"Topic5\", \"Topic5\", \"Topic5\", \"Topic5\", \"Topic5\", \"Topic5\", \"Topic5\", \"Topic5\", \"Topic5\", \"Topic5\", \"Topic5\", \"Topic5\", \"Topic5\", \"Topic5\", \"Topic5\", \"Topic5\", \"Topic5\", \"Topic5\", \"Topic5\", \"Topic5\", \"Topic5\"], \"logprob\": [30.0, 29.0, 28.0, 27.0, 26.0, 25.0, 24.0, 23.0, 22.0, 21.0, 20.0, 19.0, 18.0, 17.0, 16.0, 15.0, 14.0, 13.0, 12.0, 11.0, 10.0, 9.0, 8.0, 7.0, 6.0, 5.0, 4.0, 3.0, 2.0, 1.0, -4.6749, -5.3014, -5.4791, -5.4827, -6.0296, -6.1607, -6.3201, -6.345, -6.603, -6.6801, -6.7149, -6.7249, -6.7902, -6.9789, -7.0629, -7.0714, -7.0984, -7.1921, -7.2397, -7.2511, -7.3141, -7.3166, -7.3924, -7.3939, -7.4412, -7.619, -7.6374, -7.6313, -7.7008, -7.7209, -4.7596, -5.9931, -4.2525, -6.5921, -6.4481, -5.9216, -6.5209, -5.5132, -6.6539, -6.2489, -4.1421, -4.1039, -3.693, -6.1174, -4.7539, -5.1941, -5.7727, -5.2964, -5.1377, -5.3765, -5.6393, -5.1756, -6.0745, -5.3532, -5.7394, -4.8335, -4.8931, -5.4671, -5.17, -4.9283, -4.9434, -4.6328, -5.4131, -5.39, -5.1353, -5.0189, -4.9089, -5.1691, -5.4288, -5.4738, -4.5414, -5.5392, -6.1078, -6.1062, -6.7598, -7.0242, -7.1565, -7.2414, -7.4804, -7.4923, -7.5221, -7.5467, -7.654, -7.6624, -7.676, -7.7406, -7.7942, -7.8169, -7.824, -7.9182, -8.0655, -8.0762, -8.2142, -8.2576, -8.264, -8.2967, -8.3059, -8.2768, -8.4162, -8.4141, -5.4563, -7.0482, -4.7716, -5.911, -7.5187, -6.0936, -6.4303, -6.2486, -6.3152, -5.5239, -6.9087, -5.6165, -6.2337, -5.5518, -5.3302, -6.2822, -5.7318, -5.1539, -6.059, -5.1479, -5.3668, -5.2292, -5.4169, -3.9393, -6.3436, -5.2431, -6.4953, -5.9355, -5.6368, -4.2797, -4.3517, -3.952, -4.9335, -4.2378, -4.7222, -5.018, -4.8463, -5.0415, -4.9694, -4.9423, -4.9831, -5.4096, -4.9075, -5.3587, -5.2842, -5.1624, -5.2759, -5.3959, -5.3821, -5.325, -5.3763, -5.3823, -4.7089, -5.2439, -5.6753, -5.6921, -5.7564, -5.777, -5.8467, -6.0762, -6.1039, -6.1148, -6.1957, -6.2306, -6.3221, -6.542, -6.7811, -6.7906, -6.827, -6.8352, -6.8581, -6.9146, -6.951, -6.9841, -6.9836, -7.025, -7.0278, -7.0508, -7.054, -7.0626, -7.0842, -7.0985, -6.1268, -6.5925, -6.3379, -6.5694, -5.9242, -6.0432, -4.9385, -4.418, -5.6946, -4.3856, -5.6213, -5.6551, -4.6984, -5.5135, -5.4162, -5.9065, -4.7916, -5.5167, -4.296, -5.5317, -5.5768, -4.6234, -5.4499, -4.7503, -4.9816, -5.5621, -5.3696, -5.4739, -5.1836, -5.0865, -5.1743, -5.3411, -5.5041, -5.5455, -5.509, -5.581, -5.6438, -5.1017, -5.6209, -5.9148, -6.048, -6.2746, -6.3148, -6.3876, -6.5264, -6.5738, -6.6019, -7.0243, -7.0364, -7.0175, -7.0434, -7.1555, -7.1887, -7.2617, -7.2974, -7.3516, -7.3738, -7.4077, -7.4652, -7.4782, -7.5129, -7.5345, -7.5429, -7.5611, -7.5986, -7.6057, -7.6104, -6.3954, -6.9087, -5.6615, -7.2142, -6.4265, -6.3145, -5.6273, -5.084, -3.8933, -5.1796, -6.6283, -5.5899, -5.9616, -5.0354, -6.5507, -3.7476, -4.9271, -4.602, -6.0925, -5.4162, -4.9749, -5.3244, -4.4605, -5.1834, -5.5245, -5.0729, -3.8911, -5.2763, -4.2794, -5.7683, -5.7852, -5.0083, -4.9035, -5.3544, -5.0053, -5.2331, -5.3376, -5.1482, -4.9343, -5.2693, -4.8029, -5.162, -5.1658, -5.2456, -5.3908, -4.7308, -5.8536, -5.9296, -5.9462, -5.9526, -6.0225, -6.0465, -6.244, -6.2666, -6.4228, -6.5214, -6.6064, -6.6204, -6.6368, -6.9389, -7.1002, -7.2185, -7.2677, -7.2592, -7.3041, -7.3109, -7.2946, -7.4479, -7.5266, -7.5713, -7.7123, -7.7304, -7.773, -7.785, -7.7955, -4.7692, -5.9134, -6.169, -4.6193, -5.4551, -4.9287, -5.577, -6.613, -5.6268, -6.0539, -5.2379, -6.4248, -5.8389, -3.9918, -4.3542, -5.2137, -3.6474, -4.996, -5.1239, -5.436, -5.518, -4.9421, -4.6602, -4.7049, -4.7422, -5.0079, -5.3897, -5.0702, -4.4411, -5.1488, -4.7667, -5.3676, -5.2178, -4.5938, -5.3995, -5.2106, -5.124, -5.2132, -5.2999, -5.2568, -5.3291, -5.3594], \"loglift\": [30.0, 29.0, 28.0, 27.0, 26.0, 25.0, 24.0, 23.0, 22.0, 21.0, 20.0, 19.0, 18.0, 17.0, 16.0, 15.0, 14.0, 13.0, 12.0, 11.0, 10.0, 9.0, 8.0, 7.0, 6.0, 5.0, 4.0, 3.0, 2.0, 1.0, 1.1073, 1.1071, 1.1069, 1.1069, 1.1064, 1.1063, 1.106, 1.106, 1.1055, 1.1054, 1.1053, 1.1052, 1.1051, 1.1045, 1.1043, 1.1043, 1.1042, 1.1039, 1.1037, 1.1036, 1.1034, 1.1033, 1.103, 1.103, 1.1028, 1.1018, 1.1018, 1.1017, 1.1014, 1.1012, 1.0873, 1.0863, 1.0111, 1.0578, 1.0457, 0.9857, 1.0129, 0.8713, 1.0048, 0.9282, 0.4869, 0.4698, 0.344, 0.862, 0.5128, 0.6104, 0.7622, 0.6069, 0.5464, 0.5875, 0.6813, 0.4856, 0.8362, 0.5197, 0.6812, 0.188, 0.2158, 0.5118, 0.3443, 0.1315, 0.0987, -0.2354, 0.3541, 0.3172, -0.0002, -0.1581, -0.3745, -0.1251, 0.3088, 0.2792, 1.4566, 1.456, 1.4552, 1.4552, 1.4535, 1.4525, 1.4519, 1.4514, 1.4499, 1.4498, 1.4496, 1.4494, 1.4485, 1.4485, 1.4484, 1.4478, 1.4473, 1.4471, 1.4471, 1.446, 1.4443, 1.4441, 1.4419, 1.4417, 1.4414, 1.4409, 1.4409, 1.4398, 1.4391, 1.439, 1.3737, 1.4065, 1.3141, 1.3447, 1.4105, 1.3411, 1.348, 1.3367, 1.3322, 1.2709, 1.3673, 1.2558, 1.2887, 1.2002, 1.1412, 1.2542, 1.1648, 1.078, 1.2128, 1.0566, 1.0632, 1.0096, 1.0385, 0.6344, 1.2094, 0.8745, 1.2307, 1.0279, 0.8658, 0.2546, 0.2773, 0.085, 0.5292, 0.1596, 0.3199, 0.4055, 0.2135, 0.3706, 0.1656, 0.1017, 0.1259, 0.6027, -0.0467, 0.5141, 0.2301, -0.1408, 0.1562, 0.5134, 0.3826, -0.1281, 0.3309, 0.2364, 1.5346, 1.5342, 1.5338, 1.5337, 1.5337, 1.5336, 1.5335, 1.5332, 1.5331, 1.5331, 1.5329, 1.5328, 1.5326, 1.532, 1.5312, 1.5312, 1.531, 1.531, 1.5309, 1.5307, 1.5305, 1.5304, 1.5304, 1.5302, 1.5301, 1.53, 1.53, 1.53, 1.5299, 1.5298, 1.511, 1.5057, 1.4734, 1.4751, 1.372, 1.3406, 1.1079, 0.8855, 1.1576, 0.6584, 1.0818, 1.0875, 0.7251, 0.9929, 0.8915, 1.0575, 0.3434, 0.7737, -0.259, 0.7158, 0.7557, -0.2261, 0.6216, -0.216, 0.04, 0.7268, 0.4278, 0.572, 0.0831, -0.2257, -0.1145, -0.7121, 0.0866, -0.0312, -0.4669, -0.1489, 0.1092, 2.1452, 2.1443, 2.1435, 2.1431, 2.1422, 2.1421, 2.1417, 2.141, 2.1407, 2.1406, 2.1375, 2.1374, 2.1374, 2.1374, 2.1362, 2.1359, 2.1352, 2.1347, 2.134, 2.1338, 2.1331, 2.1324, 2.1323, 2.132, 2.1316, 2.1313, 2.1311, 2.1307, 2.1305, 2.1304, 2.1017, 2.1123, 2.0565, 2.1126, 2.0532, 2.0422, 1.9812, 1.9241, 1.7662, 1.864, 2.0277, 1.8655, 1.9183, 1.7599, 2.0017, 1.4494, 1.6356, 1.5074, 1.8691, 1.656, 1.4582, 1.5735, 1.1583, 1.43, 1.5661, 1.298, 0.5063, 1.2957, 0.5813, 1.611, 1.614, 0.9289, 0.6871, 1.106, 0.5365, 0.783, 0.8951, 0.5564, 0.1747, 0.7635, -0.7659, 0.3007, 0.2663, -0.2035, -0.331, 2.2587, 2.2565, 2.2563, 2.2563, 2.2562, 2.256, 2.2559, 2.255, 2.2549, 2.2541, 2.2536, 2.253, 2.253, 2.2529, 2.2505, 2.2488, 2.2474, 2.2469, 2.2465, 2.2463, 2.2463, 2.2462, 2.2443, 2.2431, 2.2424, 2.2397, 2.2392, 2.2384, 2.2383, 2.238, 2.1823, 2.1797, 2.1677, 2.0763, 2.08, 2.0203, 2.0146, 2.1414, 2.0083, 2.0487, 1.844, 2.0537, 1.8931, 1.4203, 1.476, 1.5893, 0.8869, 1.3749, 1.333, 1.5054, 1.5072, 1.1033, 0.8025, 0.8369, 0.8485, 1.0552, 1.3041, 0.9422, -0.0438, 0.9688, 0.0941, 1.1756, 0.7983, -0.5568, 1.0282, 0.4488, -0.1024, -0.0163, 0.4047, -0.2147, 0.3621, 0.0726]}, \"token.table\": {\"Topic\": [1, 2, 3, 4, 5, 5, 1, 2, 3, 5, 1, 2, 3, 4, 5, 1, 2, 2, 4, 4, 5, 1, 2, 3, 4, 5, 1, 2, 3, 4, 5, 1, 2, 3, 4, 5, 2, 4, 5, 1, 1, 2, 4, 2, 3, 3, 1, 1, 1, 2, 5, 1, 2, 3, 4, 5, 2, 2, 3, 4, 4, 5, 2, 4, 5, 5, 3, 5, 2, 1, 2, 3, 4, 5, 2, 2, 1, 2, 3, 4, 5, 1, 2, 3, 3, 5, 1, 2, 3, 4, 5, 1, 1, 1, 3, 4, 5, 1, 3, 4, 5, 1, 2, 3, 1, 2, 3, 4, 5, 1, 2, 1, 2, 2, 5, 4, 1, 2, 3, 4, 5, 1, 2, 3, 4, 5, 1, 2, 3, 4, 5, 2, 4, 1, 3, 2, 3, 3, 5, 4, 3, 5, 5, 3, 4, 3, 1, 2, 2, 2, 4, 1, 3, 4, 1, 2, 3, 4, 5, 5, 1, 2, 3, 5, 2, 4, 5, 1, 2, 3, 4, 5, 1, 2, 3, 4, 5, 1, 2, 3, 4, 5, 3, 1, 2, 3, 4, 5, 2, 5, 1, 1, 2, 3, 4, 5, 1, 2, 4, 5, 1, 2, 3, 5, 3, 1, 2, 3, 4, 5, 3, 5, 1, 2, 3, 2, 5, 3, 3, 3, 5, 1, 3, 4, 5, 1, 2, 3, 4, 5, 1, 2, 3, 5, 4, 5, 1, 2, 3, 5, 1, 2, 3, 5, 1, 2, 3, 4, 5, 1, 3, 4, 1, 2, 3, 1, 2, 3, 4, 5, 2, 4, 5, 4, 1, 2, 3, 4, 5, 3, 5, 5, 5, 1, 2, 3, 4, 5, 2, 5, 1, 2, 3, 4, 5, 1, 2, 4, 5, 1, 2, 3, 4, 5, 1, 1, 2, 3, 4, 5, 2, 4, 1, 2, 5, 3, 3, 5, 2, 1, 2, 4, 5, 5, 1, 2, 3, 4, 5, 5, 1, 2, 3, 4, 5, 1, 1, 2, 3, 4, 5, 1, 3, 1, 2, 3, 4, 5, 1, 5, 1, 2, 3, 4, 5, 1, 2, 3, 1, 2, 3, 1, 1, 2, 3, 4, 5, 4, 2, 3, 1, 2, 3, 5, 5, 5, 4, 5, 1, 4, 1, 2, 3, 4, 5, 4, 1, 2, 3, 4, 5, 4, 4, 4, 4, 1, 2, 3, 4, 5, 1, 4, 5, 1, 2, 3, 4, 5, 1, 2, 3, 4, 1, 2, 3, 2, 3, 4, 5, 5, 3, 1, 2, 3, 4, 5, 1, 2, 3, 4, 5, 1, 2, 3, 4, 5, 3, 1, 2, 3, 4, 5, 4, 5, 1, 1, 2, 3, 4, 5, 2, 3, 2, 4, 5, 1, 2, 3, 4, 1, 3, 1, 4, 5, 1, 2, 4, 5, 2, 1, 2, 1, 3, 2, 1, 1, 2, 3, 4, 5, 4, 1, 2, 3, 4, 5, 2, 5, 5, 2, 1, 2, 3, 5, 2, 3, 5, 1, 2, 3, 1, 2, 3, 4, 5, 3, 2, 3, 2, 4, 5, 2, 5, 1, 2, 3, 4, 5, 2, 1, 2, 3, 5, 3, 4, 5, 5, 4, 5, 3, 2, 3, 2, 4, 1, 2, 3, 4, 5, 2, 1, 3, 1, 2, 3, 4, 5, 2, 4, 1, 2, 3, 3, 4, 1, 4, 1, 2, 3, 5, 2, 2, 4, 5, 1, 2, 3, 4, 5, 2, 1, 2, 5, 4, 4, 2, 4, 5, 2, 4, 4, 1, 1, 2, 4, 5, 1, 4, 1, 4, 5, 1, 2, 1, 2, 3, 5, 1, 2, 3, 4, 5, 2, 5, 1, 1, 2, 2, 4, 4, 5, 3, 5, 1, 5, 1, 2, 3, 4, 5, 1, 2, 3, 4, 5, 4, 1, 2, 3, 4, 5, 1, 2, 3, 4, 5, 1, 1, 3, 1, 2, 4, 5, 1, 2, 2, 5, 1, 2, 3, 5, 3, 2, 5, 1, 2, 3, 4, 5, 1, 2, 3, 4, 5, 2, 2, 1, 2, 3, 5, 3, 5, 1, 1, 1, 2, 1, 3, 5, 4, 5, 2, 3, 5, 3, 3, 5, 3, 4, 5, 1, 4, 3, 1, 2, 3, 1, 1, 2, 3, 4, 1, 1, 2, 3, 4, 5, 2, 2, 4, 1, 1, 2, 3, 4, 5, 4, 3], \"Freq\": [0.2271305825594519, 0.30048059533924565, 0.17358396689516806, 0.04535973640982722, 0.2534613563778394, 0.9970142438051769, 0.5556253064174804, 0.38940179029865934, 0.04767324193255527, 0.007172080644720704, 0.2016575582802782, 0.7827047601048087, 0.01367169886645954, 0.7562285591734187, 0.24185688153744472, 0.978484594258552, 0.01973888230492756, 0.9890979771383683, 0.9964405746936866, 0.9131998870608645, 0.08544560346768323, 0.32788088845607577, 0.3415110408630258, 0.15939706009238785, 0.06739353134547516, 0.10411921977531274, 0.28197915587405664, 0.22233266776366623, 0.17188615211246194, 0.20899270769784625, 0.11469298999118781, 0.3482994315750689, 0.3152285764558199, 0.12137707463979674, 0.06508625741554318, 0.1498743008595751, 0.8305110410791356, 0.037123737468416025, 0.13258477667291438, 0.9933198545844572, 0.07995532372851104, 0.04920327614062218, 0.8672077419784658, 0.9922392712059063, 0.9975886136601789, 0.9971959434306026, 0.9969116143172411, 0.9971309613973508, 0.9033948153156973, 0.08807470344303456, 0.010065680393489665, 0.5375220781168525, 0.3073118306337752, 0.10568024567501015, 0.015201416236336328, 0.034172783699284066, 0.9991943182639433, 0.32949162791432, 0.16770089582186243, 0.5023639169994116, 0.9966084647347389, 0.9818832504677154, 0.2909835539947657, 0.5996279595325663, 0.10932908098069231, 0.9986305117672327, 0.9924061461676792, 0.991856810320441, 0.9915620223517608, 0.3168069006003532, 0.2678348415380849, 0.04655368577524274, 0.28597264119077687, 0.0828292850806267, 0.9945934347113389, 0.9732065673084508, 0.12651113947933695, 0.19109374914361385, 0.020347945510662588, 0.4883506922559021, 0.17339988348216814, 0.7819311210289867, 0.16582552321985036, 0.05229881886164511, 0.08426957281429576, 0.9120941998723776, 0.056083277882959685, 0.24247770143514924, 0.05360901562341735, 0.3101075365293065, 0.3381491754707864, 0.9958991690961766, 0.9948960995741868, 0.9409960471834261, 0.05974578077355087, 0.9851474229171433, 0.9895578013198819, 0.06859042086393882, 0.18617399948783395, 0.6117145697457401, 0.13298142820559566, 0.43670201230338057, 0.3229424478301777, 0.2402422381309086, 0.15169231334066782, 0.06937865493875504, 0.12347048760286916, 0.5644365147559732, 0.09172093364784566, 0.3414467879260042, 0.6579649386804195, 0.2173292163880995, 0.7810268713947326, 0.997645363860286, 0.9949241987720778, 0.9935074043486685, 0.12932699468154188, 0.39553905516237814, 0.08453842509486072, 0.15787970779305113, 0.2329005618507421, 0.18443016205704627, 0.20133013706625766, 0.030126042407724686, 0.2924430458115713, 0.2917082642894317, 0.19269767513013064, 0.24542589469310172, 0.024926067429768144, 0.15243248928204364, 0.38443665535911636, 0.817176540162707, 0.18108540441193227, 0.9983634237912602, 0.9962807909833703, 0.9961506784766051, 0.9986933609297013, 0.9723559147077512, 0.027335306839173727, 0.987326961776216, 0.5275505874531897, 0.47145660093917974, 0.9788803595164348, 0.02948049288198309, 0.963029434144781, 0.9980337570290165, 0.9503314463054668, 0.04739185690237236, 0.991543101304865, 0.9875075955048169, 0.9776722007200688, 0.9799687772509891, 0.019730914978207833, 0.9902520202477106, 0.17957547879694455, 0.15980079809609055, 0.03901491057195521, 0.5280374197957775, 0.09406334603649477, 0.9957437362127824, 0.46601058923751515, 0.2932830716580187, 0.20868785400389672, 0.031833740441272386, 0.0960841282005242, 0.9001565694575424, 0.9961607192604686, 0.05238173766784231, 0.4253591105064602, 0.1687855991519363, 0.08536283175500227, 0.2677288814134162, 0.3434009637211476, 0.06072022984073784, 0.19032475403861523, 0.10562258468094733, 0.30002937097776344, 0.4536141589472486, 0.32421437522864816, 0.09687110880591361, 0.030026469150172486, 0.0950838189755462, 0.9934450433037875, 0.5515704446744762, 0.11275324067187875, 0.2340205015577565, 0.04441097030545428, 0.057297054953669, 0.07319574828345869, 0.9254920037196642, 0.996967682948651, 0.06589674317378182, 0.3011845010090028, 0.14553881927951812, 0.030724861847898268, 0.4568301827384874, 0.020878335975760096, 0.3905476964877476, 0.1179011913925276, 0.47037662815977155, 0.19612895489400337, 0.7733374853592568, 0.014226970821326668, 0.015243183022850002, 0.9965564961090052, 0.2957521715327955, 0.17855577161004874, 0.44056028871482816, 0.042951560181111376, 0.04172437274736534, 0.3392057762429231, 0.6600379062726879, 0.30656418207408703, 0.6392836415870347, 0.05413534167578124, 0.18827030412449386, 0.8079933885342861, 0.9975426254182405, 0.9976291748580256, 0.9988934038567705, 0.9945150213145368, 0.7621921787067959, 0.0643099650783859, 0.11432882680601938, 0.05835533868223906, 0.24191465159416192, 0.7468821282227524, 0.010569086720133288, 0.9606530247636058, 0.026684806243433494, 0.7082993383526879, 0.13658890243059918, 0.13658890243059918, 0.01881164524493282, 0.985120511593806, 0.991173058776304, 0.14740963724412187, 0.6844881926130741, 0.14015998295342735, 0.02779034144766232, 0.7895516851245884, 0.14918445387380813, 0.03025911092723467, 0.030962811181356405, 0.47068831472727996, 0.30253111841745334, 0.04593006942096845, 0.141965669119357, 0.03909749711041116, 0.8364160019288167, 0.16324104126863523, 0.993603636870575, 0.3048760520645838, 0.5535282088133612, 0.1409556812142751, 0.1998142326625049, 0.1542174364396394, 0.522333979767695, 0.06087530385775239, 0.06302384399390835, 0.15897255864647925, 0.4283234440387672, 0.41305097115569933, 0.9950401408547709, 0.27718704264427696, 0.27230029752420154, 0.18569631456286526, 0.1525750420823542, 0.11212365192173004, 0.182780266246281, 0.8110874314678719, 0.9975352584833657, 0.9723611430931065, 0.12298595070618501, 0.09717408450859062, 0.25811866197594385, 0.3530152288788644, 0.16853630281958687, 0.8961816421477611, 0.10209664277632721, 0.11733338404808255, 0.3617373624386943, 0.033106515001118726, 0.2556017702292255, 0.2317456050078311, 0.12392703734634229, 0.20711093912676382, 0.4269541081178779, 0.24106355209836444, 0.5943033731479699, 0.0646986564857821, 0.1437234440505588, 0.1529661092628134, 0.04436479301882201, 0.9976656609950891, 0.14807327611776355, 0.20494199810502056, 0.04635337339338685, 0.4980841650280133, 0.10279289747885324, 0.9858890782706892, 0.9954674147067668, 0.09420232539792911, 0.7966825233653434, 0.10765980045477613, 0.9948024710399945, 0.975825791957761, 0.02217785890813093, 0.9979481483412501, 0.07684995428167973, 0.8453494970984771, 0.07684995428167973, 0.9962566126718788, 0.9959163226421649, 0.20267255608495038, 0.06842642568784497, 0.525254277184791, 0.10622387987732125, 0.09710035645227526, 0.9812797191548811, 0.2915355302766578, 0.257833065311005, 0.41621623400205093, 0.009576656711551616, 0.02486247415498977, 0.9946552270272273, 0.12617480160603067, 0.1844093254241987, 0.03688186508483974, 0.586227539769558, 0.06405797619998481, 0.05551605399515868, 0.9400718476513537, 0.5367011113072978, 0.24308599952340715, 0.19562960354903414, 0.018436297716662903, 0.005804019651542025, 0.9994663952848465, 0.976943754569577, 0.6062864451998041, 0.3205402511565679, 0.02435583997933216, 0.04871167995866432, 0.9884340889765497, 0.39587977632917254, 0.15860772945013699, 0.4457644654304253, 0.2776137424282121, 0.1017498331976705, 0.6205483654277683, 0.9947509265191227, 0.05839364396632649, 0.06141400486113648, 0.6393097227347814, 0.17618771886391613, 0.06443436575594648, 0.9914674027031761, 0.974627258150393, 0.9943615145604134, 0.20103374101025903, 0.041703807975532456, 0.2459455342146786, 0.5111389798026799, 0.9891976250665692, 0.9968567882331939, 0.21649252728658386, 0.7836088215916568, 0.9965881047789371, 0.9819452230880528, 0.37828696894667313, 0.2442286274537899, 0.016757292686610404, 0.20393981737747127, 0.15652024445578652, 0.979576174427532, 0.18523715257607884, 0.15693703204362233, 0.4013471639148375, 0.0941622192261734, 0.16259705615011363, 0.9976314365262824, 0.988951357718626, 0.9914430747652527, 0.9931426532376272, 0.1318246660221723, 0.3693790129836296, 0.13317440662990784, 0.2960431066299979, 0.06973659806633688, 0.9105849830425872, 0.08883755932122801, 0.9959215062873638, 0.33022348905029725, 0.274950895281341, 0.3037975409344824, 0.047405326772644994, 0.043572555671877955, 0.9079495845213537, 0.09175842188189527, 0.9952753205857717, 0.9984918471907452, 0.1330941782828243, 0.015761152691387087, 0.8493510061469709, 0.5582343685849822, 0.06304384278421131, 0.10345656251768011, 0.2748064941875878, 0.9844516515830373, 0.9943096373612468, 0.14087760052437703, 0.3138412025916727, 0.1509044760065391, 0.08021500385729653, 0.3148438901398889, 0.34604019854241047, 0.076155564930183, 0.4589374833950502, 0.02672125085269579, 0.09218831544180048, 0.1402374402492524, 0.3493823367438188, 0.4449375983340004, 0.053026440938776814, 0.012381808544079866, 0.9997570242668874, 0.6083153180021453, 0.18280978468458253, 0.15247281610545999, 0.04333852654160361, 0.013395544567404754, 0.1623334505590341, 0.8361284576739291, 0.9906720915077643, 0.449954138978203, 0.2675402988519045, 0.11129086811745889, 0.12197773955920163, 0.04938071631701818, 0.9977923921872665, 0.9979832679255204, 0.09103323559511765, 0.7973255807296511, 0.10986769813203855, 0.183856365565265, 0.15869707343528136, 0.6357559588230479, 0.02225629688421629, 0.9942016825219753, 0.9929560056208127, 0.20404645862288473, 0.753611587180521, 0.04216960144872951, 0.1960150933514713, 0.13511720027140256, 0.5861422208956618, 0.08373460298509454, 0.9875257958611047, 0.11223062022957371, 0.8861542722293424, 0.9976218235745523, 0.9990576969829618, 0.9850545297650749, 0.9998673560173317, 0.40995280879613605, 0.26413066875455743, 0.11575369337532317, 0.13914026300463295, 0.07094581206874645, 0.9910725689358378, 0.05880938268314638, 0.3374221594671023, 0.09633030104660176, 0.07557404833490304, 0.4318897198857311, 0.167129048462721, 0.8327637069952822, 0.990920949642245, 0.9951345602699337, 0.6529903001912691, 0.26776250298345894, 0.06420463286796836, 0.01605115821699209, 0.5106910924993272, 0.09305926574432186, 0.3956910242624417, 0.13046995421205687, 0.21728265451469472, 0.6523497710602844, 0.14452217259396213, 0.24268817662004963, 0.17179050704565313, 0.19996778597906711, 0.24117326915051127, 0.9993429894394252, 0.9997721983985505, 0.9984878687060452, 0.99327692938348, 0.1053728896173975, 0.8881429267752076, 0.8833200428159159, 0.11694659721788182, 0.21632479601846571, 0.24652116342607763, 0.1089049316340102, 0.2509763651747417, 0.1777130475300439, 0.98988415973539, 0.551156920744444, 0.25986462475950806, 0.17261765687996203, 0.015948370472605188, 0.15237515765879484, 0.06881458732977831, 0.7766217712932123, 0.9911466632027184, 0.9922387107327686, 0.9915041192493271, 0.9946374544454287, 0.9936166425846283, 0.9968566668612449, 0.1982320410502545, 0.8008049340440744, 0.09444776925108203, 0.04775449007077181, 0.06685628609908054, 0.6791749698954213, 0.11142714349846755, 0.9992795421853853, 0.6529191577039424, 0.3465951039378865, 0.3987017835829494, 0.20241228760037722, 0.22420222247550678, 0.08049670156349521, 0.09418294165035346, 0.9898377986487229, 0.998420917608142, 0.3301675020626685, 0.6515472759335549, 0.018830846125247252, 0.9966226128310547, 0.9908813926988151, 0.04073500176260394, 0.9543628984381494, 0.5283842318369304, 0.4393229523417683, 0.02542964181967805, 0.006788908902085995, 0.9915535187773932, 0.15268036731971504, 0.6836536090253311, 0.16358610784255181, 0.3646876826992347, 0.32075605156762327, 0.1351035518064201, 0.09539965086739052, 0.08418697513923865, 0.9968987233793739, 0.9978476021430422, 0.9842645272196073, 0.9736655774291506, 0.9886525614668829, 0.980616751473065, 0.8669269117510288, 0.010438614229392278, 0.12265371719535928, 0.9482206719854207, 0.04462214926990215, 0.9981126803941207, 0.9971249568090796, 0.5704034658061453, 0.2748974449414797, 0.09396113429384757, 0.060428536181545096, 0.9965943750711924, 0.992743418215529, 0.059549206808686715, 0.7556589001929901, 0.18480788319937258, 0.08396844256276371, 0.9143230412389827, 0.28530784190630776, 0.028081480502589348, 0.6851881242631801, 0.9805343382465617, 0.4611494883139662, 0.3893956779880739, 0.11463108722794985, 0.020563591983639856, 0.014438266711917346, 0.9828633974180672, 0.9960902694084037, 0.9941433437208539, 0.07910680477903406, 0.9196166055562709, 0.10913921183604136, 0.886756096167836, 0.0738211305756743, 0.9247067935268676, 0.8238213718084291, 0.1758505016389222, 0.9991004129452498, 0.990548609238331, 0.28107085838280166, 0.29514076165458336, 0.03599277581153455, 0.3723616261229666, 0.015705938535942352, 0.26104278906893785, 0.27319777481272434, 0.1718097588070134, 0.1939009630556412, 0.09994099389335537, 0.9960959294132312, 0.32953010697880425, 0.22771182430498801, 0.3816931680530746, 0.011034493688787965, 0.050156789494490754, 0.1799724939967578, 0.29812834875115096, 0.3306016465810007, 0.1255895012455636, 0.06572908476403327, 0.9979659852296213, 0.9995562888773893, 0.9987398399295992, 0.16634991703860122, 0.6701021393074396, 0.06230774277770929, 0.10169093868437461, 0.10861668953799176, 0.8910591382468583, 0.30595562839005047, 0.6931384147597603, 0.16118827137111594, 0.7291850371550482, 0.07829144609454203, 0.03070252788021256, 0.998482651111631, 0.8171690747689846, 0.1825827360519257, 0.16075876192853658, 0.128735104173848, 0.46690493006335926, 0.16460160085909922, 0.07877819807653386, 0.08590095525175846, 0.20298077574304407, 0.23479594435480647, 0.23225073086586545, 0.24370419156609993, 0.9833907816201843, 0.9710593353905207, 0.2527679792245563, 0.15102489324737642, 0.5818432729319976, 0.015102489324737641, 0.9981624054409678, 0.976432372692167, 0.9957862386216284, 0.9966120167200905, 0.035859138026426846, 0.9502671577003114, 0.8854265316132467, 0.0356069650782807, 0.07833532317221754, 0.8471642462511243, 0.1507665184006238, 0.6746316053420898, 0.2887069752118987, 0.03682486928723198, 0.998319175496996, 0.9408717517763696, 0.058621292945568206, 0.09775967648972606, 0.11508417612081676, 0.787027268955263, 0.9996403574618994, 0.9844640688256098, 0.9955536009128106, 0.03868051069322799, 0.8930152686132201, 0.06558869204503877, 0.9934764130832799, 0.994658361595776, 0.26090608383290037, 0.17821453813722704, 0.5603065079034418, 0.9940756366131397, 0.4659676068585263, 0.2535708793314735, 0.1663112798374642, 0.054360644865967256, 0.059810164957728826, 0.9875765558644503, 0.0857855120102213, 0.9093264273083458, 0.9981212416436268, 0.37680114763794925, 0.28830713431483607, 0.19214239256413798, 0.08400383082891719, 0.058746554299064585, 0.9918445833772289, 0.9956516094067979], \"Term\": [\"-\", \"-\", \"-\", \"-\", \"-\", \"\\\\mathcal\", \"achieve\", \"achieve\", \"achieve\", \"achieve\", \"adaptive\", \"adaptive\", \"adaptive\", \"admit\", \"admit\", \"adversarial\", \"adversarial\", \"agent\", \"algebra\", \"algebraic\", \"algebraic\", \"allow\", \"allow\", \"allow\", \"allow\", \"allow\", \"also\", \"also\", \"also\", \"also\", \"also\", \"apply\", \"apply\", \"apply\", \"apply\", \"apply\", \"approximate\", \"approximate\", \"approximate\", \"architecture\", \"arithmetic\", \"arithmetic\", \"arithmetic\", \"armed\", \"atmospheric\", \"atomic\", \"automate\", \"automatic\", \"automatically\", \"automatically\", \"automatically\", \"base\", \"base\", \"base\", \"base\", \"base\", \"bayesian\", \"bind\", \"bind\", \"bind\", \"boolean\", \"bosonic\", \"bound\", \"bound\", \"bound\", \"boundary\", \"bright\", \"brownian\", \"cache\", \"call\", \"call\", \"call\", \"call\", \"call\", \"causal\", \"censor\", \"certain\", \"certain\", \"certain\", \"certain\", \"certain\", \"challenge\", \"challenge\", \"challenge\", \"chaotic\", \"chaotic\", \"classical\", \"classical\", \"classical\", \"classical\", \"classical\", \"clinical\", \"cognitive\", \"collect\", \"collect\", \"color\", \"commute\", \"compact\", \"compact\", \"compact\", \"compact\", \"compare\", \"compare\", \"compare\", \"complete\", \"complete\", \"complete\", \"complete\", \"complete\", \"computational\", \"computational\", \"computationally\", \"computationally\", \"conditional\", \"conformal\", \"conjecture\", \"consider\", \"consider\", \"consider\", \"consider\", \"consider\", \"construct\", \"construct\", \"construct\", \"construct\", \"construct\", \"continuous\", \"continuous\", \"continuous\", \"continuous\", \"continuous\", \"convex\", \"convex\", \"convolutional\", \"cool\", \"corrupt\", \"cosmic\", \"cosmological\", \"cosmological\", \"countable\", \"couple\", \"couple\", \"curvature\", \"cyclic\", \"cyclic\", \"dark\", \"dataset\", \"dataset\", \"decentralize\", \"decentralized\", \"decidable\", \"deep\", \"deep\", \"definable\", \"define\", \"define\", \"define\", \"define\", \"define\", \"deform\", \"demonstrate\", \"demonstrate\", \"demonstrate\", \"demonstrate\", \"denote\", \"denote\", \"derivative\", \"derive\", \"derive\", \"derive\", \"derive\", \"derive\", \"describe\", \"describe\", \"describe\", \"describe\", \"describe\", \"develop\", \"develop\", \"develop\", \"develop\", \"develop\", \"dielectric\", \"different\", \"different\", \"different\", \"different\", \"different\", \"differential\", \"differential\", \"digital\", \"dimensional\", \"dimensional\", \"dimensional\", \"dimensional\", \"dimensional\", \"discrete\", \"discrete\", \"discrete\", \"discrete\", \"distribute\", \"distribute\", \"distribute\", \"distribute\", \"dope\", \"due\", \"due\", \"due\", \"due\", \"due\", \"dynamical\", \"dynamical\", \"efficient\", \"efficient\", \"efficient\", \"eigenvalue\", \"eigenvalue\", \"electric\", \"electrical\", \"electronic\", \"elliptic\", \"embed\", \"embed\", \"embed\", \"embed\", \"empirical\", \"empirical\", \"empirical\", \"empty\", \"empty\", \"enable\", \"enable\", \"enable\", \"enable\", \"equivariant\", \"ergodic\", \"estimate\", \"estimate\", \"estimate\", \"estimate\", \"evaluate\", \"evaluate\", \"evaluate\", \"evaluate\", \"exist\", \"exist\", \"exist\", \"exist\", \"exist\", \"extract\", \"extract\", \"f$\", \"fast\", \"fast\", \"fast\", \"find\", \"find\", \"find\", \"find\", \"find\", \"finite\", \"finite\", \"finite\", \"finitely\", \"first\", \"first\", \"first\", \"first\", \"first\", \"fluid\", \"fluid\", \"fractional\", \"fracture\", \"free\", \"free\", \"free\", \"free\", \"free\", \"gaussian\", \"gaussian\", \"general\", \"general\", \"general\", \"general\", \"general\", \"generalize\", \"generalize\", \"generalize\", \"generalize\", \"generate\", \"generate\", \"generate\", \"generate\", \"generate\", \"generative\", \"give\", \"give\", \"give\", \"give\", \"give\", \"gps\", \"grade\", \"gradient\", \"gradient\", \"gradient\", \"graphene\", \"gravitational\", \"gravitational\", \"greedy\", \"guarantee\", \"guarantee\", \"guarantee\", \"hamiltonian\", \"harmonic\", \"here\", \"here\", \"here\", \"here\", \"here\", \"hermitian\", \"high\", \"high\", \"high\", \"high\", \"high\", \"historical\", \"hold\", \"hold\", \"hold\", \"hold\", \"hold\", \"hot\", \"hot\", \"however\", \"however\", \"however\", \"however\", \"however\", \"human\", \"hypergeometric\", \"improve\", \"improve\", \"improve\", \"improve\", \"incompressible\", \"increase\", \"increase\", \"increase\", \"indicate\", \"indicate\", \"indicate\", \"indoor\", \"induce\", \"induce\", \"induce\", \"induce\", \"induce\", \"infect\", \"inferential\", \"infrare\", \"initial\", \"initial\", \"initial\", \"initial\", \"injective\", \"integrable\", \"integral\", \"integral\", \"interpretable\", \"intersect\", \"introduce\", \"introduce\", \"introduce\", \"introduce\", \"introduce\", \"invertible\", \"investigate\", \"investigate\", \"investigate\", \"investigate\", \"investigate\", \"irreducible\", \"isometric\", \"isomorphic\", \"k$\", \"know\", \"know\", \"know\", \"know\", \"know\", \"label\", \"label\", \"lagrangian\", \"large\", \"large\", \"large\", \"large\", \"large\", \"learn\", \"learn\", \"lense\", \"let\", \"light\", \"light\", \"light\", \"linear\", \"linear\", \"linear\", \"linear\", \"linearize\", \"liquid\", \"local\", \"local\", \"local\", \"local\", \"local\", \"long\", \"long\", \"long\", \"long\", \"long\", \"low\", \"low\", \"low\", \"low\", \"low\", \"magnetic\", \"make\", \"make\", \"make\", \"make\", \"make\", \"manifold\", \"manifold\", \"manually\", \"many\", \"many\", \"many\", \"many\", \"many\", \"marginal\", \"mass\", \"maximal\", \"maximal\", \"maximal\", \"measure\", \"measure\", \"measure\", \"measure\", \"meta\", \"metallic\", \"metric\", \"metric\", \"metric\", \"minimal\", \"minimal\", \"minimal\", \"minimal\", \"minimax\", \"minimize\", \"minimize\", \"mobile\", \"molecular\", \"monotone\", \"neural\", \"new\", \"new\", \"new\", \"new\", \"new\", \"nilpotent\", \"non\", \"non\", \"non\", \"non\", \"non\", \"nonlinear\", \"nonlinear\", \"nonlocal\", \"nonparametric\", \"novel\", \"novel\", \"novel\", \"novel\", \"numerical\", \"numerical\", \"numerical\", \"observe\", \"observe\", \"observe\", \"obtain\", \"obtain\", \"obtain\", \"obtain\", \"obtain\", \"optical\", \"optimal\", \"orbital\", \"packet\", \"parabolic\", \"parabolic\", \"parametric\", \"parametric\", \"particular\", \"particular\", \"particular\", \"particular\", \"particular\", \"penalize\", \"perform\", \"perform\", \"perform\", \"perform\", \"periodic\", \"periodic\", \"periodic\", \"perturbative\", \"phylogenetic\", \"planck\", \"planetary\", \"plant\", \"polarize\", \"polynomial\", \"polynomial\", \"positive\", \"positive\", \"positive\", \"positive\", \"positive\", \"posterior\", \"predict\", \"predict\", \"present\", \"present\", \"present\", \"present\", \"present\", \"primal\", \"prime\", \"prior\", \"prior\", \"prior\", \"probe\", \"projective\", \"proof\", \"proof\", \"propose\", \"propose\", \"propose\", \"propose\", \"provably\", \"prove\", \"prove\", \"prove\", \"provide\", \"provide\", \"provide\", \"provide\", \"provide\", \"proximal\", \"public\", \"quantile\", \"quartic\", \"question\", \"r$\", \"random\", \"random\", \"random\", \"randomize\", \"randomize\", \"rational\", \"raw\", \"real\", \"real\", \"real\", \"real\", \"recurrent\", \"reductive\", \"regular\", \"regular\", \"regular\", \"regularize\", \"regularize\", \"report\", \"report\", \"report\", \"repulsive\", \"require\", \"require\", \"require\", \"require\", \"require\", \"rewrite\", \"riemannian\", \"robotic\", \"sample\", \"sample\", \"say\", \"say\", \"scalar\", \"scalar\", \"scatter\", \"scatter\", \"semantic\", \"semiclassical\", \"set\", \"set\", \"set\", \"set\", \"set\", \"show\", \"show\", \"show\", \"show\", \"show\", \"simplicial\", \"single\", \"single\", \"single\", \"single\", \"single\", \"small\", \"small\", \"small\", \"small\", \"small\", \"smart\", \"social\", \"solar\", \"solve\", \"solve\", \"solve\", \"solve\", \"sparse\", \"sparse\", \"stationary\", \"stationary\", \"statistical\", \"statistical\", \"statistical\", \"statistical\", \"stellar\", \"stochastic\", \"stochastic\", \"strong\", \"strong\", \"strong\", \"strong\", \"strong\", \"study\", \"study\", \"study\", \"study\", \"study\", \"submodular\", \"suboptimal\", \"suggest\", \"suggest\", \"suggest\", \"suggest\", \"superconducte\", \"supercritical\", \"supervise\", \"supervised\", \"surrogate\", \"surrogate\", \"temporal\", \"temporal\", \"temporal\", \"theorem\", \"theorem\", \"theoretical\", \"theoretical\", \"theoretical\", \"thermal\", \"thin\", \"thin\", \"topological\", \"topological\", \"topological\", \"train\", \"transitive\", \"turbulent\", \"unknown\", \"unknown\", \"unknown\", \"unsupervise\", \"unsupervised\", \"upper\", \"upper\", \"upper\", \"urban\", \"use\", \"use\", \"use\", \"use\", \"use\", \"validation\", \"vertice\", \"vertice\", \"visual\", \"well\", \"well\", \"well\", \"well\", \"well\", \"x$\", \"young\"]}, \"R\": 30, \"lambda.step\": 0.01, \"plot.opts\": {\"xlab\": \"PC1\", \"ylab\": \"PC2\"}, \"topic.order\": [2, 3, 5, 1, 4]};\n",
              "\n",
              "function LDAvis_load_lib(url, callback){\n",
              "  var s = document.createElement('script');\n",
              "  s.src = url;\n",
              "  s.async = true;\n",
              "  s.onreadystatechange = s.onload = callback;\n",
              "  s.onerror = function(){console.warn(\"failed to load library \" + url);};\n",
              "  document.getElementsByTagName(\"head\")[0].appendChild(s);\n",
              "}\n",
              "\n",
              "if(typeof(LDAvis) !== \"undefined\"){\n",
              "   // already loaded: just create the visualization\n",
              "   !function(LDAvis){\n",
              "       new LDAvis(\"#\" + \"ldavis_el2020822238111632964439137242\", ldavis_el2020822238111632964439137242_data);\n",
              "   }(LDAvis);\n",
              "}else if(typeof define === \"function\" && define.amd){\n",
              "   // require.js is available: use it to load d3/LDAvis\n",
              "   require.config({paths: {d3: \"https://d3js.org/d3.v5\"}});\n",
              "   require([\"d3\"], function(d3){\n",
              "      window.d3 = d3;\n",
              "      LDAvis_load_lib(\"https://cdn.jsdelivr.net/gh/bmabey/pyLDAvis@3.4.0/pyLDAvis/js/ldavis.v3.0.0.js\", function(){\n",
              "        new LDAvis(\"#\" + \"ldavis_el2020822238111632964439137242\", ldavis_el2020822238111632964439137242_data);\n",
              "      });\n",
              "    });\n",
              "}else{\n",
              "    // require.js not available: dynamically load d3 & LDAvis\n",
              "    LDAvis_load_lib(\"https://d3js.org/d3.v5.js\", function(){\n",
              "         LDAvis_load_lib(\"https://cdn.jsdelivr.net/gh/bmabey/pyLDAvis@3.4.0/pyLDAvis/js/ldavis.v3.0.0.js\", function(){\n",
              "                 new LDAvis(\"#\" + \"ldavis_el2020822238111632964439137242\", ldavis_el2020822238111632964439137242_data);\n",
              "            })\n",
              "         });\n",
              "}\n",
              "</script>"
            ],
            "text/plain": [
              "PreparedData(topic_coordinates=              x         y  topics  cluster       Freq\n",
              "topic                                                \n",
              "1      0.156309 -0.068742       1        1  33.034299\n",
              "2      0.053024 -0.071640       2        1  23.293107\n",
              "4      0.106198  0.129341       3        1  21.544764\n",
              "0     -0.171959 -0.084301       4        1  11.689579\n",
              "3     -0.143573  0.095341       5        1  10.438251, topic_info=          Term         Freq        Total Category  logprob  loglift\n",
              "24        give  4659.000000  4659.000000  Default  30.0000  30.0000\n",
              "99       prove  2934.000000  2934.000000  Default  29.0000  29.0000\n",
              "45     propose  8690.000000  8690.000000  Default  28.0000  28.0000\n",
              "0            -  9038.000000  9038.000000  Default  27.0000  27.0000\n",
              "106      learn  4359.000000  4359.000000  Default  26.0000  26.0000\n",
              "..         ...          ...          ...      ...      ...      ...\n",
              "24        give   478.548508  4659.855026   Topic5  -5.2132  -0.0163\n",
              "77   introduce   438.808359  2804.749006   Topic5  -5.2999   0.4047\n",
              "255    provide   458.134546  5440.271482   Topic5  -5.2568  -0.2147\n",
              "102      apply   426.165353  2842.381900   Topic5  -5.3291   0.3621\n",
              "91       first   413.450921  3683.433361   Topic5  -5.3594   0.0726\n",
              "\n",
              "[396 rows x 6 columns], token_table=      Topic      Freq   Term\n",
              "term                        \n",
              "0         1  0.227131      -\n",
              "0         2  0.300481      -\n",
              "0         3  0.173584      -\n",
              "0         4  0.045360      -\n",
              "0         5  0.253461      -\n",
              "...     ...       ...    ...\n",
              "119       3  0.192142   well\n",
              "119       4  0.084004   well\n",
              "119       5  0.058747   well\n",
              "532       4  0.991845     x$\n",
              "386       3  0.995652  young\n",
              "\n",
              "[708 rows x 3 columns], R=30, lambda_step=0.01, plot_opts={'xlab': 'PC1', 'ylab': 'PC2'}, topic_order=[2, 3, 5, 1, 4])"
            ]
          },
          "execution_count": 74,
          "metadata": {},
          "output_type": "execute_result"
        }
      ],
      "source": [
        "pyLDAvis.enable_notebook()\n",
        "vis2 = gensimvis.prepare(lda_model_multi, bow_corpus, dictionary)\n",
        "vis2"
      ]
    },
    {
      "cell_type": "code",
      "execution_count": null,
      "metadata": {
        "colab": {
          "base_uri": "https://localhost:8080/"
        },
        "id": "5ZlI1VB7Zr9S",
        "outputId": "c4d25fcc-3aa7-4664-a91d-b5ba1c39abb3"
      },
      "outputs": [],
      "source": [
        "pyLDAvis.save_html(vis2, 'lda_model_multi.html')"
      ]
    },
    {
      "cell_type": "code",
      "execution_count": null,
      "metadata": {
        "colab": {
          "base_uri": "https://localhost:8080/"
        },
        "id": "JHmTNkdA4LAx",
        "outputId": "2602dd9d-0b2e-40c5-83aa-ce28dc8ba93c"
      },
      "outputs": [
        {
          "name": "stdout",
          "output_type": "stream",
          "text": [
            "\n",
            "Perplexity:  -7.197719773848608\n",
            "\n",
            "Coherence Score:  0.4277841211568861\n"
          ]
        }
      ],
      "source": [
        "print('\\nPerplexity: ', lda_model.log_perplexity(bow_corpus,total_docs=80000))\n",
        "from gensim.models.coherencemodel import CoherenceModel\n",
        "coherence_model_lda = CoherenceModel(model=lda_model, texts=tokenized_reviews, dictionary=dictionary , coherence='c_v')\n",
        "coherence_lda = coherence_model_lda.get_coherence()\n",
        "print('\\nCoherence Score: ', coherence_lda)"
      ]
    },
    {
      "cell_type": "code",
      "execution_count": null,
      "metadata": {
        "colab": {
          "base_uri": "https://localhost:8080/"
        },
        "id": "bbx89MlcZ12G",
        "outputId": "e3d6b063-5947-45d9-b3a7-50e93ca95e43"
      },
      "outputs": [
        {
          "name": "stdout",
          "output_type": "stream",
          "text": [
            "\n",
            "Perplexity:  -7.154807698518829\n",
            "\n",
            "Coherence Score:  0.4128407170282179\n"
          ]
        }
      ],
      "source": [
        "print('\\nPerplexity: ', lda_model_multi.log_perplexity(bow_corpus,total_docs=80000))\n",
        "from gensim.models.coherencemodel import CoherenceModel\n",
        "coherence_model_lda_multi = CoherenceModel(model=lda_model_multi, texts=tokenized_reviews, dictionary=dictionary , coherence='c_v')\n",
        "coherence_lda_multi = coherence_model_lda_multi.get_coherence()\n",
        "print('\\nCoherence Score: ', coherence_lda_multi)"
      ]
    },
    {
      "cell_type": "code",
      "execution_count": null,
      "metadata": {
        "colab": {
          "base_uri": "https://localhost:8080/"
        },
        "id": "DHdL3qf0rdc2",
        "outputId": "cfa90c3f-00a6-4c38-ee29-fb7dc6500a5b"
      },
      "outputs": [
        {
          "name": "stdout",
          "output_type": "stream",
          "text": [
            "Topic: 0 \n",
            "Words: 0.023*\"give\" + 0.022*\"prove\" + 0.020*\"show\" + 0.014*\"also\" + 0.010*\"define\" + 0.009*\"set\" + 0.008*\"obtain\" + 0.008*\"study\" + 0.008*\"finite\" + 0.007*\"positive\"\n",
            "Topic: 1 \n",
            "Words: 0.027*\"use\" + 0.018*\"propose\" + 0.018*\"base\" + 0.014*\"learn\" + 0.010*\"different\" + 0.009*\"show\" + 0.008*\"present\" + 0.008*\"new\" + 0.008*\"neural\" + 0.008*\"deep\"\n",
            "Topic: 2 \n",
            "Words: 0.019*\"use\" + 0.018*\"-\" + 0.018*\"show\" + 0.013*\"propose\" + 0.012*\"consider\" + 0.010*\"provide\" + 0.010*\"base\" + 0.010*\"non\" + 0.009*\"well\" + 0.009*\"also\"\n",
            "Topic: 3 \n",
            "Words: 0.036*\"-\" + 0.022*\"non\" + 0.018*\"dimensional\" + 0.017*\"topological\" + 0.013*\"critical\" + 0.012*\"couple\" + 0.010*\"spatial\" + 0.009*\"boundary\" + 0.009*\"nonlinear\" + 0.009*\"algebra\"\n",
            "Topic: 4 \n",
            "Words: 0.015*\"find\" + 0.014*\"high\" + 0.012*\"magnetic\" + 0.011*\"use\" + 0.011*\"low\" + 0.010*\"show\" + 0.009*\"large\" + 0.009*\"observe\" + 0.007*\"also\" + 0.007*\"optical\"\n"
          ]
        }
      ],
      "source": [
        "for idx, topic in lda_model.print_topics(-1):\n",
        "    print('Topic: {} \\nWords: {}'.format(idx, topic))"
      ]
    },
    {
      "cell_type": "code",
      "execution_count": null,
      "metadata": {
        "colab": {
          "base_uri": "https://localhost:8080/"
        },
        "id": "NGO9YM9saQ3V",
        "outputId": "2e0ffb32-4dab-44c7-ee96-1e2edcbb81ba"
      },
      "outputs": [
        {
          "name": "stdout",
          "output_type": "stream",
          "text": [
            "Topic: 0 \n",
            "Words: 0.024*\"give\" + 0.020*\"show\" + 0.020*\"prove\" + 0.014*\"also\" + 0.012*\"set\" + 0.010*\"define\" + 0.008*\"use\" + 0.007*\"study\" + 0.007*\"bound\" + 0.007*\"new\"\n",
            "Topic: 1 \n",
            "Words: 0.025*\"use\" + 0.017*\"propose\" + 0.016*\"base\" + 0.014*\"learn\" + 0.010*\"show\" + 0.009*\"neural\" + 0.009*\"different\" + 0.009*\"deep\" + 0.008*\"present\" + 0.007*\"new\"\n",
            "Topic: 2 \n",
            "Words: 0.019*\"propose\" + 0.019*\"use\" + 0.014*\"show\" + 0.014*\"-\" + 0.013*\"base\" + 0.011*\"optimal\" + 0.009*\"provide\" + 0.008*\"random\" + 0.008*\"well\" + 0.007*\"also\"\n",
            "Topic: 3 \n",
            "Words: 0.026*\"-\" + 0.018*\"non\" + 0.013*\"dimensional\" + 0.012*\"show\" + 0.010*\"use\" + 0.010*\"nonlinear\" + 0.009*\"consider\" + 0.009*\"obtain\" + 0.009*\"boundary\" + 0.009*\"study\"\n",
            "Topic: 4 \n",
            "Words: 0.014*\"use\" + 0.012*\"high\" + 0.012*\"find\" + 0.010*\"show\" + 0.009*\"low\" + 0.009*\"magnetic\" + 0.009*\"-\" + 0.008*\"large\" + 0.007*\"observe\" + 0.007*\"present\"\n"
          ]
        }
      ],
      "source": [
        "for idx, topic in lda_model_multi.print_topics(-1):\n",
        "    print('Topic: {} \\nWords: {}'.format(idx, topic))"
      ]
    },
    {
      "cell_type": "code",
      "execution_count": null,
      "metadata": {
        "colab": {
          "base_uri": "https://localhost:8080/",
          "height": 522
        },
        "id": "u1cVoUnOan_q",
        "outputId": "d4188b52-c5bd-4690-eb14-86d3eeb89d8e"
      },
      "outputs": [],
      "source": [
        "\n",
        "lda_model.save('Model/lda_model.model')\n"
      ]
    },
    {
      "cell_type": "code",
      "execution_count": null,
      "metadata": {},
      "outputs": [],
      "source": [
        "test_df = pd.read_csv('test.csv')"
      ]
    },
    {
      "cell_type": "code",
      "execution_count": null,
      "metadata": {},
      "outputs": [
        {
          "data": {
            "text/plain": [
              "0      We present novel understandings Gamma-Poisso...\n",
              "1      Meteorites contain minerals Solar System ast...\n",
              "2      Frame aggregation mechanism multiple frames ...\n",
              "3      Milky Way open clusters diverse terms age, c...\n",
              "4      Proving cryptographic protocol correct secre...\n",
              "5      This paper proposes regularized pairwise dif...\n",
              "6      A central issue theory extreme values focuse...\n",
              "7      Astrophysics cosmology rich data. The advent...\n",
              "8      A number recent works proposed techniques en...\n",
              "9      We use hydrodynamical galaxy formation simul...\n",
              "Name: ABSTRACT, dtype: object"
            ]
          },
          "execution_count": 98,
          "metadata": {},
          "output_type": "execute_result"
        }
      ],
      "source": [
        "user_list = test_df['ABSTRACT']\n",
        "user_list.dropna()\n",
        "user_list = user_list.apply(remove_stopwords)\n",
        "user_list.head(10)"
      ]
    },
    {
      "cell_type": "code",
      "execution_count": null,
      "metadata": {},
      "outputs": [],
      "source": [
        "from matplotlib import pyplot as plt\n",
        "from wordcloud import WordCloud, STOPWORDS\n",
        "import matplotlib.colors as mcolors\n",
        "\n",
        "cols = [color for name, color in mcolors.TABLEAU_COLORS.items()\n",
        "        ]  # more colors: 'mcolors.XKCD_COLORS'\n",
        "\n",
        "cloud = WordCloud(stopwords=stop_words,\n",
        "                  background_color='white',\n",
        "                  width=2500,\n",
        "                  height=1800,\n",
        "                  max_words=10,\n",
        "                  colormap='tab10',\n",
        "                  color_func=lambda *args, **kwargs: cols[i],\n",
        "                  prefer_horizontal=1.0)\n",
        "\n",
        "topics = lda_model.show_topics(formatted=False)\n",
        "\n",
        "fig, axes = plt.subplots(2, 2, figsize=(10, 10), sharex=True, sharey=True)\n",
        "\n",
        "for i, ax in enumerate(axes.flatten()):\n",
        "    fig.add_subplot(ax)\n",
        "    topic_words = dict(topics[i][1])\n",
        "    cloud.generate_from_frequencies(topic_words, max_font_size=300)\n",
        "    plt.gca().imshow(cloud)\n",
        "    plt.gca().set_title('Topic ' + str(i), fontdict=dict(size=16))\n",
        "    plt.gca().axis('off')\n",
        "\n",
        "plt.subplots_adjust(wspace=0, hspace=0)\n",
        "plt.axis('off')\n",
        "plt.margins(x=0, y=0)\n",
        "plt.tight_layout()\n",
        "plt.show()"
      ]
    },
    {
      "cell_type": "code",
      "execution_count": null,
      "metadata": {
        "id": "FhlGEwO6rdc3"
      },
      "outputs": [],
      "source": [
        "num_topics = lda_model.num_topics\n",
        "    for i, topic in enumerate(topics):\n",
        "        if i >= num_topics:\n",
        "            break\n",
        "\n",
        "        topic_id = topic[0]\n",
        "        topic_prob = topic[1]\n",
        "        if topic_id < num_topics:\n",
        "        \n",
        "            print(f'Topic {topic_id}: {topic_prob:.3f} - {lda_model.print_topic(topic_id)}')\n"
      ]
    }
  ],
  "metadata": {
    "colab": {
      "provenance": []
    },
    "kernelspec": {
      "display_name": "Python 3",
      "language": "python",
      "name": "python3"
    },
    "language_info": {
      "codemirror_mode": {
        "name": "ipython",
        "version": 3
      },
      "file_extension": ".py",
      "mimetype": "text/x-python",
      "name": "python",
      "nbconvert_exporter": "python",
      "pygments_lexer": "ipython3",
      "version": "3.9.13"
    },
    "orig_nbformat": 4
  },
  "nbformat": 4,
  "nbformat_minor": 0
}
